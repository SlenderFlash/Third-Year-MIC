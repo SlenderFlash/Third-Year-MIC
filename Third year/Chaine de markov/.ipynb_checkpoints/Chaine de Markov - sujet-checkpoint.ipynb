{
 "cells": [
  {
   "cell_type": "markdown",
   "metadata": {},
   "source": [
    "# TP Chaines de Markov\n",
    "\n",
    "## 1- Génération d'une variable aléatoire discrète"
   ]
  },
  {
   "cell_type": "markdown",
   "metadata": {},
   "source": [
    "### Exemple : \n",
    "On se place sur un espace fini, disons \n",
    "$$\n",
    "E= \\{ Rouge; Bleu; Vert\\}\n",
    "$$\n",
    "\n",
    "On souhaite simuler une variable aléatoire de loi:\n",
    "$$\n",
    "\\begin{array}{c|ccc}\n",
    "X & Rouge & Bleu & Vert \\\\\n",
    "\\hline\n",
    "\\mathbb{P}(X=k) & \\frac{1}{2} & \\frac{1}{3} & \\frac{1}{6}\n",
    "\\end{array}\n",
    "$$\n",
    "\n",
    "Pour cela, on se sert de la fonction Python\n",
    "$$ np.random.uniform(0,1) $$\n",
    "qui génère une loi uniforme sur [0,1]"
   ]
  },
  {
   "cell_type": "code",
   "execution_count": 2,
   "metadata": {},
   "outputs": [],
   "source": [
    "import numpy as np\n",
    "import matplotlib.pyplot as plt"
   ]
  },
  {
   "cell_type": "code",
   "execution_count": null,
   "metadata": {},
   "outputs": [],
   "source": [
    "#Exemple \n",
    "x=np.random.uniform(0,1)\n",
    "if x <= 1/2 :\n",
    "    print(\"Rouge\");\n",
    "elif x<= 5/6 :\n",
    "    print(\"Bleu\");\n",
    "else: print(\"Vert\");"
   ]
  },
  {
   "cell_type": "markdown",
   "metadata": {},
   "source": [
    "### Exercice 1:\n",
    "- Expliquer pourquoi l'exemple précédent fonctionne : \n",
    "</br>\n",
    "</br>\n",
    "</br> \n",
    "</br>\n",
    "</br>\n",
    "\n",
    "\n",
    "- Écrire une fonction \"Simu\" qui prend en entrée un vecteur de probabilité $$\\mu=(p_0~~\\ldots ~~ p_n)$$ et qui simule une observation d'une variable aléatoire $X$ telle que $\\mathbb{P}(X=k)=p_k$ :"
   ]
  },
  {
   "cell_type": "code",
   "execution_count": null,
   "metadata": {},
   "outputs": [],
   "source": [
    "# Ecrire votre code ici :\n"
   ]
  },
  {
   "cell_type": "markdown",
   "metadata": {},
   "source": [
    "## 2- Application à la génération d'une chaine de Markov"
   ]
  },
  {
   "cell_type": "markdown",
   "metadata": {},
   "source": [
    "### Exemple:\n",
    "\n",
    "On considère la chaine de Markov sur $\\{0,1,2\\}$ de matrice de transition\n",
    "$$P= \\begin{pmatrix} 0 & 0.1 & 0.9 \\\\ 0.1 & 0 & 0.9 \\\\ 0.5 & 0.5 & 0 \\end{pmatrix}$$"
   ]
  },
  {
   "cell_type": "markdown",
   "metadata": {},
   "source": [
    "On rappelle que si $\\mu_n$ désigne la loi de $X_n$, c'est à dire:\n",
    "$$\n",
    "\\mu_n= \n",
    "\\begin{pmatrix}\\mathbb{P}(X_n=0)& \\mathbb{P}(X_n=1)& \\mathbb{P}(X_n=2)\n",
    "\\end{pmatrix}\n",
    "$$\n",
    "\n",
    "\n",
    "Alors, on a la relation:\n",
    "$$\n",
    "\\mu_{n+1} = \\mu_{n}P\n",
    "$$\n",
    "\n",
    "Prenons $X_0$ de loi \n",
    "$$\n",
    "\\mu_0 = \\begin{pmatrix}\n",
    "\\frac{1}{2}& \\frac{1}{3}& \\frac{1}{6}\n",
    "\\end{pmatrix}\n",
    "$$"
   ]
  },
  {
   "cell_type": "code",
   "execution_count": 4,
   "metadata": {},
   "outputs": [
    {
     "name": "stdout",
     "output_type": "stream",
     "text": [
      "[2, 0, 2, 0, 2, 1, 2, 0, 2, 0, 2]\n"
     ]
    }
   ],
   "source": [
    "# Simulation de 10 pas dans la chaine de Markov:\n",
    "\n",
    "Mkv=[];\n",
    "\n",
    "\n",
    "# Génération de X_0:\n",
    "x=np.random.uniform(0,1)\n",
    "if x <= 0.5 :\n",
    "    Mkv.append(0)\n",
    "elif x<= 5/6 :\n",
    "    Mkv.append(1)\n",
    "else: Mkv.append(2)\n",
    "\n",
    "\n",
    "\n",
    "# Matrice de transition:\n",
    "P = np.array([[0, 0.1, 0.9],\n",
    "              [0.1, 0, 0.9],\n",
    "              [0.5, 0.5, 0.0]])\n",
    "    \n",
    "\n",
    "for i in range(10):\n",
    "    # On sélectionne la ligne de P correspondant à l'état dans lequel est la chaine\n",
    "    State = Mkv[-1]\n",
    "    proba= P[State]\n",
    "    \n",
    "    x=np.random.uniform(0,1)\n",
    "    # On tire un nouvel état pour la chaine.\n",
    "    if x <= proba[0] :\n",
    "        Mkv.append(0)\n",
    "    elif x<= proba[0]+proba[1] :\n",
    "        Mkv.append(1)\n",
    "    else: Mkv.append(2)\n",
    "\n",
    "\n",
    "print(Mkv)\n"
   ]
  },
  {
   "cell_type": "markdown",
   "metadata": {},
   "source": [
    "\n",
    "### Exercice 2: \n",
    "-S'approprier le code ci dessus. On pourra par exemple:\n",
    "    - Faire varier le nombre de pas dans la chaine de Markov\n",
    "    - Changer la matrice de transition et/ou la probabilité initiale"
   ]
  },
  {
   "cell_type": "markdown",
   "metadata": {},
   "source": [
    "### Exercice 3: \n",
    "On souhaite simuler une chaîne de Markov sur $\\{0,\\ldots,n\\}$. \n",
    "- Écrire une fonction \"Markov\" qui prend en paramètres:\n",
    "    - une loi initiale, \n",
    "    - une matrice de transition,\n",
    "    - un nombre $n$ de pas à simuler \n",
    "  <br>\n",
    "  <br>\n",
    "  et qui retourne un vecteur contenant les $n+1$  états parcourus par la chaine de Markov."
   ]
  },
  {
   "cell_type": "code",
   "execution_count": null,
   "metadata": {},
   "outputs": [],
   "source": [
    "# écrire votre code ici"
   ]
  },
  {
   "cell_type": "markdown",
   "metadata": {},
   "source": [
    "### Représentation et Visualisation\n",
    "\n",
    "On peut chercher à représenter la trajectoire en fonction du nombre de pas:"
   ]
  },
  {
   "cell_type": "code",
   "execution_count": null,
   "metadata": {
    "scrolled": false
   },
   "outputs": [],
   "source": [
    "Niter=range(11)\n",
    "plt.plot(Niter,Mkv)"
   ]
  },
  {
   "cell_type": "markdown",
   "metadata": {},
   "source": [
    "On voit qu'en temps long, ce genre de graphique n'est pas très utile. \n",
    "À la place, on dessine un histogramme:"
   ]
  },
  {
   "cell_type": "code",
   "execution_count": 6,
   "metadata": {},
   "outputs": [
    {
     "data": {
      "text/plain": [
       "(array([4., 1., 6.]),\n",
       " array([-0.5,  0.5,  1.5,  2.5]),\n",
       " <BarContainer object of 3 artists>)"
      ]
     },
     "execution_count": 6,
     "metadata": {},
     "output_type": "execute_result"
    },
    {
     "data": {
      "image/png": "[encoded data removed]",
      "text/plain": [
       "<Figure size 432x288 with 1 Axes>"
      ]
     },
     "metadata": {
      "needs_background": "light"
     },
     "output_type": "display_data"
    }
   ],
   "source": [
    "plt.hist(Mkv, range = (-0.5, 2.5), bins = 3,edgecolor = 'red')"
   ]
  },
  {
   "cell_type": "markdown",
   "metadata": {},
   "source": [
    "### Exercice 4:\n",
    "\n",
    "- Se servir du code écrit à l'exercice 3 pour simuler $N$ pas d'une chaîne de Markov $(X_n)_{n \\ge 0}$ et représenter l'histogramme obtenu pour différentes valeurs de $N$ \n",
    "<br>\n",
    "On prendra différentes matrices de transitions et lois initiales donnant\n",
    "    - une chaine irréductible, récurrente et apériodique,\n",
    "    - une chaine avec plusieurs états transitoires et une seule classe récurrente,\n",
    "    - un chaine avec plusieurs classes récurrentes,\n",
    "<br>\n",
    "<br>\n",
    "- Pour chaque exemple, illustrer en faisant plusieurs simulations avec différents choix de loi initiale, le comportement de la chaîne de Markov et commenter les résultats obtenus.\n",
    "\n",
    "#### Une simulation de chaine irréductible, récurrente et apériodique :"
   ]
  },
  {
   "cell_type": "code",
   "execution_count": null,
   "metadata": {},
   "outputs": [],
   "source": [
    "# écrire votre code ici"
   ]
  },
  {
   "cell_type": "markdown",
   "metadata": {},
   "source": [
    "#### Commentaires :\n",
    "</br>\n",
    "</br>\n",
    "</br>\n",
    "</br>\n",
    "</br>\n",
    "\n",
    "#### Une simulation de chaine comportant plusieurs états transitoires  et une seule classe récurrente :"
   ]
  },
  {
   "cell_type": "code",
   "execution_count": null,
   "metadata": {},
   "outputs": [],
   "source": [
    "# écrire votre code ici"
   ]
  },
  {
   "cell_type": "markdown",
   "metadata": {},
   "source": [
    "#### Commentaires :\n",
    "</br>\n",
    "</br>\n",
    "</br>\n",
    "</br>\n",
    "</br>\n",
    "\n",
    "#### Une simulation de chaine comportant plusieurs classes récurrentes :"
   ]
  },
  {
   "cell_type": "code",
   "execution_count": 5,
   "metadata": {},
   "outputs": [],
   "source": [
    "# écrire votre code ici"
   ]
  },
  {
   "cell_type": "markdown",
   "metadata": {},
   "source": [
    "#### Commentaires :\n",
    "</br>\n",
    "</br>\n",
    "</br>\n",
    "</br>\n",
    "</br>\n"
   ]
  },
  {
   "cell_type": "markdown",
   "metadata": {},
   "source": [
    "### 3- Loi de $X_n$"
   ]
  },
  {
   "cell_type": "markdown",
   "metadata": {},
   "source": [
    "La fonction suivante "
   ]
  },
  {
   "cell_type": "code",
   "execution_count": null,
   "metadata": {},
   "outputs": [],
   "source": [
    "def puissanceM(M,n):\n",
    "    Mcour=M\n",
    "    for k in range(n-1):\n",
    "        Mcour=np.dot(M,Mcour)\n",
    "    return Mcour"
   ]
  },
  {
   "cell_type": "markdown",
   "metadata": {},
   "source": [
    "renvoie la puissance $n^{\\textrm{ème}}$ de la matrice M passée en paramètre."
   ]
  },
  {
   "cell_type": "code",
   "execution_count": null,
   "metadata": {},
   "outputs": [],
   "source": [
    "# exemple \n",
    "M = np.array([[0, 1, 2],\n",
    "              [1, 1, 0],\n",
    "              [0, -1, 1]])\n",
    "# Calcul de la puissance de P\n",
    "puissanceM(M,2)"
   ]
  },
  {
   "cell_type": "markdown",
   "metadata": {},
   "source": [
    "### Exercice 5: \n",
    "\n",
    "- Écrire un programme \"LoiXn\" qui prend en paramètre : \n",
    "    - Une matrice de transition \n",
    "    - Un entier n\n",
    "    - Le vecteur qui représente la loi initiale\n",
    "<br>\n",
    "et qui renvoie la loi de $X_n$ (sous forme d'un vecteur)."
   ]
  },
  {
   "cell_type": "code",
   "execution_count": null,
   "metadata": {},
   "outputs": [],
   "source": [
    "# écrire votre code ici"
   ]
  },
  {
   "cell_type": "markdown",
   "metadata": {},
   "source": [
    "On considère à nouveau la chaine de Markov $(X_k)_{k\\in \\mathbb{N}}$ sur {0,1,2} de matrice de transition\n",
    "$$P= \\begin{pmatrix} 0 & 0.1 & 0.9 \\\\ 0.1 & 0 & 0.9 \\\\ 0.5 & 0.5 & 0 \\end{pmatrix}.$$\n",
    "\n",
    "- Donnez la loi $\\mu_{n,0}$ de $X_n$ lorsque $\\mathbb{P}(X_0=0)=1$ pour différentes valeurs de $n$:"
   ]
  },
  {
   "cell_type": "code",
   "execution_count": null,
   "metadata": {},
   "outputs": [],
   "source": [
    "# écrire votre code ici"
   ]
  },
  {
   "cell_type": "markdown",
   "metadata": {},
   "source": [
    "- Que constatez-vous ? \n",
    "<br>\n",
    "<br>\n",
    "<br>\n",
    "<br>\n",
    "- Illustrer graphiquement le résultat obtenu :"
   ]
  },
  {
   "cell_type": "code",
   "execution_count": null,
   "metadata": {},
   "outputs": [],
   "source": [
    "# écrire votre code ici"
   ]
  },
  {
   "cell_type": "markdown",
   "metadata": {},
   "source": [
    "Faites de même avec différents choix de loi initiale. Que constatez-vous ?\n",
    "<br>\n",
    "<br>\n",
    "<br>"
   ]
  },
  {
   "cell_type": "markdown",
   "metadata": {},
   "source": [
    "Considérons $\\mu_{100,0}$. Calculez $\\mu_{100,0}P$ : "
   ]
  },
  {
   "cell_type": "code",
   "execution_count": null,
   "metadata": {},
   "outputs": [],
   "source": [
    "# écrire votre code ici"
   ]
  },
  {
   "cell_type": "markdown",
   "metadata": {},
   "source": [
    "- Que constatez-vous ? \n",
    "<br>\n",
    "<br>\n",
    "- Quel résultat cela illustre-il ? \n",
    "<br>\n",
    "<br>\n",
    "<br>\n",
    "<br>"
   ]
  },
  {
   "cell_type": "markdown",
   "metadata": {},
   "source": [
    "On considère maintenant la chaîne $(Z_n)_{n\\in \\mathbb{N}} $ sur $\\{0,1,2,3,4\\}$ de matrice de transition :\n",
    "    $$P_a= \\begin{pmatrix} 0  & 0.4 & 0   & 0.6 \\\\ \n",
    "                        0.3 & 0   & 0.7 & 0   \\\\ \n",
    "                         0  & 0.6 & 0   & 0.4  \\\\\n",
    "                        0.2 & 0   & 0.8 & 0     \n",
    "\\end{pmatrix}$$"
   ]
  },
  {
   "cell_type": "code",
   "execution_count": null,
   "metadata": {},
   "outputs": [],
   "source": [
    "Pa = np.array([[0, 0.4, 0,0.6],\n",
    "              [0.3, 0, 0.7,0],\n",
    "              [0, 0.6, 0.0,0.4],\n",
    "              [0.2, 0,0.8,0]])"
   ]
  },
  {
   "cell_type": "markdown",
   "metadata": {},
   "source": [
    "- Calculer la loi de $Z_n$ pour $n$ grand et pair avec pour pour loi initiale \n",
    "$$\\mu_0=(1~~0~~0~~0).$$\n",
    "- Faites de même avec $n$ grand et impair. "
   ]
  },
  {
   "cell_type": "code",
   "execution_count": null,
   "metadata": {},
   "outputs": [],
   "source": [
    "# écrire votre code ici"
   ]
  },
  {
   "cell_type": "markdown",
   "metadata": {},
   "source": [
    "- Que constatez vous ? À quoi cela est-il dû ?  \n",
    "<br>\n",
    "<br>\n",
    "<br>\n",
    "\n",
    "On considère maintenant le vecteur $$\\mu=(0,1275~~0,2745~~0,3725~~0,2250)$$ et le produit $\\mu P_a$ : "
   ]
  },
  {
   "cell_type": "code",
   "execution_count": null,
   "metadata": {},
   "outputs": [],
   "source": [
    "mu=np.array([0.1275,0.2745, 0.3725,0.2255])\n",
    "print(\"mu=\",mu)\n",
    "muP=np.dot(mu,Pa)\n",
    "print(\"muP=\",muP)"
   ]
  },
  {
   "cell_type": "markdown",
   "metadata": {},
   "source": [
    "- Que constatez-vous ?\n",
    "- Comparer le vecteur $\\mu$ avec les distributions limites des sous-suites $(X_{2n})_{n\\in\\mathbb{N}}$ et $(X_{2n+1})_{n\\in\\mathbb{N}}$. Commentez\n",
    "\n",
    "- Étudiez la convergence de distribution pour une chaîne qui comporte des états transitoires et une seule classe récurrente."
   ]
  },
  {
   "cell_type": "code",
   "execution_count": null,
   "metadata": {},
   "outputs": [],
   "source": [
    "# écrire votre code ici"
   ]
  },
  {
   "cell_type": "markdown",
   "metadata": {},
   "source": [
    "#### Remarque :\n",
    "Pour éviter des calculs de puissance d'une grosse matrice, on pourrait laisser évoluer la chaine de Markov pendant un certain temps et *compter* la proportion du temps passé dans chaque état."
   ]
  },
  {
   "cell_type": "markdown",
   "metadata": {},
   "source": [
    "## 4- Application"
   ]
  },
  {
   "cell_type": "markdown",
   "metadata": {},
   "source": [
    "France TV a lancé fin 2020 sa plate-forme de streaming, \"Salto\".\n",
    "Ils devaient se faire une place entre Netflix et Disney+, les plus gros intervenant du secteur.\n",
    "\n",
    "On suppose que la distribution des parts de marché est comme suit:\n",
    "\n",
    "$$\n",
    "\\begin{array}{c|cccc}\n",
    "Service & Netflix & Disney+ & Salto & SansAbonnement \\\\\n",
    "\\hline\n",
    "parts \\  de \\  marché & .55 & .2 & .1 & .15\n",
    "\\end{array}\n",
    "$$\n",
    "\n",
    "Disney+ s'inquettent alors de l'évolution du marché s'ils ne font rien. Ils contactent une agence de publicité. L'agence leur indique qu'avec la campagne qu'elle leur propose, les abonnées des différentes plateforme passeront, chaque semaine d'une plateforme à l'autre selon ce qu'indique la matrice suivante : \n",
    "\n",
    "$$\n",
    "\\begin{array}{c|cccc}\n",
    " & Netflix & Disney+ & Salto & SansAbonnement \\\\\n",
    " \\hline \n",
    "Netflix& 0.9262 & 0.0385 & 0.01&  0.0253 \\\\\n",
    "Disney+&0.01& 0.94& 0.01& 0.04\\\\\n",
    "Salto&0.01& 0.03& 0.92& 0.04\\\\\n",
    "SansAbonnement&0.035& 0.035& 0.035& 0.895              \n",
    "\\end{array}\n",
    "$$\n",
    "C'est à dire qu'un usager de Netflix a 92.62 \\% de chances de continuer à rester sur Netflix dans la semaine, 3,85\\% de chances de passer chez Disney+, 1\\% de chance de passer chez Salto etc.\n",
    "\n",
    "\n",
    "### Exercice 6:\n",
    "\n",
    "- Simuler le comportement de $N$ abonnées après trois semaines de campagne\n",
    "- Calculer la loi $X_n$"
   ]
  },
  {
   "cell_type": "code",
   "execution_count": null,
   "metadata": {},
   "outputs": [],
   "source": [
    "# écrire votre code ici"
   ]
  },
  {
   "cell_type": "markdown",
   "metadata": {},
   "source": [
    "## 5- Cas d'une chaine de Markov sur un espace infini."
   ]
  },
  {
   "cell_type": "markdown",
   "metadata": {},
   "source": [
    "Dans cette dernère partie, on s'intéresse à une chaine de Markov sur un espace d'état infini. \n",
    "\n",
    "### Exercice  7 : \n",
    "- Simuler la marche aléatoire (partant de 0) sur $\\mathbb{N}$ à l'aide d'une suite de Rademacher:\n",
    "$$\n",
    "\\mathbb{P}(X_n= 1)=p = 1-\\mathbb{P}(X_n= -1).\n",
    "$$\n",
    "\n",
    "- Comparer les comportements de la chaine pour $p<1/2$, pour  $p>1/2$ et pour $p=1/2$.\n",
    "- Représenter graphiquement ces 3 cas.\n",
    "\n",
    "Pour simuler les v.a. de Rademacher, on peut (mais on n'est pas obligé) d'utiliser le conversion des boléens en entier : $$ True*1= 1~~\\textrm{et}~~False*1 =0.$$"
   ]
  },
  {
   "cell_type": "code",
   "execution_count": null,
   "metadata": {},
   "outputs": [],
   "source": [
    "# écrire votre code ici"
   ]
  },
  {
   "cell_type": "markdown",
   "metadata": {},
   "source": [
    "### Modèle de Stock \n",
    "\n",
    "On considère l'exemple de l'exercice 5 de la feuille de TD 2. \n",
    "On pourra utiliser sans preuve les résultats de cet exercice. Vous trouverez une version corrigée de l'exercice ainsi que le sujet de TD sous moodle.\n",
    "\n",
    "On note $X_n$ l'état d'un stock de pièces détachées à l'instant $n$, $D_{n+1}$ la demande (aléatoire) formulée par des clients, et on suppose qu'une seule pièce détachée est fabriquée entre les instants $n$ et $n+1$.\n",
    "\n",
    "L'état du stock à l'instant $n+1$ est alors\n",
    "$$X_{n+1} = \\max(X_n + 1 - D_{n+1},0).$$\n",
    "\n",
    "\n",
    "On suppose que $X_0 = 0$ (le stock est initialement vide) et que $(D_n)_{n \\geq 1}$ est une suite de v.a. indépendantes et de même loi que $D$, une v.a. à valeurs dans $\\{0,1,2\\}$:\n",
    "\n",
    "$$\n",
    "\\begin{array}{c|ccc}\n",
    "D & 0 & 1 & 2 \\\\\n",
    "\\hline\n",
    "\\mathbb{P}(D=k) & p_0 & p_1 & p_2\n",
    "\\end{array}\n",
    "$$\n",
    "\n",
    "On suppose que les trois probabilités $p_0,p_1,p_2$ sont strictement positives, et $p_2 \\ge p_1$.\n",
    "\n",
    "\n",
    "### Exercice 9 :\n",
    "\n",
    "- Simuler cette chaine de Markov (partant de 0)  pour différentes valeurs de $p_0,p_1,p_2$.\n"
   ]
  },
  {
   "cell_type": "code",
   "execution_count": null,
   "metadata": {},
   "outputs": [],
   "source": [
    "# écrire votre code ici"
   ]
  },
  {
   "cell_type": "markdown",
   "metadata": {},
   "source": [
    "- Étudier le cas $p_0=p_2$. \n",
    "- En question 5 de l'exercice 5, on montre que si $p_0 < p_2$,\n",
    "$$\n",
    "\\mu(k) = \\left(\\frac{p_0}{p_2}\\right)^k\n",
    "$$\n",
    "est une mesure invariante pour la chaine. \n",
    "\n",
    "\n",
    "- Comparer le vecteur des fréquences empiriques avec la probablité invariante."
   ]
  },
  {
   "cell_type": "code",
   "execution_count": null,
   "metadata": {},
   "outputs": [],
   "source": [
    "# écrire votre code ici"
   ]
  },
  {
   "cell_type": "markdown",
   "metadata": {},
   "source": [
    "On définit la variable aléatoire: \n",
    "\n",
    "$$\n",
    "T= \\inf\\{n \\ge 1; X_n=0 \\}.\n",
    "$$\n",
    "\n",
    "- Que représente $T$?\n",
    "\n",
    "- Simuler une réalisation de T et afficher l'évolution de la chaîne au cours du temps."
   ]
  },
  {
   "cell_type": "code",
   "execution_count": null,
   "metadata": {},
   "outputs": [],
   "source": [
    "# écrire votre code ici"
   ]
  },
  {
   "cell_type": "markdown",
   "metadata": {},
   "source": [
    "- Calculer numériquement $\\mathbb{E}[T]$ pour $p_0<p_2$ \n",
    "- Comparer avec la valeur théorique."
   ]
  },
  {
   "cell_type": "code",
   "execution_count": null,
   "metadata": {},
   "outputs": [],
   "source": [
    "# écrire votre code ici"
   ]
  }
 ],
 "metadata": {
  "kernelspec": {
   "display_name": "Python 3 (ipykernel)",
   "language": "python",
   "name": "python3"
  },
  "language_info": {
   "codemirror_mode": {
    "name": "ipython",
    "version": 3
   },
   "file_extension": ".py",
   "mimetype": "text/x-python",
   "name": "python",
   "nbconvert_exporter": "python",
   "pygments_lexer": "ipython3",
   "version": "3.10.11"
  }
 },
 "nbformat": 4,
 "nbformat_minor": 2
}
