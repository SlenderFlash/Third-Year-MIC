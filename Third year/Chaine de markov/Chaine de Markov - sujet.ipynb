{
 "cells": [
  {
   "cell_type": "markdown",
   "metadata": {},
   "source": [
    "# TP Chaines de Markov\n",
    "\n",
    "## 1- Génération d'une variable aléatoire discrète"
   ]
  },
  {
   "cell_type": "markdown",
   "metadata": {},
   "source": [
    "### Exemple : \n",
    "On se place sur un espace fini, disons \n",
    "$$\n",
    "E= \\{ Rouge; Bleu; Vert\\}\n",
    "$$\n",
    "\n",
    "On souhaite simuler une variable aléatoire de loi:\n",
    "$$\n",
    "\\begin{array}{c|ccc}\n",
    "X & Rouge & Bleu & Vert \\\\\n",
    "\\hline\n",
    "\\mathbb{P}(X=k) & \\frac{1}{2} & \\frac{1}{3} & \\frac{1}{6}\n",
    "\\end{array}\n",
    "$$\n",
    "\n",
    "Pour cela, on se sert de la fonction Python\n",
    "$$ np.random.uniform(0,1) $$\n",
    "qui génère une loi uniforme sur [0,1]"
   ]
  },
  {
   "cell_type": "code",
   "execution_count": 13,
   "metadata": {},
   "outputs": [],
   "source": [
    "import numpy as np\n",
    "import matplotlib.pyplot as plt\n",
    "import random"
   ]
  },
  {
   "cell_type": "code",
   "execution_count": 2,
   "metadata": {},
   "outputs": [
    {
     "name": "stdout",
     "output_type": "stream",
     "text": [
      "Bleu\n"
     ]
    }
   ],
   "source": [
    "#Exemple \n",
    "x=np.random.uniform(0,1)\n",
    "if x <= 1/2 :\n",
    "    print(\"Rouge\");\n",
    "elif x<= 5/6 :\n",
    "    print(\"Bleu\");\n",
    "else: print(\"Vert\");"
   ]
  },
  {
   "cell_type": "markdown",
   "metadata": {},
   "source": [
    "### Exercice 1:\n",
    "- Expliquer pourquoi l'exemple précédent fonctionne : \n",
    "<br> P(\"Rouge\") = 1/2 = P(x <= 1/2)\n",
    "<br> P(\"Bleu\") = 1 - P(\"Rouge\") - P(\"Vert\") = 1/6 = P(x <= 5/6)\n",
    "<br>\n",
    "\n",
    "- Écrire une fonction \"Simu\" qui prend en entrée un vecteur de probabilité $$\\mu=(p_0~~\\ldots ~~ p_n)$$ et qui simule une observation d'une variable aléatoire $X$ telle que $\\mathbb{P}(X=k)=p_k$ :"
   ]
  },
  {
   "cell_type": "code",
   "execution_count": 3,
   "metadata": {},
   "outputs": [
    {
     "data": {
      "text/plain": [
       "(array([123., 206., 371.]),\n",
       " array([-0.5,  0.5,  1.5,  2.5]),\n",
       " <BarContainer object of 3 artists>)"
      ]
     },
     "execution_count": 3,
     "metadata": {},
     "output_type": "execute_result"
    },
    {
     "data": {
      "image/png": "[encoded data removed]",
      "text/plain": [
       "<Figure size 640x480 with 1 Axes>"
      ]
     },
     "metadata": {},
     "output_type": "display_data"
    }
   ],
   "source": [
    "# Ecrire votre code ici :\n",
    "def Simu(mu):\n",
    "    n = len(mu)\n",
    "    s = 0\n",
    "    x = np.random.uniform(0,1)\n",
    "    for i in range(n):\n",
    "        if s <= x <= s + mu[i]:\n",
    "            return i\n",
    "        else:\n",
    "            s += mu[i]\n",
    "Vect = []\n",
    "for i in range(700):\n",
    "    Vect.append(Simu([0.2,0.3,0.5]))\n",
    "\n",
    "plt.hist(Vect,range = (-0.5,2.5), bins = 3, edgecolor = \"red\")    \n"
   ]
  },
  {
   "cell_type": "markdown",
   "metadata": {},
   "source": [
    "## 2- Application à la génération d'une chaine de Markov"
   ]
  },
  {
   "cell_type": "markdown",
   "metadata": {},
   "source": [
    "### Exemple:\n",
    "\n",
    "On considère la chaine de Markov sur $\\{0,1,2\\}$ de matrice de transition\n",
    "$$P= \\begin{pmatrix} 0 & 0.1 & 0.9 \\\\ 0.1 & 0 & 0.9 \\\\ 0.5 & 0.5 & 0 \\end{pmatrix}$$"
   ]
  },
  {
   "cell_type": "markdown",
   "metadata": {},
   "source": [
    "On rappelle que si $\\mu_n$ désigne la loi de $X_n$, c'est à dire:\n",
    "$$\n",
    "\\mu_n= \n",
    "\\begin{pmatrix}\\mathbb{P}(X_n=0)& \\mathbb{P}(X_n=1)& \\mathbb{P}(X_n=2)\n",
    "\\end{pmatrix}\n",
    "$$\n",
    "\n",
    "\n",
    "Alors, on a la relation:\n",
    "$$\n",
    "\\mu_{n+1} = \\mu_{n}P\n",
    "$$\n",
    "\n",
    "Prenons $X_0$ de loi \n",
    "$$\n",
    "\\mu_0 = \\begin{pmatrix}\n",
    "\\frac{1}{2}& \\frac{1}{3}& \\frac{1}{6}\n",
    "\\end{pmatrix}\n",
    "$$"
   ]
  },
  {
   "cell_type": "code",
   "execution_count": 115,
   "metadata": {},
   "outputs": [
    {
     "name": "stdout",
     "output_type": "stream",
     "text": [
      "[0, 2, 1, 2, 1, 2, 0, 2, 0, 2, 0]\n"
     ]
    }
   ],
   "source": [
    "# Simulation de 10 pas dans la chaine de Markov:\n",
    "\n",
    "Mkv=[];\n",
    "\n",
    "\n",
    "# Génération de X_0:\n",
    "x=np.random.uniform(0,1)\n",
    "if x <= 0.5 :\n",
    "    Mkv.append(0)\n",
    "elif x<= 5/6 :\n",
    "    Mkv.append(1)\n",
    "else: Mkv.append(2)\n",
    "\n",
    "\n",
    "\n",
    "# Matrice de transition:\n",
    "P = np.array([[0, 0.1, 0.9],\n",
    "              [0.1, 0, 0.9],\n",
    "              [0.5, 0.5, 0.0]])\n",
    "    \n",
    "\n",
    "for i in range(10):\n",
    "    # On sélectionne la ligne de P correspondant à l'état dans lequel est la chaine\n",
    "    State = Mkv[-1]\n",
    "    proba= P[State,:]\n",
    "    \n",
    "    x=np.random.uniform(0,1)\n",
    "    # On tire un nouvel état pour la chaine.\n",
    "    if x <= proba[0] :\n",
    "        Mkv.append(0)\n",
    "    elif x<= proba[0]+proba[1] :\n",
    "        Mkv.append(1)\n",
    "    else: Mkv.append(2)\n",
    "\n",
    "\n",
    "print(Mkv)\n"
   ]
  },
  {
   "cell_type": "markdown",
   "metadata": {},
   "source": [
    "\n",
    "### Exercice 2: \n",
    "-S'approprier le code ci dessus. On pourra par exemple:\n",
    "    - Faire varier le nombre de pas dans la chaine de Markov\n",
    "    - Changer la matrice de transition et/ou la probabilité initiale"
   ]
  },
  {
   "cell_type": "markdown",
   "metadata": {},
   "source": [
    "### Exercice 3: \n",
    "On souhaite simuler une chaîne de Markov sur $\\{0,\\ldots,n\\}$. \n",
    "- Écrire une fonction \"Markov\" qui prend en paramètres:\n",
    "    - une loi initiale, \n",
    "    - une matrice de transition,\n",
    "    - un nombre $n$ de pas à simuler \n",
    "  <br>\n",
    "  <br>\n",
    "  et qui retourne un vecteur contenant les $n+1$  états parcourus par la chaine de Markov."
   ]
  },
  {
   "cell_type": "code",
   "execution_count": 85,
   "metadata": {},
   "outputs": [],
   "source": [
    "# écrire votre code ici\n",
    "def Markov(loi, P, n):\n",
    "    d = len(P)\n",
    "    X = []\n",
    "    X.append(random.choices(range(len(loi)),weights = loi, k = 1))\n",
    "    for i in range(n):\n",
    "        State = X[-1]\n",
    "        proba = P[State,:]\n",
    "        proba = np.array(proba)\n",
    "        proba = [i for j in proba for i in j]\n",
    "        try:\n",
    "            X.append(random.choices(range(d), weights = proba, k = 1))\n",
    "        except ValueError:\n",
    "            print(proba)\n",
    "    return X"
   ]
  },
  {
   "cell_type": "code",
   "execution_count": 73,
   "metadata": {},
   "outputs": [],
   "source": [
    "def Affiche_Markov(loi, P, n):\n",
    "    Vect = Markov(loi = loi, P = P, n = n)\n",
    "    Vect = np.array(Vect)\n",
    "    Vect = np.concatenate(Vect)\n",
    "    plt.hist(Vect, range = (-0.5, float(len(P)) - 0.5), bins = 4, edgecolor = 'red')\n",
    "    print(Vect)"
   ]
  },
  {
   "cell_type": "markdown",
   "metadata": {},
   "source": [
    "### Représentation et Visualisation\n",
    "\n",
    "On peut chercher à représenter la trajectoire en fonction du nombre de pas:"
   ]
  },
  {
   "cell_type": "code",
   "execution_count": 116,
   "metadata": {
    "scrolled": false
   },
   "outputs": [
    {
     "data": {
      "text/plain": [
       "[<matplotlib.lines.Line2D at 0x1ca2e2f1990>]"
      ]
     },
     "execution_count": 116,
     "metadata": {},
     "output_type": "execute_result"
    },
    {
     "data": {
      "image/png": "[encoded data removed]",
      "text/plain": [
       "<Figure size 640x480 with 1 Axes>"
      ]
     },
     "metadata": {},
     "output_type": "display_data"
    }
   ],
   "source": [
    "Niter=range(11)\n",
    "plt.plot(Niter,Mkv)"
   ]
  },
  {
   "cell_type": "markdown",
   "metadata": {},
   "source": [
    "On voit qu'en temps long, ce genre de graphique n'est pas très utile. \n",
    "À la place, on dessine un histogramme:"
   ]
  },
  {
   "cell_type": "code",
   "execution_count": 117,
   "metadata": {},
   "outputs": [
    {
     "data": {
      "text/plain": [
       "(array([4., 2., 5.]),\n",
       " array([-0.5,  0.5,  1.5,  2.5]),\n",
       " <BarContainer object of 3 artists>)"
      ]
     },
     "execution_count": 117,
     "metadata": {},
     "output_type": "execute_result"
    },
    {
     "data": {
      "image/png": "[encoded data removed]",
      "text/plain": [
       "<Figure size 640x480 with 1 Axes>"
      ]
     },
     "metadata": {},
     "output_type": "display_data"
    }
   ],
   "source": [
    "plt.hist(Mkv, range = (-0.5, 2.5), bins = 3,edgecolor = 'red')"
   ]
  },
  {
   "cell_type": "markdown",
   "metadata": {},
   "source": [
    "### Exercice 4:\n",
    "\n",
    "- Se servir du code écrit à l'exercice 3 pour simuler $N$ pas d'une chaîne de Markov $(X_n)_{n \\ge 0}$ et représenter l'histogramme obtenu pour différentes valeurs de $N$ \n",
    "<br>\n",
    "On prendra différentes matrices de transitions et lois initiales donnant\n",
    "    - une chaine irréductible, récurrente et apériodique,\n",
    "    - une chaine avec plusieurs états transitoires et une seule classe récurrente,\n",
    "    - un chaine avec plusieurs classes récurrentes,\n",
    "<br>\n",
    "<br>\n",
    "- Pour chaque exemple, illustrer en faisant plusieurs simulations avec différents choix de loi initiale, le comportement de la chaîne de Markov et commenter les résultats obtenus.\n",
    "\n",
    "#### Une simulation de chaine irréductible, récurrente et apériodique :"
   ]
  },
  {
   "cell_type": "code",
   "execution_count": 86,
   "metadata": {},
   "outputs": [
    {
     "name": "stdout",
     "output_type": "stream",
     "text": [
      "[3 0 1 2 3 0 1 2 3 0 1 2 3 0 1 2 3 0 1 2 3 0 1 2 3 0 1 2 3 0 1 2 3 0 1 2 3\n",
      " 0 1 2 3 0 1 2 3 0 1 2 3 0 1 2 3 0 1 2 3 0 1 2 3 0 1 2 3 0 1 2 3 0 1 2 3 0\n",
      " 1 2 3 0 1 2 3 0 1 2 3 0 1 2 3 0 1 2 3 0 1 2 3 0 1 2 3 0 1 2 3 0 1 2 3 0 1\n",
      " 2 3 0 1 2 3 0 1 2 3 0 1 2 3 0 1 2 3 0 1 2 3 0 1 2 3 0 1 2 3 0 1 2 3 0 1 2\n",
      " 3 0 1 2 3 0 1 2 3 0 1 2 3 0 1 2 3 0 1 2 3 0 1 2 3 0 1 2 3 0 1 2 3 0 1 2 3\n",
      " 0 1 2 3 0 1 2 3 0 1 2 3 0 1 2 3 0 1 2 3 0 1 2 3 0 1 2 3 0 1 2 3 0 1 2 3 0\n",
      " 1 2 3 0 1 2 3 0 1 2 3 0 1 2 3 0 1 2 3 0 1 2 3 0 1 2 3 0 1 2 3 0 1 2 3 0 1\n",
      " 2 3 0 1 2 3 0 1 2 3 0 1 2 3 0 1 2 3 0 1 2 3 0 1 2 3 0 1 2 3 0 1 2 3 0 1 2\n",
      " 3 0 1 2 3 0 1 2 3 0 1 2 3 0 1 2 3 0 1 2 3 0 1 2 3 0 1 2 3 0 1 2 3 0 1 2 3\n",
      " 0 1 2 3 0 1 2 3 0 1 2 3 0 1 2 3 0 1 2 3 0 1 2 3 0 1 2 3 0 1 2 3 0 1 2 3 0\n",
      " 1 2 3 0 1 2 3 0 1 2 3 0 1 2 3 0 1 2 3 0 1 2 3 0 1 2 3 0 1 2 3 0 1 2 3 0 1\n",
      " 2 3 0 1 2 3 0 1 2 3 0 1 2 3 0 1 2 3 0 1 2 3 0 1 2 3 0 1 2 3 0 1 2 3 0 1 2\n",
      " 3 0 1 2 3 0 1 2 3 0 1 2 3 0 1 2 3 0 1 2 3 0 1 2 3 0 1 2 3 0 1 2 3 0 1 2 3\n",
      " 0 1 2 3 0 1 2 3 0 1 2 3 0 1 2 3 0 1 2 3 0 1 2 3 0 1 2 3 0 1 2 3 0 1 2 3 0\n",
      " 1 2 3 0 1 2 3 0 1 2 3 0 1 2 3 0 1 2 3 0 1 2 3 0 1 2 3 0 1 2 3 0 1 2 3 0 1\n",
      " 2 3 0 1 2 3 0 1 2 3 0 1 2 3 0 1 2 3 0 1 2 3 0 1 2 3 0 1 2 3 0 1 2 3 0 1 2\n",
      " 3 0 1 2 3 0 1 2 3 0 1 2 3 0 1 2 3 0 1 2 3 0 1 2 3 0 1 2 3 0 1 2 3 0 1 2 3\n",
      " 0 1 2 3 0 1 2 3 0 1 2 3 0 1 2 3 0 1 2 3 0 1 2 3 0 1 2 3 0 1 2 3 0 1 2 3 0\n",
      " 1 2 3 0 1 2 3 0 1 2 3 0 1 2 3 0 1 2 3 0 1 2 3 0 1 2 3 0 1 2 3 0 1 2 3]\n"
     ]
    },
    {
     "data": {
      "image/png": "[encoded data removed]",
      "text/plain": [
       "<Figure size 640x480 with 1 Axes>"
      ]
     },
     "metadata": {},
     "output_type": "display_data"
    }
   ],
   "source": [
    "# écrire votre code ici\n",
    "loi = [0.23, 0.37, 0.12, 0.28]\n",
    "P_ira = np.array([[0.5,0.5,0,0],\n",
    "                [0,0.5,0.5,0],\n",
    "                [0, 0, 0.5, 0.5],\n",
    "                [0.5, 0, 0, 0.5]])\n",
    "P_ptr = np.array([[0.5,0.4,0.1,0],\n",
    "                [0.4,0.5,0.1,0],\n",
    "                [0.4,0.4,0.1,0.1],\n",
    "                [0,0,0,1]])\n",
    "P_pr = np.array([[0,1,0,0],\n",
    "               [0,0,1,0],\n",
    "               [0,0,0,1],\n",
    "               [1,0,0,0]])\n",
    "assert(P_ira.shape[1] == P_ira.shape[0])\n",
    "assert(P_ptr.shape[1] == P_ptr.shape[0])\n",
    "assert(P_pr.shape[1] == P_pr.shape[0])\n",
    "\n",
    "\n",
    "Affiche_Markov(loi = loi, P = P_pr, n = 700)"
   ]
  },
  {
   "cell_type": "code",
   "execution_count": 87,
   "metadata": {},
   "outputs": [
    {
     "name": "stdout",
     "output_type": "stream",
     "text": [
      "[0 0 0 0 1 1 1 2 3 0 0 0 1 1 1 2 2 3 3 0 1 2 2 3 3 3 0 0 1 1 1 1 2 2 2 3 0\n",
      " 1 2 3 3 0 1 1 1 1 1 1 1 2 2 3 3 3 0 1 2 2 2 3 3 0 1 2 2 3 3 3 3 3 0 0 1 1\n",
      " 2 3 0 1 2 2 2 3 3 0 1 1 2 3 3 3 0 1 2 3 0 1 1 2 2 3 0 0 0 0 1 2 2 2 2 2 3\n",
      " 3 3 0 1 1 2 3 3 0 1 2 3 3 3 3 0 0 0 0 1 2 3 3 3 3 3 3 0 1 1 1 2 2 3 3 3 0\n",
      " 1 2 3 3 3 3 3 3 0 0 0 1 2 3 0 1 2 2 2 3 3 3 3 3 0 0 1 1 2 2 2 2 2 3 0 0 1\n",
      " 2 2 3 3 3 3 0 1 1 1 2 2 3 3 3 0 1 1 2 3 0 1 2 3 3 0 0 0 0 0 0 1 2 2 2 3 0\n",
      " 0 1 1 1 2 3 0 1 1 2 2 3 0 1 1 1 1 2 3 3 3 0 0 1 1 1 2 3 0 1 1 2 3 0 1 2 2\n",
      " 3 3 3 0 1 1 2 2 2 2 3 0 0 1 2 2 3 0 1 2 3 3 0 0 1 1 2 2 2 2 2 3 0 1 1 1 2\n",
      " 2 3 3 0 0 0 1 1 1 2 3 0 1 2 2 2 3 0 0 1 2 3 0 1 2 3 3 3 0 1 1 1 2 2 2 3 3\n",
      " 0 0 1 2 3 0 1 2 3 0 0 1 1 1 2 2 2 3 0 1 2 3 3 0 1 1 1 1 1 2 2 3 3 0 1 1 2\n",
      " 3 3 3 3 0 1 2 3 3 0 1 1 1 2 3 0 0 1 1 2 3 0 1 1 1 1 1 2 2 3 3 3 3 3 0 0 1\n",
      " 2 2 3 0 0 0 1 2 3 0 0 1 1 1 1 1 2 2 3 3 3 0 1 2 2 2 2 3 3 0 0 1 2 3 0 1 1\n",
      " 2 3 3 3 3 0 0 0 0 1 1 1 1 1 2 2 3 0 0 0 1 2 3 3 3 0 1 1 1 1 1 2 2 3 0 1 1\n",
      " 1 1 2 2 3 0 1 2 2 2 2 3 0 1 2 3 3 3 3 3 0 0 1 1 2 2 3 3 3 3 3 0 1 1 2 3 3\n",
      " 3 0 0 0 0 0 0 1 1 1 1 1 2 2 2 2 3 0 1 1 2 3 0 0 0 0 1 2 3 3 3 0 0 0 1 2 3\n",
      " 0 0 0 1 1 2 3 0 0 1 2 2 2 3 0 0 0 1 1 2 2 3 3 3 0 1 1 1 1 1 2 3 3 3 0 1 1\n",
      " 2 3 0 0 1 2 3 0 0 1 2 2 2 2 3 3 3 0 1 1 2 3 3 0 0 1 1 1 2 2 3 0 1 1 1 1 1\n",
      " 2 3 0 1 2 3 3 0 1 2 2 3 0 1 1 2 2 2 3 3 0 1 1 1 1 1 2 3 3 0 1 2 3 0 0 0 1\n",
      " 1 2 2 3 0 1 1 1 2 2 3 0 1 1 2 2 3 0 0 1 1 1 1 2 3 0 1 2 2 3 3 3 0 0 0]\n"
     ]
    },
    {
     "data": {
      "image/png": "[encoded data removed]",
      "text/plain": [
       "<Figure size 640x480 with 1 Axes>"
      ]
     },
     "metadata": {},
     "output_type": "display_data"
    }
   ],
   "source": [
    "Affiche_Markov(loi = loi, P = P_ira, n = 700)"
   ]
  },
  {
   "cell_type": "code",
   "execution_count": 88,
   "metadata": {},
   "outputs": [
    {
     "name": "stdout",
     "output_type": "stream",
     "text": [
      "[3 3 3 3 3 3 3 3 3 3 3 3 3 3 3 3 3 3 3 3 3 3 3 3 3 3 3 3 3 3 3 3 3 3 3 3 3\n",
      " 3 3 3 3 3 3 3 3 3 3 3 3 3 3 3 3 3 3 3 3 3 3 3 3 3 3 3 3 3 3 3 3 3 3 3 3 3\n",
      " 3 3 3 3 3 3 3 3 3 3 3 3 3 3 3 3 3 3 3 3 3 3 3 3 3 3 3 3 3 3 3 3 3 3 3 3 3\n",
      " 3 3 3 3 3 3 3 3 3 3 3 3 3 3 3 3 3 3 3 3 3 3 3 3 3 3 3 3 3 3 3 3 3 3 3 3 3\n",
      " 3 3 3 3 3 3 3 3 3 3 3 3 3 3 3 3 3 3 3 3 3 3 3 3 3 3 3 3 3 3 3 3 3 3 3 3 3\n",
      " 3 3 3 3 3 3 3 3 3 3 3 3 3 3 3 3 3 3 3 3 3 3 3 3 3 3 3 3 3 3 3 3 3 3 3 3 3\n",
      " 3 3 3 3 3 3 3 3 3 3 3 3 3 3 3 3 3 3 3 3 3 3 3 3 3 3 3 3 3 3 3 3 3 3 3 3 3\n",
      " 3 3 3 3 3 3 3 3 3 3 3 3 3 3 3 3 3 3 3 3 3 3 3 3 3 3 3 3 3 3 3 3 3 3 3 3 3\n",
      " 3 3 3 3 3 3 3 3 3 3 3 3 3 3 3 3 3 3 3 3 3 3 3 3 3 3 3 3 3 3 3 3 3 3 3 3 3\n",
      " 3 3 3 3 3 3 3 3 3 3 3 3 3 3 3 3 3 3 3 3 3 3 3 3 3 3 3 3 3 3 3 3 3 3 3 3 3\n",
      " 3 3 3 3 3 3 3 3 3 3 3 3 3 3 3 3 3 3 3 3 3 3 3 3 3 3 3 3 3 3 3 3 3 3 3 3 3\n",
      " 3 3 3 3 3 3 3 3 3 3 3 3 3 3 3 3 3 3 3 3 3 3 3 3 3 3 3 3 3 3 3 3 3 3 3 3 3\n",
      " 3 3 3 3 3 3 3 3 3 3 3 3 3 3 3 3 3 3 3 3 3 3 3 3 3 3 3 3 3 3 3 3 3 3 3 3 3\n",
      " 3 3 3 3 3 3 3 3 3 3 3 3 3 3 3 3 3 3 3 3 3 3 3 3 3 3 3 3 3 3 3 3 3 3 3 3 3\n",
      " 3 3 3 3 3 3 3 3 3 3 3 3 3 3 3 3 3 3 3 3 3 3 3 3 3 3 3 3 3 3 3 3 3 3 3 3 3\n",
      " 3 3 3 3 3 3 3 3 3 3 3 3 3 3 3 3 3 3 3 3 3 3 3 3 3 3 3 3 3 3 3 3 3 3 3 3 3\n",
      " 3 3 3 3 3 3 3 3 3 3 3 3 3 3 3 3 3 3 3 3 3 3 3 3 3 3 3 3 3 3 3 3 3 3 3 3 3\n",
      " 3 3 3 3 3 3 3 3 3 3 3 3 3 3 3 3 3 3 3 3 3 3 3 3 3 3 3 3 3 3 3 3 3 3 3 3 3\n",
      " 3 3 3 3 3 3 3 3 3 3 3 3 3 3 3 3 3 3 3 3 3 3 3 3 3 3 3 3 3 3 3 3 3 3 3]\n"
     ]
    },
    {
     "data": {
      "image/png": "[encoded data removed]",
      "text/plain": [
       "<Figure size 640x480 with 1 Axes>"
      ]
     },
     "metadata": {},
     "output_type": "display_data"
    }
   ],
   "source": [
    "Affiche_Markov(loi = loi, P = P_ptr, n = 700)"
   ]
  },
  {
   "cell_type": "markdown",
   "metadata": {},
   "source": [
    "#### Commentaires :\n",
    "#### Une simulation de chaine comportant plusieurs états transitoires  et une seule classe récurrente : $\\mathbb{E}[T_x(x)]$ avec x etat transitoire est 0\n",
    "#### $\\mathbb{E}[T_x(x)]$ avec x etat transitoire est egale $\\frac{1}{\\pi(x)}$ avec pi mesure proba inv dans class recurrent"
   ]
  },
  {
   "cell_type": "code",
   "execution_count": null,
   "metadata": {},
   "outputs": [],
   "source": [
    "# écrire votre code ici"
   ]
  },
  {
   "cell_type": "markdown",
   "metadata": {},
   "source": [
    "#### Commentaires :\n",
    "#### Une simulation de chaine comportant plusieurs classes récurrentes :\n",
    "#### La probabilité dans chaque classe reste la même"
   ]
  },
  {
   "cell_type": "code",
   "execution_count": 5,
   "metadata": {},
   "outputs": [],
   "source": [
    "# écrire votre code ici"
   ]
  },
  {
   "cell_type": "markdown",
   "metadata": {},
   "source": [
    "#### Commentaires :\n",
    "#### Une simulation de chaine avec une seule classe de recurrente et plusieur état transitoire:\n",
    "#### La plupart d'états appartient dans classe recurrente\n"
   ]
  },
  {
   "cell_type": "markdown",
   "metadata": {},
   "source": [
    "### 3- Loi de $X_n$"
   ]
  },
  {
   "cell_type": "markdown",
   "metadata": {},
   "source": [
    "La fonction suivante "
   ]
  },
  {
   "cell_type": "code",
   "execution_count": 89,
   "metadata": {},
   "outputs": [],
   "source": [
    "def puissanceM(M,n):\n",
    "    Mcour=M\n",
    "    for k in range(n-1):\n",
    "        Mcour=np.dot(M,Mcour)\n",
    "    return Mcour"
   ]
  },
  {
   "cell_type": "markdown",
   "metadata": {},
   "source": [
    "renvoie la puissance $n^{\\textrm{ème}}$ de la matrice M passée en paramètre."
   ]
  },
  {
   "cell_type": "code",
   "execution_count": 90,
   "metadata": {},
   "outputs": [
    {
     "data": {
      "text/plain": [
       "array([[ 1, -1,  2],\n",
       "       [ 1,  2,  2],\n",
       "       [-1, -2,  1]])"
      ]
     },
     "execution_count": 90,
     "metadata": {},
     "output_type": "execute_result"
    }
   ],
   "source": [
    "# exemple \n",
    "M = np.array([[0, 1, 2],\n",
    "              [1, 1, 0],\n",
    "              [0, -1, 1]])\n",
    "# Calcul de la puissance de P\n",
    "puissanceM(M,2)"
   ]
  },
  {
   "cell_type": "markdown",
   "metadata": {},
   "source": [
    "### Exercice 5: \n",
    "\n",
    "- Écrire un programme \"LoiXn\" qui prend en paramètre : \n",
    "    - Une matrice de transition \n",
    "    - Un entier n\n",
    "    - Le vecteur qui représente la loi initiale\n",
    "<br>\n",
    "et qui renvoie la loi de $X_n$ (sous forme d'un vecteur)."
   ]
  },
  {
   "cell_type": "code",
   "execution_count": 108,
   "metadata": {},
   "outputs": [],
   "source": [
    "# écrire votre code ici:\n",
    "def LoiXn(P, n, loi):\n",
    "    P = puissanceM(np.array(P),n)\n",
    "    return np.dot(loi,P)"
   ]
  },
  {
   "cell_type": "code",
   "execution_count": 107,
   "metadata": {},
   "outputs": [
    {
     "name": "stdout",
     "output_type": "stream",
     "text": [
      "[[0.26330629 0.26330629 0.47338741]\n",
      " [0.26330629 0.26330629 0.47338741]\n",
      " [0.26299301 0.26299301 0.47401399]]\n"
     ]
    },
    {
     "data": {
      "text/plain": [
       "array([0.26330629, 0.26330629, 0.47338741])"
      ]
     },
     "execution_count": 107,
     "metadata": {},
     "output_type": "execute_result"
    }
   ],
   "source": [
    "P = np.array([[0,0.1,0.9],\n",
    "             [0.1,0,0.9],\n",
    "             [0.5,0.5,0]])\n",
    "print(puissanceM(P,70))\n",
    "M = np.array(puissanceM(P,70))\n",
    "np.dot([1,0,0],M)"
   ]
  },
  {
   "cell_type": "markdown",
   "metadata": {},
   "source": [
    "On considère à nouveau la chaine de Markov $(X_k)_{k\\in \\mathbb{N}}$ sur {0,1,2} de matrice de transition\n",
    "$$P= \\begin{pmatrix} 0 & 0.1 & 0.9 \\\\ 0.1 & 0 & 0.9 \\\\ 0.5 & 0.5 & 0 \\end{pmatrix}.$$\n",
    "\n",
    "- Donnez la loi $\\mu_{n,0}$ de $X_n$ lorsque $\\mathbb{P}(X_0=0)=1$ pour différentes valeurs de $n$:"
   ]
  },
  {
   "cell_type": "code",
   "execution_count": 126,
   "metadata": {},
   "outputs": [
    {
     "name": "stdout",
     "output_type": "stream",
     "text": [
      "[0.         0.         0.46       0.09       0.4186     0.1233\n",
      " 0.389026   0.149877   0.36511066 0.17140041 0.34573963 0.18883433\n",
      " 0.3300491  0.20295581 0.31733977 0.21439421 0.30704521 0.22365931\n",
      " 0.29870662 0.23116404 0.29195237 0.23724287 0.28648142 0.24216673\n",
      " 0.28204995 0.24615505 0.27846046 0.24938559 0.27555297 0.25200233\n",
      " 0.27319791 0.25412188 0.2712903  0.25583873 0.26974515 0.25722937\n",
      " 0.26849357 0.25835579 0.26747979 0.25926819 0.26665863 0.26000723\n",
      " 0.26599349 0.26060586 0.26545473 0.26109075 0.26501833 0.2614835\n",
      " 0.26466485 0.26180164 0.26437853 0.26205933 0.26414661 0.26226805\n",
      " 0.26395875 0.26243712 0.26380659 0.26257407 0.26368334 0.262685\n",
      " 0.2635835  0.26277485 0.26350264 0.26284763 0.26343714 0.26290658\n",
      " 0.26338408 0.26295433 0.2633411  0.26299301]\n"
     ]
    }
   ],
   "source": [
    "# écrire votre code ici:\n",
    "loi = np.array([1,0,0])\n",
    "mu = []\n",
    "for i in range(70):\n",
    "    mu.append(LoiXn(P = P, n = i, loi = loi))\n",
    "mu = np.array(mu)\n",
    "print(mu[:,0])"
   ]
  },
  {
   "cell_type": "markdown",
   "metadata": {},
   "source": [
    "- Que constatez-vous ? \n",
    "Converge vers 0.263\n",
    "\n",
    "- Illustrer graphiquement le résultat obtenu :"
   ]
  },
  {
   "cell_type": "code",
   "execution_count": 114,
   "metadata": {},
   "outputs": [
    {
     "data": {
      "image/png": "[encoded data removed]",
      "text/plain": [
       "<Figure size 640x480 with 1 Axes>"
      ]
     },
     "metadata": {},
     "output_type": "display_data"
    }
   ],
   "source": [
    "segment1 = np.zeros(70)\n",
    "segment2 = np.zeros(70)\n",
    "segment3 = np.zeros(70)\n",
    "x = np.arange(70)\n",
    "for i in range(70):\n",
    "    segment1[i] = mu[i][0]\n",
    "    segment2[i] = mu[i][1]\n",
    "    segment3[i] = mu[i][2]\n",
    "plt.bar(x, segment1, width=bar_width, label='Segment 1')\n",
    "plt.bar(x, segment2, width=bar_width, bottom=segment1, label='Segment 2')\n",
    "plt.bar(x, segment3, width=bar_width, bottom=segment1 + segment2, label='Segment 3')\n",
    "plt.xlabel('Steps')\n",
    "plt.ylabel('Loi')\n",
    "plt.title('Loi Xn')\n",
    "plt.legend()\n",
    "plt.show()"
   ]
  },
  {
   "cell_type": "markdown",
   "metadata": {},
   "source": [
    "Faites de même avec différents choix de loi initiale. Que constatez-vous ?\n",
    "Encore convege à 0.263"
   ]
  },
  {
   "cell_type": "code",
   "execution_count": 125,
   "metadata": {},
   "outputs": [
    {
     "name": "stdout",
     "output_type": "stream",
     "text": [
      "0.2630626254534877\n"
     ]
    }
   ],
   "source": [
    "loi = [0.3,0.5,0.2]\n",
    "mu = []\n",
    "for i in range(70):\n",
    "    mu.append(LoiXn(P = P, n = i, loi = loi))\n",
    "print(mu[69][0])"
   ]
  },
  {
   "cell_type": "markdown",
   "metadata": {},
   "source": [
    "Considérons $\\mu_{100,0}$. Calculez $\\mu_{100,0}P$ : "
   ]
  },
  {
   "cell_type": "code",
   "execution_count": 128,
   "metadata": {},
   "outputs": [
    {
     "name": "stdout",
     "output_type": "stream",
     "text": [
      "0.26315385616157316\n"
     ]
    }
   ],
   "source": [
    "# écrire votre code ici\n",
    "loi = [0.3,0.5,0.2]\n",
    "mu = []\n",
    "for i in range(100):\n",
    "    mu.append(LoiXn(P = P, n = i, loi = loi))\n",
    "print(mu[99][0])"
   ]
  },
  {
   "cell_type": "markdown",
   "metadata": {},
   "source": [
    "- Que constatez-vous ? \n",
    "Convege vers 0.263\n",
    "- Quel résultat cela illustre-il ? \n",
    "La limite reste la même pour different loi initiale"
   ]
  },
  {
   "cell_type": "markdown",
   "metadata": {},
   "source": [
    "On considère maintenant la chaîne $(Z_n)_{n\\in \\mathbb{N}} $ sur $\\{0,1,2,3,4\\}$ de matrice de transition :\n",
    "    $$P_a= \\begin{pmatrix} 0  & 0.4 & 0   & 0.6 \\\\ \n",
    "                        0.3 & 0   & 0.7 & 0   \\\\ \n",
    "                         0  & 0.6 & 0   & 0.4  \\\\\n",
    "                        0.2 & 0   & 0.8 & 0     \n",
    "\\end{pmatrix}$$"
   ]
  },
  {
   "cell_type": "code",
   "execution_count": 129,
   "metadata": {},
   "outputs": [],
   "source": [
    "Pa = np.array([[0, 0.4, 0,0.6],\n",
    "              [0.3, 0, 0.7,0],\n",
    "              [0, 0.6, 0.0,0.4],\n",
    "              [0.2, 0,0.8,0]])"
   ]
  },
  {
   "cell_type": "markdown",
   "metadata": {},
   "source": [
    "- Calculer la loi de $Z_n$ pour $n$ grand et pair avec pour pour loi initiale \n",
    "$$\\mu_0=(1~~0~~0~~0).$$\n",
    "- Faites de même avec $n$ grand et impair. "
   ]
  },
  {
   "cell_type": "code",
   "execution_count": 132,
   "metadata": {},
   "outputs": [
    {
     "name": "stdout",
     "output_type": "stream",
     "text": [
      "pair: [0.25490196 0.         0.74509804 0.        ]\n",
      "impair [0.         0.54901961 0.         0.45098039]\n"
     ]
    }
   ],
   "source": [
    "# écrire votre code ici\n",
    "n_pair = 1000\n",
    "n_impair = 505\n",
    "mu_pair = LoiXn(P = Pa, n = n_pair, loi = [1,0,0,0])\n",
    "mu_impair = LoiXn(P = Pa, n = n_impair, loi = [1,0,0,0])\n",
    "print(\"pair:\",mu_pair)\n",
    "print(\"impair\",mu_impair)\n"
   ]
  },
  {
   "cell_type": "code",
   "execution_count": 133,
   "metadata": {},
   "outputs": [
    {
     "name": "stdout",
     "output_type": "stream",
     "text": [
      "pair: [0.25490196 0.         0.74509804 0.        ]\n",
      "impair [0.         0.54901961 0.         0.45098039]\n"
     ]
    }
   ],
   "source": [
    "n_pair = 2000\n",
    "n_impair = 777\n",
    "mu_pair = LoiXn(P = Pa, n = n_pair, loi = [1,0,0,0])\n",
    "mu_impair = LoiXn(P = Pa, n = n_impair, loi = [1,0,0,0])\n",
    "print(\"pair:\",mu_pair)\n",
    "print(\"impair\",mu_impair)\n"
   ]
  },
  {
   "cell_type": "markdown",
   "metadata": {},
   "source": [
    "- Que constatez vous ? À quoi cela est-il dû ?  \n",
    "Parce que il y a 2 classe dans le système\n",
    "\n",
    "On considère maintenant le vecteur $$\\mu=(0,1275~~0,2745~~0,3725~~0,2250)$$ et le produit $\\mu P_a$ : "
   ]
  },
  {
   "cell_type": "code",
   "execution_count": 134,
   "metadata": {},
   "outputs": [
    {
     "name": "stdout",
     "output_type": "stream",
     "text": [
      "mu= [0.1275 0.2745 0.3725 0.2255]\n",
      "muP= [0.12745 0.2745  0.37255 0.2255 ]\n"
     ]
    }
   ],
   "source": [
    "mu=np.array([0.1275,0.2745, 0.3725,0.2255])\n",
    "print(\"mu=\",mu)\n",
    "muP=np.dot(mu,Pa)\n",
    "print(\"muP=\",muP)"
   ]
  },
  {
   "cell_type": "markdown",
   "metadata": {},
   "source": [
    "- Que constatez-vous ?\n",
    "C'est presque la même donc $\\mu$ peut être prèsque une mesure proba inv \n",
    "- Comparer le vecteur $\\mu$ avec les distributions limites des sous-suites $(X_{2n})_{n\\in\\mathbb{N}}$ et $(X_{2n+1})_{n\\in\\mathbb{N}}$. Commentez\n",
    "$$\\mu \\approx \\frac{1}{2}(\\mu_{pair}+\\mu_{impair})$$ Et $\\mu$ est combinaison linaire de $\\mu_{pair}$ et $\\mu_{impair}$\n",
    "\n",
    "- Étudiez la convergence de distribution pour une chaîne qui comporte des états transitoires et une seule classe récurrente.\n",
    "Il va converge à mesure proba inv de classe récurrente et les restes sont 0"
   ]
  },
  {
   "cell_type": "code",
   "execution_count": null,
   "metadata": {},
   "outputs": [],
   "source": [
    "# écrire votre code ici\n"
   ]
  },
  {
   "cell_type": "markdown",
   "metadata": {},
   "source": [
    "#### Remarque :\n",
    "Pour éviter des calculs de puissance d'une grosse matrice, on pourrait laisser évoluer la chaine de Markov pendant un certain temps et *compter* la proportion du temps passé dans chaque état."
   ]
  },
  {
   "cell_type": "markdown",
   "metadata": {},
   "source": [
    "## 4- Application"
   ]
  },
  {
   "cell_type": "markdown",
   "metadata": {},
   "source": [
    "France TV a lancé fin 2020 sa plate-forme de streaming, \"Salto\".\n",
    "Ils devaient se faire une place entre Netflix et Disney+, les plus gros intervenant du secteur.\n",
    "\n",
    "On suppose que la distribution des parts de marché est comme suit:\n",
    "\n",
    "$$\n",
    "\\begin{array}{c|cccc}\n",
    "Service & Netflix & Disney+ & Salto & SansAbonnement \\\\\n",
    "\\hline\n",
    "parts \\  de \\  marché & .55 & .2 & .1 & .15\n",
    "\\end{array}\n",
    "$$\n",
    "\n",
    "Disney+ s'inquettent alors de l'évolution du marché s'ils ne font rien. Ils contactent une agence de publicité. L'agence leur indique qu'avec la campagne qu'elle leur propose, les abonnées des différentes plateforme passeront, chaque semaine d'une plateforme à l'autre selon ce qu'indique la matrice suivante : \n",
    "\n",
    "$$\n",
    "\\begin{array}{c|cccc}\n",
    " & Netflix & Disney+ & Salto & SansAbonnement \\\\\n",
    " \\hline \n",
    "Netflix& 0.9262 & 0.0385 & 0.01&  0.0253 \\\\\n",
    "Disney+&0.01& 0.94& 0.01& 0.04\\\\\n",
    "Salto&0.01& 0.03& 0.92& 0.04\\\\\n",
    "SansAbonnement&0.035& 0.035& 0.035& 0.895              \n",
    "\\end{array}\n",
    "$$\n",
    "C'est à dire qu'un usager de Netflix a 92.62 \\% de chances de continuer à rester sur Netflix dans la semaine, 3,85\\% de chances de passer chez Disney+, 1\\% de chance de passer chez Salto etc.\n",
    "\n",
    "\n",
    "### Exercice 6:\n",
    "\n",
    "- Simuler le comportement de $N$ abonnées après trois semaines de campagne\n",
    "- Calculer la loi $X_n$"
   ]
  },
  {
   "cell_type": "code",
   "execution_count": null,
   "metadata": {},
   "outputs": [],
   "source": [
    "# écrire votre code ici\n",
    "P = [[.9262,.0385,.01,.0253],\n",
    "    [.01,.94,.01,.04],\n",
    "    [.01,.03,.92,.04],\n",
    "    [.035,.035,.035,.895]]\n",
    "loi = [.55,.2,.1,.15]\n"
   ]
  },
  {
   "cell_type": "markdown",
   "metadata": {},
   "source": [
    "## 5- Cas d'une chaine de Markov sur un espace infini."
   ]
  },
  {
   "cell_type": "markdown",
   "metadata": {},
   "source": [
    "Dans cette dernère partie, on s'intéresse à une chaine de Markov sur un espace d'état infini. \n",
    "\n",
    "### Exercice  7 : \n",
    "- Simuler la marche aléatoire (partant de 0) sur $\\mathbb{N}$ à l'aide d'une suite de Rademacher:\n",
    "$$\n",
    "\\mathbb{P}(X_n= 1)=p = 1-\\mathbb{P}(X_n= -1).\n",
    "$$\n",
    "\n",
    "- Comparer les comportements de la chaine pour $p<1/2$, pour  $p>1/2$ et pour $p=1/2$.\n",
    "- Représenter graphiquement ces 3 cas.\n",
    "\n",
    "Pour simuler les v.a. de Rademacher, on peut (mais on n'est pas obligé) d'utiliser le conversion des boléens en entier : $$ True*1= 1~~\\textrm{et}~~False*1 =0.$$"
   ]
  },
  {
   "cell_type": "code",
   "execution_count": null,
   "metadata": {},
   "outputs": [],
   "source": [
    "# écrire votre code ici"
   ]
  },
  {
   "cell_type": "markdown",
   "metadata": {},
   "source": [
    "### Modèle de Stock \n",
    "\n",
    "On considère l'exemple de l'exercice 5 de la feuille de TD 2. \n",
    "On pourra utiliser sans preuve les résultats de cet exercice. Vous trouverez une version corrigée de l'exercice ainsi que le sujet de TD sous moodle.\n",
    "\n",
    "On note $X_n$ l'état d'un stock de pièces détachées à l'instant $n$, $D_{n+1}$ la demande (aléatoire) formulée par des clients, et on suppose qu'une seule pièce détachée est fabriquée entre les instants $n$ et $n+1$.\n",
    "\n",
    "L'état du stock à l'instant $n+1$ est alors\n",
    "$$X_{n+1} = \\max(X_n + 1 - D_{n+1},0).$$\n",
    "\n",
    "\n",
    "On suppose que $X_0 = 0$ (le stock est initialement vide) et que $(D_n)_{n \\geq 1}$ est une suite de v.a. indépendantes et de même loi que $D$, une v.a. à valeurs dans $\\{0,1,2\\}$:\n",
    "\n",
    "$$\n",
    "\\begin{array}{c|ccc}\n",
    "D & 0 & 1 & 2 \\\\\n",
    "\\hline\n",
    "\\mathbb{P}(D=k) & p_0 & p_1 & p_2\n",
    "\\end{array}\n",
    "$$\n",
    "\n",
    "On suppose que les trois probabilités $p_0,p_1,p_2$ sont strictement positives, et $p_2 \\ge p_1$.\n",
    "\n",
    "\n",
    "### Exercice 9 :\n",
    "\n",
    "- Simuler cette chaine de Markov (partant de 0)  pour différentes valeurs de $p_0,p_1,p_2$.\n"
   ]
  },
  {
   "cell_type": "code",
   "execution_count": null,
   "metadata": {},
   "outputs": [],
   "source": [
    "# écrire votre code ici"
   ]
  },
  {
   "cell_type": "markdown",
   "metadata": {},
   "source": [
    "- Étudier le cas $p_0=p_2$. \n",
    "- En question 5 de l'exercice 5, on montre que si $p_0 < p_2$,\n",
    "$$\n",
    "\\mu(k) = \\left(\\frac{p_0}{p_2}\\right)^k\n",
    "$$\n",
    "est une mesure invariante pour la chaine. \n",
    "\n",
    "\n",
    "- Comparer le vecteur des fréquences empiriques avec la probablité invariante."
   ]
  },
  {
   "cell_type": "code",
   "execution_count": null,
   "metadata": {},
   "outputs": [],
   "source": [
    "# écrire votre code ici"
   ]
  },
  {
   "cell_type": "markdown",
   "metadata": {},
   "source": [
    "On définit la variable aléatoire: \n",
    "\n",
    "$$\n",
    "T= \\inf\\{n \\ge 1; X_n=0 \\}.\n",
    "$$\n",
    "\n",
    "- Que représente $T$?\n",
    "\n",
    "- Simuler une réalisation de T et afficher l'évolution de la chaîne au cours du temps."
   ]
  },
  {
   "cell_type": "code",
   "execution_count": null,
   "metadata": {},
   "outputs": [],
   "source": [
    "# écrire votre code ici"
   ]
  },
  {
   "cell_type": "markdown",
   "metadata": {},
   "source": [
    "- Calculer numériquement $\\mathbb{E}[T]$ pour $p_0<p_2$ \n",
    "- Comparer avec la valeur théorique."
   ]
  },
  {
   "cell_type": "code",
   "execution_count": null,
   "metadata": {},
   "outputs": [],
   "source": [
    "# écrire votre code ici"
   ]
  }
 ],
 "metadata": {
  "kernelspec": {
   "display_name": "Python 3 (ipykernel)",
   "language": "python",
   "name": "python3"
  },
  "language_info": {
   "codemirror_mode": {
    "name": "ipython",
    "version": 3
   },
   "file_extension": ".py",
   "mimetype": "text/x-python",
   "name": "python",
   "nbconvert_exporter": "python",
   "pygments_lexer": "ipython3",
   "version": "3.9.13"
  }
 },
 "nbformat": 4,
 "nbformat_minor": 2
}
