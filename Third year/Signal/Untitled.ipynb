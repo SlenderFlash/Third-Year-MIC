{
 "cells": [
  {
   "cell_type": "markdown",
   "id": "b1bca379",
   "metadata": {},
   "source": [
    "# Feuille de TP n°3\n",
    "## UF Signal II: Vocoder de Phase et Séparation de sources"
   ]
  },
  {
   "cell_type": "markdown",
   "id": "e5aa1b64",
   "metadata": {},
   "source": [
    "### **1. Vocoder de phase**\n",
    "\n",
    " <br> Si on souhaite ralentir un son, une approche naive consiste à lire le vecteur plus lentement. Idem pour accelerer un son en modifiant la fréquence d’échantillonnage du signal considéré : tester ces différentes possibilités avec les outils proposés. Cette modification de la vitesse de lecture induit une modification du contenu fréquentiel\n",
    " du son. Le vocoder de phase est un outil qui permet de modifier la longueur du son sans altérer le contenu fréquentiel."
   ]
  },
  {
   "cell_type": "markdown",
   "id": "2176b958",
   "metadata": {},
   "source": [
    " <u>**1.1 Contenu du vocoder**</u>\n",
    " <br> Pour construire un vocoder de phase\n",
    " 1. On fenêtre le signal en trames.\n",
    " 2. On stocke dans deux tableaux, le module et la phase des *fft* des trames. Pour dilater ou comprimer un son, on interpole séparément le module et la phase sur chaque nouvelle trame.\n",
    " 3. On reconstruit le signal à partir des nouveaux tableaux de module et de phase.\n",
    " \n",
    "Le vocoder que nous proposons de construire est une fonction vocoder qui fait ainsi appel à 4 sous fonctions :\n",
    "1. ANALYSE qui calcule le spectrogramme et la phase d’un signal S.\n",
    "2. SYNTHESE qui reconstruit un signal Srec à partir d’un spectrogramme et d’un tableau de phase.\n",
    "3. INTERSPEC qui interpole le spectrogramme initial.\n",
    "4. INTERPHASE qui interpole la phase.\n",
    "Dans le programme vocoder, on choisira le signal et le facteur de compression ou de dilatation. vocoder crée un fichier .wav directement lisible."
   ]
  },
  {
   "cell_type": "markdown",
   "id": "6cb9bb09",
   "metadata": {},
   "source": [
    " <u>**1.2 Les programmes**</u>\n",
    " <br> **1.2.1 Analyse du son**\n",
    "         <br>Ecrire une fonction Analyse qui prend pour entrée un vecteur colonne S et un entier N et qui renvoie, deux tableaux Spec et Phase. La première ligne du programme est\n",
    " <br>*def Spec,Phase=Analyse(S,N):*\n",
    "         <br>   Dans l’analyse comme dans la synthèse on utilisera des fenêtres de taille N, décalées de N/8. En chaque point passeront ainsi 8 fenêtres. On tronquera le signal à un nombre entier de fenêtres, en pratique on prendra souvent N =1024. On pourra utiliser les notations suivantes\n",
    "- NS taille de S.\n",
    "- Nf nombre de fenêtres d’analyse.\n",
    "- H fenêtre de Hanning de taille N."
   ]
  },
  {
   "cell_type": "markdown",
   "id": "2ec45f99",
   "metadata": {},
   "source": [
    " ***Remarques :***\n",
    " - Nf=floor(8*NS/N) 7.\n",
    " - La fenêtre d’indice k commence à l’indice 1+(k - 1)N/8 et se termine à l’indice\n",
    " (k-1)N/8+N.\n",
    " - Ce programme peut être écrit en moins de 15 lignes."
   ]
  },
  {
   "cell_type": "code",
   "execution_count": 7,
   "id": "1db30630",
   "metadata": {},
   "outputs": [],
   "source": [
    "import numpy.fft as fft\n",
    "import numpy as np\n",
    "import matplotlib.pyplot as plt"
   ]
  },
  {
   "cell_type": "code",
   "execution_count": 40,
   "id": "1c43c13e",
   "metadata": {},
   "outputs": [],
   "source": [
    "def Analyse(S,N = 1024):\n",
    "    NS = len(S)\n",
    "    Nf = 8*NS//N-7\n",
    "    H = np.hanning(N)\n",
    "    Spec = np.zeros((Nf,N))\n",
    "    Phase = np.zeros((Nf,N))\n",
    "    for i in range(Nf):\n",
    "        window_signal = H * (S[0:N]+(i-1)*N//8)\n",
    "        fenetre = fft.fft(window_signal)\n",
    "        Spec[i] = np.abs(fenetre)\n",
    "        Phase[i] = np.angle(fenetre)\n",
    "    return Spec,Phase"
   ]
  },
  {
   "cell_type": "code",
   "execution_count": 45,
   "id": "906f0b97",
   "metadata": {},
   "outputs": [
    {
     "name": "stderr",
     "output_type": "stream",
     "text": [
      "C:\\Users\\caotr\\anaconda3\\lib\\site-packages\\matplotlib\\axes\\_axes.py:5513: VisibleDeprecationWarning: Creating an ndarray from ragged nested sequences (which is a list-or-tuple of lists-or-tuples-or ndarrays with different lengths or shapes) is deprecated. If you meant to do this, you must specify 'dtype=object' when creating the ndarray.\n",
      "  C = np.asanyarray(args[0])\n"
     ]
    },
    {
     "ename": "ValueError",
     "evalue": "could not broadcast input array from shape (25,1024) into shape (25,)",
     "output_type": "error",
     "traceback": [
      "\u001b[1;31m---------------------------------------------------------------------------\u001b[0m",
      "\u001b[1;31mValueError\u001b[0m                                Traceback (most recent call last)",
      "Cell \u001b[1;32mIn[45], line 7\u001b[0m\n\u001b[0;32m      5\u001b[0m s1[\u001b[38;5;241m3072\u001b[39m:] \u001b[38;5;241m=\u001b[39m np\u001b[38;5;241m.\u001b[39msin(\u001b[38;5;241m2\u001b[39m\u001b[38;5;241m*\u001b[39mnp\u001b[38;5;241m.\u001b[39mpi\u001b[38;5;241m*\u001b[39m\u001b[38;5;241m150\u001b[39m\u001b[38;5;241m*\u001b[39mnp\u001b[38;5;241m.\u001b[39marray(\u001b[38;5;28mrange\u001b[39m(\u001b[38;5;241m1024\u001b[39m))\u001b[38;5;241m/\u001b[39m\u001b[38;5;241m1024\u001b[39m)\n\u001b[0;32m      6\u001b[0m Spec,Phase \u001b[38;5;241m=\u001b[39m Analyse(s1)\n\u001b[1;32m----> 7\u001b[0m \u001b[43mplt\u001b[49m\u001b[38;5;241;43m.\u001b[39;49m\u001b[43mpcolormesh\u001b[49m\u001b[43m(\u001b[49m\u001b[43m(\u001b[49m\u001b[43mabscise\u001b[49m\u001b[43m,\u001b[49m\u001b[43mSpec\u001b[49m\u001b[43m)\u001b[49m\u001b[43m)\u001b[49m\n",
      "File \u001b[1;32m~\\anaconda3\\lib\\site-packages\\matplotlib\\pyplot.py:2730\u001b[0m, in \u001b[0;36mpcolormesh\u001b[1;34m(alpha, norm, cmap, vmin, vmax, shading, antialiased, data, *args, **kwargs)\u001b[0m\n\u001b[0;32m   2725\u001b[0m \u001b[38;5;129m@_copy_docstring_and_deprecators\u001b[39m(Axes\u001b[38;5;241m.\u001b[39mpcolormesh)\n\u001b[0;32m   2726\u001b[0m \u001b[38;5;28;01mdef\u001b[39;00m \u001b[38;5;21mpcolormesh\u001b[39m(\n\u001b[0;32m   2727\u001b[0m         \u001b[38;5;241m*\u001b[39margs, alpha\u001b[38;5;241m=\u001b[39m\u001b[38;5;28;01mNone\u001b[39;00m, norm\u001b[38;5;241m=\u001b[39m\u001b[38;5;28;01mNone\u001b[39;00m, cmap\u001b[38;5;241m=\u001b[39m\u001b[38;5;28;01mNone\u001b[39;00m, vmin\u001b[38;5;241m=\u001b[39m\u001b[38;5;28;01mNone\u001b[39;00m,\n\u001b[0;32m   2728\u001b[0m         vmax\u001b[38;5;241m=\u001b[39m\u001b[38;5;28;01mNone\u001b[39;00m, shading\u001b[38;5;241m=\u001b[39m\u001b[38;5;28;01mNone\u001b[39;00m, antialiased\u001b[38;5;241m=\u001b[39m\u001b[38;5;28;01mFalse\u001b[39;00m, data\u001b[38;5;241m=\u001b[39m\u001b[38;5;28;01mNone\u001b[39;00m,\n\u001b[0;32m   2729\u001b[0m         \u001b[38;5;241m*\u001b[39m\u001b[38;5;241m*\u001b[39mkwargs):\n\u001b[1;32m-> 2730\u001b[0m     __ret \u001b[38;5;241m=\u001b[39m gca()\u001b[38;5;241m.\u001b[39mpcolormesh(\n\u001b[0;32m   2731\u001b[0m         \u001b[38;5;241m*\u001b[39margs, alpha\u001b[38;5;241m=\u001b[39malpha, norm\u001b[38;5;241m=\u001b[39mnorm, cmap\u001b[38;5;241m=\u001b[39mcmap, vmin\u001b[38;5;241m=\u001b[39mvmin,\n\u001b[0;32m   2732\u001b[0m         vmax\u001b[38;5;241m=\u001b[39mvmax, shading\u001b[38;5;241m=\u001b[39mshading, antialiased\u001b[38;5;241m=\u001b[39mantialiased,\n\u001b[0;32m   2733\u001b[0m         \u001b[38;5;241m*\u001b[39m\u001b[38;5;241m*\u001b[39m({\u001b[38;5;124m\"\u001b[39m\u001b[38;5;124mdata\u001b[39m\u001b[38;5;124m\"\u001b[39m: data} \u001b[38;5;28;01mif\u001b[39;00m data \u001b[38;5;129;01mis\u001b[39;00m \u001b[38;5;129;01mnot\u001b[39;00m \u001b[38;5;28;01mNone\u001b[39;00m \u001b[38;5;28;01melse\u001b[39;00m {}), \u001b[38;5;241m*\u001b[39m\u001b[38;5;241m*\u001b[39mkwargs)\n\u001b[0;32m   2734\u001b[0m     sci(__ret)\n\u001b[0;32m   2735\u001b[0m     \u001b[38;5;28;01mreturn\u001b[39;00m __ret\n",
      "File \u001b[1;32m~\\anaconda3\\lib\\site-packages\\matplotlib\\__init__.py:1412\u001b[0m, in \u001b[0;36m_preprocess_data.<locals>.inner\u001b[1;34m(ax, data, *args, **kwargs)\u001b[0m\n\u001b[0;32m   1409\u001b[0m \u001b[38;5;129m@functools\u001b[39m\u001b[38;5;241m.\u001b[39mwraps(func)\n\u001b[0;32m   1410\u001b[0m \u001b[38;5;28;01mdef\u001b[39;00m \u001b[38;5;21minner\u001b[39m(ax, \u001b[38;5;241m*\u001b[39margs, data\u001b[38;5;241m=\u001b[39m\u001b[38;5;28;01mNone\u001b[39;00m, \u001b[38;5;241m*\u001b[39m\u001b[38;5;241m*\u001b[39mkwargs):\n\u001b[0;32m   1411\u001b[0m     \u001b[38;5;28;01mif\u001b[39;00m data \u001b[38;5;129;01mis\u001b[39;00m \u001b[38;5;28;01mNone\u001b[39;00m:\n\u001b[1;32m-> 1412\u001b[0m         \u001b[38;5;28;01mreturn\u001b[39;00m func(ax, \u001b[38;5;241m*\u001b[39m\u001b[38;5;28mmap\u001b[39m(sanitize_sequence, args), \u001b[38;5;241m*\u001b[39m\u001b[38;5;241m*\u001b[39mkwargs)\n\u001b[0;32m   1414\u001b[0m     bound \u001b[38;5;241m=\u001b[39m new_sig\u001b[38;5;241m.\u001b[39mbind(ax, \u001b[38;5;241m*\u001b[39margs, \u001b[38;5;241m*\u001b[39m\u001b[38;5;241m*\u001b[39mkwargs)\n\u001b[0;32m   1415\u001b[0m     auto_label \u001b[38;5;241m=\u001b[39m (bound\u001b[38;5;241m.\u001b[39marguments\u001b[38;5;241m.\u001b[39mget(label_namer)\n\u001b[0;32m   1416\u001b[0m                   \u001b[38;5;129;01mor\u001b[39;00m bound\u001b[38;5;241m.\u001b[39mkwargs\u001b[38;5;241m.\u001b[39mget(label_namer))\n",
      "File \u001b[1;32m~\\anaconda3\\lib\\site-packages\\matplotlib\\axes\\_axes.py:6058\u001b[0m, in \u001b[0;36mAxes.pcolormesh\u001b[1;34m(self, alpha, norm, cmap, vmin, vmax, shading, antialiased, *args, **kwargs)\u001b[0m\n\u001b[0;32m   6055\u001b[0m shading \u001b[38;5;241m=\u001b[39m shading\u001b[38;5;241m.\u001b[39mlower()\n\u001b[0;32m   6056\u001b[0m kwargs\u001b[38;5;241m.\u001b[39msetdefault(\u001b[38;5;124m'\u001b[39m\u001b[38;5;124medgecolors\u001b[39m\u001b[38;5;124m'\u001b[39m, \u001b[38;5;124m'\u001b[39m\u001b[38;5;124mnone\u001b[39m\u001b[38;5;124m'\u001b[39m)\n\u001b[1;32m-> 6058\u001b[0m X, Y, C, shading \u001b[38;5;241m=\u001b[39m \u001b[38;5;28;43mself\u001b[39;49m\u001b[38;5;241;43m.\u001b[39;49m\u001b[43m_pcolorargs\u001b[49m\u001b[43m(\u001b[49m\u001b[38;5;124;43m'\u001b[39;49m\u001b[38;5;124;43mpcolormesh\u001b[39;49m\u001b[38;5;124;43m'\u001b[39;49m\u001b[43m,\u001b[49m\u001b[43m \u001b[49m\u001b[38;5;241;43m*\u001b[39;49m\u001b[43margs\u001b[49m\u001b[43m,\u001b[49m\n\u001b[0;32m   6059\u001b[0m \u001b[43m                                    \u001b[49m\u001b[43mshading\u001b[49m\u001b[38;5;241;43m=\u001b[39;49m\u001b[43mshading\u001b[49m\u001b[43m,\u001b[49m\u001b[43m \u001b[49m\u001b[43mkwargs\u001b[49m\u001b[38;5;241;43m=\u001b[39;49m\u001b[43mkwargs\u001b[49m\u001b[43m)\u001b[49m\n\u001b[0;32m   6060\u001b[0m coords \u001b[38;5;241m=\u001b[39m np\u001b[38;5;241m.\u001b[39mstack([X, Y], axis\u001b[38;5;241m=\u001b[39m\u001b[38;5;241m-\u001b[39m\u001b[38;5;241m1\u001b[39m)\n\u001b[0;32m   6061\u001b[0m \u001b[38;5;66;03m# convert to one dimensional array\u001b[39;00m\n",
      "File \u001b[1;32m~\\anaconda3\\lib\\site-packages\\matplotlib\\axes\\_axes.py:5513\u001b[0m, in \u001b[0;36mAxes._pcolorargs\u001b[1;34m(self, funcname, shading, *args, **kwargs)\u001b[0m\n\u001b[0;32m   5510\u001b[0m     shading \u001b[38;5;241m=\u001b[39m \u001b[38;5;124m'\u001b[39m\u001b[38;5;124mauto\u001b[39m\u001b[38;5;124m'\u001b[39m\n\u001b[0;32m   5512\u001b[0m \u001b[38;5;28;01mif\u001b[39;00m \u001b[38;5;28mlen\u001b[39m(args) \u001b[38;5;241m==\u001b[39m \u001b[38;5;241m1\u001b[39m:\n\u001b[1;32m-> 5513\u001b[0m     C \u001b[38;5;241m=\u001b[39m \u001b[43mnp\u001b[49m\u001b[38;5;241;43m.\u001b[39;49m\u001b[43masanyarray\u001b[49m\u001b[43m(\u001b[49m\u001b[43margs\u001b[49m\u001b[43m[\u001b[49m\u001b[38;5;241;43m0\u001b[39;49m\u001b[43m]\u001b[49m\u001b[43m)\u001b[49m\n\u001b[0;32m   5514\u001b[0m     nrows, ncols \u001b[38;5;241m=\u001b[39m C\u001b[38;5;241m.\u001b[39mshape\n\u001b[0;32m   5515\u001b[0m     \u001b[38;5;28;01mif\u001b[39;00m shading \u001b[38;5;129;01min\u001b[39;00m [\u001b[38;5;124m'\u001b[39m\u001b[38;5;124mgouraud\u001b[39m\u001b[38;5;124m'\u001b[39m, \u001b[38;5;124m'\u001b[39m\u001b[38;5;124mnearest\u001b[39m\u001b[38;5;124m'\u001b[39m]:\n",
      "\u001b[1;31mValueError\u001b[0m: could not broadcast input array from shape (25,1024) into shape (25,)"
     ]
    },
    {
     "data": {
      "image/png": "[encoded data removed]",
      "text/plain": [
       "<Figure size 640x480 with 1 Axes>"
      ]
     },
     "metadata": {},
     "output_type": "display_data"
    }
   ],
   "source": [
    "T = 16\n",
    "s1 = np.zeros(4096)\n",
    "abscise = range(8*len(s1)//1024-7)\n",
    "s1[0:3072] = np.sin(2*np.pi*200*np.array(range(3072))/1024)\n",
    "s1[3072:] = np.sin(2*np.pi*150*np.array(range(1024))/1024)\n",
    "Spec,Phase = Analyse(s1)\n",
    "plt.pcolormesh((abscise,Spec))\n"
   ]
  },
  {
   "cell_type": "markdown",
   "id": "7a85758e",
   "metadata": {},
   "source": [
    " <u>**1.3 Synthèse du son**</u>\n",
    " Ecrire une fonction Synthese qui prend en entrée deux tableaux, un de module Spec et un de phase Phase et qui renvoie un vecteur Srec. La première ligne du programme est\n",
    " <br> def synthese(Spec,Phase):\n",
    "***Remarques***\n",
    "- Il est plus facile de partir d’un vecteur Srec nul et d’y ajouter chaque fenêtre que de parcourir les points un à un et de sommer les contributions des 8 fenêtres associées au point.\n",
    "- On n’oubliera pas de fenêtrer avec une fenêtre de Hanning, les trames reconstruites.\n",
    "- Ceprogramme peut également être écrit en moins de 15 lignes.\n",
    " <u>**1.4 Interpolation du spectre**</u>\n",
    "<br> Ecrire une fonction InterpSpec qui prend en entrée, un spectrogramme Spec et un vecteur colonne T contenant les “indices réels” des nouvelles fenêtres à construire et qui renvoie le tableau Spec2 du spectrogamme interpolé. Les valeurs de T doivent varier entre 1 et Nf 1. La première ligne du programme est\n",
    " <br>*def InterpSpec(Spec,T):*\n",
    " ***Remarques***\n",
    "- Lenombre de fenêtres de Spec2 est égal à la longueur de T\n",
    "- Lacolonne d’indice k de Spec2 correspond à la colonne d’indice réel T(k) de Spec. Elle se calcule à partir des colonnes de Spec d’indices floor(T(k)) et floor(T(k)) + 1.\n",
    " <u> **1.5 Calcul de la phase**</u>\n",
    " <br> Ecrire un programme InterpPhase qui prend en entrée un tableau de phase Phase et un vecteur T contenant es indices \"réels\" des nouvelles fenêtre et qui renvoie le tableau de phase Phase2 associé à ce jeu de fenêtre.\n",
    " <br> La première ligne du programme est\n",
    " <br>*def InterpPhase(Phase,T):*\n",
    " <br> Le calcul de la phase est le point le plus délicat du vocoder de phase. Pour que le son reconstruit soit le plus fidèle possible au son original, la phase associée à chaque fréquence doit varier à la même vitesse que sur le son original.\n",
    " <br> Comme dans le programme précédent, la colonne d’indice k de Phase2 correspond à la colonne d’indice réel T(k) dans le tableau Phase. Cette colonne Phase2(:;k) doit être construite de telle sorte que la variation de phase locale entre les deux tableaux soit proche :\n",
    " <br>Phase2(:;k) Phase2(:;k 1) = Phase(:;floor(T(k))) Phase(:;floor(T(k)) 1)\n",
    " <u>**1.6 Le Vocoder**</u>\n",
    " <br> On appellera par exemple Vocoder la fonction principale. Elle prend en entrée un fichier .wav et un facteur de dilatation alpha.\n",
    " - On analyse le son grâce à la fonction Analyse.\n",
    " - Oncrée un vecteur T qui contiendra les \"indices réels\" des fenêtres associées au signal reconstruit.\n",
    " T= [1:alpha:Nf-1];\n",
    " - Oninterpole le spectre et on calcule la phase avec les fonctions InterpSpec et InterpPhase.\n",
    " - Onreconstruit le son avec la fonction Synthese .\n",
    " - On crée un fichier .wav associé au vecteur reconstruit avec la fonction wv.write"
   ]
  },
  {
   "cell_type": "markdown",
   "id": "4db829e1",
   "metadata": {},
   "source": [
    "### 2 Séparation de sources\n",
    "- Le but de cette section est de séparer différentes sources à partir d’un enregistrement stéréophonique en exploitant les différences d’intensités des différentes sources entre les deux voix. Cette différence entre les voix peut être due par exemple aux différentes positions des instruments au moment de l’enregistrement si l’on suppose que chacune des voix est acquise par deux micros placés à des endroits différents.\n",
    "- Nous travaillerons sur des données mélangées artificiellement sans ajouts d’effets comme la réverberation. On parle de mélange instantané. Nous allons utiliser le spectrogramme vu lors du précédent TP.\n",
    "- On dispose de données stéréophoniques qui seront représentées sous python par une matrice S comportant deux lignes et NS colonnes. On considère que chacune des voix est une combinaison linéaire de pistes monointrumentales avec des coefficients différents. On peut ainsi voir S comme le produit d’une matrice de mélange M de taille 2n par une P de taille nNS contenant les n pistes instrumentales. Si n = 2 et qu’on connait la matrice M il est aisé d’effectuer la séparation juste par inversion de la matrice M.  - - Notre but ici est de développer une méthode fonctionnant sans connaissance de M et avec plus de deux sources. Néanmoins pour commencer nous supposerons que M est connue et nous utiliserons deux sources avant de passer à trois.\n",
    "- Pour ce faire nous supposerons qu’à chaque instant les différents instruments jouent à des fréquences différentes.\n",
    "- Pour chaque fréquence instantanée, nous allons comparer les deux voies et en fonction du rapport d’intensité entre les deux voix attribuer la fréquence instantanée l’un ou l’autre des instruments."
   ]
  },
  {
   "cell_type": "code",
   "execution_count": 67,
   "id": "abc9de54",
   "metadata": {},
   "outputs": [],
   "source": [
    "def calc_hanning(m,n):\n",
    "    return .5*(1 - np.cos(2*np.pi*np.linspace(1,m,m)/(n+1))) \n",
    "\n",
    "def hanning(n):\n",
    "    if (n%2) == 0:\n",
    "        # Even length window\n",
    "        half = n//2\n",
    "        w = calc_hanning(half,n)\n",
    "        w = np.concatenate((w,w[::-1]))\n",
    "    else:\n",
    "        # Odd length window\n",
    "        half = (n+1)//2\n",
    "        w = calc_hanning(half,n)\n",
    "        z=w[::-1]\n",
    "        w = np.concatenate((w,z[1:]))\n",
    "    return w\n",
    "def InterpSpec(Spec,T):\n",
    "    N=Spec.shape[0]\n",
    "    Nf2=T.shape[0]\n",
    "    Spec2=np.zeros((N,Nf2))\n",
    "    for k in range(Nf2):\n",
    "        t=T[k]\n",
    "        indice1=int(np.floor(t))\n",
    "        alpha=t-indice1\n",
    "        Spec2[:,k]=(1-alpha)*Spec[:,indice1]+alpha*Spec[:,indice1+1]\n",
    "    return Spec2\n",
    "\n",
    "def Synthese(Spec,Phase):\n",
    "    N=Spec.shape[0]\n",
    "    Nf=Spec.shape[1]\n",
    "    Srec=np.zeros((Nf+7)*N//8)\n",
    "    H=hanning(N)\n",
    "    for k in range(Nf):\n",
    "        ftemp=Spec[:,k]*np.exp(1j*Phase[:,k])\n",
    "        temp=np.real(fft.ifft(ftemp))\n",
    "        Srec[k*N//8:(k+8)*N//8]=Srec[k*N//8:(k+8)*N//8]+H*temp\n",
    "    Srec=Srec/4\n",
    "    return Srec\n",
    "\n",
    "def InterpPhase(Phase,T):\n",
    "    N=Phase.shape[0]\n",
    "    Nf2=T.shape[0]\n",
    "    Phase2=np.zeros((N,Nf2))\n",
    "    t0=T[0]\n",
    "    indice1=int(np.floor(t0))\n",
    "    Phase2[:,0]=Phase[:,indice1]\n",
    "    for k in range(1,Nf2):\n",
    "        t=T[k]\n",
    "        indice1=int(np.floor(t))\n",
    "        dphase=Phase[:,indice1+1]-Phase[:,indice1]\n",
    "        Phase2[:,k]=Phase2[:,k-1]+dphase\n",
    "    return Phase2\n"
   ]
  },
  {
   "cell_type": "markdown",
   "id": "4fc5a782",
   "metadata": {},
   "source": [
    " ### 2.1 Séparation avec Matrice de mélange connue\n",
    " **2.1.1 Deux instruments**\n",
    " 1. A l’aide de la commande wv.read charger les deux sons Mix11.wav et Mix21.wav dans deux vecteurs Smix11 et Smix21.\n",
    " Ces deux mélanges ont été obtenus à partir de deux sources S1 et S2 en faisant :\n",
    " Smix11 = S1/3 + 2S2/3 et Smix12 = 2S1/3 + S2/3.\n",
    " 2. Calculer et visualiser les spectrogrammes ainsi que les tableaux de phases de Smix11 et Smix21 à l’aide\n",
    " des programmes effectués lors du TP 2. On prendra un recouvrement de 7/8 de fenêtre et des fenêtres de 2000 points.\n",
    " 3. Ecrire un programme Separation\n",
    " <br>*def Separation(Spec1,Spec2,T):*\n",
    " <br>qui prend en entrée les deux spectrogrammes Spec1 et Spec2 et qui renvoie deux spectrogrammes Spec3\n",
    " et Spec4 tels que Spec4(i;j) = Spec1(i;j) si Spec1(i;j) >= T*Spec2(i;j) et Spec3(i;j) = Spec2(i;j) sinon.\n",
    " On pourra se contenter de traiter la moitié basse des basses fréquences si on veut limiter le temps de\n",
    " calcul.\n",
    " 4. Quelle valeur de T vous semble pertinente pour ce mélange particulier?\n",
    " 5. Ecrire une fonction qui en fonction des paramètres du mélange vous donne une valeur raisonnable de T.\n",
    " 6. Ecrire un programme qui reconstruit les signaux séparés à partir de Spec3 et Spec4 et des tableaux de phases. Tester les deux tableaux de phases. Que pensez vous?\n",
    " 7. Comme on connait les coefficients utilisés dans le mélange, peut-on réaliser une séparation parfaite dans ce cas? Comment?\n",
    " "
   ]
  },
  {
   "cell_type": "code",
   "execution_count": 62,
   "id": "8b75495c",
   "metadata": {
    "scrolled": true
   },
   "outputs": [],
   "source": [
    "import scipy.io.wavfile as wv\n",
    "Freq1, Signal1 = wv.read('Mix11.wav')\n",
    "Freq2, Signal2 = wv.read('Mix21.wav')"
   ]
  },
  {
   "cell_type": "code",
   "execution_count": 60,
   "id": "778cbdb3",
   "metadata": {},
   "outputs": [
    {
     "data": {
      "image/png": "[encoded data removed]",
      "text/plain": [
       "<Figure size 640x480 with 2 Axes>"
      ]
     },
     "metadata": {},
     "output_type": "display_data"
    }
   ],
   "source": [
    "FeSon=Freq\n",
    "s=Signal\n",
    "N=len(s)\n",
    "p=2000#demi-largeur de fenêtre\n",
    "n=int(p*7/8) #recouvrement temporel\n",
    "T=2.*p/FeSon #Largeur temporelle de la fenêtre\n",
    "F=np.arange(p)/T #Vecteur des fréquences observées\n",
    "#t=[] #vecteur des temps\n",
    "S=np.zeros(p) #matrice des coefficients de Fourier: \n",
    "    #on ne prend que la première moitié des coefficients, le signal étant réel\n",
    "w=np.hanning(2*p) #déclaration de la fenêtre: fenetre de Hanning\n",
    "#w=np.hamming(2*p) #\n",
    "\n",
    "#Calcul du spectrogramme\n",
    "for k in np.arange(p+1,N-p+1,n+p):\n",
    "    #t=np.hstack((t,[k/Fe])) #construction du vecteur temps\n",
    "    xw=w*s[k-p:k+p] #produit de la fenetre avec le signal\n",
    "    yw=fft.fft(xw)/len(xw) # transformée de Fourier\n",
    "    S=np.vstack((S,np.abs(yw[:p])))\n",
    "    \n",
    "#Représentation du spectrogramme    \n",
    "t=np.arange(p+1,N-p+1,n+p)/FeSon\n",
    "X,Y=np.meshgrid(t,F)      \n",
    "Z=S[1:,]\n",
    "\n",
    "\n",
    "CS=plt.contourf(X,Y,Z.T,10,cmap=plt.cm.bone)\n",
    "cbar=plt.colorbar(CS)\n",
    "\n",
    "plt.xlabel('temps')\n",
    "plt.ylabel('frequence')\n",
    "plt.title('Diagramme temps frequence')\n",
    "plt.show()"
   ]
  },
  {
   "cell_type": "code",
   "execution_count": 65,
   "id": "a15f2ce1",
   "metadata": {},
   "outputs": [],
   "source": [
    "def Separation(Spec1,Spec2,Phase1,Phase2,T):\n",
    "    Spec3 = np.zeros(Spec1.shape)\n",
    "    Spec4 = np.zeros(Spec2.shape)\n",
    "    Phase3 = np.zeros(Spec2.shape)\n",
    "    Phase4 = np.zeros(Spec2.shape)\n",
    "    for i in range(Spec1.shape[0]):\n",
    "        for j in range(Spec1.shape[1]):\n",
    "            if Spec1[i,j]>=T*Spec2[i,j]:\n",
    "                Spec4[i,j] = Spec1[i,j]\n",
    "                Phase4[i,j] = Phase1[i,j]\n",
    "            else:\n",
    "                Spec3[i,j] = Spec2[i,j]\n",
    "                Phase3[i,j] = Phase2[i,j]\n",
    "    return Spec3,Spec4,Phase3,Phase4"
   ]
  },
  {
   "cell_type": "code",
   "execution_count": 68,
   "id": "57b9d186",
   "metadata": {},
   "outputs": [],
   "source": [
    "Spec1,Phase1 = Analyse(Signal1)\n",
    "Spec2,Phase2 = Analyse(Signal2)\n",
    "Spec3,Spec4,Phase3,Phase4 = Separation(Spec1,Spec2,Phase1,Phase2,1)\n",
    "Signal3 = Synthese(Spec3,Phase3)\n",
    "wv.write(\"Essai-Vocoder3.wav\",Freq1,Signal3)\n",
    "Signal4 = Synthese(Spec4,Phase4)\n",
    "wv.write(\"Essai-Vocoder4.wav\",Freq1,Signal4)"
   ]
  },
  {
   "cell_type": "markdown",
   "id": "6afa6348",
   "metadata": {},
   "source": [
    "<br>**2.1.2 Trois instruments (pour aller plus loin)**\n",
    " 8. Charger les mélanges Mix12.wav et Mix22.wav. On a ici\n",
    " Smix12 = 0:4 S1+0:2 S2+0:8 S3 et Smix22=0:6 S1+0:8 S2+0:2 S3\n",
    " 9. Calculer et visualiser les tableaux de phases de Smix12 et Smix22.\n",
    " 10. Ecrire un programme Separation2\n",
    " def Separation2(Spec1,Spec2,T):\n",
    " qui renvoie 3 spectrogrammes et où T est un vecteur à 2 composantes qui va séparer en 3 les deux spectro\n",
    "grammes en attribuant les fréquences instantanées en fonctions des rapports des fréquences instantanées\n",
    " de Spec1 et Spec2.\n",
    " 11. Ecrire un programme qui estime des valeurs raisonables de T(1) et T(2) en fonction des paramètres du\n",
    " mélange.\n",
    " 12. Reconstruire les trois sons à partir de Spec3, Spec4 et Spec5 et des tableaux de phases.\n",
    " 13. De même avec 4 sons si vous avez le courage.\n",
    " 3\n",
    "2.2 Estimation de la matrice de mélange (pour aller plus loin)\n",
    " Supposons maintenant que la matrice de mélange soit inconnue. Comment faire?\n",
    " 14. Ecrire un programme\n",
    " def vectoriser(Spec1,Spec2,N):\n",
    " qui prend en entrée deux spectrogrammes et un entier N qui renvoie un vecteur S de taille 2 N contenant\n",
    " les pairs d’intensités les plus energétiques des spectrogrammes. Ce programme doit aussi afficher sous\n",
    " forme de nuage de point ces différentes paires.\n",
    " On peut espérer que ces points seront principalement alignés le long de n droites où n est le nombre de\n",
    " sources.\n",
    " 15. Tester le programme précédent sur les deux jeux de mélanges utilisés.\n",
    " 16. Comment interpréter ces droites? A quoi correspond un point sur une des droites? A quoi correspond\n",
    " un point en dehors de ces droites? Comment sont liés les coefficients directeurs de ces droites et les\n",
    " coefficients du mélange?\n",
    " 17. Ecrire un programme\n",
    " def Direction(S,nbinstru):\n",
    " qui à partir de S et d’un nombre nbinstru d’instruments renvoie une estimation des coefficients de\n",
    " mélange. On pourra calculer les N rapports d’intensités et utiliser les pics de l’histogramme de ces\n",
    " rapports.\n",
    " 18. Ecrire un programme qui à partir de deux mélanges et d’un nombre d’instruments, reconstruit les fichiers\n",
    " wav des différentes sources."
   ]
  },
  {
   "cell_type": "code",
   "execution_count": null,
   "id": "ecee8b57",
   "metadata": {},
   "outputs": [],
   "source": []
  }
 ],
 "metadata": {
  "kernelspec": {
   "display_name": "Python 3 (ipykernel)",
   "language": "python",
   "name": "python3"
  },
  "language_info": {
   "codemirror_mode": {
    "name": "ipython",
    "version": 3
   },
   "file_extension": ".py",
   "mimetype": "text/x-python",
   "name": "python",
   "nbconvert_exporter": "python",
   "pygments_lexer": "ipython3",
   "version": "3.9.13"
  }
 },
 "nbformat": 4,
 "nbformat_minor": 5
}
