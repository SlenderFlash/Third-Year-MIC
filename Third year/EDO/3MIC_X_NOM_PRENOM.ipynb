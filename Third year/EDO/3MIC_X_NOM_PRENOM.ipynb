{
 "cells": [
  {
   "cell_type": "markdown",
   "metadata": {},
   "source": [
    "# Préambule\n",
    "Avant toute chose, veuillez renommer ce notebook en mettant vos Prénoms, Noms et numéro de groupe (à la place de la lettre X). Par exemple, pour Jérémy Dupont du groupe A, ça donne 3MIC_A_DUPONT_JEREMY\n",
    "\n",
    "Tous les exercices sont indépendants, vous devez respecter impérativement les noms des fonctions et des variables, le nombre de variable qu'elles prennent en entrée et en sortie. Vos codes doivent être efficaces et simples. \n",
    "Il existe des fonctions python qui répondent exactement aux exercices (il existe une LU, des algorithmes d'optimisation, etc...) Il va de soi que nous n'évaluons par votre capacité à renommer une fonction python existante mais bien à programmer par vous même. Cependant, certaines fonctions comme `linspace` ou `solve` sont autorisées si on ne vous demande pas explicitement de les reprogrammer. \n",
    "<div style=\"background-color:rgba(255, 0, 0, 0.1); padding:15px;\">\n",
    " Lorsque des réponses doivent être faites dans le texte, elles doivent apparaître dans une balise 'div' coloriée en rouge.\n",
    "</div>"
   ]
  },
  {
   "cell_type": "code",
   "execution_count": null,
   "metadata": {},
   "outputs": [],
   "source": [
    "# METTEZ TOUS VOS IMPORTS ICI\n",
    "import numpy as np\n",
    "import matplotlib.pyplot as plt"
   ]
  },
  {
   "cell_type": "markdown",
   "metadata": {},
   "source": [
    "# Exercice I : Autour de la fonction arctangente :\n",
    "La fonction arctangente est donnée par `np.arctan()`.\n",
    "\n",
    "Soit $f:x\\in \\mathbb{R}\\rightarrow \\arctan(x)+1$. On cherche à approximer \n",
    "$$I=\\int_0^1 f(x)dx$$\n",
    "On nous donne le vrai résultat de $I$ qui est\n",
    "$I=\\frac \\pi 4 +1 -\\frac{\\ln(2)}{2}$\n",
    "\n",
    "On se donne $(x_i)_{i=0,\\dots n}$, qui sont $n+1$ points différents qui vérifient\n",
    "$$0=x_0<x_1<\\dots<x_{n}=1 \\quad (1)$$\n",
    "supposera que $[0,1[$ est partitionné en $n$ intervalles de la forme $[x_i,x_{i+1}[$ avec $i=0,\\dots n-1$.\n",
    "\n",
    "### Question I-1 : Création des points\n",
    "On se donne ci-dessous donne une fonction `alea(n)` qui calcule `n+1` points qui vérifient $(1)$. Comment sont choisis ces points ?"
   ]
  },
  {
   "cell_type": "markdown",
   "metadata": {},
   "source": [
    "<div style=\"background-color:rgba(255, 0, 0, 0.1); padding:15px;\">\n",
    "Votre réponse ici\n",
    "</div>"
   ]
  },
  {
   "cell_type": "code",
   "execution_count": null,
   "metadata": {},
   "outputs": [],
   "source": [
    "def alea(n) :\n",
    "    x=np.zeros(n+1)\n",
    "    x[1:n]=np.sort(np.random.uniform(0,1,size=n-1))\n",
    "    x[-1]=1\n",
    "    return x\n",
    "print(alea(5))"
   ]
  },
  {
   "cell_type": "markdown",
   "metadata": {},
   "source": [
    "### Question I-2 : Méthode des Trapèzes\n",
    "Implémentez une fonction `Trapeze(x)` qui calcule l'approximation de $I$ par méthode des trapèzes si les points sont donnés par `x`. Pour vérifier vos calculs, vous comparerez avec la vraie valeur `I_vraie` donnée par $=\\frac \\pi 4 +1 -\\frac{\\ln(2)}{2}$."
   ]
  },
  {
   "cell_type": "code",
   "execution_count": null,
   "metadata": {},
   "outputs": [],
   "source": [
    "def Trapeze(x) :\n",
    "    return None"
   ]
  },
  {
   "cell_type": "code",
   "execution_count": null,
   "metadata": {},
   "outputs": [],
   "source": [
    "np.random.seed(42)\n",
    "x=alea(100)\n",
    "I_approx=Trapeze(x)\n",
    "I_vraie = 0. ## CHANGE HERE\n",
    "print(I_approx,I_vraie)"
   ]
  },
  {
   "cell_type": "markdown",
   "metadata": {},
   "source": [
    "### Question I-3 : Calcul de l'erreur\n",
    "Implémentez une fonction `Err_alea()` qui rend `n` et `err` deux tableaux de taille `8`.\n",
    "Pour tout $i=0,\\dots,7$  `err[i]` est l'erreur relative entre `I_vraie` et le résultat de `Trapeze(x)` où `x` est donné par `alea(n)` avec $n=10^{i}$."
   ]
  },
  {
   "cell_type": "code",
   "execution_count": null,
   "metadata": {},
   "outputs": [],
   "source": [
    "def Err_alea() :\n",
    "    return n,err"
   ]
  },
  {
   "cell_type": "markdown",
   "metadata": {},
   "source": [
    "Implémentez maintenant une fonction `Err_equi()` qui rend `n` et `err` deux tableaux de taille `8`. \n",
    "Pour tout $i=0,\\dots,7$  `err[i]` est l'erreur relative entre `I_vraie` et le résultat de `Trapeze(x)` où `x` est donné par un découpage uniforme de $[0,1]$ par $n$ intervalles avec $n=10^{i}$."
   ]
  },
  {
   "cell_type": "code",
   "execution_count": null,
   "metadata": {},
   "outputs": [],
   "source": [
    "def Err_equi() :\n",
    "    return n,err"
   ]
  },
  {
   "cell_type": "markdown",
   "metadata": {},
   "source": [
    "### Question I-4 : Analyse des résultats\n",
    "\n",
    "Comparez sur un même graphique les erreurs données par `Err_equi()` et `Err_alea()`. Vous devrez mettre des échelles `log` là où cela est pertinent et mettre une légende. "
   ]
  },
  {
   "cell_type": "code",
   "execution_count": null,
   "metadata": {},
   "outputs": [],
   "source": [
    "## VOTRE CODE ICI"
   ]
  },
  {
   "cell_type": "markdown",
   "metadata": {},
   "source": [
    "Est-ce que les méthodes sont du même ordre ? Est-ce que une des deux méthode est meilleure que l'autre ? Quel est l'ordre de la méthode uniforme ?\n",
    "<div style=\"background-color:rgba(255, 0, 0, 0.1); padding:15px;\">\n",
    "</div>"
   ]
  },
  {
   "cell_type": "markdown",
   "metadata": {},
   "source": [
    "# Exercice II : Autour de la fonction arctangente (encore)\n",
    "\n",
    "### Question II-1 : Question facile\n",
    "Soit $f$ la fonction $f(x)=\\arctan(x)+1$. On cherche à résoudre l'équation $f(x)=x$. On sait qu'il existe une seule et unique solution dans $[1,3]$. \n",
    "Implémentez :\n",
    "1. Une fonction `f(x)` qui rend  $\\arctan(x)+1$.\n",
    "2. Une fonction `df(x)` qui rend  la dérivée de $x\\mapsto \\arctan(x)+1$."
   ]
  },
  {
   "cell_type": "code",
   "execution_count": null,
   "metadata": {},
   "outputs": [],
   "source": [
    "def f(x) :\n",
    "    return None\n",
    "def df(x) :\n",
    "    return None\n",
    "print(f(1.32),df(1.32)) # 1.9224643377076358 0.3646441073512252"
   ]
  },
  {
   "cell_type": "markdown",
   "metadata": {},
   "source": [
    "### Question II-2 : Méthode de point fixe\n",
    "Implémentez une méthode de point fixe pour résoudre $f(x)=x$. On appelle `pt_fixe(n)` cette fonction, elle doit rendre dans un tableau de taille `n+1` toutes les résultats des `n` itérations de l'algorithme de point fixe. Vous partirez du point initial $x_0=2$."
   ]
  },
  {
   "cell_type": "code",
   "execution_count": null,
   "metadata": {},
   "outputs": [],
   "source": [
    "def pt_fixe(n) :\n",
    "    return None\n",
    "\n",
    "print(pt_fixe(3)) # [2.         2.10714872 2.12769485 2.13144182]"
   ]
  },
  {
   "cell_type": "markdown",
   "metadata": {},
   "source": [
    "### Question II-3 : Méthode de Newton.\n",
    "Implémentez une méthode de Newton pour résoudre $f(x)=x$. On appelle `newton(n)` cette fonction, elle doit rendre dans un tableau de taille `n+1` toutes les résultats des `n` itérations de l'algorithme de Newton. Vous partirez du point initial $x_0=2$.\n",
    "\n",
    "Faites attention, vous connaissez la méthode de Newton pour résoudre une équation de type $F(x)=0$. Il faut donc définir $F(x)=x-f(x)$ dans notre cas."
   ]
  },
  {
   "cell_type": "code",
   "execution_count": null,
   "metadata": {},
   "outputs": [],
   "source": [
    "def newton(n) :\n",
    "    return None\n",
    "\n",
    "print(newton(3)) # [2.         2.1339359  2.13226796 2.13226773]"
   ]
  },
  {
   "cell_type": "markdown",
   "metadata": {},
   "source": [
    "### Question II-4 : Analyse des résultats.\n",
    "Pour `n=30`, affichez l'évolution de $|f(x)-x|$ au cours des itérations pour la méthode du point fixe et pour la méthode de Newton. Discutez des résultats (ordre des méthodes, quelle méthode est la plus rapide ?)\n",
    "<div style=\"background-color:rgba(255, 0, 0, 0.1); padding:15px;\">\n",
    "Votre réponse ici\n",
    "</div>"
   ]
  },
  {
   "cell_type": "code",
   "execution_count": null,
   "metadata": {},
   "outputs": [],
   "source": [
    "# VOTRE CODE ICI"
   ]
  },
  {
   "cell_type": "markdown",
   "metadata": {},
   "source": [
    "# Exercice III : Optimisation\n",
    "\n",
    "On cherche à minimiser la fonction $f(x,y)=x^2(2+y)^5+y^{2024}$ par la méthode de Newton. On sait que cette fonction a un unique minimiseur local en $(0,0)$.\n",
    "\n",
    "### Question III-1 : Question presque facile\n",
    "\n",
    "Implémentez une fonction `def oracle(M)` qui rend `f,df,Hf` qui représentent respectivement la valeur de la fonction $f$ au point $M$, le gradient de $f$ au point $M$ et la Hessienne de $f$ au point $M$. Le gradient et la Hessienne seront des tableaux."
   ]
  },
  {
   "cell_type": "code",
   "execution_count": null,
   "metadata": {},
   "outputs": [],
   "source": [
    "def oracle(M) :\n",
    "    f=None\n",
    "    df=None\n",
    "    Hf=None\n",
    "    return f,df,Hf\n",
    "    \n",
    "f,df,Hf=oracle((0.7,0.99))\n",
    "print('f :',f) #f : 117.09868597491534\n",
    "print('df : ',df.shape,df) # df :  (2,) [334.56767421 195.81720362]\n",
    "print('Hf : ',Hf.shape,Hf) #Hf :  (2, 2) [[477.9538203  559.47771607]\n",
    " #                                        [559.47771607 261.96892764]]\n",
    "    "
   ]
  },
  {
   "cell_type": "markdown",
   "metadata": {},
   "source": [
    "### Question III-2 : Algorithme de Newton\n",
    "Implémentez une fonction `Newton(n)` qui calcule `n` itérations de la méthode de minimisation de Newton. Cette fonction rend `x` et `cf` où `x` est la dernière estimation du minimiseur calculée et `cf` est un tableau qui contient toutes les valeurs de `f(x)` au cours des itérations. En comptant la première itération, `cf` est donc un tableau de taille `n+1`. On commencera au point $x_0=(\\frac 1 2,1)$"
   ]
  },
  {
   "cell_type": "code",
   "execution_count": null,
   "metadata": {},
   "outputs": [],
   "source": [
    "def Newton(n) :\n",
    "    return x,cf\n",
    "print(Newton(2)) # (array([3.22309781e-07, 9.99036306e-01]), array([61.75      ,  0.38650173,  0.14206697]))"
   ]
  },
  {
   "cell_type": "markdown",
   "metadata": {},
   "source": [
    "Tracez l'évolution de $f(x)$ en échelle semi-log pour `n=60` itérations. Commentez sur la vitesse de convergence de la méthode de Newton.\n",
    "\n",
    "<div style=\"background-color:rgba(255, 0, 0, 0.1); padding:15px;\">\n",
    "Votre réponse ici.\n",
    "</div>"
   ]
  },
  {
   "cell_type": "markdown",
   "metadata": {},
   "source": [
    "### Question III-3 : Algorithme de Gradient à recherche linéaire partielle\n",
    "L'objectif est de tester l'algorithme de Gradient à recherche linéaire partielle. On se donne un tableau de multiplicateurs $M=[1/10,1/5,1/2,1,2.01,5.01,10.]$.\n",
    "A chaque itération on itère $$x_{k+1}=x_k-s_{k+1}\\nabla f(x_k)$$\n",
    "Le choix de $s_{k+1}$ se fait selon la règle suivante :\n",
    "1. Pour tout $m \\in M$ on calcule $x_m=x_k-ms_k\\nabla f(x_k)$ puis on calcule $f(x_m)$\n",
    "2. On choisit le $m^\\star$ qui minimise $f(x_m)$ parmi tous les $m\\in M$.\n",
    "3. On choisit $s_{k+1}=m^\\star s_k$ et donc $x_{k+1}=x_{m^\\star}$.\n",
    "\n",
    "On rappelle les fonctions pour trouver le coefficient le plus petit dans un tableau et son indice correspondant dans les lignes de code suivantes.\n"
   ]
  },
  {
   "cell_type": "code",
   "execution_count": null,
   "metadata": {},
   "outputs": [],
   "source": [
    "import numpy as np\n",
    "t=np.array([0,4,3.5,-7,3.4])\n",
    "i=np.argmin(t)\n",
    "print('i=',i,' et t[i]=', t[i])"
   ]
  },
  {
   "cell_type": "markdown",
   "metadata": {},
   "source": [
    "Implémentez une fonction `Partial_LS(n)` qui calcule `n` itérations de la méthode de minimisation de Gradient à recherche linéaire partielle. Comme pour Newton, cette fonction rend `x` et `cf` où `x` est la dernière estimation du minimiseur calculée et `cf` est un tableau qui contient toutes les valeurs de `f(x)` au cours des itérations. En comptant la première itération, `cf` est donc un tableau de taille `n+1`. On commencera au point $x_0=(\\frac 1 2,1)$ et avec $s_0=10^{-4}$"
   ]
  },
  {
   "cell_type": "code",
   "execution_count": null,
   "metadata": {},
   "outputs": [],
   "source": [
    "M=np.array([0.1,1/5,0.5,1,2.01,5.01,10])\n",
    "def Partial_LS(n) :\n",
    "    return x,cf\n",
    "print(Partial_LS(2)) # (array([ 0.27537491, -0.11502267]), array([61.75      ,  3.88381959,  1.80459349]))"
   ]
  },
  {
   "cell_type": "markdown",
   "metadata": {},
   "source": [
    "Tracez l'évolution de $f(x)$ en échelle semi-log pour `n=60` itérations."
   ]
  },
  {
   "cell_type": "code",
   "execution_count": null,
   "metadata": {},
   "outputs": [],
   "source": []
  }
 ],
 "metadata": {
  "kernelspec": {
   "display_name": "Python 3 (ipykernel)",
   "language": "python",
   "name": "python3"
  },
  "language_info": {
   "codemirror_mode": {
    "name": "ipython",
    "version": 3
   },
   "file_extension": ".py",
   "mimetype": "text/x-python",
   "name": "python",
   "nbconvert_exporter": "python",
   "pygments_lexer": "ipython3",
   "version": "3.9.12"
  }
 },
 "nbformat": 4,
 "nbformat_minor": 4
}
