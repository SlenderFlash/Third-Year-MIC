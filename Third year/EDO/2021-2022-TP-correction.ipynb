{
 "cells": [
  {
   "cell_type": "markdown",
   "metadata": {},
   "source": [
    "# Préambule\n",
    "Avant toute chose, veuillez renommer ce notebook en mettant vos Prénoms, Noms et numéro de groupe (à la place de la lettre X).\n",
    "Tous les exercices sont indépendants, vous devez respecter impérativement les noms des fonctions et des variables, le nombre de variable qu'elles prennent en entrée et en sortie. Vos codes doivent être efficaces et simples. \n",
    "Il existe des fonctions python qui répondent exactement aux exercices (il existe une LU, des algorithmes d'optimisation, etc...) Il va de soi que nous n'évaluons par votre capacité à renommer une fonction python existante mais bien à programmer par vous même. Cependant, certaines fonctions comme `linspace` sont autorisées si on ne vous demande pas explicitement de les reprogrammer. <font color=red> Vos réponses doivent apparaître en rouge </font>"
   ]
  },
  {
   "cell_type": "code",
   "execution_count": 1,
   "metadata": {},
   "outputs": [],
   "source": [
    "# METTEZ TOUS VOS IMPORTS ICI\n",
    "import numpy as np\n",
    "import matplotlib.pyplot as plt"
   ]
  },
  {
   "cell_type": "markdown",
   "metadata": {},
   "source": [
    "# Exercice 1 : Optimisation (7 points)\n",
    "On cherche à résoudre le problème suivant  :\n",
    "$$\n",
    "\\min_{(x,y) \\in \\mathbb{R}^2} f(x,y) \\text{ où } \\quad f(x,y)=x^4+x^2\\sin(y)+4y^2\n",
    "$$\n",
    "\n",
    "### Question I-1 : Calculez le gradient et la Hessienne de $f$"
   ]
  },
  {
   "cell_type": "markdown",
   "metadata": {},
   "source": [
    "<font color=red> \n",
    " $$\\nabla f(x,y)=\\begin{pmatrix} 4x^3+2x\\sin(y)\\\\ x^2\\cos(y)+8y\\end{pmatrix}$$\n",
    "    $$H[f](x,y)=\\begin{pmatrix} 12 x^2+2\\sin(y)&2x\\cos(y)\\\\2x\\cos(y)&-x^2\\sin(y)+8\\\\\\end{pmatrix}$$\n",
    "</font>"
   ]
  },
  {
   "cell_type": "markdown",
   "metadata": {},
   "source": [
    "### Question I-2 : implémentation de $f$, de son gradient et de sa Hessienne\n",
    "Implémentez une fonction `f(M)` qui calcule la valeur de `f` au point `M` et qui rend un réel. Implémentez ensuite une fonction `gradf(M)` qui calcule la valeur du gradient de `f` au point `M`. Ce gradient est un tableau numpy de taille `2`. Implémentez finalement une fonction `Hessf(M)` qui rend la Hessienne de `f` au  point `M`. La Hessienne doit aussi être un tableau numpy."
   ]
  },
  {
   "cell_type": "code",
   "execution_count": 2,
   "metadata": {},
   "outputs": [
    {
     "name": "stdout",
     "output_type": "stream",
     "text": [
      "f 2.207285166046734\n",
      "gradf [0.22256705 5.93794735]\n",
      "Hessf [[1.6338434  0.22767849]\n",
      " [0.22767849 7.98397388]]\n"
     ]
    }
   ],
   "source": [
    "def f(X) :\n",
    "    return X[0]**4+X[0]**2*np.sin(X[1])+4*X[1]**2\n",
    "def gradf(X) :\n",
    "    grad=np.zeros(2)\n",
    "    grad[0]=4*X[0]**3+2*X[0]*np.sin(X[1])\n",
    "    grad[1]=X[0]**2*np.cos(X[1])+8*X[1]\n",
    "    return grad\n",
    "def Hessf(X) :\n",
    "    hess=np.zeros((2,2))\n",
    "    hess[0,0]=12*X[0]**2+2*np.sin(X[1])\n",
    "    hess[1,1]=-X[0]**2*np.sin(X[1])+8\n",
    "    hess[0,1]=2*X[0]*np.cos(X[1])\n",
    "    hess[1,0]=hess[0,1]\n",
    "    return hess\n",
    "np.random.seed(12)\n",
    "M=np.random.rand(2)\n",
    "print('f',f(M))\n",
    "print('gradf',gradf(M))\n",
    "print('Hessf',Hessf(M))\n",
    "\n",
    "# LANCEZ VOTRE TEST ICI, Vous devez trouver à quelques chiffres près \n",
    "#f 2.207285166046734\n",
    "#gradf [0.22256705 5.93794735]\n",
    "#Hessf [[1.6338434  0.22767849]\n",
    "# [0.22767849 7.98397388]]"
   ]
  },
  {
   "cell_type": "markdown",
   "metadata": {},
   "source": [
    "### Question I-3 : Algorithme de gradient à pas fixe\n",
    "Implémentez `PasFixe(step)` qui est une méthode du gradient à pas fixe en partant du point initial $(1.,0)$. Vous mettrez un nombre maximum d'itération égal à $1000$ et un critère d'arrêt quand la norme du gradient est plus petite que $2*10^{-4}$. Le paramètre `step` est la taille du pas de la méthode de gradient.\n",
    "Votre algorithme doit rendre\n",
    "`M,k,normgrad,cost`\n",
    "où `M` est le minimiseur, `k` est le nombre total d'itérations effectuées, `normgrad` est la norme du gradient au cours de la dernière itération et `cost` est la valeur finale de $f$. Testez votre fonction pour les pas $0.02$ puis $0.1$ puis $0.2$ et $0.3$."
   ]
  },
  {
   "cell_type": "code",
   "execution_count": 3,
   "metadata": {},
   "outputs": [
    {
     "name": "stdout",
     "output_type": "stream",
     "text": [
      "0.02 (array([ 0.08129238, -0.00083123]), 1000, 0.0020171461647285733, 4.094226065981126e-05)\n",
      "0.1 (array([ 0.0376157, -0.0001771]), 936, 0.00019989954970840978, 1.8769302184700538e-06)\n",
      "0.2 (array([ 0.03759592, -0.00017692]), 455, 0.0001999028004682256, 1.8729843031584475e-06)\n",
      "0.3 (array([-1.26511138e-035,  2.86466070e+145]), 1000, 1.6369489711278957e+146, 3.2825123692439277e+291)\n"
     ]
    }
   ],
   "source": [
    "def PasFixe(step) :\n",
    "    X=np.array([1.,0.])\n",
    "    nbiter=0\n",
    "    norm=1.\n",
    "    valueF=0.\n",
    "    while nbiter < 1000 and norm >2.e-4 :\n",
    "        nbiter+=1\n",
    "        d=gradf(X)\n",
    "        X=X-step*d\n",
    "        norm=np.linalg.norm(d)\n",
    "    cost=f(X)\n",
    "    return X,nbiter,norm,cost\n",
    "\n",
    "\n",
    "print('0.02',PasFixe(0.02))\n",
    "print('0.1',PasFixe(0.1))\n",
    "# Vous devez trouver à peu de choses prêt\n",
    "#0.1 (array([ 0.0376157, -0.0001771]), 936, 0.00019989954970840978, 1.8769302184700538e-06)\n",
    "print('0.2',PasFixe(0.2))\n",
    "print('0.3',PasFixe(0.3))\n"
   ]
  },
  {
   "cell_type": "markdown",
   "metadata": {},
   "source": [
    " #### Question 1-4 : Interprétation de l'algorithme de gradient\n",
    " <font color='red'> Pour chacun des 4 tests décrivez le comportement de l'algorithme\n",
    "    1. 0.02 : pas de convergence, pas trop petit\n",
    "    2. 0.1 : convergence lente, pas un peu trop petit\n",
    "    3. 0.2 : convergence plus rapide que 0.1, le pas est ideal \n",
    "    4. 0.3 : pas de convergence, pas trop grand\n",
    "</font>"
   ]
  },
  {
   "cell_type": "markdown",
   "metadata": {},
   "source": [
    "### Question I-5 Algorithme de Newton\n",
    "Implémentez Newt() qui est une méthode de Newton pour minimiser $f$. Vous garderez les mêmes paramètres que pour l'algorithme de gradient à pas fixe."
   ]
  },
  {
   "cell_type": "code",
   "execution_count": 4,
   "metadata": {},
   "outputs": [
    {
     "name": "stdout",
     "output_type": "stream",
     "text": [
      "(array([ 1.79615482e-02, -3.04086613e-05]), 10, 0.00019234474171940882, 9.79702564126996e-08)\n"
     ]
    }
   ],
   "source": [
    "def Newt() :\n",
    "    X=np.array([1.,0.])\n",
    "    nbiter=0\n",
    "    norm=1.\n",
    "    valueF=0.\n",
    "    while nbiter < 1000 and norm >2.e-4 :\n",
    "        nbiter+=1\n",
    "        g=gradf(X)\n",
    "        X=X-np.linalg.solve(Hessf(X),g)\n",
    "        norm=np.linalg.norm(g)\n",
    "    cost=f(X)\n",
    "    return X,nbiter,norm,cost\n",
    "print(Newt())"
   ]
  },
  {
   "cell_type": "markdown",
   "metadata": {},
   "source": [
    " <font color='red'> Commentez votre résultat </font>"
   ]
  },
  {
   "cell_type": "markdown",
   "metadata": {},
   "source": [
    "# Exercice 2 : Un petit problème (2 pts)\n",
    "On souhaite créer une fonction qui calcule les racines carrées. Si $a\\in \\mathbb{R}^+$ est donné, alors la racine carrée de $a$ est l'unique $x$, solution positive de \n",
    "$$x^2-a=0$$\n",
    "Si $f:x\\mapsto x^2-a$, on cherche à résoudre $f(x)=0$.\n",
    "\n",
    "Pour cela on va déployer une méthode de Newton pour trouver les zéros de $f$.\n",
    "### Question II-1 : Méthode de Newton\n",
    "Donnez, dans le cas particulier de $f(x)=x^2-a$ une itération de la méthode de Newton\n",
    "\n",
    "\n",
    " <font color='red'> $x_{k+1}= \\frac{x_{k}}{2} +\\frac{a}{2x_k}$  </font>\n",
    "\n",
    "### Question II-2 : Implémentation\n",
    " Créez une fonction `mysqrt(a)` qui calcule la racine carré de `a` en faisant une méthode de Newton. Vous partirez du point `a` et votre critère d'arrêt sera que l'erreur relative entre $x^2$ et `a` doit être plus petite que `1.e-8`. Vous ferez attention de ne jamais faire plus de `1000` itérations. Votre algorithme doit rendre `x,k,err`, où `x` est l'estimation de la racine carré de `a`, où `k` est le nombre d'itérations pour arriver à convergence et `err` est l'erreur relative entre `x**2` et `a`."
   ]
  },
  {
   "cell_type": "code",
   "execution_count": 5,
   "metadata": {},
   "outputs": [
    {
     "name": "stdout",
     "output_type": "stream",
     "text": [
      "(12.000000012408687, 7, 2.0681145684875446e-09)\n"
     ]
    }
   ],
   "source": [
    "def mysqrt(a) :\n",
    "    err=1\n",
    "    x=a\n",
    "    k=0\n",
    "    while err > 1.e-8 and k <1000 :\n",
    "        x=x/2+a/(2*x)\n",
    "        err=np.abs(x*x/a-1.)\n",
    "        k+=1\n",
    "    return x,k,err\n",
    "print(mysqrt(144))\n",
    "# je trouve (12.000000012408687, 7, 2.0681145684875446e-09)"
   ]
  },
  {
   "cell_type": "markdown",
   "metadata": {},
   "source": [
    "# Exercice 3 : Intégration (11 pts)\n",
    "Monsieur Hint est gérant d'une station de ski. Il utilise des canons à neige qu'il fait tourner la nuit pour enneiger les pistes de sa station. Ces canons sont alimentés par un réservoir qui récupère l'eau des précipitations.\n",
    "Comme Monsieur Hint vit dans un monde parfait, les précipitations sont périodiques et suivent une fonction connue et le réservoir est de taille infinie.\n",
    "Pour Monsieur Hint, le Graal serait de pouvoir prédire exactement la quantité d'eau qu'il aura dans son réservoir au bout de 15 jours pour savoir si sa station pourra encore rester ouverte longtemps.\n",
    "\n",
    "On note $V(t)$ le volume d'eau présent dans le réservoir à un instant $t$. Les fonctions $t\\mapsto e(t)$ et $t\\mapsto s(t)$ représentent respectivement le flux d'eau entrant et le flux d'eau sortant du réservoir.\n",
    "L'équation donnant le volume d'eau à un instant $t\\geq 0$ est donc:\n",
    "$$\n",
    "V(t)=V(0)+\\int_0^t (e(u)-s(u))\\,\\mathrm{d}u\n",
    "$$\n",
    "A $t=0$ le réservoir est vide donc $V(0)=0$ mais on supposera que pour $t>0$, le réservoir n'est jamais vide pour simplifier la modélisation.\n",
    "Les fonctions $e$ et $s$ s'écrivent:\n",
    "\\begin{align*}\n",
    "e(t) &= e^{\\left(1+\\sin\\left(2\\pi\\omega_1t\\right)\\right)^2}-1\\\\\n",
    "s(t) &= \\frac{A}{1+e^{10\\cos(2\\pi t)}}\n",
    "\\end{align*}\n",
    "avec $\\omega_1=\\frac 1 7$ la fréquence des précipitations (toutes les semaines) et $A=14$.\n",
    "\n",
    "L'objectif de cet exercice est de calculer la quantité d'eau présente dans le réservoir $V(T)$ à $T=15$ jours à l'aide de différentes méthodes d'intégration numérique.\n",
    "\n",
    "Pour vous aider dans la validation de vos fonctions, une approximation de l'intégrale a été calculée très précisément et elle vaut $I_{ref} = V(15)=90,955117699062114411390211898834$."
   ]
  },
  {
   "cell_type": "code",
   "execution_count": 6,
   "metadata": {},
   "outputs": [],
   "source": [
    "w1 = 1/7\n",
    "A = 14\n",
    "V0 = 0\n",
    "a = 0\n",
    "b = 15\n",
    "Iref = 90.955117699062114411390211898834 # cette valeur a été calculée avec Romberg pour N=19"
   ]
  },
  {
   "cell_type": "markdown",
   "metadata": {},
   "source": [
    "### Question III-1 :\n",
    "Coder une fonction `e(t)` et une fonction `s(t)` qui calcule les fonctions données dans le paragraphe précédent et coder une fonction `f(t)` renvoyant `e(t)-s(t)`"
   ]
  },
  {
   "cell_type": "code",
   "execution_count": 7,
   "metadata": {},
   "outputs": [
    {
     "name": "stdout",
     "output_type": "stream",
     "text": [
      "e= 46.33027329720032\n",
      "s= 13.390796143616782\n",
      "f= 32.93947715358354\n"
     ]
    }
   ],
   "source": [
    "def e(t):\n",
    "    return np.exp((1+np.cos(2*np.pi*w1*t))**2)-1\n",
    "def s(t):\n",
    "    return A/(1+np.exp(10*np.cos(2*np.pi*t)))\n",
    "def f(t):\n",
    "    return e(t)-s(t)\n",
    "t=0.3\n",
    "print('e=',e(t))\n",
    "print('s=',s(t))\n",
    "print('f=',f(t))\n",
    "#Vous devez trouver\n",
    "#e= 46.33027329720032\n",
    "#s= 13.390796143616782\n",
    "#f= 32.93947715358354"
   ]
  },
  {
   "cell_type": "code",
   "execution_count": 8,
   "metadata": {},
   "outputs": [
    {
     "data": {
      "image/png": "[encoded data removed]",
      "text/plain": [
       "<Figure size 432x288 with 1 Axes>"
      ]
     },
     "metadata": {
      "needs_background": "light"
     },
     "output_type": "display_data"
    }
   ],
   "source": [
    "t = np.linspace(a, b, 1000)\n",
    "plt.plot(t, e(t), label='e')\n",
    "plt.plot(t, s(t), label='s')\n",
    "plt.legend()\n",
    "plt.show()"
   ]
  },
  {
   "cell_type": "markdown",
   "metadata": {},
   "source": [
    "### Question III-2 : méthode des rectangles\n",
    "\n",
    "Coder deux fonctions `RectangleGauche` et `RectangleDroite` calculant l'intégrale par la méthode des rectangles respectivement à gauche et à droite. Ces fonctions prendront en arguments les bornes $a$ et $b$ ainsi que le nombre d'intervalles $N$ (donc $N+1$ points d'évaluation !). Elles renverront la valeur approchée de l'intégrale."
   ]
  },
  {
   "cell_type": "code",
   "execution_count": 9,
   "metadata": {},
   "outputs": [
    {
     "name": "stdout",
     "output_type": "stream",
     "text": [
      "Rectangle à gauche: I = 91.25224062728303   erreur = 0.29712292822091513\n",
      "Rectangle à droite: I = 90.65685771494793   erreur = 0.298259984114182\n"
     ]
    }
   ],
   "source": [
    "def RectangleGauche(a, b, N):\n",
    "    ft = f(np.linspace(a, b, N+1))\n",
    "    return (b-a)*np.sum(ft[:-1])/N\n",
    "def RectangleDroite(a, b, N):\n",
    "    ft = f(np.linspace(a, b, N+1))\n",
    "    return (b-a)*np.sum(ft[1:])/N\n",
    "Igauche = RectangleGauche(a, b, 2**10)\n",
    "Idroite = RectangleDroite(a, b, 2**10)\n",
    "print(\"Rectangle à gauche: I =\", Igauche, \"  erreur =\", np.abs(Igauche-Iref))\n",
    "print(\"Rectangle à droite: I =\", Idroite, \"  erreur =\", np.abs(Idroite-Iref))"
   ]
  },
  {
   "cell_type": "markdown",
   "metadata": {},
   "source": [
    "### Question III-3 : méthode du point milieu\n",
    "\n",
    "Coder une fonction `Milieu` calculant l'intégrale par la méthode du point milieu. Cette fonction prendra en arguments les bornes $a$ et $b$ ainsi que le nombre d'intervalles $N$ (donc $N+1$ points d'évaluation !). Elle renverra la valeur approchée de l'intégrale."
   ]
  },
  {
   "cell_type": "code",
   "execution_count": 12,
   "metadata": {},
   "outputs": [
    {
     "name": "stdout",
     "output_type": "stream",
     "text": [
      "Milieu: I = 90.95540196187618   erreur = 0.0002842628140626857\n"
     ]
    }
   ],
   "source": [
    "def Milieu(a, b, N):\n",
    "    t = np.linspace(a, b, N+1)\n",
    "    ft = f((t[:-1]+t[1:])/2)\n",
    "    return (b-a)*np.sum(ft)/N\n",
    "Imilieu = Milieu(a, b, 2**10)\n",
    "print(\"Milieu: I =\", Imilieu, \"  erreur =\", np.abs(Imilieu-Iref))"
   ]
  },
  {
   "cell_type": "markdown",
   "metadata": {},
   "source": [
    "### Question III-4 : méthode des trapèzes\n",
    "\n",
    "Coder une fonction `Trapezes` calculant l'intégrale par la méthode des trapèzes. Cette fonction prendra en arguments les bornes $a$ et $b$ ainsi que le nombre d'intervalles $N$ (donc $N+1$ points d'évaluation !). Elle renverra la valeur approchée de l'intégrale."
   ]
  },
  {
   "cell_type": "code",
   "execution_count": 13,
   "metadata": {},
   "outputs": [
    {
     "name": "stdout",
     "output_type": "stream",
     "text": [
      "Trapezes: I = 90.95454917111547   erreur = 0.0005685279466405291\n"
     ]
    }
   ],
   "source": [
    "def Trapezes(a, b, N):\n",
    "    ft = f(np.linspace(a,b,N+1))\n",
    "    return (b-a)*(np.sum(ft[1:-1])+(ft[0]+ft[-1])/2)/N\n",
    "Itrapezes = Trapezes(a, b, 2**10)\n",
    "print(\"Trapezes: I =\", Itrapezes, \"  erreur =\", np.abs(Itrapezes-Iref))"
   ]
  },
  {
   "cell_type": "markdown",
   "metadata": {},
   "source": [
    "### Question III-5 : analyse de l'erreur\n",
    "\n",
    "Pour chacune des méthodes implémentées ci-dessus, calculer l'erreur entre l'intégrale approchée et la valeur qui vous est donnée $I_{ref}$. On calculera cette erreur pour différents nombres d'intervalles $N=2^4, 2^5, \\ldots, 2^{15}$ et on affichera l'erreur en fonction du pas $h=\\frac{b-a}{N}$ sur un même graphique pour chacune de ces méthodes.\n",
    "Commenter le graphique obtenu."
   ]
  },
  {
   "cell_type": "code",
   "execution_count": 14,
   "metadata": {},
   "outputs": [
    {
     "data": {
      "image/png": "[encoded data removed]",
      "text/plain": [
       "<Figure size 432x288 with 1 Axes>"
      ]
     },
     "metadata": {
      "needs_background": "light"
     },
     "output_type": "display_data"
    }
   ],
   "source": [
    "for method in [RectangleGauche, RectangleDroite, Milieu, Trapezes]:\n",
    "    list_h = []\n",
    "    list_err = []\n",
    "    for k in range(4,16):\n",
    "        N = 2**k\n",
    "        h = (b-a)/N\n",
    "        err = np.abs(method(a, b, N)-Iref)\n",
    "        list_h.append(h)\n",
    "        list_err.append(err)\n",
    "    plt.loglog(list_h, list_err, label=method.__name__)\n",
    "plt.legend()\n",
    "plt.xlabel('pas')\n",
    "plt.ylabel('erreur')\n",
    "plt.show()"
   ]
  },
  {
   "cell_type": "markdown",
   "metadata": {},
   "source": [
    "<font color='red'>\n",
    "En tracant en echelle log/log, on voit bien des droites qui correspondent à l'ordre des méthodes. Les rectangles sont du même ordre (1) et le milieu/trapèzes sont d'ordre 2.\n",
    "</font>"
   ]
  },
  {
   "cell_type": "markdown",
   "metadata": {},
   "source": [
    "## Méthode de Romberg\n",
    "\n",
    "La méthode de Romberg permet de calculer l'intégrale d'une fonction à l'aide d'approximations récursives de cette intégrale.\n",
    "On rappelle que l'on souhaite calculer l'intégrale $I=\\int_a^b f(t)\\,\\mathrm{d}t$.\n",
    "Si on note $T(n)$ le résultat renvoyé par la méthode des trapèzes avec $n$ intervalles, la méthode consiste à :\n",
    "- Déclarer un tableau $R$ de taille $(N+1)\\times (N+1)$\n",
    "- Initialiser\n",
    "\\begin{align*}\n",
    "R(0,0) &= \\frac{b-a}2 \\left( f(a)+f(b) \\right) \\\\\n",
    "R(n,0) &= T(2^n)\\quad\\forall\\, 1\\leq n\\leq N\n",
    "\\end{align*}\n",
    "- Pour chaque $1\\leq n\\leq N$\n",
    "    * Pour chaque $1\\leq m\\leq n$\n",
    "\\begin{align*}\n",
    "R(n,m) &= \\frac{1}{4^m-1}\\left( 4^mR(n,m-1)-R(n-1,m-1) \\right)\n",
    "\\end{align*}\n",
    "\n",
    "Les éléments diagonaux de $R$ correspondent aux approximations successives de l'intégrale pour différents nombre de points.\n",
    "\n",
    "### Question III-6\n",
    "\n",
    "Coder une fonction `Romberg` qui réalise les opérations données au dessus et qui renvoie les $N+1$ éléments diagonaux de $R$. Cette fonction prendra en arguments les bornes $a$ et $b$ ainsi que $N$.\n",
    "On évaluera cette fonction avec $N=15$."
   ]
  },
  {
   "cell_type": "code",
   "execution_count": 15,
   "metadata": {},
   "outputs": [
    {
     "name": "stdout",
     "output_type": "stream",
     "text": [
      "[499.12666583 387.40627428  47.44474831  39.19019111 100.16616162\n",
      "  90.37076626  90.97016578  90.95497611  90.95511814  90.9551177\n",
      "  90.9551177   90.9551177   90.9551177   90.9551177   90.9551177\n",
      "  90.9551177 ]\n"
     ]
    }
   ],
   "source": [
    "def Romberg(a, b, N):\n",
    "    R = np.zeros((N+1, N+1))\n",
    "    R[0,0] = (b-a)*(f(a)+f(b))/2\n",
    "    for n in range(N+1):\n",
    "        R[n,0] = Trapezes(a, b, 2**n)\n",
    "        for m in range(1, n+1):\n",
    "            R[n,m] = (4**m*R[n,m-1]-R[n-1,m-1])/(4**m-1)\n",
    "    return np.diag(R)\n",
    "rom = Romberg(a, b, 15)\n",
    "print(rom)"
   ]
  },
  {
   "cell_type": "markdown",
   "metadata": {},
   "source": [
    "### Question III-7 : calcul de l'erreur\n",
    "\n",
    "Calculer l'erreur entre l'intégrale approchée $R(n,n)$ pour chaque $n\\leq N$ et la valeur qui vous est donnée $I_{ref}$. On prendra $N=12$.\n",
    "Afficher cette erreur en fonction du pas sachant que ce pas est donné par $h=\\frac{b-a}{2^n}$.\n",
    "Commenter le graphique obtenu et comparer à celui de la question 6."
   ]
  },
  {
   "cell_type": "code",
   "execution_count": 16,
   "metadata": {},
   "outputs": [
    {
     "data": {
      "image/png": "[encoded data removed]",
      "text/plain": [
       "<Figure size 432x288 with 1 Axes>"
      ]
     },
     "metadata": {
      "needs_background": "light"
     },
     "output_type": "display_data"
    }
   ],
   "source": [
    "N = 12\n",
    "Irom = Romberg(a, b, N)\n",
    "k = np.arange(N+1)\n",
    "N = 2**k\n",
    "h = (b-a)/N\n",
    "err = np.abs(Irom-Iref)\n",
    "plt.loglog(h, err)\n",
    "plt.xlabel('pas')\n",
    "plt.ylabel('erreur')\n",
    "plt.show()"
   ]
  },
  {
   "cell_type": "code",
   "execution_count": null,
   "metadata": {},
   "outputs": [],
   "source": []
  }
 ],
 "metadata": {
  "kernelspec": {
   "display_name": "Python 3 (ipykernel)",
   "language": "python",
   "name": "python3"
  },
  "language_info": {
   "codemirror_mode": {
    "name": "ipython",
    "version": 3
   },
   "file_extension": ".py",
   "mimetype": "text/x-python",
   "name": "python",
   "nbconvert_exporter": "python",
   "pygments_lexer": "ipython3",
   "version": "3.9.13"
  }
 },
 "nbformat": 4,
 "nbformat_minor": 1
}
