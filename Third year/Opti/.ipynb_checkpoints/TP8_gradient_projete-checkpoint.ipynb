{
 "cells": [
  {
   "cell_type": "markdown",
   "id": "6782b47a",
   "metadata": {},
   "source": [
    "# TP8 : Algorithme du gradient projeté à pas fixe\n",
    "Dans ce TP, nous nous intéressons à l'algorithme de gradient projeté à pas fixe pour la résolution du problème:\n",
    "$$\\min_{x\\in\\mathbb{R}^n} f(x) \\quad \\mbox{ sous la contrainte: } x\\in C,$$\n",
    "où $C$ est un sous-ensemble convexe, non vide de $\\mathbb{R}^n$.\n",
    "\n",
    "Le but de cette séance est l'écriture d'un code de minimisation locale, et l'évaluation de ses performances sur les fonctions tests suivantes:\n",
    "\n",
    "* $f(x,y,z) = (x+y-1)^2+(y-z)^2+(z-\\frac{1}{2})^2$.\n",
    "* $g(x,y,z) = x+2y+3z$.\n",
    "\n",
    "pour les ensembles de contraintes suivants:\n",
    "\n",
    "* $C_1 = \\{X\\in\\mathbb{R}^3 : \\|X\\|=1\\}$ sphère unité de $\\mathbb{R}^3$.\n",
    "* $C_2 = \\{X=(x,y,z)\\in\\mathbb{R}^3 : -1\\leq x,y,z\\leq 1\\}$ cube dans $\\mathbb{R}^3$.\n",
    "* $C_3 = \\{X=(x,y,z)\\in\\mathbb{R}^3 : x+y+z=0\\}$ plan dans $\\mathbb{R}^3$.\n",
    "\n",
    "\n",
    ">**Rappel :** on appelle `oracle` une routine qui à un `x` donné, renvoie la valeur $f(x)$ du critère et le gradient $\\nabla f(x)$ (ou une approximation du gradient) s'il existe:\n",
    "\n",
    "$$[f(x),\\nabla f(x)] = \\textrm{oracle}(x).$$\n",
    "\n",
    "## Structure de l'algorithme de gradient projeté à pas fixe\n",
    "\n",
    "* **Données:** $X_0\\in \\mathbb{R}^n$ point initial arbitraire, un oracle, un opérateur de projection sur $C$, $s>0$ pas fixe arbitraire.\n",
    "* **Initialisation:** Numéro d'itération: $k=0$.\n",
    "* **Tant que** le critère d'arrêt n'est pas satisfait, **faire**\n",
    "  1. Calcul d'une itération du gradient à pas fixe à partir de $X_k$:\n",
    "    $$Y_{k+1} = X_k-s\\nabla f(X_k).$$  \n",
    "  2. Calcul de la projection de $Y_{k+1}$ sur $C$.\n",
    "  3. Mise à jour du prochain itéré $X_{k+1}$.\n",
    "  4. $k=k+1$.\n",
    "\n",
    "\n",
    "\n",
    "Pour chacun des ensembles de contraintes proposés, nous voulons résoudre les deux problèmes-tests de minimisation:\n",
    "$$(P_i)\\quad\\quad \\min_{X=(x,y,z)\\in\\mathbb{R}^3} f(x,y,z)\\quad\\mbox{ sous la contrainte: }\\quad X\\in C_i,\\quad i\\in \\{1,2,3\\}$$\n",
    "$$(Q_i)\\quad\\quad \\min_{X=(x,y,z)\\in\\mathbb{R}^3} g(x,y,z)\\quad\\mbox{ sous la contrainte: }\\quad X\\in C_i,\\quad i\\in \\{1,2,3\\}$$\n",
    "\n",
    "> **A faire :** Définir et implémenter les trois opérateurs de projection sur les ensembles $C_1$, $C_2$ et $C_3$."
   ]
  },
  {
   "cell_type": "code",
   "execution_count": 1,
   "id": "a3d1ff64",
   "metadata": {},
   "outputs": [],
   "source": [
    "import numpy as np\n",
    "def projection1(x):\n",
    "    return y\n",
    "def projection2(x):\n",
    "    return y\n",
    "def projection3(x):\n",
    "    return y"
   ]
  },
  {
   "cell_type": "markdown",
   "id": "cc544c8f",
   "metadata": {},
   "source": [
    ">**A faire :** Calculer et implémenter les oracles pour les deux fonctions proposées."
   ]
  },
  {
   "cell_type": "code",
   "execution_count": 8,
   "id": "c7ef37eb",
   "metadata": {},
   "outputs": [],
   "source": [
    "def oracle1(x):\n",
    "    return f,df\n",
    "def oracle2(x):\n",
    "    return f,df"
   ]
  },
  {
   "cell_type": "markdown",
   "id": "d34efc32",
   "metadata": {},
   "source": [
    ">**A faire** : Définir un critère d'arrêt acceptable pour l'algorithme de gradient projeté à pas fixe et écrire la routine complète de minimisation par l'algorithme de gradient projeté à pas fixe."
   ]
  },
  {
   "cell_type": "code",
   "execution_count": 2,
   "id": "971c4f85",
   "metadata": {},
   "outputs": [
    {
     "ename": "NameError",
     "evalue": "name 'oracle1' is not defined",
     "output_type": "error",
     "traceback": [
      "\u001b[0;31m---------------------------------------------------------------------------\u001b[0m",
      "\u001b[0;31mNameError\u001b[0m                                 Traceback (most recent call last)",
      "\u001b[0;32m/tmp/ipykernel_113656/2668630943.py\u001b[0m in \u001b[0;36m<module>\u001b[0;34m\u001b[0m\n\u001b[1;32m      1\u001b[0m \u001b[0;32mdef\u001b[0m \u001b[0mgradproj\u001b[0m\u001b[0;34m(\u001b[0m\u001b[0moracle\u001b[0m\u001b[0;34m,\u001b[0m\u001b[0mprojection\u001b[0m\u001b[0;34m,\u001b[0m\u001b[0mxini\u001b[0m\u001b[0;34m=\u001b[0m\u001b[0;34m[\u001b[0m\u001b[0;36m1\u001b[0m\u001b[0;34m,\u001b[0m\u001b[0;36m0\u001b[0m\u001b[0;34m,\u001b[0m\u001b[0;36m0\u001b[0m\u001b[0;34m]\u001b[0m\u001b[0;34m,\u001b[0m\u001b[0mh\u001b[0m\u001b[0;34m=\u001b[0m\u001b[0;36m0.1\u001b[0m\u001b[0;34m)\u001b[0m\u001b[0;34m:\u001b[0m\u001b[0;34m\u001b[0m\u001b[0;34m\u001b[0m\u001b[0m\n\u001b[1;32m      2\u001b[0m     \u001b[0;32mreturn\u001b[0m \u001b[0mx\u001b[0m\u001b[0;34m,\u001b[0m\u001b[0mxiter\u001b[0m\u001b[0;34m,\u001b[0m\u001b[0miteration\u001b[0m\u001b[0;34m\u001b[0m\u001b[0;34m\u001b[0m\u001b[0m\n\u001b[0;32m----> 3\u001b[0;31m \u001b[0mx\u001b[0m\u001b[0;34m,\u001b[0m\u001b[0mxiter\u001b[0m\u001b[0;34m,\u001b[0m\u001b[0mnbiter\u001b[0m \u001b[0;34m=\u001b[0m \u001b[0mgradproj\u001b[0m\u001b[0;34m(\u001b[0m\u001b[0moracle1\u001b[0m\u001b[0;34m,\u001b[0m\u001b[0mprojection1\u001b[0m\u001b[0;34m)\u001b[0m\u001b[0;34m\u001b[0m\u001b[0;34m\u001b[0m\u001b[0m\n\u001b[0m",
      "\u001b[0;31mNameError\u001b[0m: name 'oracle1' is not defined"
     ]
    }
   ],
   "source": [
    "def gradproj(oracle,projection,xini=[1,0,0],h=0.1):\n",
    "    return x,xiter,iteration\n",
    "x,xiter,nbiter = gradproj(oracle1,projection1)"
   ]
  },
  {
   "cell_type": "markdown",
   "id": "1d680a4b",
   "metadata": {},
   "source": [
    ">**A faire**: Résoudre numériquement les six problèmes $(P_i)$ et $(Q_i)$, $i\\in \\{1,2,3\\}$. Commenter et interpréter les résultats obtenus."
   ]
  },
  {
   "cell_type": "code",
   "execution_count": null,
   "id": "63f2b875",
   "metadata": {},
   "outputs": [],
   "source": []
  }
 ],
 "metadata": {
  "kernelspec": {
   "display_name": "Python 3 (ipykernel)",
   "language": "python",
   "name": "python3"
  },
  "language_info": {
   "codemirror_mode": {
    "name": "ipython",
    "version": 3
   },
   "file_extension": ".py",
   "mimetype": "text/x-python",
   "name": "python",
   "nbconvert_exporter": "python",
   "pygments_lexer": "ipython3",
   "version": "3.9.13"
  }
 },
 "nbformat": 4,
 "nbformat_minor": 5
}
