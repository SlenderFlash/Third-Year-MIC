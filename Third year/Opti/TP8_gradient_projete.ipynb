{
 "cells": [
  {
   "cell_type": "markdown",
   "id": "6782b47a",
   "metadata": {},
   "source": [
    "# TP8 : Algorithme du gradient projeté à pas fixe\n",
    "Dans ce TP, nous nous intéressons à l'algorithme de gradient projeté à pas fixe pour la résolution du problème:\n",
    "$$\\min_{x\\in\\mathbb{R}^n} f(x) \\quad \\mbox{ sous la contrainte: } x\\in C,$$\n",
    "où $C$ est un sous-ensemble convexe, non vide de $\\mathbb{R}^n$.\n",
    "\n",
    "Le but de cette séance est l'écriture d'un code de minimisation locale, et l'évaluation de ses performances sur les fonctions tests suivantes:\n",
    "\n",
    "* $f(x,y,z) = (x+y-1)^2+(y-z)^2+(z-\\frac{1}{2})^2$.\n",
    "* $g(x,y,z) = x+2y+3z$.\n",
    "\n",
    "pour les ensembles de contraintes suivants:\n",
    "\n",
    "* $C_1 = \\{X\\in\\mathbb{R}^3 : \\|X\\|=1\\}$ sphère unité de $\\mathbb{R}^3$.\n",
    "* $C_2 = \\{X=(x,y,z)\\in\\mathbb{R}^3 : -1\\leq x,y,z\\leq 1\\}$ cube dans $\\mathbb{R}^3$.\n",
    "* $C_3 = \\{X=(x,y,z)\\in\\mathbb{R}^3 : x+y+z=0\\}$ plan dans $\\mathbb{R}^3$.\n",
    "\n",
    "\n",
    ">**Rappel :** on appelle `oracle` une routine qui à un `x` donné, renvoie la valeur $f(x)$ du critère et le gradient $\\nabla f(x)$ (ou une approximation du gradient) s'il existe:\n",
    "\n",
    "$$[f(x),\\nabla f(x)] = \\textrm{oracle}(x).$$\n",
    "\n",
    "## Structure de l'algorithme de gradient projeté à pas fixe\n",
    "\n",
    "* **Données:** $X_0\\in \\mathbb{R}^n$ point initial arbitraire, un oracle, un opérateur de projection sur $C$, $s>0$ pas fixe arbitraire.\n",
    "* **Initialisation:** Numéro d'itération: $k=0$.\n",
    "* **Tant que** le critère d'arrêt n'est pas satisfait, **faire**\n",
    "  1. Calcul d'une itération du gradient à pas fixe à partir de $X_k$:\n",
    "    $$Y_{k+1} = X_k-s\\nabla f(X_k).$$  \n",
    "  2. Calcul de la projection de $Y_{k+1}$ sur $C$.\n",
    "  3. Mise à jour du prochain itéré $X_{k+1}$.\n",
    "  4. $k=k+1$.\n",
    "\n",
    "\n",
    "\n",
    "Pour chacun des ensembles de contraintes proposés, nous voulons résoudre les deux problèmes-tests de minimisation:\n",
    "$$(P_i)\\quad\\quad \\min_{X=(x,y,z)\\in\\mathbb{R}^3} f(x,y,z)\\quad\\mbox{ sous la contrainte: }\\quad X\\in C_i,\\quad i\\in \\{1,2,3\\}$$\n",
    "$$(Q_i)\\quad\\quad \\min_{X=(x,y,z)\\in\\mathbb{R}^3} g(x,y,z)\\quad\\mbox{ sous la contrainte: }\\quad X\\in C_i,\\quad i\\in \\{1,2,3\\}$$\n",
    "\n",
    "> **A faire :** Définir et implémenter les trois opérateurs de projection sur les ensembles $C_1$, $C_2$ et $C_3$."
   ]
  },
  {
   "cell_type": "code",
   "execution_count": 1,
   "id": "2d2d6fa4",
   "metadata": {},
   "outputs": [],
   "source": [
    "%matplotlib inline\n",
    "import matplotlib.pyplot as plt\n",
    "import numpy as np\n",
    "import numpy.linalg as npl"
   ]
  },
  {
   "cell_type": "code",
   "execution_count": 22,
   "id": "a3d1ff64",
   "metadata": {},
   "outputs": [],
   "source": [
    "import numpy as np\n",
    "def projection1(x):\n",
    "    x2 = x**2\n",
    "    l = np.sqrt(sum(x2))\n",
    "    if l > 1:\n",
    "        y = x/l\n",
    "    else:\n",
    "        y = x\n",
    "    y = np.array(y)\n",
    "    return y\n",
    "def projection2(x):\n",
    "    y = [0,0,0]\n",
    "    if x[0] != 0:\n",
    "        y[0] = (x[0]/abs(x[0]))*min(abs(x[0]),1)\n",
    "    else:\n",
    "        y[0] = 0\n",
    "    if x[1] != 0:\n",
    "        y[1] = (x[1]/abs(x[1]))*min(abs(x[1]),1)\n",
    "    else:\n",
    "        y[1] = 0\n",
    "    if y[2] != 0:\n",
    "        y[2] = (x[2]/abs(x[2]))*min(abs(x[2]),1)\n",
    "    else: \n",
    "        y[2] = 0\n",
    "    y = np.array(y)\n",
    "    return y\n",
    "def projection3(x):\n",
    "    s = sum(x)/3\n",
    "    y = [0,0,0]\n",
    "    y = x - s\n",
    "    y = np.array(y)\n",
    "    return y"
   ]
  },
  {
   "cell_type": "markdown",
   "id": "cc544c8f",
   "metadata": {},
   "source": [
    ">**A faire :** Calculer et implémenter les oracles pour les deux fonctions proposées."
   ]
  },
  {
   "cell_type": "code",
   "execution_count": 3,
   "id": "c7ef37eb",
   "metadata": {},
   "outputs": [],
   "source": [
    "def oracle1(x):\n",
    "    f = (x[0]+x[1]-1)**2+(x[1]-x[2])**2+(x[2]-1/2)**2\n",
    "    df = [2*(x[0]+x[1]-1),2*(x[0]+2*x[1]-x[2]-1),4*x[2]-2*x[1]-1]\n",
    "    df = np.array(df)\n",
    "    return f,df\n",
    "def oracle2(x):\n",
    "    f = x[0] + 2*x[1] +3*x[2]\n",
    "    df = [1,2,3]\n",
    "    df = np.array(df)\n",
    "    return f,df"
   ]
  },
  {
   "cell_type": "markdown",
   "id": "d34efc32",
   "metadata": {},
   "source": [
    ">**A faire** : Définir un critère d'arrêt acceptable pour l'algorithme de gradient projeté à pas fixe et écrire la routine complète de minimisation par l'algorithme de gradient projeté à pas fixe."
   ]
  },
  {
   "cell_type": "code",
   "execution_count": 10,
   "id": "971c4f85",
   "metadata": {},
   "outputs": [],
   "source": [
    "def gradproj(oracle,projection,xini=[1,0,0],h=0.1):\n",
    "    f,df = oracle(xini)\n",
    "    df = np.array(df)\n",
    "    xiter = [xini]\n",
    "    iteration = 0\n",
    "    sdf2 = sum([t**2 for t in df])\n",
    "    while (iteration < 50000) and (sdf2 > 0.01):\n",
    "        x = xiter[-1] - h*df\n",
    "        xiter += [x]\n",
    "        x = projection(x)\n",
    "        xiter += [x]\n",
    "        f,df = oracle(x)\n",
    "        df = np.array(df)\n",
    "        sdf2 = sum([t**2 for t in df])\n",
    "        iteration += 1\n",
    "    return x,xiter,iteration\n",
    "x,xiter,nbiter = gradproj(oracle1,projection1)"
   ]
  },
  {
   "cell_type": "markdown",
   "id": "1d680a4b",
   "metadata": {},
   "source": [
    ">**A faire**: Résoudre numériquement les six problèmes $(P_i)$ et $(Q_i)$, $i\\in \\{1,2,3\\}$. Commenter et interpréter les résultats obtenus."
   ]
  },
  {
   "cell_type": "code",
   "execution_count": 23,
   "id": "63f2b875",
   "metadata": {},
   "outputs": [
    {
     "name": "stdout",
     "output_type": "stream",
     "text": [
      "[0.68513956 0.35152504 0.41759945] 29\n",
      "[1. 0. 0.] 50000\n",
      "[ 0.5  -0.25 -0.25] 50000\n",
      "[-0.26726124 -0.53452248 -0.80178373] 50000\n",
      "[-1. -1.  0.] 50000\n",
      "[ 5.00066667e+03 -3.33333332e-01 -5.00033333e+03] 50000\n"
     ]
    }
   ],
   "source": [
    "#1\n",
    "r1 = gradproj(oracle1,projection1)\n",
    "print(r1[0],r1[2])\n",
    "#2\n",
    "r2 = gradproj(oracle1,projection2)\n",
    "print(r2[0],r2[2])\n",
    "#3\n",
    "r3 = gradproj(oracle1,projection3)\n",
    "print(r3[0],r3[2])\n",
    "#4\n",
    "r4 = gradproj(oracle2,projection1)\n",
    "print(r4[0],r4[2])\n",
    "#5\n",
    "r5 = gradproj(oracle2,projection2)\n",
    "print(r5[0],r5[2])\n",
    "#6\n",
    "r6 = gradproj(oracle2,projection3)\n",
    "print(r6[0],r6[2])"
   ]
  },
  {
   "cell_type": "code",
   "execution_count": null,
   "id": "77584ecb",
   "metadata": {},
   "outputs": [],
   "source": []
  }
 ],
 "metadata": {
  "kernelspec": {
   "display_name": "Python 3 (ipykernel)",
   "language": "python",
   "name": "python3"
  },
  "language_info": {
   "codemirror_mode": {
    "name": "ipython",
    "version": 3
   },
   "file_extension": ".py",
   "mimetype": "text/x-python",
   "name": "python",
   "nbconvert_exporter": "python",
   "pygments_lexer": "ipython3",
   "version": "3.9.13"
  }
 },
 "nbformat": 4,
 "nbformat_minor": 5
}
