{
 "cells": [
  {
   "cell_type": "markdown",
   "metadata": {},
   "source": [
    "# Cinquième séance : modularité"
   ]
  },
  {
   "cell_type": "markdown",
   "metadata": {},
   "source": [
    "- auteur : <a href=\"mailto:lentz@insa-toulouse.fr\">A. Lentz</a>\n",
    "- date : 2023"
   ]
  },
  {
   "cell_type": "markdown",
   "metadata": {},
   "source": [
    "On présente comment écrire un module, puis comment utiliser des modules classiques."
   ]
  },
  {
   "cell_type": "markdown",
   "metadata": {},
   "source": [
    "**Remarque :** vous avez déjà utilisé le module `sys` et ses fonctions `getrefcount` et `getsizeof`. Ce module permet aussi de modifier la taille de la pile d'appel avec `setrecursionlimit`. Pratique pour faire un peu de récursivité."
   ]
  },
  {
   "cell_type": "markdown",
   "metadata": {},
   "source": [
    "## 1) Création d'un module"
   ]
  },
  {
   "cell_type": "markdown",
   "metadata": {},
   "source": [
    "Lorsque votre code devient volumineux, il devient important de le partitionner en plusieurs fichiers thématiques, appelés modules. Cette logique est similaire à celle des packages en ADA. \n",
    "\n",
    "On va commencer par voir comment écrire soi-même un module. L'exemple que nous allons prendre a été suggéré par ChatGPT : *développer un chatbot*."
   ]
  },
  {
   "cell_type": "markdown",
   "metadata": {},
   "source": [
    "### a) Ecriture d'un module"
   ]
  },
  {
   "cell_type": "markdown",
   "metadata": {},
   "source": [
    "Suivez ces instructions :\n",
    "\n",
    "i) Dans le même dossier que celui du sujet de TD, créer un fichier `chatbot.py`\n",
    "\n",
    "ii) Dans ce fichier, écrire une fonction `greeting` qui prend un nom en paramètre et **renvoie** un message disant bonjour à la personne dont le nom à été donné.\n",
    "\n",
    "iii) Ajouter une fonction `fareweels` qui ne prend pas de paramètre et **renvoie** un message disant au revoir.\n",
    "\n",
    "iv) Sauvegarder votre fichier.\n",
    "\n",
    "**Remarque :** pas besoin d'utiliser une syntaxe spécifique pour un module. Ecrivez le comme un script normal."
   ]
  },
  {
   "cell_type": "markdown",
   "metadata": {},
   "source": [
    "###  b) Importer un module"
   ]
  },
  {
   "cell_type": "markdown",
   "metadata": {},
   "source": [
    "Exécutez la cellule suivante afin d'éviter un problème de mise à jour. Si on importe un module, qu'on le modifie et qu'on le réimporte, la mise à jour ne se fera pas."
   ]
  },
  {
   "cell_type": "code",
   "execution_count": null,
   "metadata": {},
   "outputs": [],
   "source": [
    "#spécifique aux notebook\n",
    "%load_ext autoreload"
   ]
  },
  {
   "cell_type": "markdown",
   "metadata": {},
   "source": [
    "On va importer votre fichier (c'est un module) avec la syntaxe suivante : `import chatbot` (pas besoin de l'extention `.py`). Ensuite, on peut utiliser n'importe quelle fonction du module `chatbot` en rajoutant le nom du module devant le nom de la fonction. Rien d'exotique : c'est l'équivalent du `with` en ADA."
   ]
  },
  {
   "cell_type": "code",
   "execution_count": null,
   "metadata": {},
   "outputs": [],
   "source": [
    "%autoreload # pour mettre à jour si vous relancer cette cellule plusieurs fois, à ne pas retenir\n",
    "\n",
    "import chatbot\n",
    "\n",
    "votreNom = \"\" # à remplacer\n",
    "print(chatbot.greeting(votreNom))"
   ]
  },
  {
   "cell_type": "markdown",
   "metadata": {},
   "source": [
    "Si on ne veut importer qu'une fonction, on peut utiliser la syntaxe suivante :"
   ]
  },
  {
   "cell_type": "code",
   "execution_count": null,
   "metadata": {},
   "outputs": [],
   "source": [
    "%autoreload\n",
    "\n",
    "from chatbot import farewells\n",
    "\n",
    "print(farewells()) #pas besoin du nom du module avec cette syntaxe"
   ]
  },
  {
   "cell_type": "markdown",
   "metadata": {},
   "source": [
    "On peut ajouter tout le contenu d'un module avec la syntaxe suivante :"
   ]
  },
  {
   "cell_type": "code",
   "execution_count": null,
   "metadata": {},
   "outputs": [],
   "source": [
    "from chatbot import *\n",
    "\n",
    "print(greeting(votreNom))\n",
    "print(farewells())"
   ]
  },
  {
   "cell_type": "markdown",
   "metadata": {},
   "source": [
    "**Remarque :** cette syntaxe est l'équivalent d'un `with nomModule; use nomModule;` en ADA. Pratique pour aller vite mais dangeureux. Si on importe plusieurs modules contenant chacun une fonction de même nom, le dernier import efface les précédentes définitions."
   ]
  },
  {
   "cell_type": "markdown",
   "metadata": {},
   "source": [
    "Le `renames`se retrouve aussi en Python avec le mot clé `as`."
   ]
  },
  {
   "cell_type": "code",
   "execution_count": null,
   "metadata": {},
   "outputs": [],
   "source": [
    "import chatbot as chat\n",
    "\n",
    "chat.farewells()"
   ]
  },
  {
   "cell_type": "markdown",
   "metadata": {},
   "source": [
    "### c) Compléter le script"
   ]
  },
  {
   "cell_type": "markdown",
   "metadata": {},
   "source": [
    "On va rajouter quelques fonctionnalités à notre module."
   ]
  },
  {
   "cell_type": "markdown",
   "metadata": {},
   "source": [
    "i) Dans le fichier `chatbot.py`, rajoutez la fonction `chatbox` dont voici une version incomplète."
   ]
  },
  {
   "cell_type": "raw",
   "metadata": {},
   "source": [
    "def chatbot():\n",
    "    user_input = input(\"Vous : \")\n",
    "    while False:\n",
    "        if True:\n",
    "            name = input(\"Chatbot : Quel est votre nom ? \")\n",
    "            print(\"Chatbot : \" + greeting(name))\n",
    "        else:\n",
    "            print(\"Chatbot : Je ne comprends pas.\")\n",
    "        user_input = input(\"Vous : \")\n",
    "    print(\"Chatbot \" + farewells())"
   ]
  },
  {
   "cell_type": "markdown",
   "metadata": {},
   "source": [
    "**Rappel :** la fonction `input` prend en paramètre un texte à afficher et renvoie sous forme de `string` la réponse de l'utilisateur.\n",
    "\n",
    "ii) Pour arrêter le dialogue, il faut écrire un message contenant \"au revoir\". Remplacez la condition de la boucle. Pas besoin de recoder une fonction `sous_mot` comme vous l'avez fait dans le TD2, le mot clé `in` est votre ami.\n",
    "\n",
    "iii) Dans la boucle, on veut ne demander le nom de l'utilisateur que si celui-ci vient de dire une phrase contenant \"bonjour\". Modifiez la condition du branchement conditionnel dans ce sens.\n",
    "\n",
    "iv) Si un utilisateur écrit \"Au revoir !\", \"Allez ! Au Revoir !\" ou encore \"aaU rEVOIR !!\", votre code ne marche plus. En utilisant une méthode du type `string`, retirez la dépendance aux majuscules.\n",
    "\n",
    "v) Ajoutez au début de votre module la ligne suivante : `user_count = 0`. Vous venez de rajouter une variable globale.\n",
    "\n",
    "vi) Incrémentez ce compteur à chaque fois que chatbot reçoit un message contenant `bonjour`. Pour utiliser une variable globale, ajoutez au début de la fonction : `global user_count`.\n",
    "\n",
    "vii) Dans la fonction `greeting`, mettez à jour le message pour afficher aussi le numéro de l'utilisateur."
   ]
  },
  {
   "cell_type": "code",
   "execution_count": null,
   "metadata": {},
   "outputs": [],
   "source": [
    "%autoreload\n",
    "\n",
    "import chatbot\n",
    "chatbot.chatbot()"
   ]
  },
  {
   "cell_type": "markdown",
   "metadata": {},
   "source": [
    "## 2) Utilisation du module math"
   ]
  },
  {
   "cell_type": "code",
   "execution_count": 3,
   "metadata": {},
   "outputs": [],
   "source": [
    "import math"
   ]
  },
  {
   "cell_type": "markdown",
   "metadata": {},
   "source": [
    "Pour les outils mathématiques de bases, on peut utiliser le module `math`. La documentation peut être trouvée à la page suivante : <a href=\"https://docs.python.org/3/library/math.html#module-math\">lien</a>."
   ]
  },
  {
   "cell_type": "markdown",
   "metadata": {},
   "source": [
    "En particulier, on y trouve une valeur spécifique : `math.inf` qui représente $+\\infty$. C'est bien pratique quand on cherche le minimum d'une liste d'entiers. On parcourt la liste en comparant la valeur courante avec le minimum vu pour l'instant : c'est l'algorithme ci-dessous."
   ]
  },
  {
   "cell_type": "raw",
   "metadata": {},
   "source": [
    "Algo minimum_liste:\n",
    "Entrée : L liste\n",
    "min_vu = ??\n",
    "Pour x dans L\n",
    "    Si x < min_vu\n",
    "        min_vu = x\n",
    "    Fin si\n",
    "Fin Pour\n",
    "Renvoyer min_vu"
   ]
  },
  {
   "cell_type": "markdown",
   "metadata": {},
   "source": [
    "Mais comment initialiser `min_vu` ? Trois solutions :\n",
    "- On met une valeur suffisament grande. Mais si on n'a pas de borne inférieure sur les valeurs de la liste ? J'espère que vous ne mettez plus :`min_vu = 10000` maintenant. \n",
    "- On peut mettre n'importe quelle valeur de la liste car elle sera supérieure ou égale au minimum. C'est vrai pour la première en particulier : `min_vu = L[0]`. Et si la liste est vide ? Cette technique ne marche pas non plus dans des cas plus complexes : si on cherche le minimum des éléments pairs par exemple. On pourrait s'en sortir avec un booléen mais la troisième solution va vous simplifier la vie.\n",
    "- On initialise à $min\\_vu=+\\infty$. En ADA, vous pouvez utiliser `Integer'Last`, en Python `math.inf`. Cette valeur sera nécessairement supérieure au minimum."
   ]
  },
  {
   "cell_type": "code",
   "execution_count": null,
   "metadata": {},
   "outputs": [],
   "source": [
    "def min_list_pair(L):\n",
    "    \"\"\"\n",
    "    Renvoie le plus petit élément pair de la liste\n",
    "    Et math.inf si aucun élément n'est pair\n",
    "    \"\"\"\n",
    "    min_vu = math.inf\n",
    "    for x in L:\n",
    "        if x%2==0 and x < min_vu:\n",
    "            min_vu = x\n",
    "    return min_vu\n",
    "        "
   ]
  },
  {
   "cell_type": "markdown",
   "metadata": {},
   "source": [
    "**Exercice :** ouvrez la documentation du module `math` et cherchez quelle(s) fonction(s) utiliser pour chaque question.\n",
    "\n",
    "1) On définit la suite $(u_n)_{n\\geq 1}$ : \n",
    "$$\n",
    "u_n = \\frac{(-1)^n \\cdot n \\cdot \\cos(n)}{n \\cdot \\sqrt{n} +\\sin(n)}.\n",
    "$$\n",
    "Déterminez expérimentalement si cette suite semble converger en $+\\infty$ ? La fonction `math.isclose` peut vous éviter d'écrire un test de proximité entre deux flottants comme on l'a fait (improprement) lors du TD1. "
   ]
  },
  {
   "cell_type": "code",
   "execution_count": null,
   "metadata": {},
   "outputs": [],
   "source": [
    "def u_n(n):\n",
    "    return math.pow(-1,n)*n*math.cos(n)/(n*math.sqrt(n)+math.sin(n))\n",
    "\n",
    "for i in range(100000,200000):\n",
    "    assert(math.isclose(u_n(i),0,abs_tol=0.01)) #semble converger vers 0"
   ]
  },
  {
   "cell_type": "markdown",
   "metadata": {},
   "source": [
    "2) Et la série de terme général $u_n$ ? Autrement dit, la suite $\\left(\\sum\\limits_{k=1}^{n}{u_k} \\right)_{n\\geq 1}$ semble t'elle converger quand $n$ tend vers $+\\infty$ ?"
   ]
  },
  {
   "cell_type": "code",
   "execution_count": null,
   "metadata": {},
   "outputs": [],
   "source": [
    "def serie(suite,n):\n",
    "    somme = 0\n",
    "    for i in range(1,n+1):\n",
    "        somme += suite(i)\n",
    "    return somme\n",
    "\n",
    "serie(u_n,1000000) #la série semble converger vers -0.27 environ\n",
    "#on peut montrer formellement qu'elle est convergente"
   ]
  },
  {
   "cell_type": "markdown",
   "metadata": {},
   "source": [
    "3) La formule de Stirling donne un équivalent en $+\\infty$ de la factorielle :\n",
    "$$\n",
    "n! \\sim \\sqrt{2\\pi n} \\left( \\frac{n}{e} \\right)^n\n",
    "$$\n",
    "Vérifier cette équivalence expérimentalement. \n",
    "\n",
    "**Attention :** rappelez vous la définition de l'équivalence : \n",
    "$$\n",
    "f \\sim g \\Leftrightarrow f(n) = g(n) + o(g(n))\n",
    "$$\n",
    "Donc la différence ne tend pas nécessairement vers $0$, elle est juste négligeable par rapport à $g$."
   ]
  },
  {
   "cell_type": "code",
   "execution_count": 4,
   "metadata": {},
   "outputs": [
    {
     "name": "stdout",
     "output_type": "stream",
     "text": [
      "0.9994445995594481\n",
      "-0.0005554004405519259\n"
     ]
    }
   ],
   "source": [
    "def stirling(n):\n",
    "    return math.sqrt(2*math.pi*n)*math.pow(n/math.e,n)\n",
    "\n",
    "n = 150\n",
    "print(stirling(n)/math.factorial(n)) #égal à 1 + o(1)\n",
    "print((stirling(n)-math.factorial(n))/math.factorial(n)) # o(1)"
   ]
  },
  {
   "cell_type": "markdown",
   "metadata": {},
   "source": [
    "4) On peut déduire de cette formule que :\n",
    "$$\n",
    "\\log(n!) \\sim n \\log(n)\n",
    "$$\n",
    "Vérifier de même la cohérence de cette équivalence.\n",
    "\n",
    "**Remarque :** cette dernière est bien pratique pour le calcul de complexité. Par exemple, on peut montrer qu'en ordre de grandeur, la complexité minimale d'un tri par comparaison est au moins en $n\\log n$. Le tri par dénombrement vu au TD2 était linéaire mais utilisait une hypothèse forte sur les données à trier : les valeurs étaient bornées."
   ]
  },
  {
   "cell_type": "code",
   "execution_count": null,
   "metadata": {},
   "outputs": [],
   "source": [
    "n=100000\n",
    "\n",
    "print(math.log(math.factorial(n))/(n*math.log(n)))"
   ]
  },
  {
   "cell_type": "markdown",
   "metadata": {},
   "source": [
    "Pour accélérer le calcul, on peut remarquer que $\\log(n!)=\\sum\\limits_{k=1}^n{\\log(k)}$."
   ]
  },
  {
   "cell_type": "code",
   "execution_count": null,
   "metadata": {},
   "outputs": [],
   "source": [
    "n=10000000\n",
    "\n",
    "somme = 0\n",
    "for i in range(1,n):\n",
    "    somme += math.log(i)\n",
    "    \n",
    "print(somme/(n*math.log(n)))"
   ]
  },
  {
   "cell_type": "markdown",
   "metadata": {},
   "source": [
    "Mais ce n'est peut-être pas encore convainquant. D'où l'intérêt d'une preuve formelle."
   ]
  },
  {
   "cell_type": "markdown",
   "metadata": {},
   "source": [
    "## 3) Utilisation du module random"
   ]
  },
  {
   "cell_type": "markdown",
   "metadata": {},
   "source": [
    "Le module `random` fournit des fonctions permettant de générer des valeurs aléatoires. Par exemple, avec la fonction `random.shuffle`, on retrouve la permutation que l'on a vu à la fin du TD4."
   ]
  },
  {
   "cell_type": "code",
   "execution_count": null,
   "metadata": {},
   "outputs": [],
   "source": [
    "import random"
   ]
  },
  {
   "cell_type": "markdown",
   "metadata": {},
   "source": [
    "### a) Générateurs"
   ]
  },
  {
   "cell_type": "markdown",
   "metadata": {},
   "source": [
    "Une autre fonction très utile est `random.randint`. Elle prend en paramètre deux entiers et renvoie un entier aléatoire entre les deux paramètres (inclus)."
   ]
  },
  {
   "cell_type": "code",
   "execution_count": null,
   "metadata": {},
   "outputs": [],
   "source": [
    "for i in range(10):\n",
    "    print(random.randint(3,5))"
   ]
  },
  {
   "cell_type": "markdown",
   "metadata": {},
   "source": [
    "Le générateur sous-jacent est similaire à celui vu pour permuter aléatoirement une chaîne de caractère lors du TD4. Il y a une suite $(u_n)_n$ d'entiers pseudo-aléatoire. Et la fonction `randint` calcule $u_0$ lors du premier appel, puis $u_1$ lors du deuxième, etc... \n",
    "\n",
    "Mais comment fait elle pour se souvenir d'où elle en était et ne pas calculer la même valeur à chaque fois ? C'est ce qu'on appelle un  générateur. Donnons un petit exemple déterministe."
   ]
  },
  {
   "cell_type": "code",
   "execution_count": 6,
   "metadata": {},
   "outputs": [],
   "source": [
    "def f():\n",
    "    x=0\n",
    "    while x<10:\n",
    "        yield x\n",
    "        x=x+1  "
   ]
  },
  {
   "cell_type": "markdown",
   "metadata": {},
   "source": [
    "Le mot clé `yield` permet de mettre en pause la fonction et de renvoyer une valeur. Lorsqu'elle est rappelée, elle ne recommence pas au début, mais juste après le yield.\n",
    "\n",
    "Ici, un premier appel à $f$ met `x` à $0$, rentre dans la boucle, puis renvoie $0$. Un deuxième appel repart de la ligne `x=x+1` en se souvenant que `x` contient $0$. Un troisième appel repart donc avec `x` contenant $1$.\n",
    "\n",
    "On ne peut pas appeler `f` pour récupérer les valeurs successives. `f()` renvoie ce qu'on appelle un générateur. Puis on peut appeler ce générateur avec la fonction `next`."
   ]
  },
  {
   "cell_type": "code",
   "execution_count": 7,
   "metadata": {},
   "outputs": [
    {
     "name": "stdout",
     "output_type": "stream",
     "text": [
      "0\n",
      "1\n",
      "2\n",
      "3\n",
      "4\n"
     ]
    }
   ],
   "source": [
    "g = f() #on initialise un générateur dans g\n",
    "print(next(g)) #on appelle la fonction la première fois\n",
    "print(next(g)) #on la rappelle : ça repart de x=x+1 et x contient 0 au début\n",
    "print(next(g)) #on la rappelle : ça repart de x=x+1 et x contient 1 au début\n",
    "print(next(g)) #on la rappelle : ça repart de x=x+1 et x contient 2 au début\n",
    "print(next(g)) #on la rappelle : ça repart de x=x+1 et x contient 3 au début"
   ]
  },
  {
   "cell_type": "markdown",
   "metadata": {},
   "source": [
    "C'est ce fonctionnement qui est utilisé pour générer des valeurs aléatoires : `random.randint` cache un `next(g)` avec `g` bien choisi.\n",
    "\n",
    "Un avantage important des générateurs est de pouvoir itérer sur les valeurs."
   ]
  },
  {
   "cell_type": "code",
   "execution_count": null,
   "metadata": {},
   "outputs": [],
   "source": [
    "for i in f():\n",
    "    print(i)"
   ]
  },
  {
   "cell_type": "markdown",
   "metadata": {},
   "source": [
    "C'est exactement la même chose qui se passe quand vous utilisez `range`."
   ]
  },
  {
   "cell_type": "code",
   "execution_count": null,
   "metadata": {},
   "outputs": [],
   "source": [
    "for i in range(10000):\n",
    "    pass"
   ]
  },
  {
   "cell_type": "markdown",
   "metadata": {},
   "source": [
    "Au moyen-âge, Python 2 générait une liste contenant les entiers de $0$ à $9999$, puis $i$ itérait sur cette liste. Ce qui est coûteux en mémoire et inutile : il suffit d'avoir un compteur $i$ et de l'incrémenter à chaque étape. Depuis Python 3, `range` est un générateur : à chaque itération, une fonction mémorise le $i$ courant et est rappelée : elle le modifie pour passer à l'étape suivante et le renvoie. Si un jour vous voyez `xrange`, c'est l'équivalent de `range` mais en Python 2."
   ]
  },
  {
   "cell_type": "markdown",
   "metadata": {},
   "source": [
    "### b) Exercices"
   ]
  },
  {
   "cell_type": "markdown",
   "metadata": {},
   "source": [
    "**Exercice 1 :** Ecrire un générateur d'entiers aléatoires. Vous avez le droit d'utiliser la fonction `suivant` qui est donné à la fin du TD4. "
   ]
  },
  {
   "cell_type": "code",
   "execution_count": null,
   "metadata": {},
   "outputs": [],
   "source": [
    "def suivant():\n",
    "    \"\"\"\n",
    "    renvoie un entier pseudo aléatoire\n",
    "    \"\"\"\n",
    "    u = 3\n",
    "    while True:\n",
    "        u = (227608 * u + 9204) % 59049\n",
    "        yield u\n",
    "        \n",
    "gen_rand = suivant()\n",
    "for i in range(10):\n",
    "    print(next(gen_rand))"
   ]
  },
  {
   "cell_type": "markdown",
   "metadata": {},
   "source": [
    "**Exercice 2 :** une loi géométrique correspond à faire des tirages aléatoires jusqu'à obtenir un succès. Par exemple, on lance une pièce en boucle et on s'arrête dès qu'on obtient un PILE. Si $p$ est la probabilité de succès, la probabilité de faire $k$ lancers pour obtenir un premier succès est :\n",
    "$$\n",
    "\\mathbb{P}[k]=p\\cdot (1-p)^{k-1}.\n",
    "$$\n",
    "Interprétation : $k-1$ échecs de probabilité $1-p$, puis un succès de probabilité $p$.\n",
    "\n",
    "1) Définir une fonction `geometrique` qui utilise `random.randint` pour calculer combien de lancers de dé à $6$ faces il faut faire pour obtenir le premier $5$."
   ]
  },
  {
   "cell_type": "code",
   "execution_count": null,
   "metadata": {},
   "outputs": [],
   "source": [
    "def geometrique_de():\n",
    "    nb_tirage = 1\n",
    "    lancer = random.randint(1,6)\n",
    "    while lancer != 5:\n",
    "        nb_tirage += 1\n",
    "        lancer = random.randint(1,6)\n",
    "    return nb_tirage"
   ]
  },
  {
   "cell_type": "markdown",
   "metadata": {},
   "source": [
    "2) En utilisant un dictionnaire, écrire une fonction `frequence_geo` qui prend en paramètre un entier $n$ et fait $n$ tirages. Ces tirages peuvent donner plusieurs résultats : $1,\\ 2, \\ldots$ La fonction `frequence_geo` génère un dictionnaire associant à chaque résultat sa fréquence."
   ]
  },
  {
   "cell_type": "code",
   "execution_count": null,
   "metadata": {},
   "outputs": [],
   "source": [
    "def frequence_geo(n):\n",
    "    d = dict()\n",
    "    for i in range(n):\n",
    "        t = geometrique_de()\n",
    "        if t not in d:\n",
    "            d[t] = 1\n",
    "        else:\n",
    "            d[t] += 1\n",
    "            \n",
    "    somme = sum(d.values())\n",
    "    d_freq = dict()\n",
    "    for k in d:\n",
    "        d_freq[k] = (d[k]/somme)\n",
    "    return d_freq"
   ]
  },
  {
   "cell_type": "markdown",
   "metadata": {},
   "source": [
    "3) On voudrait que notre fonction qui génère un dictionnaire de fréquence ne soit pas spécifique à une fonction de tirage. Ecrire une fonction `frequence_tirage` qui prend deux paramètres : la fonction qui fait un tirage et le nombre de tirage."
   ]
  },
  {
   "cell_type": "code",
   "execution_count": null,
   "metadata": {},
   "outputs": [],
   "source": [
    "def frequence_tirage(tirage,n):\n",
    "    d = dict()\n",
    "    for i in range(n):\n",
    "        t = tirage()\n",
    "        if t not in d:\n",
    "            d[t] = 1\n",
    "        else:\n",
    "            d[t] += 1\n",
    "            \n",
    "    somme = sum(d.values())\n",
    "    d_freq = dict()\n",
    "    for k in d:\n",
    "        d_freq[k] = (d[k]/somme)\n",
    "    return d_freq"
   ]
  },
  {
   "cell_type": "markdown",
   "metadata": {},
   "source": [
    "4) Quelle est l'espérance estimée ?"
   ]
  },
  {
   "cell_type": "code",
   "execution_count": null,
   "metadata": {},
   "outputs": [],
   "source": [
    "d = frequence_tirage(geometrique_de,10000)\n",
    "moyenne = 0\n",
    "for k,v in d.items():\n",
    "    moyenne += k*v\n",
    "print(moyenne)"
   ]
  },
  {
   "cell_type": "markdown",
   "metadata": {},
   "source": [
    "L'espérance d'une loi géométrique est $\\frac{1}{p}$. Ici, la chance de succès (obtenir un $5$) est $p=\\frac{1}{6}$. On retrouve bien une valeur proche de $6$ expérimentalement."
   ]
  },
  {
   "cell_type": "markdown",
   "metadata": {},
   "source": [
    "**Exercice 3 :** une loi de Poisson permet de représenter des évènements rares. On tire un entier naturel aléatoirement. Pour la loi de Poisson de paramètre $\\lambda\\geq 0$, la probabilité d'obtenir $k$ est :\n",
    "$$\n",
    "\\mathbb{P}[k] = \\frac{\\lambda^k}{k!} e^{-\\lambda}\n",
    "$$\n",
    "\n",
    "1) Définir une fonction `Poisson` qui prend un paramètre $p\\in]0,1]$. Cette fonction tire des flottants aléatoires entre $0$ et $1$ jusqu'à ce que le produit de ceux déjà tirés soit inférieur à un paramètre $p$. La fonction renvoie le nombre de flottants tirés. Plus formellement, on tire donc une séquence $u_1, u_2, \\ldots$ et on renvoie le plus petit $k$ tel que :\n",
    "$$\n",
    "\\prod\\limits_{i=1}^k{u_i} \\leq p\n",
    "$$"
   ]
  },
  {
   "cell_type": "code",
   "execution_count": null,
   "metadata": {},
   "outputs": [],
   "source": [
    "def Poisson(p):\n",
    "    u=1\n",
    "    n=0\n",
    "    while u>p:\n",
    "        u=u*random.random()\n",
    "        n+=1\n",
    "    return n"
   ]
  },
  {
   "cell_type": "markdown",
   "metadata": {},
   "source": [
    "2) Utiliser la fonction `frequence_tirage` de l'exercice précédent avec pour fonction de tirage la loi de `Poisson` de paramètre $1/e$. \n",
    "\n",
    "\n",
    "**Remarque :** pour définir une fonction en une ligne, on peut utiliser une lambda fonction. `f = lambda x : x**2` définit la fonction $f:x\\mapsto x^2$.\n",
    "\n",
    "Vous devriez retrouver la loi de Poisson de paramètre $\\lambda=1$ (vous pouvez multiplier les fréquences par $e$ pour mieux lire les valeurs)."
   ]
  },
  {
   "cell_type": "code",
   "execution_count": null,
   "metadata": {},
   "outputs": [],
   "source": [
    "import math\n",
    "\n",
    "def tirage():\n",
    "    return Poisson(1/math.e)\n",
    "\n",
    "d = frequence_tirage(tirage,1000000)\n",
    "#d = frequence_tirage(lambda : Poisson(1/math.e),1000000) #avec une lambda fonction\n",
    "\n",
    "for k,v in sorted(d.items()):\n",
    "    print(\"P[X=\"+str(k)+\"]*e=\"+str(v*math.e))"
   ]
  },
  {
   "cell_type": "markdown",
   "metadata": {},
   "source": [
    "On devrait bien obtenir $\\mathbb{P}[X=k]\\cdot e = \\frac{1}{k!}$."
   ]
  },
  {
   "cell_type": "markdown",
   "metadata": {},
   "source": [
    "## 4) Utilisation du module scypy"
   ]
  },
  {
   "cell_type": "markdown",
   "metadata": {},
   "source": [
    "Lorsque l'on fait des mathématiques sur machine, une difficulté importante est que les calculs sont approchés. On a notamment utilisé `math.isclose`. \n",
    "\n",
    "Une solution plus propre consiste à faire du *calcul formel*, aussi appelé *calcul symbolique*. Les valeurs sont représentées de manière exactes. Par exemple, la fraction $\\frac{1}{3}$ n'est pas simplifiée en $0.333\\ldots3$. On peut manipuler des objets plus complexes, tels que des polynômes, en les sommant, les dérivants, etc...\n",
    "\n",
    "La documentation est disponible en suivant ce <a href=\"https://docs.sympy.org/latest/index.html\">lien</a>."
   ]
  },
  {
   "cell_type": "code",
   "execution_count": null,
   "metadata": {},
   "outputs": [],
   "source": [
    "%pip install sympy\n",
    "import sympy"
   ]
  },
  {
   "cell_type": "markdown",
   "metadata": {},
   "source": [
    "Vous pouvez définir des symboles."
   ]
  },
  {
   "cell_type": "code",
   "execution_count": null,
   "metadata": {},
   "outputs": [],
   "source": [
    "x = sympy.symbols('x')\n",
    "y = sympy.symbols('y')"
   ]
  },
  {
   "cell_type": "markdown",
   "metadata": {},
   "source": [
    "Puis définir des expressions : "
   ]
  },
  {
   "cell_type": "code",
   "execution_count": null,
   "metadata": {},
   "outputs": [],
   "source": [
    "expr1 = x**2 + x + 1\n",
    "print(expr1)\n",
    "expr2 = x**2 -x*y\n",
    "print(expr2)"
   ]
  },
  {
   "cell_type": "markdown",
   "metadata": {},
   "source": [
    "On peut faire les opérations classiques :"
   ]
  },
  {
   "cell_type": "code",
   "execution_count": null,
   "metadata": {},
   "outputs": [],
   "source": [
    "fact_expr2 = sympy.factor(expr2)\n",
    "print(fact_expr2)\n",
    "print(sympy.expand(fact_expr2))"
   ]
  },
  {
   "cell_type": "markdown",
   "metadata": {},
   "source": [
    "**Exercice :** à l'aide de la documentation, cherchez comment résoudre les problèmes suivants."
   ]
  },
  {
   "cell_type": "markdown",
   "metadata": {},
   "source": [
    "1) Calculez les racines du polynôme $X^2-X-1$ et de $2X^3-X^2+7X+2$."
   ]
  },
  {
   "cell_type": "code",
   "execution_count": null,
   "metadata": {},
   "outputs": [],
   "source": [
    "P = x**2-x-1\n",
    "sympy.roots(P,x)"
   ]
  },
  {
   "cell_type": "code",
   "execution_count": null,
   "metadata": {},
   "outputs": [],
   "source": [
    "Q = 2*x**3-x**2+7*x+2\n",
    "sympy.roots(Q,x)"
   ]
  },
  {
   "cell_type": "markdown",
   "metadata": {},
   "source": [
    "2) Décomposer la fraction rationelle suivante :\n",
    "$$\n",
    "\\frac{X^2+3X+1}{(X-1)^2(X-2)}\n",
    "$$"
   ]
  },
  {
   "cell_type": "code",
   "execution_count": null,
   "metadata": {},
   "outputs": [],
   "source": [
    "P = x**2+3*x+1\n",
    "Q = x**3-4*x**2+5*x-2\n",
    "sympy.apart(P/Q)"
   ]
  },
  {
   "cell_type": "markdown",
   "metadata": {},
   "source": [
    "3) On reprend une question que le module `math` ne nous avait pas permis de résoudre proprement. On voulait vérifier que :\n",
    "$$\n",
    "\\log(n!) \\sim n \\log(n)\n",
    "$$\n",
    "En utilisant `sympy` vous devriez mieux vous en sortir."
   ]
  },
  {
   "cell_type": "code",
   "execution_count": null,
   "metadata": {
    "scrolled": true
   },
   "outputs": [],
   "source": [
    "expr = sympy.log(sympy.factorial(x))/(x*sympy.log(x))\n",
    "sympy.limit(expr,x,sympy.oo)"
   ]
  },
  {
   "cell_type": "markdown",
   "metadata": {},
   "source": [
    "4) Vérifier l'identité suivante :\n",
    "$$\n",
    "\\forall x\\in \\mathbb{R}, \\frac{[1+\\sin(x)]^2+[1-\\sin(x)]^2}{2\\cos(x)^2} = \\frac{1+\\sin(x)^2}{1-\\sin(x)^2} \n",
    "$$"
   ]
  },
  {
   "cell_type": "code",
   "execution_count": null,
   "metadata": {},
   "outputs": [],
   "source": [
    "expr = ((1+sympy.sin(x))**2+(1-sympy.sin(x))**2)/(2*sympy.cos(x)**2)-(1+sympy.sin(x)**2)/(1-sympy.sin(x)**2)\n",
    "sympy.trigsimp(expr)"
   ]
  },
  {
   "cell_type": "markdown",
   "metadata": {},
   "source": [
    "## 5) Exercice complémentaire"
   ]
  },
  {
   "cell_type": "markdown",
   "metadata": {},
   "source": [
    "On reprend l'exercice de partie 2 sur la formule de Stirling."
   ]
  },
  {
   "cell_type": "markdown",
   "metadata": {},
   "source": [
    "i) On définit la fonction Gamma d'Euler :\n",
    "$$\n",
    "\\begin{array}{ccc}\n",
    "\\Gamma : & \\mathbb{R_+^*} & \\rightarrow & \\mathbb{\\mathbb{R}} \\\\\n",
    "         & x              & \\mapsto     & \\int_{0}^{+\\infty}{t^{x-1}e^{-t}dt}\n",
    "\\end{array}\n",
    "$$\n",
    "Que vaut $\\Gamma\\left(\\frac{1}{2}\\right)^2$ ? **Ne cherchez pas à calculer d'intégrale et rappelez vous l'objectif du TD**."
   ]
  },
  {
   "cell_type": "code",
   "execution_count": null,
   "metadata": {},
   "outputs": [],
   "source": [
    "assert(math.isclose(math.gamma(0.5)**2,math.pi,abs_tol=0.001,rel_tol=0.001))"
   ]
  },
  {
   "cell_type": "markdown",
   "metadata": {},
   "source": [
    "ii) Vérifier que :\n",
    "$$\n",
    "\\Gamma(x+1) \\sim_{+\\infty} \\sqrt{2\\pi x} \\left( \\frac{x}{e} \\right)^x\n",
    "$$"
   ]
  },
  {
   "cell_type": "markdown",
   "metadata": {},
   "source": [
    "Pour se convaincre de l'équivalence sur les réels, on va tester sur des flottants pris aléatoirement, en incrémentant une variable $x$ progressivement d'un flottant aléatoire entre $0$ et $1$. On répète cette opération tant qu'il n'y a pas de dépassement et on rattrape l'exception afin d'arrêter la boucle."
   ]
  },
  {
   "cell_type": "code",
   "execution_count": null,
   "metadata": {},
   "outputs": [],
   "source": [
    "def stirling_continue(x):\n",
    "    return math.sqrt(2*math.pi*x)*math.pow(x/math.e,x)\n",
    "\n",
    "depassement = False\n",
    "monotone = True\n",
    "x=1\n",
    "ancien_quotient = math.inf\n",
    "while not depassement and monotone:\n",
    "    try:\n",
    "        quotient = math.gamma(x+1)/stirling(x)\n",
    "        if ancien_quotient<quotient:\n",
    "            print(\"quotient non monotone\")\n",
    "            monotone = False\n",
    "        else:\n",
    "            ancien_quotient = quotient\n",
    "            x += random.random()\n",
    "    except OverflowError:\n",
    "        depassement = True\n",
    "        \n",
    "print(quotient)"
   ]
  },
  {
   "cell_type": "markdown",
   "metadata": {},
   "source": [
    "iii) On peut prolonger la fonction $\\Gamma$ aux nombres complexes de partie réelles strictement positives. On va donc manipuler des nombres complexes.\n",
    "\n",
    "En Python, le type `complex` existe déjà. On peut définir des complexes de plusieurs manières :"
   ]
  },
  {
   "cell_type": "code",
   "execution_count": null,
   "metadata": {},
   "outputs": [],
   "source": [
    "z = complex(1,3)\n",
    "z = 1+3j\n",
    "print(z)"
   ]
  },
  {
   "cell_type": "markdown",
   "metadata": {},
   "source": [
    "Pour rappel, les complexes ont deux représentations classiques :\n",
    "- Algébrique : $a + i\\cdot b$ avec $a,b\\in\\mathbb{R}$. On stocke $a$ (partie réelle) et $b$ (partie imaginaire). C'est la représentation utilisée en Python.\n",
    "- Polaire : $r\\cdot e^{i \\Theta}$, avec $r\\in\\mathbb{R_+},\\Theta\\in]-\\pi,\\pi]$. On stocke $r$ (rayon) et $\\Theta$ (argument).\n",
    "\n",
    "Ecrire deux fonctions de conversion d'une représentation vers l'autre. N'utilisez aucun module."
   ]
  },
  {
   "cell_type": "code",
   "execution_count": null,
   "metadata": {},
   "outputs": [],
   "source": [
    "def polar(z):\n",
    "    r = math.sqrt(z.real**2+z.imag**2)\n",
    "    theta = math.copysign(1,z.imag)*math.acos(z.real/r)\n",
    "    return (r,theta)\n",
    "\n",
    "assert(polar(-1-1j)[0]==math.sqrt(2))\n",
    "assert(polar(-1-1j)[1]==-3*math.pi/4)"
   ]
  },
  {
   "cell_type": "code",
   "execution_count": null,
   "metadata": {},
   "outputs": [],
   "source": [
    "def algebrique(r,theta):\n",
    "    return complex(r*math.cos(theta),r*math.sin(theta))\n",
    "\n",
    "assert(algebrique(*polar(1))==1) #l'étoile transforme le couple en deux paramètres\n",
    "assert(math.isclose(algebrique(*polar(1j)).real,0,abs_tol=0.001)) #valeur approchée\n",
    "assert(math.isclose(algebrique(*polar(1j)).imag,1,abs_tol=0.001))"
   ]
  },
  {
   "cell_type": "markdown",
   "metadata": {},
   "source": [
    "iv) Vérifier expérimentalement, en générant des nombres complexes aléatoires, la correction de vos fonctions à partir du module `cmath` (équivalent de `math` pour les complexes). La documentation de ce module : <a href=\"https://docs.python.org/3/library/cmath.html#module-cmath\">lien</a>."
   ]
  },
  {
   "cell_type": "code",
   "execution_count": null,
   "metadata": {},
   "outputs": [],
   "source": [
    "import cmath\n",
    "\n",
    "nb_test = 1000\n",
    "max = 100\n",
    "#tests polar\n",
    "for i in range(nb_test):\n",
    "    z = complex(random.uniform(-max,max),random.uniform(-max,max))\n",
    "    assert(math.isclose(polar(z)[0],cmath.polar(z)[0],abs_tol=0.001))\n",
    "    assert(math.isclose(polar(z)[1],cmath.polar(z)[1],abs_tol=0.001))\n",
    "    \n",
    "#tests algebrique\n",
    "for i in range(nb_test):\n",
    "    r = random.uniform(0,max)\n",
    "    theta = random.uniform(-math.pi,math.pi)\n",
    "    assert(cmath.isclose(algebrique(r,theta),cmath.rect(r,theta),abs_tol=0.001)) #on utilise cmath.isclose"
   ]
  },
  {
   "cell_type": "markdown",
   "metadata": {},
   "source": [
    "v) Vérifiez expérimentalement, en générant des nombres complexes aléatoires, que :\n",
    "$$\n",
    "\\forall z\\in \\mathbb{C}\\backslash\\mathbb{N}, Réel(z)>0 \\Rightarrow \\Gamma(z)\\cdot \\Gamma(1-z) = \\frac{\\pi}{\\sin(z\\pi)}\n",
    "$$"
   ]
  },
  {
   "cell_type": "markdown",
   "metadata": {},
   "source": [
    "Vous remarquez rapidement que la fonction gamma sur les complexes n'est pas disponible dans le module `cmath`. Une petite recherche en ligne vous suggère d'utiliser `scipy.special`."
   ]
  },
  {
   "cell_type": "code",
   "execution_count": null,
   "metadata": {},
   "outputs": [],
   "source": [
    "%pip install scipy \n",
    "import scipy.special"
   ]
  },
  {
   "cell_type": "code",
   "execution_count": null,
   "metadata": {},
   "outputs": [],
   "source": [
    "nb_test = 1000\n",
    "max = 100\n",
    "for i in range(nb_test):\n",
    "    z = complex(random.uniform(0,max),random.uniform(-max,max))\n",
    "    if z != math.floor(z.real): # si z n'est pas un entier\n",
    "        a = scipy.special.gamma(z)*scipy.special.gamma(1-z)\n",
    "        b = math.pi/cmath.sin(math.pi*z)\n",
    "        assert(cmath.isclose(a,b))"
   ]
  },
  {
   "cell_type": "markdown",
   "metadata": {},
   "source": [
    "**Remarque :** le module `sympy` connait cette simplification :"
   ]
  },
  {
   "cell_type": "code",
   "execution_count": null,
   "metadata": {},
   "outputs": [],
   "source": [
    "z = sympy.symbols('z')\n",
    "sympy.gammasimp(sympy.gamma(z)*sympy.gamma(1-z))"
   ]
  }
 ],
 "metadata": {
  "kernelspec": {
   "display_name": "Python 3 (ipykernel)",
   "language": "python",
   "name": "python3"
  },
  "language_info": {
   "codemirror_mode": {
    "name": "ipython",
    "version": 3
   },
   "file_extension": ".py",
   "mimetype": "text/x-python",
   "name": "python",
   "nbconvert_exporter": "python",
   "pygments_lexer": "ipython3",
   "version": "3.9.13"
  }
 },
 "nbformat": 4,
 "nbformat_minor": 4
}
