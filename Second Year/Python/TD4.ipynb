{
 "cells": [
  {
   "cell_type": "markdown",
   "metadata": {},
   "source": [
    "# Quatrième séance : adressage et mutabilité"
   ]
  },
  {
   "cell_type": "markdown",
   "metadata": {},
   "source": [
    "Durant cette séance, on étudie la gestion des variables."
   ]
  },
  {
   "cell_type": "markdown",
   "metadata": {},
   "source": [
    "## 1) Tout est pointeur !"
   ]
  },
  {
   "cell_type": "markdown",
   "metadata": {},
   "source": [
    "### a) Les références"
   ]
  },
  {
   "cell_type": "markdown",
   "metadata": {},
   "source": [
    "En Ada, vous devez déclarer le type d'une variable avant de pouvoir la manipuler."
   ]
  },
  {
   "cell_type": "raw",
   "metadata": {},
   "source": [
    "procedure f is\n",
    "    Valide : Boolean;\n",
    "begin\n",
    "    Valide := True;\n",
    "    ...\n",
    "end f"
   ]
  },
  {
   "cell_type": "markdown",
   "metadata": {},
   "source": [
    "La déclaration de la variable `Valide` de type booléen permet de réserver l'espace mémoire d'un booléen (un octet). Le nom `Valide` est associé à cet espace jusqu'à la fin de la procédure. La variable `Valide` ne peut changer de type. Si on voulait écrire un Integer dans l'espace associé à `Valide`, l'espace serait insuffisant : un Integer utilise quatre octets.\n",
    "\n",
    "En Python, vous avez vu que l'on peut modifier le type d'une variable sans problème."
   ]
  },
  {
   "cell_type": "code",
   "execution_count": null,
   "metadata": {},
   "outputs": [],
   "source": [
    "var=2\n",
    "var=True\n",
    "var=\"ok\""
   ]
  },
  {
   "cell_type": "markdown",
   "metadata": {},
   "source": [
    "En fait, le variable `var` ne correspond pas au contenu lui-même, mais à l'adresse du contenu. Lorsque l'on écrit `var=True`, plusieurs choses se passent :\n",
    "- `var` est ajouté à l'espace des variables si elle n'y était pas déjà,\n",
    "- l'espace mémoire pour un booléen est réservé,\n",
    "- la valeur `True` est écrite à cet endroit,\n",
    "- on écrit dans `var` l'adresse de cet espace mémoire.\n",
    "\n",
    "On dit alors que `var` est une **référence** au booléen. On parle de **référencer** (resp. **déréférencer**) lorsqu'on passe d'un contenu à son adresse (resp. l'inverse)."
   ]
  },
  {
   "cell_type": "markdown",
   "metadata": {},
   "source": [
    "Mais du coup, pourquoi `print(var)` n'affiche pas l'adresse que contient `var`, mais le booléen ?"
   ]
  },
  {
   "cell_type": "code",
   "execution_count": null,
   "metadata": {},
   "outputs": [],
   "source": [
    "var = True\n",
    "print(var) #affiche True"
   ]
  },
  {
   "cell_type": "markdown",
   "metadata": {},
   "source": [
    "Le référencement/déréférencement est géré automatiquement en Python."
   ]
  },
  {
   "cell_type": "code",
   "execution_count": null,
   "metadata": {},
   "outputs": [],
   "source": [
    "var = 2\n",
    "var = var + 1"
   ]
  },
  {
   "cell_type": "markdown",
   "metadata": {},
   "source": [
    "La deuxième ligne cache plusieurs choses :\n",
    "- l'opérateur `+` va récupérer le contenu pointé par l'adresse contenue dans `var` (et non l'adresse elle-même),\n",
    "- un nouvel espace mémoire est réservé pour stocker le résultat du calcul.\n",
    "- l'adresse de ce nouvel espace est écrit dans `var`.\n",
    "\n",
    "Après l'exécution de la cellule précédente, l'adresse contenu dans `var` est une adresse vers un espace mémoire contenant l'entier $3$.\n",
    "\n",
    "**Remarque :** On prêtera attention au deuxième point : le contenu pointé par `var` n'est **pas modifié** ! Un nouvel espace contiendra le résultat, même si cela peut vous paraître peu astucieux.\n",
    "\n",
    "*L'équivalent en ADA :*"
   ]
  },
  {
   "cell_type": "raw",
   "metadata": {},
   "source": [
    "type P_Int is access Integer;\n",
    "\n",
    "A : P_Int := new Integer'(2);\n",
    "A := new Integer'(A.all+1);"
   ]
  },
  {
   "cell_type": "markdown",
   "metadata": {},
   "source": [
    "### b) L'identifiant d'une variable"
   ]
  },
  {
   "cell_type": "markdown",
   "metadata": {},
   "source": [
    "Pour voir ce qui se passe, on peut utiliser la fonction `id` qui nous donne l'adresse contenue dans une variable (il n'y a pas de déréférencement cette fois)."
   ]
  },
  {
   "cell_type": "code",
   "execution_count": null,
   "metadata": {},
   "outputs": [],
   "source": [
    "var = 2\n",
    "print(id(var)) #adresse à laquelle est stockée le 2\n",
    "var = var + 1\n",
    "print(id(var)) #nouvelle adresse à laquelle est stockée le 3"
   ]
  },
  {
   "cell_type": "markdown",
   "metadata": {},
   "source": [
    "Lorsqu'une variable est affectée à une autre, seule l'adresse est copiée, pas le contenu."
   ]
  },
  {
   "cell_type": "code",
   "execution_count": null,
   "metadata": {},
   "outputs": [],
   "source": [
    "a=1\n",
    "print(id(a))\n",
    "b=a\n",
    "print(id(b))\n",
    "a=2\n",
    "print(id(a))\n",
    "print(id(b))"
   ]
  },
  {
   "cell_type": "markdown",
   "metadata": {},
   "source": [
    "On voit que `a` et `b` pointent vers une même case contenant `1`. Puis la deuxième affectation de `a` change l'adresse vers laquelle cette variable pointe, mais elle ne modifie pas le contenu de la case contenant `1`. La variable `b` continue donc de pointer vers la valeur `1`."
   ]
  },
  {
   "cell_type": "markdown",
   "metadata": {},
   "source": [
    "**Exercice :** à l'aide de la fonction `id`, comprenez comment est géré le passage d'une variable en paramètre d'une fonction. S'agit-il d'un passage par valeur (copie de la valeur) ou par référence (copie de l'adresse) ?"
   ]
  },
  {
   "cell_type": "code",
   "execution_count": null,
   "metadata": {
    "scrolled": true
   },
   "outputs": [],
   "source": [
    "# code à compléter avec des affichages\n",
    "\n",
    "def mul(a):\n",
    "    a = 2*a\n",
    "\n",
    "def add(a):\n",
    "    a=a+0 \n",
    "    mul(a)\n",
    "    a=a+1\n",
    "    return a\n",
    "    \n",
    "\n",
    "a = 2023\n",
    "b = add(a)"
   ]
  },
  {
   "cell_type": "markdown",
   "metadata": {},
   "source": [
    "### c) Valeurs internes"
   ]
  },
  {
   "cell_type": "markdown",
   "metadata": {},
   "source": [
    "Vous avez peut-être remarqué quelque chose de suspect. Dans les deux cellules précédentes, le `2` est stocké au même endroit alors qu'on a dit qu'un nouvel espace était réservé à chaque fois. Il y a certains cas où ce n'est pas vrai :\n",
    "- Certaines valeurs standards sont dits internes et ne seront écrites qu'à un seul endroit (petits entiers, booléens, petits strings sans caractères spéciaux). Si deux variables référencent une de ces valeurs, pas la peine de réserver deux espaces, la deuxième pointera là où pointe la première.\n",
    "- D'autres types permettent d'éviter cela (partie 3 de ce TD)."
   ]
  },
  {
   "cell_type": "code",
   "execution_count": null,
   "metadata": {},
   "outputs": [],
   "source": [
    "a = 18\n",
    "print(id(a))\n",
    "a = 18\n",
    "print(id(a))\n",
    "print(id(18))\n",
    "\n",
    "a = 8439439903930\n",
    "print(id(a))\n",
    "a = 8439439903930\n",
    "print(id(a))\n",
    "print(8439439903930)"
   ]
  },
  {
   "cell_type": "markdown",
   "metadata": {},
   "source": [
    "**Exercice :** écrire un petit programme qui permet de calculer le plus petit entier naturel qui n'est pas déjà stocké en mémoire."
   ]
  },
  {
   "cell_type": "code",
   "execution_count": null,
   "metadata": {},
   "outputs": [],
   "source": [
    "# à compléter"
   ]
  },
  {
   "cell_type": "markdown",
   "metadata": {},
   "source": [
    "## 2) Une valeur est toujours bien accompagnée"
   ]
  },
  {
   "cell_type": "markdown",
   "metadata": {},
   "source": [
    "### a) Par un gars..."
   ]
  },
  {
   "cell_type": "markdown",
   "metadata": {},
   "source": [
    "Vous vous souvenez qu'en Python, le typage est dynamique. On pourrait imaginer que chaque variable stocke avec elle le type du contenu vers lequel elle pointe et que ce dernier est modifiable."
   ]
  },
  {
   "cell_type": "code",
   "execution_count": null,
   "metadata": {},
   "outputs": [],
   "source": [
    "a=2\n",
    "print(type(a)) #integer\n",
    "a=\"ok\"\n",
    "print(type(a)) #string"
   ]
  },
  {
   "cell_type": "markdown",
   "metadata": {},
   "source": [
    "En Python, c'est en fait le contenu lui-même qui stocke son type. Une variable ne pointe pas juste vers une valeur mais un type article contenant (au moins) une valeur et un type. On rappelle que mémoriser le type est primordial pour savoir comment lire la mémoire contenant la valeur."
   ]
  },
  {
   "cell_type": "markdown",
   "metadata": {},
   "source": [
    "### b) ... et par son nombre de matchs"
   ]
  },
  {
   "cell_type": "markdown",
   "metadata": {},
   "source": [
    "Un troisième attribut est toujours stocké avec une valeur et son type. Pour comprendre son intérêt, prenons l'exemple ci-dessous en ADA."
   ]
  },
  {
   "cell_type": "raw",
   "metadata": {},
   "source": [
    "type P_Int is access Integer;\n",
    "\n",
    "A : P_Int := new Integer'(0);\n",
    "for i in range 1..100000 loop\n",
    "    A := new Integer'(A.all+1);\n",
    "end loop;"
   ]
  },
  {
   "cell_type": "markdown",
   "metadata": {},
   "source": [
    "Si on alloue de la mémoire dynamiquement (avec `new`) sans jamais libérer celle qui n'est plus utilisée, on a ce qu'on appelle une fuite de mémoire. L'espace mémoire utilisé durant la boucle n'est plus accessible (on a perdu les adresses), mais le système d'exploitation n'a aucune raison de deviner qu'il peut le récupérer pour le redistribuer. On rajoute donc une libération de mémoire."
   ]
  },
  {
   "cell_type": "raw",
   "metadata": {},
   "source": [
    "type P_Int is access Integer;\n",
    "procedure Free is new Ada.Unchecked_Deallocation(Integer, P_Int);\n",
    "\n",
    "A : P_Int := new Integer'(0);\n",
    "for i in range 1..100000 loop\n",
    "    Tmp := new Integer'(A.all+1);\n",
    "    Free(A);\n",
    "    A := Tmp;\n",
    "end loop;"
   ]
  },
  {
   "cell_type": "markdown",
   "metadata": {},
   "source": [
    "La bonne nouvelle, c'est qu'en Python, vous n'aurez pas à gérer la libération de la mémoire. Mais alors, comment ça marche ?\n",
    "\n",
    "Une variable pointe vers une troisième information : un compteur de référence. Ce compteur, comme on s'en doute, permet de mémoriser combien de variables pointent directement ou indirectement (via une collection par exemple) vers le contenu associé. On peut récupérer ce compteur avec la fonction `sys.getrefcount`.\n",
    "\n",
    "**Remarque :** la fonction `sys.getrefcount` peut renvoyer une valeur supérieure au nombre de références auxquelles on pense : <a href=\"https://docs.python.org/3/library/sys.html#sys.getrefcount\">lien vers la doc.</a> En particulier, la fonction elle-même peut en créer."
   ]
  },
  {
   "cell_type": "code",
   "execution_count": null,
   "metadata": {},
   "outputs": [],
   "source": [
    "#réinitialise l'espace des variables\n",
    "%reset -f \n",
    "\n",
    "import sys #pour pouvoir utiliser getrefcount\n",
    "\n",
    "potiron = \"potiron\"\n",
    "print(\"nb ref du contenu pointé par potiron au début= \",sys.getrefcount(potiron))\n",
    "legume=potiron\n",
    "tarte=potiron\n",
    "soupe=potiron\n",
    "print(\"nb ref du contenu pointé par potiron au début= \",sys.getrefcount(potiron))"
   ]
  },
  {
   "cell_type": "markdown",
   "metadata": {},
   "source": [
    "Le compteur de référence est incrémenté de trois après avoir affecté trois variables à son contenu.\n",
    "\n",
    "De même, quand on affecte une variable par une autre, le nombre de référence augmente. Remarquez avec l'exemple suivant qu'une définition avec une valeur donnée explicitement peut créer un nouvel espace."
   ]
  },
  {
   "cell_type": "code",
   "execution_count": null,
   "metadata": {},
   "outputs": [],
   "source": [
    "%reset -f \n",
    "import sys\n",
    "\n",
    "print(\"nb ref du contenu 2023 = \", sys.getrefcount(2023))\n",
    "a=2023\n",
    "print(\"nb ref du contenu pointé par a au début = \",sys.getrefcount(a))\n",
    "b=a\n",
    "c=2023 #nouvel espace mémoire\n",
    "print(\"nb ref du contenu pointé par a à la fin = \",sys.getrefcount(a))\n",
    "print(\"nb ref du contenu pointé par b à la fin = \",sys.getrefcount(b))\n",
    "print(\"nb ref du contenu pointé par c à la fin = \",sys.getrefcount(c))"
   ]
  },
  {
   "cell_type": "markdown",
   "metadata": {},
   "source": [
    "Ce compteur de référence permet de libérer la mémoire intelligemment : si il tombe à $0$, c'est que rien ne l'utilise. On peut donc libérer l'espace associé. Imaginez donc un `free` automatique. Attention que des fuites de mémoire sont encore possibles..."
   ]
  },
  {
   "cell_type": "markdown",
   "metadata": {},
   "source": [
    "**Résumé :**\n",
    "\n",
    "Une variable pointe donc (au moins) vers :\n",
    "- type, \n",
    "- un compteur de référence,\n",
    "- une valeur.\n",
    "\n",
    "*Ce triplet peut-être vu comme un record en ADA. On ne peut pas directement accéder aux attributs à l'instar des record privé. On ne peut accéder qu'à certains indirectement via des méthodes.*"
   ]
  },
  {
   "cell_type": "markdown",
   "metadata": {},
   "source": [
    "### c) Espace utilisé"
   ]
  },
  {
   "cell_type": "markdown",
   "metadata": {},
   "source": [
    "On peut voir l'espace mémoire réservé grâce à la fonction `sys.getsizeof` (l'unité est l'octet) :"
   ]
  },
  {
   "cell_type": "code",
   "execution_count": null,
   "metadata": {},
   "outputs": [],
   "source": [
    "a=3.14893303\n",
    "print(sys.getsizeof(a))\n",
    "print(a.__sizeof__()) #quasi équivalent"
   ]
  },
  {
   "cell_type": "markdown",
   "metadata": {},
   "source": [
    "A priori, sur une machine 64-bit, les flottants sont représentés sur 24 octets :\n",
    "- huit octets (64 bits) pour le type, \n",
    "- huit pour le compteur de référence,\n",
    "- huit pour la valeur."
   ]
  },
  {
   "cell_type": "markdown",
   "metadata": {},
   "source": [
    "Si vous avez la curiosité de tester sur d'autres types, vous serez surpris. Par exemple, les entiers sont de taille variable : $0$ ne prend que $24$ octets, alors que $1$ en prend $28$. \n",
    "\n",
    "Un entier contient lui aussi un type, un compteur de référence et une valeur. Mais cette valeur étant de taille variable, il stocke aussi cette taille sur $8$ octets. Par exemple :\n",
    "- Pour $0$, la taille vaut $0$ (sur $8$ octets) et il n'y a pas de valeur ($0$ octets). Avec le type et le refcount, on a bien $24$ bits.\n",
    "- pour $1$, la taille vaut $4$ et la valeur est $000...001$ ($32$ bits car $4$ octets). Au total, on a bien $28$ bits.\n",
    "\n",
    "De même, `False` et `True` ne prennent pas le même espace : `False` est vu comme $0$, `True` comme $1$."
   ]
  },
  {
   "cell_type": "code",
   "execution_count": null,
   "metadata": {},
   "outputs": [],
   "source": [
    "print(sys.getsizeof(0))\n",
    "print(sys.getsizeof(1))\n",
    "print(sys.getsizeof(2**30-1))\n",
    "print(sys.getsizeof(2**30))\n",
    "\n",
    "\n",
    "print(sys.getsizeof(False))\n",
    "print(sys.getsizeof(True))"
   ]
  },
  {
   "cell_type": "markdown",
   "metadata": {},
   "source": [
    "### d) Une valeur spéciale : None"
   ]
  },
  {
   "cell_type": "markdown",
   "metadata": {},
   "source": [
    "Vous retrouver en Python l'équivalent du pointeur `null` du langage ADA. C'est `None`."
   ]
  },
  {
   "cell_type": "code",
   "execution_count": null,
   "metadata": {},
   "outputs": [],
   "source": [
    "import sys\n",
    "\n",
    "print(id(None))\n",
    "print(type(None))\n",
    "print(sys.getrefcount(None))\n",
    "print(sys.getsizeof(None)) #le type et le refcount"
   ]
  },
  {
   "cell_type": "markdown",
   "metadata": {},
   "source": [
    "Le `None` est très pratique pour les fonctions qui doivent renvoyer un résultat particulier dans certains cas. Par exemple, si vous chercher le premier indice d'une valeur dans une liste ne la contenant pas, vous pouvez utiliser des exceptions, mais aussi renvoyer `None` :"
   ]
  },
  {
   "cell_type": "code",
   "execution_count": null,
   "metadata": {},
   "outputs": [],
   "source": [
    "def chercher(l,x):\n",
    "    for i in range(len(l)):\n",
    "        if l[i]==x:\n",
    "            return i\n",
    "    return None #l'élement x n'est pas dans la liste l\n",
    "\n",
    "print(chercher([1,3],2))"
   ]
  },
  {
   "cell_type": "markdown",
   "metadata": {},
   "source": [
    "**Remarque :** ne rien renvoyer est équivalent à renvoyer `None`. Une fonction qui ne renvoie rien dans tous les cas est l'équivalent d'une procédure en ADA."
   ]
  },
  {
   "cell_type": "markdown",
   "metadata": {},
   "source": [
    "### e) Collections : toujours plus de pointeurs"
   ]
  },
  {
   "cell_type": "markdown",
   "metadata": {},
   "source": [
    "Les collections fonctionnent de façon similaire. On va regarder le cas des listes."
   ]
  },
  {
   "cell_type": "code",
   "execution_count": null,
   "metadata": {},
   "outputs": [],
   "source": [
    "l=[1,2,3]\n",
    "m=[1,2,3]\n",
    "n=m\n",
    "print(\"id(l)=\",id(l))\n",
    "print(\"id(m)=\",id(m))\n",
    "print(\"id(n)=\",id(n))\n",
    "print(\"l==m : \", l==m)\n",
    "print(\"l is m :\", l is m)\n",
    "print(\"n==m : \", n==m)\n",
    "print(\"n is m : \", n is m)"
   ]
  },
  {
   "cell_type": "markdown",
   "metadata": {},
   "source": [
    "On voit que deux listes contenant les mêmes éléments mais définies indépendemment sont à différents endroits en mémoire. En revanche, affecter une liste avec une autre ne copie que le pointeur et non le contenu. Il faut donc être vigilant quand on modifie une liste."
   ]
  },
  {
   "cell_type": "code",
   "execution_count": null,
   "metadata": {},
   "outputs": [],
   "source": [
    "l=[1,2,3]\n",
    "m=l\n",
    "l.append(4)\n",
    "print(m)"
   ]
  },
  {
   "cell_type": "markdown",
   "metadata": {},
   "source": [
    "Pour copier une collection, utilisez la méthode `copy` (attention, une collection peut en cacher une autre) :"
   ]
  },
  {
   "cell_type": "code",
   "execution_count": null,
   "metadata": {},
   "outputs": [],
   "source": [
    "l=[1,2,3]\n",
    "m = l.copy()\n",
    "l.append(4)\n",
    "print(m)"
   ]
  },
  {
   "cell_type": "markdown",
   "metadata": {},
   "source": [
    "Pour l'organisation du contenu pointé, c'est plus compliqué. Une liste contient (entre autre) :\n",
    "- un type,\n",
    "- un compteur de référence,\n",
    "- une capacité : nombre de cases réservées (cf TD2),\n",
    "- une taille : nombre de cases réellement utilisées,\n",
    "- un pointeur vers un tableau.\n",
    "\n",
    "Ce pointeur de tableau est important. Dans l'exemple suivant, si toute la capacité de `l` est utilisée et que pour ajouter un élément, il faut copier le contenu ailleurs, on veut que toutes les références à la liste soient toujours valides. "
   ]
  },
  {
   "cell_type": "code",
   "execution_count": null,
   "metadata": {},
   "outputs": [],
   "source": [
    "l = [1,2,3,4]\n",
    "m=l\n",
    "l.append(5)\n",
    "print(m) #m doit toujours pointer sur la même liste que l"
   ]
  },
  {
   "cell_type": "markdown",
   "metadata": {},
   "source": [
    "L'intérêt majeur d'un tableau est de pouvoir accéder à n'importe quelle case en temps constant. Pour accéder à la $i$-ème case d'un tableau, il suffit de rajouter à l'adresse du début du tableau la taille d'une case multipliée par $i$. \n",
    "\n",
    "*Par exemple, si la taille d'un entier est $4$ octets, pour accéder à la $10$-ème case d'un tableau d'entiers, il suffit de prendre l'adresse du début du tableau et d'y ajouter $40$.*\n",
    "\n",
    "Le dernier attribut (pointeur vers tableau) du type `list` décrit ci-dessus est donc un pointeur de pointeur : l'adresse de la case qui stocke l'adresse du début du tableau."
   ]
  },
  {
   "cell_type": "markdown",
   "metadata": {},
   "source": [
    "Depuis le TD2, vous savez que le type `list` stocke les éléments avec un tableau. Le problème est que les éléments peuvent être de tailles différentes. On a vu par exemple que les entiers sont de taille variable. La solution adoptée est d'avoir un tableau de pointeurs (vers les valeurs) et non de valeurs. Les pointeurs sont toujours de même taille."
   ]
  },
  {
   "cell_type": "markdown",
   "metadata": {},
   "source": [
    "**Exercice :**\n",
    "\n",
    "1) A l'aide de la fonction `sys.getsizeof`, comment récupérer la capacité (nombre de cases disponibles) d'une variable de type `list` ?"
   ]
  },
  {
   "cell_type": "code",
   "execution_count": null,
   "metadata": {},
   "outputs": [],
   "source": [
    "# à compléter"
   ]
  },
  {
   "cell_type": "markdown",
   "metadata": {},
   "source": [
    "2) Et le nombre de cases réellement utilisées ?"
   ]
  },
  {
   "cell_type": "code",
   "execution_count": null,
   "metadata": {},
   "outputs": [],
   "source": [
    "# à compléter"
   ]
  },
  {
   "cell_type": "markdown",
   "metadata": {},
   "source": [
    "3) La capacité est-elle vraiment doublée à chaque fois qu'elle est complètement utilisée ?"
   ]
  },
  {
   "cell_type": "code",
   "execution_count": null,
   "metadata": {},
   "outputs": [],
   "source": [
    "# à compléter"
   ]
  },
  {
   "cell_type": "markdown",
   "metadata": {},
   "source": [
    "4) Dessiner sur papier les différentes cases mémoire utilisées par les variables définies ci-dessous, et les liens de référence entre elles. Si $p_a$ est un pointeur sur $a$, on fait une flèche de $p_a$ vers $a$."
   ]
  },
  {
   "cell_type": "code",
   "execution_count": null,
   "metadata": {},
   "outputs": [],
   "source": [
    "l=[1,True,2.4]\n",
    "m=l"
   ]
  },
  {
   "cell_type": "markdown",
   "metadata": {},
   "source": [
    "## 3) Mutabilité"
   ]
  },
  {
   "cell_type": "markdown",
   "metadata": {},
   "source": [
    "On a déjà vu que certaines collections sont modifiables et d'autres non. Ce caractère s'appelle la mutabilité. Un type est mutable si on peut modifier le contenu d'une variable de ce type, non mutable sinon."
   ]
  },
  {
   "cell_type": "markdown",
   "metadata": {},
   "source": [
    "### a) Les types non mutables"
   ]
  },
  {
   "cell_type": "markdown",
   "metadata": {},
   "source": [
    "Les types de bases que vous manipulez couramment sont tous non mutables : `int`, `float` et `bool`. En effet, on a vu qu'incrémenter un entier modifie son `id` : il est réaffecté et non modifié."
   ]
  },
  {
   "cell_type": "markdown",
   "metadata": {},
   "source": [
    "Les collections non mutables que vous avez vu pour l'instant sont les suivantes :\n",
    "- `tuple`, \n",
    "- `str`."
   ]
  },
  {
   "cell_type": "markdown",
   "metadata": {},
   "source": [
    "Les intérêts de ces types sont :\n",
    "- de ne pas risquer de les modifier par erreur (sécurité),\n",
    "- de pouvoir les utiliser en clé d'un dictionnaire (nécessaire au bon fonctionnement des tables de hachages sous jacentes),\n",
    "- d'être a priori plus léger : par exemple, les tuples n'ont pas besoin de stocker un attribut de capacité, nécessaire aux listes."
   ]
  },
  {
   "cell_type": "markdown",
   "metadata": {},
   "source": [
    "Lorsqu'un paramètre de type non mutable est donné à une fonction, il n'y aura pas d'*effet de bord* : toute modification interne à la fonction ne sera pas répercutée à l'extérieur de celle-ci."
   ]
  },
  {
   "cell_type": "raw",
   "metadata": {},
   "source": [
    "x=3\n",
    "f(x)\n",
    "print(x) # x ne peut pas avoir été modifié par f"
   ]
  },
  {
   "cell_type": "markdown",
   "metadata": {},
   "source": [
    "**Questions :** La modification d'une chaîne de caractère peut demander de tout déplacer. On utilisera des caractères spéciaux pour que les chaînes ne soient pas internes (! et ? feront très bien l'affaire).\n",
    "\n",
    "a) Etudier si ce déplacement est réellement fait en pratique, en ajoutant des caractères un à un à la fin d'une chaîne intialement vide. "
   ]
  },
  {
   "cell_type": "code",
   "execution_count": null,
   "metadata": {},
   "outputs": [],
   "source": [
    "# à compléter"
   ]
  },
  {
   "cell_type": "markdown",
   "metadata": {},
   "source": [
    "b) Et si on modifie le contenu d'une chaîne non vide ?"
   ]
  },
  {
   "cell_type": "code",
   "execution_count": null,
   "metadata": {},
   "outputs": [],
   "source": [
    "# à compléter"
   ]
  },
  {
   "cell_type": "markdown",
   "metadata": {},
   "source": [
    "### b) Les types mutables"
   ]
  },
  {
   "cell_type": "markdown",
   "metadata": {},
   "source": [
    "Les types mutables que vous avez vu pour l'instant :\n",
    "- `list`, \n",
    "- `dict`."
   ]
  },
  {
   "cell_type": "markdown",
   "metadata": {},
   "source": [
    "A l'inverse, ces types sont importants lorsqu'on a besoin d'une structure dynamique. "
   ]
  },
  {
   "cell_type": "markdown",
   "metadata": {},
   "source": [
    "**Attention :** ces types introduisent des effects de bords. Une modification interne à une fonction peut avoir un impact à l'extérieur. De même, si deux variables pointent vers le même contenu mutable, modifier le contenu de l'une d'entre elles le modifie pour l'autre (on l'a vu dans la partie précédente)."
   ]
  },
  {
   "cell_type": "code",
   "execution_count": null,
   "metadata": {},
   "outputs": [],
   "source": [
    "l = [1,0,9,2,7,4,3,8,2,1]"
   ]
  },
  {
   "cell_type": "code",
   "execution_count": null,
   "metadata": {},
   "outputs": [],
   "source": [
    "def transforme(l):\n",
    "    for i in range(len(l)):\n",
    "        if l[i]%2==0:\n",
    "            l[i]=0"
   ]
  },
  {
   "cell_type": "code",
   "execution_count": null,
   "metadata": {},
   "outputs": [],
   "source": [
    "transforme(l)\n",
    "print(l)"
   ]
  },
  {
   "cell_type": "markdown",
   "metadata": {},
   "source": [
    "La fonction `transforme` met tous les entiers pairs à $0$. Si on s'est trompé et qu'on voulait ne le faire que pour les nombres impairs, il faut faire attention à redéfinir la liste `l` initiale (ce qui peut être bien plus lourd parfois). Essayez de ne modifier que la définition de `transforme` et de relancer le test."
   ]
  },
  {
   "cell_type": "markdown",
   "metadata": {},
   "source": [
    "**Remarque :** on peut convertir une collection d'un type vers un autre pour profiter de son caractère mutable ou non mutable. Il suffit d'utiliser la fonction ayant pour nom le type cible (techniquement, on appelle ça un constructeur). \n",
    "\n",
    "Dans l'exemple suivant, on veut appliquer une permutation aléatoire à une chaîne de caractères. Pour cela, choisit deux indices aléatoire $r1$ et $r2$ et on transpose les deux caractères à ces indices. Et on itère ce procédé. Afin d'éviter de copier toute la chaîne à chaque transposition, on convertit en amont la chaîne de caractères en liste."
   ]
  },
  {
   "cell_type": "code",
   "execution_count": null,
   "metadata": {},
   "outputs": [],
   "source": [
    "def suivant(u):\n",
    "    \"\"\"\n",
    "    renvoie un entier pseudo aléatoire\n",
    "    \"\"\"\n",
    "    return (227608 * u + 9204) % 59049\n",
    "\n",
    "def suivant_couple(u):\n",
    "    \"\"\"\n",
    "    renvoie un couple d'entiers pseudo aléatoire\n",
    "    \"\"\"\n",
    "    return suivant(u),suivant(suivant(u)) \n",
    "\n",
    "def permut(mot):\n",
    "    \"\"\"\n",
    "    applique une série de transposition entre des couples d'indices pseudo aléatoires\n",
    "    \"\"\"\n",
    "    u2 = 3\n",
    "    for i in range(10000):\n",
    "        u1,u2 = suivant_couple(u2) #choix d'une paire d'indice aléatoire\n",
    "        r1,r2 = u1%len(mot),u2%len(mot)\n",
    "        tmp = mot[r1]\n",
    "        mot[r1] = mot[r2]\n",
    "        mot[r2] = tmp\n",
    "\n",
    "\n",
    "mot = \"Win the yes needs the no to win against the no\"\n",
    "mot_list = list(mot) #on convertit en amont\n",
    "permut(mot_list)\n",
    "resultat = \"\".join(mot_list) #conversion inverse, join assemble les éléments de la liste avec \"\" en séparateur\n",
    "print(resultat)"
   ]
  },
  {
   "cell_type": "markdown",
   "metadata": {},
   "source": [
    "Vous découvrez au passage comment générer facilement une suite $(u_n)_n$ pseudo aléatoire d'entiers entre $0$ et $m-1$ :\n",
    "- $u_0$ fixé (la graine, à modifier pour un tirage différent),\n",
    "- $u_{n+1} = (a\\cdot u_n + b) \\mod c$,\n",
    "\n",
    "avec certaines bonnes propriétés pour $a,b,c$ :\n",
    "- $a-1$ multiple de tout facteur premier (et $4$) de $c$, \n",
    "- $b$ et $c$ premiers entre eux."
   ]
  },
  {
   "cell_type": "markdown",
   "metadata": {},
   "source": [
    "## 4) Exercices "
   ]
  },
  {
   "cell_type": "markdown",
   "metadata": {},
   "source": [
    "**Exercice 1 :** dessiner sur papier les différentes cases utilisées par la variable `l` définie ci-dessous, et les liens de référence entre elles."
   ]
  },
  {
   "cell_type": "code",
   "execution_count": null,
   "metadata": {},
   "outputs": [],
   "source": [
    "l = [[0,1],True,([False,[True,2],3],False,2),False]"
   ]
  },
  {
   "cell_type": "markdown",
   "metadata": {},
   "source": [
    "**Exercice 2 :** on veut implémenter une liste chaînée avec les outils qu'on a pour l'instant. On rappelle qu'une liste chaînée permet d'accéder à l'élément du début et à la sous liste privée du premier élément.\n",
    "\n",
    "1) Vaut-il mieux utiliser des couples ou des listes à deux éléments ? `(element,suivant)` ou `[element,suivant]`"
   ]
  },
  {
   "cell_type": "markdown",
   "metadata": {},
   "source": [
    "2) Implémenter une fonction d'insertion à la fin d'une liste chaînée."
   ]
  },
  {
   "cell_type": "code",
   "execution_count": null,
   "metadata": {},
   "outputs": [],
   "source": [
    "# à compléter"
   ]
  },
  {
   "cell_type": "markdown",
   "metadata": {},
   "source": [
    "**Exercice 3 :** graphes d'intervalles.\n",
    "\n",
    "On doit affecter des salles à un ensemble de cours. Chaque cours se déroule sur un intervalle de temps, fixé à l'avance. Lorsqu'on parlera de cours, on sous entendra l'intervalle correspondant. On ne manipulera que des intervalles ouverts, i.e. bornes exclues.\n",
    "\n",
    "i) Comment représenter en mémoire un cours ?"
   ]
  },
  {
   "cell_type": "markdown",
   "metadata": {},
   "source": [
    "ii) On dit que deux cours sont en conflits si il existe un même instant $t$ pendant lequel les deux cours se déroulent. Traduire mathématiquement cette propriété, puis implémenter une fonction `conflit` qui :\n",
    "- prend en paramètre deux cours, \n",
    "- renvoie si ils sont en conflits ou non ."
   ]
  },
  {
   "cell_type": "code",
   "execution_count": null,
   "metadata": {},
   "outputs": [],
   "source": [
    "# à compléter"
   ]
  },
  {
   "cell_type": "code",
   "execution_count": null,
   "metadata": {},
   "outputs": [],
   "source": [
    "# tests à compléter"
   ]
  },
  {
   "cell_type": "markdown",
   "metadata": {},
   "source": [
    "iii) On se donne une liste `cours` de cours. On veut créer une structure associant à chaque cours l'ensemble des cours en conflits avec lui. C'est ce qu'on appelle un graphe d'intervalles. Quelle structure utiliser ? Implémenter une fonction `graphe_intervalle` qui prend en entrée une liste de cours et renvoie le graphe d'intervalles associé. **On supposera dans toute la suite qu'il n'y a pas de doublon, i.e. pas deux cours avec exactement le même intervalle.**"
   ]
  },
  {
   "cell_type": "code",
   "execution_count": null,
   "metadata": {},
   "outputs": [],
   "source": [
    "# à compléter"
   ]
  },
  {
   "cell_type": "code",
   "execution_count": null,
   "metadata": {},
   "outputs": [],
   "source": [
    "# tests à compléter"
   ]
  },
  {
   "cell_type": "markdown",
   "metadata": {},
   "source": [
    "iv) Pour les intervalles $I_1=]1,3[,\\ I_2=]2,5[$ et $I_3=]2,4[$, dessiner sur papier les cases mémoires utilisées par le graphe d'intervalles, et leur liens."
   ]
  },
  {
   "cell_type": "markdown",
   "metadata": {},
   "source": [
    "v) Les salles sont des chaînes de caractères : \"SS12\", \"GEI024\", \"GM116\", ... Ecrire une fonction `min_dispo` qui :\n",
    "- prend en entrée une liste `salles` des salles existantes et une liste `utilise` de salles utilisées,\n",
    "- renvoie la salle d'indice minimal (dans `salles`) qui n'est pas dans `utilise`. \n",
    "\n",
    "Quelle optimisation peut-on facilement faire sur `utilise` ?"
   ]
  },
  {
   "cell_type": "code",
   "execution_count": null,
   "metadata": {},
   "outputs": [],
   "source": [
    "# à compléter"
   ]
  },
  {
   "cell_type": "code",
   "execution_count": null,
   "metadata": {},
   "outputs": [],
   "source": [
    "# tests à compléter"
   ]
  },
  {
   "cell_type": "markdown",
   "metadata": {},
   "source": [
    "vi) On va progressivement associer une salle à chaque cours. Quelle structure utiliser pour stocker ces association ? Il faut prendre en compte le fait qu'au début, un cours n'a pas de salle."
   ]
  },
  {
   "cell_type": "code",
   "execution_count": null,
   "metadata": {},
   "outputs": [],
   "source": [
    "# à compléter"
   ]
  },
  {
   "cell_type": "markdown",
   "metadata": {},
   "source": [
    "vii) On considére les cours dans l'ordre de leur heure de début (et de fin si égalité). Comment s'appelle cet ordre ? *(non ce n'est pas l'ordre alphabétique)*. L'ordre initial des intervalles est quelconque. Faire en sorte qu'on puisse parcourir les intervalles dans l'ordre voulu."
   ]
  },
  {
   "cell_type": "code",
   "execution_count": null,
   "metadata": {},
   "outputs": [],
   "source": [
    "# à compléter"
   ]
  },
  {
   "cell_type": "markdown",
   "metadata": {},
   "source": [
    "viii) Ecrire une fonction `indispo` qui :\n",
    "- prend en entrée un ensemble de cours et une structure qui associe à chaque cours une salle (question vi),\n",
    "- renvoie l'ensemble des salles utilisées par ces cours."
   ]
  },
  {
   "cell_type": "code",
   "execution_count": null,
   "metadata": {},
   "outputs": [],
   "source": [
    "# à compléter"
   ]
  },
  {
   "cell_type": "code",
   "execution_count": null,
   "metadata": {},
   "outputs": [],
   "source": [
    "# tests à compléter"
   ]
  },
  {
   "cell_type": "markdown",
   "metadata": {},
   "source": [
    "ix) Ecrire une fonction `affectation` qui :\n",
    "- prend en entrée une liste de cours et une liste de salles,\n",
    "- renvoie une affectation de salle pour chaque cours. \n",
    "\n",
    "Les cours sont parcourus dans l'ordre de la question vii). Pour chaque cours, on lui affecte la salle d'indice minimale qui n'est pas utilisée par les cours en conflits avec lui."
   ]
  },
  {
   "cell_type": "code",
   "execution_count": null,
   "metadata": {},
   "outputs": [],
   "source": [
    "# à compléter"
   ]
  },
  {
   "cell_type": "code",
   "execution_count": null,
   "metadata": {},
   "outputs": [],
   "source": [
    "# tests à compléter"
   ]
  },
  {
   "cell_type": "markdown",
   "metadata": {},
   "source": [
    "x) Quelle est la complexité de l'algorithme utilisé ?"
   ]
  },
  {
   "cell_type": "markdown",
   "metadata": {},
   "source": [
    "xi) Le nombre de salle utilisé est-il le minimum ?"
   ]
  }
 ],
 "metadata": {
  "kernelspec": {
   "display_name": "Python 3",
   "language": "python",
   "name": "python3"
  },
  "language_info": {
   "codemirror_mode": {
    "name": "ipython",
    "version": 3
   },
   "file_extension": ".py",
   "mimetype": "text/x-python",
   "name": "python",
   "nbconvert_exporter": "python",
   "pygments_lexer": "ipython3",
   "version": "3.8.10"
  }
 },
 "nbformat": 4,
 "nbformat_minor": 4
}
