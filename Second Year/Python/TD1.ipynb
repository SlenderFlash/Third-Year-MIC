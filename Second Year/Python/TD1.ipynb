{
 "cells": [
  {
   "cell_type": "markdown",
   "metadata": {},
   "source": [
    "# Première séance : syntaxe de base en Python"
   ]
  },
  {
   "cell_type": "markdown",
   "metadata": {},
   "source": [
    "Nous allons commencer par introduire les éléments de syntaxe spécifiques à ce langage."
   ]
  },
  {
   "cell_type": "markdown",
   "metadata": {},
   "source": [
    "## 1) Types natifs. Première partie : les types numériques."
   ]
  },
  {
   "cell_type": "markdown",
   "metadata": {},
   "source": [
    "Introduisons déjà trois premiers types fondamentaux :\n",
    "- les entiers : **int**,\n",
    "- les flottants (à virgule) : **float**,\n",
    "- les booléens : **bool**."
   ]
  },
  {
   "cell_type": "markdown",
   "metadata": {},
   "source": [
    "### a) Les entiers"
   ]
  },
  {
   "cell_type": "markdown",
   "metadata": {},
   "source": [
    "On peut utiliser les opérations de bases (addition, soustraction et multiplication) sur les entiers comme présenté ci-dessous :"
   ]
  },
  {
   "cell_type": "code",
   "execution_count": null,
   "metadata": {},
   "outputs": [],
   "source": [
    "2+3"
   ]
  },
  {
   "cell_type": "code",
   "execution_count": null,
   "metadata": {},
   "outputs": [],
   "source": [
    "4-1"
   ]
  },
  {
   "cell_type": "code",
   "execution_count": null,
   "metadata": {},
   "outputs": [],
   "source": [
    "7-9"
   ]
  },
  {
   "cell_type": "code",
   "execution_count": null,
   "metadata": {},
   "outputs": [],
   "source": [
    "2*4"
   ]
  },
  {
   "cell_type": "code",
   "execution_count": null,
   "metadata": {},
   "outputs": [],
   "source": [
    "3*(-2)"
   ]
  },
  {
   "cell_type": "code",
   "execution_count": null,
   "metadata": {},
   "outputs": [],
   "source": [
    "(12-3)*4+6"
   ]
  },
  {
   "cell_type": "markdown",
   "metadata": {},
   "source": [
    "### b) Les flottants"
   ]
  },
  {
   "cell_type": "markdown",
   "metadata": {},
   "source": [
    "L'addition, la soustraction et la multiplication fonctionnent aussi pour les flottants."
   ]
  },
  {
   "cell_type": "code",
   "execution_count": null,
   "metadata": {},
   "outputs": [],
   "source": [
    "3.4*0.1-0.2"
   ]
  },
  {
   "cell_type": "markdown",
   "metadata": {},
   "source": [
    "**Remarque** : les nombres réels sont stockés sur machine avec une méthode appelée virgule flottante. On parle alors de flottants. Vous verrez (ou avec peut-être déjà vu) cette méthode en cours d'architecture. Elle nécessite de stocker des valeurs avec une certaine précision. Même les nombres décimaux peuvent être arrondis car c'est leur représentation binaire (ou une approximation) qui est stockée. Plus de détails pour les curieux <a href=https://docs.python.org/3/tutorial/floatingpoint.html>ici</a>."
   ]
  },
  {
   "cell_type": "code",
   "execution_count": 5,
   "metadata": {
    "scrolled": true
   },
   "outputs": [
    {
     "data": {
      "text/plain": [
       "0.30000000000000004"
      ]
     },
     "execution_count": 5,
     "metadata": {},
     "output_type": "execute_result"
    }
   ],
   "source": [
    "0.1*3"
   ]
  },
  {
   "cell_type": "markdown",
   "metadata": {},
   "source": [
    "L'addition flottante n'est même pas associative : (a+b)+c et a+(b+c) peuvent être différents. Tester la formule suivante avec les deux parenthésages :"
   ]
  },
  {
   "cell_type": "code",
   "execution_count": 6,
   "metadata": {},
   "outputs": [
    {
     "data": {
      "text/plain": [
       "0.6000000000000001"
      ]
     },
     "execution_count": 6,
     "metadata": {},
     "output_type": "execute_result"
    }
   ],
   "source": [
    "0.1+0.2+0.3"
   ]
  },
  {
   "cell_type": "markdown",
   "metadata": {},
   "source": [
    "Mais vous vous demandez déjà où est passée la division."
   ]
  },
  {
   "cell_type": "markdown",
   "metadata": {},
   "source": [
    "### c) La (ou plutôt les) division(s)"
   ]
  },
  {
   "cell_type": "markdown",
   "metadata": {},
   "source": [
    "On fait un petit test simple :"
   ]
  },
  {
   "cell_type": "code",
   "execution_count": 4,
   "metadata": {},
   "outputs": [
    {
     "data": {
      "text/plain": [
       "4.0"
      ]
     },
     "execution_count": 4,
     "metadata": {},
     "output_type": "execute_result"
    }
   ],
   "source": [
    "12/3"
   ]
  },
  {
   "cell_type": "markdown",
   "metadata": {},
   "source": [
    "Tiens ! Cette fois, on obtient un nombre flottant : 4.0 au lieu de 4 tout court. Bien que ça soit la même valeur, ce n'est pas la même représentation en mémoire. Il s'agit bien de deux types différents. Vous découvrez au passage la fonction `type` qui fait exactement ce à quoi on peut s'attendre."
   ]
  },
  {
   "cell_type": "code",
   "execution_count": 1,
   "metadata": {},
   "outputs": [
    {
     "data": {
      "text/plain": [
       "int"
      ]
     },
     "execution_count": 1,
     "metadata": {},
     "output_type": "execute_result"
    }
   ],
   "source": [
    "type(4)"
   ]
  },
  {
   "cell_type": "code",
   "execution_count": 2,
   "metadata": {
    "scrolled": true
   },
   "outputs": [
    {
     "data": {
      "text/plain": [
       "float"
      ]
     },
     "execution_count": 2,
     "metadata": {},
     "output_type": "execute_result"
    }
   ],
   "source": [
    "type(4.0)"
   ]
  },
  {
   "cell_type": "markdown",
   "metadata": {},
   "source": [
    "Contrairement à ADA, la division entre deux entiers renvoie toujours un flottant et n'arrondit pas à la partie entière."
   ]
  },
  {
   "cell_type": "code",
   "execution_count": 3,
   "metadata": {},
   "outputs": [
    {
     "data": {
      "text/plain": [
       "1.25"
      ]
     },
     "execution_count": 3,
     "metadata": {},
     "output_type": "execute_result"
    }
   ],
   "source": [
    "10/8"
   ]
  },
  {
   "cell_type": "markdown",
   "metadata": {},
   "source": [
    "Si on veut retrouver la division entière, il faut dupliquer la barre oblique (slash). Le résultat est le quotient de la division euclidienne. "
   ]
  },
  {
   "cell_type": "code",
   "execution_count": null,
   "metadata": {},
   "outputs": [],
   "source": [
    "10//8"
   ]
  },
  {
   "cell_type": "markdown",
   "metadata": {},
   "source": [
    "Plus formellement, si $a\\in \\mathbb{Z}$ par $b\\in \\mathbb{N^*}$, alors il existe un unique quotient $q\\in \\mathbb{Z}$ et un unique reste $r\\in\\mathbb{N}$ tels que $ \\left\\{ \\begin{align*} a = bq+r \\\\ r < b \\end{align*} \\right.$.\n",
    "\n",
    "La division entière nous donne donc le quotient (q). Et pour récupérer le reste (r), c'est le modulo. Au lieu de `x mod y` (ADA, Ocaml), on écrit `x % y` (Python, C, Java). En particulier, souvenez vous de ce cas bien utile : `x % 2` teste la parité de x."
   ]
  },
  {
   "cell_type": "code",
   "execution_count": null,
   "metadata": {
    "scrolled": true
   },
   "outputs": [],
   "source": [
    "15 % 4"
   ]
  },
  {
   "cell_type": "markdown",
   "metadata": {},
   "source": [
    "### d) Les conversions implicites"
   ]
  },
  {
   "cell_type": "markdown",
   "metadata": {},
   "source": [
    "Point vigilance! En Python, vous perdez beaucoup de rigueur quand au typage. Nous reviendrons plus tard sur les gros problèmes que cela peut générer mais commencez déjà par en remarquer un : les opérations arithmétiques peuvent se faire entre deux types différents."
   ]
  },
  {
   "cell_type": "code",
   "execution_count": null,
   "metadata": {},
   "outputs": [],
   "source": [
    "2+3.1"
   ]
  },
  {
   "cell_type": "markdown",
   "metadata": {},
   "source": [
    "Ici, le 2 est converti en 2.0 et l'addition est flottante. C'est ce qu'on appelle une conversion **implicite**. La conversion se fait toujours vers les flottants même si le paramètre flottant pouvait à l'inverse être converti en entier."
   ]
  },
  {
   "cell_type": "code",
   "execution_count": 7,
   "metadata": {},
   "outputs": [
    {
     "data": {
      "text/plain": [
       "5.0"
      ]
     },
     "execution_count": 7,
     "metadata": {},
     "output_type": "execute_result"
    }
   ],
   "source": [
    "2+3."
   ]
  },
  {
   "cell_type": "markdown",
   "metadata": {},
   "source": [
    "**Remarque** : le point est suffisant pour préciser qu'on veut un flottant, pas besoin de rajouter le 0. Mais y gagne-t'on en lisibilité ?"
   ]
  },
  {
   "cell_type": "markdown",
   "metadata": {},
   "source": [
    "### e) Les conversions explicites"
   ]
  },
  {
   "cell_type": "markdown",
   "metadata": {},
   "source": [
    "Ces conversions peuvent être pratiques mais la perte de rigueur peut aussi être une source d'erreur. Afin de programmer un peu plus proprement, on explicite les conversions à faire. Pour cela, c'est très simple : le nom du type est aussi le nom d'une fonction de conversion."
   ]
  },
  {
   "cell_type": "code",
   "execution_count": null,
   "metadata": {},
   "outputs": [],
   "source": [
    "float(4)"
   ]
  },
  {
   "cell_type": "markdown",
   "metadata": {},
   "source": [
    "### e) Les booléens"
   ]
  },
  {
   "cell_type": "markdown",
   "metadata": {},
   "source": [
    "Ici, rien de nouveau : un type **bool** pour représenter Vrai ou Faux avec deux constantes `True` et `False`. "
   ]
  },
  {
   "cell_type": "code",
   "execution_count": 8,
   "metadata": {},
   "outputs": [
    {
     "data": {
      "text/plain": [
       "bool"
      ]
     },
     "execution_count": 8,
     "metadata": {},
     "output_type": "execute_result"
    }
   ],
   "source": [
    "type(True)"
   ]
  },
  {
   "cell_type": "code",
   "execution_count": null,
   "metadata": {},
   "outputs": [],
   "source": [
    "type(False)"
   ]
  },
  {
   "cell_type": "markdown",
   "metadata": {},
   "source": [
    "Enfin si, un petit piège. `True` et `False` commencent par une majuscule ! En ADA, votre éditeur en rajoute pour des questions de lisibilité mais le compilateur s'en fiche éperdument. Python est lui sensible à la case. Il est donc obligatoire de les mettre (essayez de les retirer, l'interpréteur sera heureux de pouvoir vous reprendre).\n",
    "\n",
    "Cette remarque ne se limite pas aux booléens mais est globale en Python, pour les mots clés comme pour les noms de fonctions. Essayez d'utiliser `Type` au lieu de `type`."
   ]
  },
  {
   "cell_type": "markdown",
   "metadata": {},
   "source": [
    "## 2) Affichage et affectations"
   ]
  },
  {
   "cell_type": "markdown",
   "metadata": {},
   "source": [
    "Vous avez peut-être essayé d'écrire plusieurs lignes de calcul à la suite, mais vous n'obtenez qu'un seul affichage à côté du Out : c'est la sortie de votre programme. Ici, il s'agit de l'évaluation de la dernière ligne. Ce n'est pas un affichage comme vous faites avec des `Put_Line` en ADA et des `echo` en bash.\n",
    "\n",
    "Pour afficher en Python, on utilise la fonction `print`. On peut écrire des formules dans le print. Elles seront évaluées avant l'affichage. Pour afficher plusieurs valeurs sur une même ligne, placez simplement une virgule entre chaque valeur : on donne plusieurs paramètres à `print`."
   ]
  },
  {
   "cell_type": "code",
   "execution_count": 9,
   "metadata": {},
   "outputs": [
    {
     "name": "stdout",
     "output_type": "stream",
     "text": [
      "18\n",
      "1\n",
      "3\n",
      "7 9\n",
      "5 12.0 13.666666666666666\n"
     ]
    }
   ],
   "source": [
    "#affichage avec la fonction print\n",
    "print(18)\n",
    "print(5%2)\n",
    "print(18//5)\n",
    "print(7,9)\n",
    "print(8-3, 2*6.0, 41/3)"
   ]
  },
  {
   "cell_type": "markdown",
   "metadata": {},
   "source": [
    "Au passage, on a introduit un commentaire : il suffit de commencer la ligne par un #.\n",
    "\n",
    "**Remarque** : si vous avez déjà utilisé Python sous une ancienne version (inférieur strictement à la 3), vous avez peut-être déjà vu la syntaxe suivante : `print 1998`. Sans parenthèse. Cette syntaxe n'est plus valide en Python 3, car `print` est devenue une fonction. "
   ]
  },
  {
   "cell_type": "markdown",
   "metadata": {},
   "source": [
    "Tous ces calculs, c'est bien gentil. Mais si on ne peux pas stocker temporairement les résultats, on ne va pas aller bien loin. On a donc besoin de variables. En Python, vous allez être content au début : pas besoin de déclarer les variables, ni de préciser leur type. Comme en bash, mais en mieux car vous avez différents types, qui sont détectés \"automatiquement\". \n",
    "\n",
    "On peut donc affecter une variable directement. Si le nom de la variable n'existe pas encore, elle est créee. "
   ]
  },
  {
   "cell_type": "code",
   "execution_count": null,
   "metadata": {},
   "outputs": [],
   "source": [
    "a = 2\n",
    "print(a)\n",
    "b = 5\n",
    "c = a + b\n",
    "print(c)\n",
    "print(a+b)"
   ]
  },
  {
   "cell_type": "markdown",
   "metadata": {},
   "source": [
    "Si la variable existe déjà, elle est simplement modifiée, peu importe si le type change."
   ]
  },
  {
   "cell_type": "code",
   "execution_count": null,
   "metadata": {},
   "outputs": [],
   "source": [
    "#reaffectation de a\n",
    "a=2\n",
    "a=3\n",
    "print(a)\n",
    "a=3.1\n",
    "print(a)\n",
    "a=True\n",
    "print(a)"
   ]
  },
  {
   "cell_type": "markdown",
   "metadata": {},
   "source": [
    "Autre remarque : si vous affectez b=a, modifier a ultérieurement ne modifie pas b. Cela est vrai pour les types que vous avez vu jusqu'ici, mais pas pour certains que vous verrez plus tard."
   ]
  },
  {
   "cell_type": "code",
   "execution_count": null,
   "metadata": {},
   "outputs": [],
   "source": [
    "a=2\n",
    "b=a\n",
    "print(b)\n",
    "a=3\n",
    "print(b) #modifier a ne modifie pas b"
   ]
  },
  {
   "cell_type": "markdown",
   "metadata": {},
   "source": [
    "Le TD 3 vous expliquera pourquoi ce laxisme est très problématique, si vous n'en avez pas déjà fait l'expérience d'ici là. C'est une source de bug majeure et vous apprendrez à apprécier le cadre rassurant des langages à typage statique (ADA, C,...)."
   ]
  },
  {
   "cell_type": "markdown",
   "metadata": {},
   "source": [
    "## 3) Branchements conditionnels"
   ]
  },
  {
   "cell_type": "markdown",
   "metadata": {},
   "source": [
    "### a) La syntaxe"
   ]
  },
  {
   "cell_type": "markdown",
   "metadata": {},
   "source": [
    "La syntaxe est très épurée : pas de `then`, ni de `end if`."
   ]
  },
  {
   "cell_type": "raw",
   "metadata": {},
   "source": [
    "if condition :\n",
    "    instructionSi\n",
    "    autreInstructionSi\n",
    "else :\n",
    "    instructionSinon\n",
    "    autreInstructionSinon"
   ]
  },
  {
   "cell_type": "markdown",
   "metadata": {},
   "source": [
    "En algo-prog et en unix, vous indentez votre code pour une meilleure lisibilité. De plus, avec Emacs, une mauvaise indentation automatique permet de repérer certaines erreurs. Malgré son caractère facultatif, j'espère que vous avez pris l'habitude d'y faire attention car l'indentation n'est plus esthétique en Python. Elle change le sens de votre code. \n",
    "\n",
    "Tout ce qui est indenté après le `if` est appelé un bloc : c'est ce qui s'exécute si la condition est vérifié. On en sort seulement lorsqu'une ligne n'est plus indenté.\n",
    "\n",
    "Prenez les deux exemples ci-dessous. Le premier n'affiche rien car la condition du `if` n'est pas vérifiée. Le deuxième affiche 3 car le `print(x+1)` n'est pas indenté : il n'est pas dans le bloc `if`, et est affiché dans tous les cas."
   ]
  },
  {
   "cell_type": "code",
   "execution_count": 10,
   "metadata": {},
   "outputs": [],
   "source": [
    "x=2\n",
    "if x<1 :\n",
    "    print(x)\n",
    "    print(x+1)"
   ]
  },
  {
   "cell_type": "code",
   "execution_count": 11,
   "metadata": {},
   "outputs": [
    {
     "name": "stdout",
     "output_type": "stream",
     "text": [
      "3\n"
     ]
    }
   ],
   "source": [
    "x=2\n",
    "if x<1 :\n",
    "    print(x)\n",
    "print(x+1)"
   ]
  },
  {
   "cell_type": "markdown",
   "metadata": {},
   "source": [
    "Vous remarquerez que le `else` est facultatif.\n",
    "\n",
    "**Le détail de syntaxe qu'on oublie tout le temps** : les deux points après la condition et le `else`. Ils sont nécessaires ! Au même titre que les points virgules en ADA, il est courant de les oublier. Donc pas de panique. Soyez juste réactif quand votre interpréteur vous dit `invalid syntax` en pointant du doigt l'emplacement concerné."
   ]
  },
  {
   "cell_type": "markdown",
   "metadata": {},
   "source": [
    "Les branchement conditionnels peuvent être imbriqués. L'exemple suivant permet de tester si x est dans l'intervalle $[1;5]$."
   ]
  },
  {
   "cell_type": "code",
   "execution_count": null,
   "metadata": {},
   "outputs": [],
   "source": [
    "x=2\n",
    "if x<1 :\n",
    "    print(False)\n",
    "else :\n",
    "    if x>5 :\n",
    "        print(False)\n",
    "    else:\n",
    "        print(True)"
   ]
  },
  {
   "cell_type": "markdown",
   "metadata": {},
   "source": [
    "Afin d'éviter d'imbriquer trop de branchements conditionnels, on peut utiliser `elif` : il remplace le `else: if` sans ajouter un niveau d'indentation."
   ]
  },
  {
   "cell_type": "code",
   "execution_count": null,
   "metadata": {},
   "outputs": [],
   "source": [
    "x=0\n",
    "if x<1 :\n",
    "    print(False)\n",
    "elif x>5 :\n",
    "    print(False)\n",
    "else:\n",
    "    print(True)"
   ]
  },
  {
   "cell_type": "markdown",
   "metadata": {},
   "source": [
    "On n'insistera jamais assez : **attention à l'indentation !** Les deux exemples ci-dessous sont quasi-identiques à l'indentation du `else` près. Le fonctionnement n'est pas du tout le même. \n",
    "- Pour le premier exemple, le `else` se rapporte au `if x<=5`. Il ne sera donc considéré que si $x>5$.\n",
    "- En revanche, dans le deuxième exemple, le `else` se rapporte au `if x>=1`, donc il est considéré si et seulement si $x<1$. \n",
    "\n",
    "Tester avec des valeurs hors de l'intervalle, inférieures et supérieures, et tâchez de bien comprendre ce qui se passe."
   ]
  },
  {
   "cell_type": "code",
   "execution_count": null,
   "metadata": {},
   "outputs": [],
   "source": [
    "x=8\n",
    "\n",
    "#premiere version avec une indentation pour le else\n",
    "if x>=1 :\n",
    "    if x<=5 :\n",
    "        print(True)\n",
    "    else:\n",
    "        print(1)\n",
    "        \n",
    "#deuxieme version sans indentation\n",
    "if x>=1 :\n",
    "    if x<=5 :\n",
    "        print(True)\n",
    "else:\n",
    "    print(2)"
   ]
  },
  {
   "cell_type": "markdown",
   "metadata": {},
   "source": [
    "### b) Egalité et différence"
   ]
  },
  {
   "cell_type": "markdown",
   "metadata": {},
   "source": [
    "A travers les exemples précédents, vous avez retrouvé les inégalités strictes et larges. Deux autre comparateurs sont nécessaires : l'égalité et la différence. Attention, pour ces deux là, la syntaxe est différente de celle en ADA. L'égalité est avec un double ==, la différence !=."
   ]
  },
  {
   "cell_type": "code",
   "execution_count": 12,
   "metadata": {},
   "outputs": [
    {
     "name": "stdout",
     "output_type": "stream",
     "text": [
      "True\n",
      "False\n",
      "False\n",
      "True\n"
     ]
    }
   ],
   "source": [
    "print(3==3)\n",
    "print(4==3)\n",
    "print(3!=3)\n",
    "print(4!=3)"
   ]
  },
  {
   "cell_type": "markdown",
   "metadata": {},
   "source": [
    "#### Petite interlude culturelle."
   ]
  },
  {
   "cell_type": "markdown",
   "metadata": {},
   "source": [
    "Pourquoi utilise t'on `=` pour l'affectation et `==` pour tester l'égalité ? La syntaxe ADA `:=/=` semble plus logique. L'affectation est asymétrique, son écriture devrait donc l'être aussi. Et pour l'égalité, on voudrait utiliser la même syntaxe qu'en maths. \n",
    "\n",
    "La raison est simple : statistiquement, dans un programme, il y a bien plus d'affectations que de tests d'égalité. La syntaxe `=/==` permet donc de réduire l'espace utilisé par le code. Ce choix a été fait pour le langage C, qui a influencé partiellement la syntaxe du langage Python.\n",
    "\n",
    "Ce choix est d'ailleurs une bonne source d'erreur, vous oublierez quelques fois le deuxième (ou le premier, au choix) `=` dans la condition d'un `if`. L'interpréteur Python est (étonnament et paradoxalement) sympathique et il vous insultera directement. L'an prochain, vous verrez que ça ne sera plus le cas en C. Prenez donc de bonnes habitudes dès maintenant afin de ne pas perdre un temps fou à débugger."
   ]
  },
  {
   "cell_type": "markdown",
   "metadata": {},
   "source": [
    "### c) Agglomérer des conditions"
   ]
  },
  {
   "cell_type": "markdown",
   "metadata": {},
   "source": [
    "Reprenons l'exemple permettant de tester si une valeur est dans l'intervalle $[1;5]$. Au lieu d'avoir des branchements conditionnels imbriqués, on peut plus simplement les agglomérer en une seule formule logique."
   ]
  },
  {
   "cell_type": "code",
   "execution_count": null,
   "metadata": {},
   "outputs": [],
   "source": [
    "x=0\n",
    "if x>=1 and x<=5:\n",
    "    print(True)\n",
    "else:\n",
    "    print(False)"
   ]
  },
  {
   "cell_type": "markdown",
   "metadata": {},
   "source": [
    "Vous pouvez construire par induction une formule logique. Cette dernière est soit :\n",
    "- un terme : `True`, `False` ou une condition de la forme `x>0` (cas de base), \n",
    "- la conjonction de deux formules logiques : `F1 and F2`,\n",
    "- la disjonction de deux formules logiques : `F1 or F2`,\n",
    "- la négation d'une formule logique : `not F`.\n",
    "\n",
    "On verra qu'on peut aussi utiliser des fonctions dans les formules. Mais chaque chose en son temps."
   ]
  },
  {
   "cell_type": "code",
   "execution_count": null,
   "metadata": {},
   "outputs": [],
   "source": [
    "x=2\n",
    "(not (x<3 and False)) or x>0"
   ]
  },
  {
   "cell_type": "markdown",
   "metadata": {},
   "source": [
    "Il y a trois termes : T1 : `x<3`, T2 : `False` et T3 : `x>0`. La formule ci-dessus correspond à `(not (T1 and T2)) or T3`.\n",
    "\n",
    "**Deux remarques de bon sens :** \n",
    "- Agglomérer de la sorte peut être pratique pour ne pas démultiplier les branchements imbriqués mais attention à ce que les conditions restent lisibles et que l'algorithme sous jacent reste compréhensible.\n",
    "- Il est possible d'enchaîner les comparateurs. A utiliser avec modération, comme devrait vous en convaincre le deuxième exemple."
   ]
  },
  {
   "cell_type": "code",
   "execution_count": null,
   "metadata": {},
   "outputs": [],
   "source": [
    "x=0\n",
    "y=2\n",
    "z=4\n",
    "if(x<y<z):\n",
    "    print(0)\n",
    "    \n",
    "if(y>x<z>2==y<3!=x!=1<z):\n",
    "    print(1)"
   ]
  },
  {
   "cell_type": "markdown",
   "metadata": {},
   "source": [
    "### d) Comparaisons entre flottants"
   ]
  },
  {
   "cell_type": "markdown",
   "metadata": {},
   "source": [
    "On a auparavent parlé de problème de précision pour les flottants. Une conséquence fâcheuse s'observe facilement :"
   ]
  },
  {
   "cell_type": "code",
   "execution_count": null,
   "metadata": {},
   "outputs": [],
   "source": [
    "0.1*3 == 0.3"
   ]
  },
  {
   "cell_type": "markdown",
   "metadata": {},
   "source": [
    "Afin de pallier à ce problème, on peut tester si l'écart entre deux flottants est plus petit qu'un certain seuil. On utilise la fonction abs (valeur absolue) pour obtenir l'écart entre les deux valeurs."
   ]
  },
  {
   "cell_type": "code",
   "execution_count": null,
   "metadata": {},
   "outputs": [],
   "source": [
    "seuil = 0.00000001\n",
    "abs(0.3-0.1*3)<seuil"
   ]
  },
  {
   "cell_type": "markdown",
   "metadata": {},
   "source": [
    "### e) Evaluation paresseuse"
   ]
  },
  {
   "cell_type": "markdown",
   "metadata": {},
   "source": [
    "Prenons A et B deux formules logiques. Lorsque l'on veut évaluer la formule `A and B`, si A est fausse, ce n'est pas la peine d'évaluer B car `A and B` sera fausse de toute manière. De même, si A est vraie, pas la peine d'évaluer B pour connaître l'évaluation de `A or B`. Python utilise ce mécanisme. C'est ce qu'on appelle l'évaluation paresseuse. \n",
    "\n",
    "Donc dans l'exemple `x>=1 and x<=5`, si $x<1$, le programme passe directement au `else`, sans tester si $x\\leq 5$.\n",
    "\n",
    "**Point ADA** : faites bien attention que ce n'est pas le cas par défaut dans ce langage. Les conditions A et B sont évaluées en parallèle. Pour forcer ce mécanisme, vous devez utiliser `A and then B`, ou `A or else B`."
   ]
  },
  {
   "cell_type": "markdown",
   "metadata": {},
   "source": [
    "### f) Exercice "
   ]
  },
  {
   "cell_type": "markdown",
   "metadata": {},
   "source": [
    "Compléter le programme suivant afin qu'il affiche si a, b et c sont distincts deux à deux. Proposer plusieurs méthodes. On pensera à modifier les valeurs de a, b et c pour tester."
   ]
  },
  {
   "cell_type": "code",
   "execution_count": null,
   "metadata": {},
   "outputs": [],
   "source": [
    "a=0\n",
    "b=1\n",
    "c=2\n",
    "\n",
    "\n"
   ]
  },
  {
   "cell_type": "markdown",
   "metadata": {},
   "source": [
    "## 4) Boucles"
   ]
  },
  {
   "cell_type": "markdown",
   "metadata": {},
   "source": [
    "### a) Les boucles while\n",
    "\n",
    "Pour les boucles `while`, rien d'exotique. Même idée que pour le branchement conditionnel (on pense toujours bien à indenter les intructions à répéter ) : "
   ]
  },
  {
   "cell_type": "raw",
   "metadata": {},
   "source": [
    "while condition :\n",
    "    instructionBoucle1\n",
    "    instructionBoucle2\n",
    "instructionApresBoucle"
   ]
  },
  {
   "cell_type": "markdown",
   "metadata": {},
   "source": [
    "**Exemple :** on calcule la partie entière du logarithme en base 2 : $\\lfloor \\log_2(n)\\rfloor$"
   ]
  },
  {
   "cell_type": "code",
   "execution_count": null,
   "metadata": {},
   "outputs": [],
   "source": [
    "n=3\n",
    "p=1\n",
    "log=-1\n",
    "while p<=n:\n",
    "    p=2*p\n",
    "    log=log+1\n",
    "print(log)"
   ]
  },
  {
   "cell_type": "markdown",
   "metadata": {},
   "source": [
    "### b) Les boucles for\n",
    "\n",
    "Afin d'itérer sur des séquences d'entiers, on utilise `range`, qui prend un à trois paramètres :\n",
    "- avec un paramètre : range(n) va parcourir la séquence $(0,1,\\ldots,n-1)$,\n",
    "- avec deux paramètres : range(m,n) va parcourir la séquence $(m,m+1,\\ldots,n-1)$,\n",
    "- avec trois paramètres : range(m,n,p) va parcourir $\\left\\{ \n",
    "    \\begin{align}\n",
    "    \\{m+pk < n, k\\in \\mathbb{N}\\} \\text{ si p > 0}\\\\\n",
    "    \\{m+pk > n, k\\in \\mathbb{N}\\} \\text{ si p < 0}\n",
    "    \\end{align}\n",
    "    \\right.$ dans l'ordre des k croissants.\n",
    "    \n",
    "Ici :\n",
    "- m représente le début de la boucle (inclus),\n",
    "- n la fin (exclue),\n",
    "- p le pas."
   ]
  },
  {
   "cell_type": "code",
   "execution_count": 15,
   "metadata": {},
   "outputs": [
    {
     "name": "stdout",
     "output_type": "stream",
     "text": [
      "0\n",
      "1\n",
      "2\n",
      "3\n",
      "4\n"
     ]
    }
   ],
   "source": [
    "for i in range(5):\n",
    "    print(i)"
   ]
  },
  {
   "cell_type": "code",
   "execution_count": 14,
   "metadata": {},
   "outputs": [
    {
     "name": "stdout",
     "output_type": "stream",
     "text": [
      "3\n",
      "4\n",
      "5\n"
     ]
    }
   ],
   "source": [
    "for i in range(3,6):\n",
    "    print(i)"
   ]
  },
  {
   "cell_type": "code",
   "execution_count": 16,
   "metadata": {},
   "outputs": [
    {
     "name": "stdout",
     "output_type": "stream",
     "text": [
      "5\n",
      "7\n",
      "9\n"
     ]
    }
   ],
   "source": [
    "for i in range(5,11,2):\n",
    "    print(i)"
   ]
  },
  {
   "cell_type": "code",
   "execution_count": 13,
   "metadata": {},
   "outputs": [
    {
     "name": "stdout",
     "output_type": "stream",
     "text": [
      "15\n",
      "12\n",
      "9\n",
      "6\n"
     ]
    }
   ],
   "source": [
    "for i in range(15,5,-3):\n",
    "    print(i)"
   ]
  },
  {
   "cell_type": "markdown",
   "metadata": {},
   "source": [
    "**Remarque :** si l'intervalle défini est vide ($m\\geq n$ par exemple), aucun problème, on ne rentre juste pas dans la boucle.\n",
    "\n",
    "Etant de nature curieuse, vous testerez ce qui se passe si on donne un pas (p) de 0, même si vous l'avez sûrement deviné. Et si on donne un pas flottant ?\n",
    "\n",
    "Contrairement à ADA, modifier votre indice de boucle est autorisé. Soupçonneux, vous penserez bien à vérifier si cette nouvelle liberté n'est pas dangeureuse. De même, vous pouvez modifier une variable servant de borne au `range`."
   ]
  },
  {
   "cell_type": "code",
   "execution_count": null,
   "metadata": {},
   "outputs": [],
   "source": [
    "max = 3\n",
    "for i in range(max):\n",
    "    print(i)\n",
    "    max = max + 1\n",
    "    i = i-1"
   ]
  },
  {
   "cell_type": "markdown",
   "metadata": {},
   "source": [
    "Ouf ! Les modifications des variables i et max dans la boucle n'ont aucun impact."
   ]
  },
  {
   "cell_type": "markdown",
   "metadata": {},
   "source": [
    "### c) Exercices"
   ]
  },
  {
   "cell_type": "markdown",
   "metadata": {},
   "source": [
    "Pour un paramètre $C\\in \\mathbb{N}^*$, on définit la suite de Syracuse par :\n",
    "- $u_0=C$\n",
    "- $u_{n+1} = \\left\\{\n",
    "      \\begin{array}{l}\n",
    "        u_n/2 \\ \\text{ si } u_n \\text{ pair} \\\\\n",
    "        3u_n+1 \\ \\text{ sinon }\n",
    "      \\end{array}\n",
    "    \\right.$\n",
    "\n",
    "On suppose que pour tout $C\\geq 1$, il existe $N \\geq 0$ tel que $u_N=1$. On note $S_C$ le premier rang $n$ tel que $u_n=1$. A partir de ce rang, on remarque que les termes de la suite $(u_n)_{n\\geq S_C}$ sont périodiques en parcourant en boucle les valeurs $4,2,1$. C'est la conjecture de Syracuse, que vous devrez démontrer au prochain DS de maths. \n",
    "\n",
    "Pour chaque question, identifier quel type de boucle est le plus adapté.\n",
    "\n",
    "1)Ecrire un programme qui calcule $S_C$. "
   ]
  },
  {
   "cell_type": "code",
   "execution_count": null,
   "metadata": {},
   "outputs": [],
   "source": [
    "C = 1\n",
    "while False:\n",
    "    C=C+1\n",
    "print(3)"
   ]
  },
  {
   "cell_type": "markdown",
   "metadata": {},
   "source": [
    "2) Reprendre votre programme précédent afin de maintenant calculer la hauteur en vol, c'est à dire la valeur maximale prise par la suite."
   ]
  },
  {
   "cell_type": "code",
   "execution_count": null,
   "metadata": {},
   "outputs": [],
   "source": []
  },
  {
   "cell_type": "markdown",
   "metadata": {},
   "source": [
    "3) Soit $N\\in \\mathbb{N}^*$. Ecrire un programme qui affiche les valeurs $S_C$ pour $1\\leq C \\leq N$."
   ]
  },
  {
   "cell_type": "code",
   "execution_count": null,
   "metadata": {},
   "outputs": [],
   "source": []
  },
  {
   "cell_type": "markdown",
   "metadata": {},
   "source": [
    "Normalement, cette dernière question vous a fait sentir le besoin d'introduire une fonction. On va voir comment le faire."
   ]
  },
  {
   "cell_type": "markdown",
   "metadata": {},
   "source": [
    "## 5) Fonctions"
   ]
  },
  {
   "cell_type": "markdown",
   "metadata": {},
   "source": [
    "### a) Syntaxe"
   ]
  },
  {
   "cell_type": "markdown",
   "metadata": {},
   "source": [
    "En Python, plus besoin de distinguer procédure et fonction (on verra plus tard ce qui se passe si une fonction ne renvoie rien).\n",
    "\n",
    "Le mot clé pour définir une fonction est `def`. De même que pour les branchements conditionnels et les boucles, il faut indenter le contenu d'une fonction.\n",
    "\n",
    "Prenons par exemple la valeur absolue :"
   ]
  },
  {
   "cell_type": "code",
   "execution_count": null,
   "metadata": {},
   "outputs": [],
   "source": [
    "def abs(x):\n",
    "    if x>0:\n",
    "        return x\n",
    "    else:\n",
    "        return -x"
   ]
  },
  {
   "cell_type": "markdown",
   "metadata": {},
   "source": [
    "Comme on l'a vu précédemment, cette fonction existe déjà en Python. En revanche, la fonction `log2` calculant le logarithme en base 2 n'est pas fournie par défaut (on verra qu'en fait on peut indiquer où aller chercher une telle fonction mathématique). \n",
    "\n",
    "Implémenter une fonction log2 qui calcule le logarithme en base 2 (sans utiliser d'import). On veut une version itérative. **Si vous ne voyez pas comment faire, lisez le sujet dans l'ordre, sans sauter de partie.**"
   ]
  },
  {
   "cell_type": "code",
   "execution_count": null,
   "metadata": {},
   "outputs": [],
   "source": [
    "#definition de log2\n"
   ]
  },
  {
   "cell_type": "markdown",
   "metadata": {},
   "source": [
    "Il est courant, lorsqu'on finit d'implémenter une fonction, de clamer haut et fort : \"C'est bon, ça marche ! J'ai cliqué sur exécuter, ça n'a pas donné d'erreur\".\n",
    "\n",
    "Si c'est le cas, les TP d'algo-prog devraient vous permettre de rapidement sentir que vous avez oublié quelque chose. Les tests ? **Oui les tests !** Plusieurs raisons :\n",
    "- L'algorithme sous jacent pourrait être faux. Mais vous avez bien sûr pensé à tester votre algorithme sur papier avant de l'implémenter.\n",
    "- Une typo : vous avez inversé deux variables.\n",
    "- Vous avez écrit quelque chose de syntaxiquement correct mais qui n'a aucun sens. Par exemple, dans la fonction abs, remplacez \"return x\" par \"return moussaka\". L'exécution pose-t'elle problème ? Et des tests ? Ce problème n'arrivait pas en ADA, nous verrons pourquoi.\n",
    "- Votre algorithme est correct mais beaucoup trop lent (ou son implémentation tout du moins)."
   ]
  },
  {
   "cell_type": "code",
   "execution_count": null,
   "metadata": {},
   "outputs": [],
   "source": [
    "#tests\n"
   ]
  },
  {
   "cell_type": "markdown",
   "metadata": {},
   "source": [
    "Au début d'une fonction, vous pouvez rajouter des commentaires sous un certain format :"
   ]
  },
  {
   "cell_type": "code",
   "execution_count": null,
   "metadata": {},
   "outputs": [],
   "source": [
    "def meme_signe(x,y):\n",
    "    \"\"\"\n",
    "    Paramètres : x, y deux int\n",
    "    Détermine si x et y sont de même signe\n",
    "    \"\"\"\n",
    "    if x*y>0:\n",
    "        return True\n",
    "    else:\n",
    "        return False"
   ]
  },
  {
   "cell_type": "markdown",
   "metadata": {},
   "source": [
    "Au delà de l'intérêt habituel d'un commentaire, celui-ci permet de générer une documentation pour cette fonction. On parle de **docstring**."
   ]
  },
  {
   "cell_type": "code",
   "execution_count": null,
   "metadata": {},
   "outputs": [],
   "source": [
    "help(meme_signe)"
   ]
  },
  {
   "cell_type": "markdown",
   "metadata": {},
   "source": [
    "### b) Récursivité"
   ]
  },
  {
   "cell_type": "markdown",
   "metadata": {},
   "source": [
    "Maintenant que vous êtes devenu des adeptes de la récursivité, vous vous demandez comment écrire `log2` récursivement. Pour la syntaxe, aucun piège."
   ]
  },
  {
   "cell_type": "code",
   "execution_count": null,
   "metadata": {},
   "outputs": [],
   "source": [
    "def log2rec(n):\n",
    "    if(n==1):\n",
    "        return 0\n",
    "    else:\n",
    "        return 1+log2rec(n//2)\n",
    "\n",
    "#Exemple de tests\n",
    "for i in range(1,10):\n",
    "    print(i,log2rec(i))"
   ]
  },
  {
   "cell_type": "markdown",
   "metadata": {},
   "source": [
    "Attention, le nombre d'appel récursif est limité. En Ada, vous n'avez peut-être jamais remarqué mais il y en a une aussi (en général $10^6$). En Python, la limite est potentiellement bien plus basse. Pour constater cette limitation, prenez la fonction suivante.\n",
    "\n",
    "Que calcule-t'elle ? Combien d'appels récursifs sont fait ? Tester cette fonction avec des grandes valeurs."
   ]
  },
  {
   "cell_type": "code",
   "execution_count": 17,
   "metadata": {},
   "outputs": [],
   "source": [
    "def f(x):\n",
    "    if x==0 :\n",
    "        return 0\n",
    "    else :\n",
    "        return 1+f(x-1)"
   ]
  },
  {
   "cell_type": "markdown",
   "metadata": {},
   "source": [
    "**Remarque :** une solution classique consiste à faire ce qu'on appelle de la récursivité terminale. Si vous ne connaissez pas, ce n'est pas grave car ça ne marche pas en Python. Une autre technique consiste a modifier la taille de la pile (avec resource par exemple)."
   ]
  },
  {
   "cell_type": "markdown",
   "metadata": {},
   "source": [
    "### c) Portée des variables"
   ]
  },
  {
   "cell_type": "markdown",
   "metadata": {},
   "source": [
    "Lorsque l'interpréteur doit **utiliser** le contenu d'une variable, il faut que cette dernière ait déjà été définie."
   ]
  },
  {
   "cell_type": "code",
   "execution_count": null,
   "metadata": {},
   "outputs": [],
   "source": [
    "print(maVariableAvecUnNomTresLongPourQueVousNeLayezPasDejaDefini)"
   ]
  },
  {
   "cell_type": "markdown",
   "metadata": {},
   "source": [
    "Il va chercher sa définition dans le contexte le plus local possible. Si la variable n'existe pas, il va la chercher dans le contexte englobant, etc... jusqu'au contexte global."
   ]
  },
  {
   "cell_type": "code",
   "execution_count": null,
   "metadata": {},
   "outputs": [],
   "source": [
    "varA=1\n",
    "varB=2\n",
    "\n",
    "def f():\n",
    "    varA=0\n",
    "    print(varA)\n",
    "    print(varB)\n",
    "\n",
    "f()"
   ]
  },
  {
   "cell_type": "markdown",
   "metadata": {},
   "source": [
    "### d) Exercices"
   ]
  },
  {
   "cell_type": "markdown",
   "metadata": {},
   "source": [
    "1) L'algorithme d'Euclide permet de calculer le pgcd de deux entiers (<a href=\"https://fr.wikipedia.org/wiki/Algorithme_d%27Euclide\">c'est quoi cet algo ?</a>). Implémenter une version récursive de cet algorithme :"
   ]
  },
  {
   "cell_type": "code",
   "execution_count": null,
   "metadata": {
    "scrolled": true
   },
   "outputs": [],
   "source": [
    "def Euclide(a,b):\n",
    "    pass #instruction vide"
   ]
  },
  {
   "cell_type": "markdown",
   "metadata": {},
   "source": [
    "2 ) On définit la suite $p_n$ comme suit : $\\left\\{\n",
    "    \\begin{array}{l}\n",
    "      p_0 = 0 \\\\\n",
    "      p_{n+1} = p_n + \\frac{(-1)^n}{2n+1} \\ \\ \\ \\ \\text{pour } n\\geq 1\n",
    "    \\end{array}\n",
    "  \\right.$\n",
    "\n",
    "  Ecrire une fonction qui prend en entrée $n\\in \\mathbb{N}$ et qui renvoie $p_n$. Vers quelle valeur semble converger la suite $(4p_n)_{n\\in \\mathbb{N}}$ ?"
   ]
  },
  {
   "cell_type": "code",
   "execution_count": null,
   "metadata": {},
   "outputs": [],
   "source": []
  },
  {
   "cell_type": "markdown",
   "metadata": {},
   "source": [
    "3) Un exercice pour mieux comprendre la portée des variables (CC D. Le Botlan). \n",
    "\n",
    "i) Exécutez le code ci-dessous tel quel. Il affiche 4891 (comprenez comment).\n",
    "\n",
    "ii) Ensuite, on veut que le programme affiche 1984. Vous avez le droit de commenter seulement QUATRE lignes (en insérant un # au début de la ligne). Aucune autre modification n'est autorisée."
   ]
  },
  {
   "cell_type": "code",
   "execution_count": null,
   "metadata": {},
   "outputs": [],
   "source": [
    "##afin de ne pas subir les affectations des cellules précédemment exécutées\n",
    "%reset -f\n",
    "\n",
    "a = 1000\n",
    "b = 100\n",
    "c = 100\n",
    "d = 1\n",
    "\n",
    "def foo(b):\n",
    "    \n",
    "    c = 1\n",
    "    \n",
    "    def moo():\n",
    "        a = 1\n",
    "        c = 10\n",
    "        \n",
    "    def zoo(a):\n",
    "        a = 1\n",
    "    \n",
    "    def bar(c):\n",
    "        print(a*1 + b*9 + c*8 + d*4)  ## On veut \"1984\"\n",
    "    \n",
    "    c = 10\n",
    "    a = 1\n",
    "    moo()\n",
    "    zoo(a)\n",
    "    bar(10 * c)\n",
    "\n",
    "d = 1000\n",
    "b = 10\n",
    "c = 10\n",
    "foo(c)"
   ]
  },
  {
   "cell_type": "markdown",
   "metadata": {},
   "source": [
    "## 6) Pour ceux qui s'ennuyent"
   ]
  },
  {
   "cell_type": "markdown",
   "metadata": {},
   "source": [
    "On définit la suite de Fibonacci comme suit :\n",
    "  $$\n",
    "    f_n = \\left\\{\n",
    "      \\begin{array}{cl}\n",
    "        1 & \\text{si } n=0 \\text{ ou } 1 \\\\\n",
    "        f_{n-1} + f_{n-2} & \\text{sinon}\n",
    "      \\end{array}\n",
    "    \\right.\n",
    "  $$\n",
    "i) Ecrire une fonction récursive `fibo_rec` qui calcule $f_n$."
   ]
  },
  {
   "cell_type": "code",
   "execution_count": null,
   "metadata": {},
   "outputs": [],
   "source": []
  },
  {
   "cell_type": "markdown",
   "metadata": {},
   "source": [
    "ii) Ecrire une fonction itérative `fibo_it` qui calcule $f_n$. On pensera à utiliser deux variables temporaires."
   ]
  },
  {
   "cell_type": "code",
   "execution_count": null,
   "metadata": {},
   "outputs": [],
   "source": []
  },
  {
   "cell_type": "markdown",
   "metadata": {},
   "source": [
    "iii) Comparez l'efficacité de vos deux fonctions expérimentalement. Essayez de comprendre d'où vient une telle différence."
   ]
  },
  {
   "cell_type": "code",
   "execution_count": null,
   "metadata": {},
   "outputs": [],
   "source": []
  },
  {
   "cell_type": "markdown",
   "metadata": {},
   "source": [
    "iv) Soit $C\\in \\mathbb{R}^+$. On définit la suite $(u_n(C))_n$ par $u_0(C)=C$ et $u_{n+1}(C)=\\frac{1}{2}\\left( u_n+\\frac{C}{u_n}\\right)$ pour $n\\geq 1$. Ecrire une fonction qui prend $n\\in\\mathbb{N}$ et $C\\in \\mathbb{R}^+$ en entrée et renvoie $u_n(C)$."
   ]
  },
  {
   "cell_type": "code",
   "execution_count": null,
   "metadata": {},
   "outputs": [],
   "source": []
  },
  {
   "cell_type": "markdown",
   "metadata": {},
   "source": [
    "v) Vers quoi la suite semble t'elle converger ?"
   ]
  },
  {
   "cell_type": "code",
   "execution_count": null,
   "metadata": {},
   "outputs": [],
   "source": []
  },
  {
   "cell_type": "markdown",
   "metadata": {},
   "source": [
    "vi) Proposer une fonction qui calcule cette limite. Attention, cette dernière n'est potentiellement jamais atteinte."
   ]
  },
  {
   "cell_type": "code",
   "execution_count": null,
   "metadata": {},
   "outputs": [],
   "source": []
  },
  {
   "cell_type": "markdown",
   "metadata": {},
   "source": [
    "vii) On peut montrer que $\\forall n\\in\\mathbb{N}, f_n= \\frac{1}{\\sqrt{5}}\\left( \\phi^n - \\left( -\\frac{1}{\\phi} \\right) ^n \\right)$, avec $\\phi=\\frac{1+\\sqrt{5}}{2}$. Ecrire une fonction `fibo_bis` qui calcule $f_n$."
   ]
  },
  {
   "cell_type": "code",
   "execution_count": null,
   "metadata": {},
   "outputs": [],
   "source": []
  },
  {
   "cell_type": "markdown",
   "metadata": {},
   "source": [
    "viii) Comparer les valeurs obtenues par `fibo_it` et `fibo_bis`. Une erreur s'est glissée dans l'énoncé, corrigez la."
   ]
  },
  {
   "cell_type": "code",
   "execution_count": null,
   "metadata": {},
   "outputs": [],
   "source": []
  },
  {
   "cell_type": "markdown",
   "metadata": {},
   "source": [
    "ix) Comparer expérimentalement les performances de ces deux fonctions."
   ]
  },
  {
   "cell_type": "code",
   "execution_count": null,
   "metadata": {},
   "outputs": [],
   "source": []
  }
 ],
 "metadata": {
  "kernelspec": {
   "display_name": "Python 3 (ipykernel)",
   "language": "python",
   "name": "python3"
  },
  "language_info": {
   "codemirror_mode": {
    "name": "ipython",
    "version": 3
   },
   "file_extension": ".py",
   "mimetype": "text/x-python",
   "name": "python",
   "nbconvert_exporter": "python",
   "pygments_lexer": "ipython3",
   "version": "3.9.13"
  }
 },
 "nbformat": 4,
 "nbformat_minor": 4
}
