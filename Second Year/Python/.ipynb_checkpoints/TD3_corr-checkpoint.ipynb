{
 "cells": [
  {
   "cell_type": "markdown",
   "metadata": {},
   "source": [
    "# Troisième séance : spécificités du langage"
   ]
  },
  {
   "cell_type": "markdown",
   "metadata": {},
   "source": [
    "- auteur : <a href=\"mailto:lentz@insa-toulouse.fr\">A. Lentz</a>\n",
    "- date : 2023"
   ]
  },
  {
   "cell_type": "markdown",
   "metadata": {},
   "source": [
    "Maintenant que vous maîtrisez la syntaxe fondamentale du langage, nous allons étudier ses spécificités, ses forces et ses faiblesses."
   ]
  },
  {
   "cell_type": "markdown",
   "metadata": {},
   "source": [
    "## 1) Langage interprété"
   ]
  },
  {
   "cell_type": "markdown",
   "metadata": {},
   "source": [
    "### a) Langage machine et assembleur\n",
    "\n",
    "Votre machine ne parle ni le français, ni le Python, et encore moins l'espéranto. Elle utilise ce qu'on appelle un langage machine. Ce dernier permet de lui donner directement des instructions. Les instructions sont des séquences de 0 et de 1, ce qui rend le langage complètement illisible. \n",
    "\n",
    "On les représente dans un langage d'assemblage (assembleur), dont vous avez déjà eu un aperçu en première année en TD d'algorithmique. Un petit exemple :"
   ]
  },
  {
   "cell_type": "raw",
   "metadata": {},
   "source": [
    "\tpush {r0}\n",
    "\tmov r5,r0\n",
    "\tldr r2,[r6]\n",
    "boucle\n",
    "\tldrsh r4, [r2,r0]\n",
    "\tmul r12, r4, r12\n",
    "\tadd r1, r1, r12\n",
    "\tlsl r0,r0,#26\n",
    "\tcmp r6,#128\n",
    "\tbne boucle"
   ]
  },
  {
   "cell_type": "markdown",
   "metadata": {},
   "source": [
    "Ce langage est dit très bas niveau (le plus bas) : c'est le plus proche du langage machine. Vous vous doutez que développer avec est souvent laborieux. On utilise généralement des langages plus haut niveau (plus proche d'un langage humain) : on contrôle moins ce qui se passe derrière mais on développe plus vite. \n",
    "\n",
    "Par exemple, en Python, on ne contrôle pas l'utilisation de la mémoire, ce qui n'est pas optimal. Mais coder un parseur de fichier (on en parlera à la fin de ce TD) devient infiniment plus simple en Python qu'en assembleur.\n",
    "\n",
    "Il existe deux grandes familles de langages de programmation : les langages compilés et les langages interprétés."
   ]
  },
  {
   "cell_type": "markdown",
   "metadata": {},
   "source": [
    "### b) Langages compilés"
   ]
  },
  {
   "cell_type": "markdown",
   "metadata": {},
   "source": [
    "Pour ces langages, il y a deux étapes :\n",
    "\n",
    "1. Une étape de compilation qui consiste à traduire le code en langage machine. Par exemple, en ADA, vous écrivez votre code dans un fichier `.adb` (ada body, c'est le corps de votre programme). Votre machine n'y comprend rien. En cliquant sur \"build\" dans Emacs, vous lancez la compilation, qui génère un exécutable. Ce dernier contient la traduction de votre code en langage machine. Rien n'est exécuté, votre programme ne tourne pas.\n",
    "\n",
    "2. Une étape d'exécution. Cette fois, vous faites tourner votre programme en demandant au système d'exploitation de lancer les instructions qui sont dans l'exécutable. C'est à ce moment là que vous testez votre programme. En algo-prog, cette étape correspond au bouton \"run\" avec Emacs."
   ]
  },
  {
   "cell_type": "markdown",
   "metadata": {},
   "source": [
    "<u>Exemples</u> : ADA, C, Fortran."
   ]
  },
  {
   "cell_type": "markdown",
   "metadata": {},
   "source": [
    "L'étape de compilation permet deux autres choses :\n",
    "- une vérification partielle de la correction de votre code (avez vous refermé les parenthèses que vous avez ouvertes ?),\n",
    "- des optimisations de votre programme."
   ]
  },
  {
   "cell_type": "markdown",
   "metadata": {},
   "source": [
    "Un exemple d'optimisation :"
   ]
  },
  {
   "cell_type": "code",
   "execution_count": null,
   "metadata": {},
   "outputs": [],
   "source": [
    "n = 10\n",
    "somme = 0\n",
    "for i in range(n):\n",
    "    somme += i\n",
    "print(somme)\n",
    "\n",
    "# équivalent à sum(range(n))"
   ]
  },
  {
   "cell_type": "markdown",
   "metadata": {},
   "source": [
    "**Question :** essayer de condenser les lignes 2 à 5 en **une seule** (la valeur affichée doit dépendre de n). Pas le droit d'utiliser une technique spécifique à Python, en particulier la fonction `sum` comme à la ligne 7. Vos connaissances mathématiques devraient vous suffire à éviter toute boucle (explicite ou cachée)."
   ]
  },
  {
   "cell_type": "code",
   "execution_count": null,
   "metadata": {},
   "outputs": [],
   "source": [
    "n = 10\n",
    "print(int(n*(n-1)/2))"
   ]
  },
  {
   "cell_type": "markdown",
   "metadata": {},
   "source": [
    "### c) Langages interprétés"
   ]
  },
  {
   "cell_type": "markdown",
   "metadata": {},
   "source": [
    "Les langages interprétés exécutent directement le code : la traduction est faite à la volée. Il faut un interpréteur spécifique à la machine utilisée.\n",
    "\n",
    "<u>Exemples</u> : Python, Javascript, Prolog.\n",
    "\n",
    "**Remarque :** certains langages sont entre les deux, comme Java. Il y a une première étape de compilation qui traduit non pas en langage machine mais dans un langage proche, le bytecode java (identique pour toutes les machines). Puis une machine virtuelle Java interprète ce bytecode pour s'adapter aux spécificités de votre machine."
   ]
  },
  {
   "cell_type": "markdown",
   "metadata": {},
   "source": [
    "### d) Avantages et inconvénients"
   ]
  },
  {
   "cell_type": "markdown",
   "metadata": {},
   "source": [
    "<u>Avantages des langages compilés</u> :\n",
    "- Si vous devez exécuter votre programme de nombreuses fois mais que vous ne le modifiez pas, pas besoin de le recompiler à chaque fois. Vous gagnez du temps. C'est le cas des applications que vous utilisez au quotidien.\n",
    "- Un deuxième gain de temps : la compilation détecte en amont certaines erreurs, pas besoin d'attendre une longue exécution. On verra un exemple avec le typage dans la partie suivante. \n",
    "- Jamais deux sans trois : la compilation se fait sur le code complet, ce qui lui permet d'optimiser plus facilement.\n",
    "- Le langage machine étant illisible, on peut masquer les techniques de développement utilisées dans un programme propriétaire. La traduction inverse (appelée rétro-ingénierie ou reverse engineering) est non triviale et parfois même illégale selon la licence qui protège le programme."
   ]
  },
  {
   "cell_type": "markdown",
   "metadata": {},
   "source": [
    "<u>Avantages des langages interprétés</u> :\n",
    "- Ils sont dynamiques : on peut ajouter des fonctionnalités peu à peu, on peut changer d'avis, sans avoir à recompiler.\n",
    "- Un même programme est interprétable sur n'importe quelle machine (munie d'un interpréteur).\n",
    "- Ils sont souvent plus simples à prendre en main."
   ]
  },
  {
   "cell_type": "markdown",
   "metadata": {},
   "source": [
    "### e) Utiliser un interpréteur directement"
   ]
  },
  {
   "cell_type": "markdown",
   "metadata": {},
   "source": [
    "Ouvrez un terminal et taper `python3`. Félicitations, vous venez d'ouvrir un interpréteur Python. \n",
    "\n",
    "**Note :** sous Windows, lancez l'invite de commande (cmd pour les intimes). Il est possible qu'il faille taper `python` tout court. Par contre, sous unix, `python` tout court peut faire référence à la version 2 si elle est installée. Ce n'est pas ce que vous voulez. "
   ]
  },
  {
   "cell_type": "markdown",
   "metadata": {},
   "source": [
    "**Remarque sur l'utilisation d'un interpréteur :**\n",
    "- pensez à indenter correctement (par la suite, vous risquez d'avoir plusieurs niveaux d'indentation)\n",
    "- pour finir la définition d'une fonction, tapez Entrée une fois de plus : votre interpréteur devrait remplacer les points `...` par des chevrons `>>>`,\n",
    "- les flèches haut/bas vous permettent de reprendre une ligne déjà tapée (comme en unix)."
   ]
  },
  {
   "cell_type": "markdown",
   "metadata": {},
   "source": [
    "**Une première illustration :** tapez dans l'interpréteur (dans votre terminal) le code suivant."
   ]
  },
  {
   "cell_type": "code",
   "execution_count": null,
   "metadata": {},
   "outputs": [],
   "source": [
    "a=2\n",
    "def cube(x):\n",
    "    return x**3\n",
    "print(cube(a))"
   ]
  },
  {
   "cell_type": "markdown",
   "metadata": {},
   "source": [
    "Ah mais non, je voulais voir pour a=3 en fait... Pas besoin réecrire la fonction cube, ni de recompiler comme en ADA (sauf si vous n'avez pas exécuté la cellule précédente). Ecrivez simplement :"
   ]
  },
  {
   "cell_type": "code",
   "execution_count": null,
   "metadata": {
    "scrolled": true
   },
   "outputs": [],
   "source": [
    "print(cube(3))"
   ]
  },
  {
   "cell_type": "markdown",
   "metadata": {},
   "source": [
    "**Exercice (à faire dans votre terminal) :**\n",
    "\n",
    "1. Un prédicat est une fonction booléenne, c'est à dire qu'elle renvoie un booléen. Soit $g$ un certain prédicat que vous ne définirez **pas**. Dans votre interpréteur, écrire une fonction `tous_vrai` qui prend en paramètre une liste $L$ et renvoie si pour tout élément $x$ de $L$, $g(x)$ renvoie Vrai.\n",
    "3. La fonction `tous_vrai` est-elle un prédicat ?\n",
    "2. La définition de cette fonction dans l'interpréteur pose-t'elle problème ? Le devrait-elle ?\n",
    "3. Testez votre fonction avec une liste d'entiers. Que se passe t'il ?\n",
    "4. Définissez un prédicat $g$, qui prend en paramètre un entier et renvoie si il est pair.\n",
    "5. Testez à nouveau `tous_vrai`.\n",
    "6. Redéfinisez `g` pour qu'il renvoie Vrai si et seulement si son paramètre est positif.\n",
    "7. Retestez : le résultat a t'il changé ?\n",
    "8. En Python, les fonctions peuvent elles aussi être affectée dans des variables, et être passée en paramètre d'une fonction. Redéfinissez `tous_vrai` pour qu'elle prenne maintenant deux paramètres : une liste et un prédicat. Elle renvoie vrai si et seulement si le prédicat appliqué à chaque élément de la liste renvoie Vrai.\n",
    "9. Testez à nouveau `tous_vrai`, en lui donnant la fonction g en paramètre."
   ]
  },
  {
   "cell_type": "code",
   "execution_count": null,
   "metadata": {},
   "outputs": [],
   "source": [
    "#question 1\n",
    "def tous_vrai(L):\n",
    "    for x in L:\n",
    "        if not g(x):\n",
    "            return False\n",
    "    return True\n",
    "\n",
    "#question 2\n",
    "#tous_vrai renvoie un booléen, c'est donc un prédicat\n",
    "\n",
    "#question 3\n",
    "#aucune problème, la fonction n'est pas exécutée donc l'interpréteur ne vérifie pas si g existe\n",
    "\n",
    "#question 4\n",
    "#tous_vrai([1,3,8]) #g is not defined\n",
    "\n",
    "#question 5\n",
    "def g(n):\n",
    "    return n%2==0\n",
    "\n",
    "#question 6\n",
    "assert(tous_vrai([0,8,6])==True)\n",
    "assert(tous_vrai([2,7,8])==False)\n",
    "\n",
    "#question 7 #a mettre dans une nouvelle cellule si vous avez déjà exécuté mypy ci-dessous\n",
    "def g(n):\n",
    "    return n>=0\n",
    "\n",
    "#question 8\n",
    "assert(tous_vrai([0,6,6])==True)\n",
    "assert(tous_vrai([2,7,8])==True)\n",
    "assert(tous_vrai([0,6,-6])==False)\n",
    "assert(tous_vrai([2,-7,8])==False)\n",
    "\n",
    "#question 9\n",
    "def tous_vrai(L,pred):\n",
    "    for x in L:\n",
    "        if not pred(x):\n",
    "            return False\n",
    "    return True\n",
    "\n",
    "#question 10\n",
    "assert(tous_vrai([0,6,6],g)==True)\n",
    "assert(tous_vrai([2,7,8],g)==True)\n",
    "assert(tous_vrai([0,6,-6],g)==False)\n",
    "assert(tous_vrai([2,-7,8],g)==False)"
   ]
  },
  {
   "cell_type": "markdown",
   "metadata": {},
   "source": [
    "### f) Les scripts Python"
   ]
  },
  {
   "cell_type": "markdown",
   "metadata": {},
   "source": [
    "Utilisez un interpréteur de la sorte est pratique pour tester rapidement un petit code. Mais vous avez peut-être déjà eu des difficultés à écrire les fonctions de l'exercice précédent. Pour un code plus conséquent, on utilise généralement des IDE (IDLE, Thonny, Spyder, et beaucoup d'autres). \n",
    "\n",
    "Ou si le fait de rajouter dynamiquement du code ne nous sert à rien, on peut simplement écrire des scripts, à lancer une fois terminés.\n",
    "\n",
    "**Exercice :**\n",
    "\n",
    "Question 1 :\n",
    "Créez un fichier `exemple.py`. Ouvrez le avec votre éditeur de texte préféré. Si vous ne voulez pas vous lancer dans ce genre de débat, utilisez Emacs. Implémentez l'algorithme suivant en Python, **sans utiliser de fonction Python qui réduirait drastiquement le nombre de lignes.** Le reconnaissez vous ? "
   ]
  },
  {
   "cell_type": "markdown",
   "metadata": {},
   "source": [
    "1.  <u>Algorithme</u>\n",
    "2.  Entrée : $Phrase$ une chaîne de caractère indicée de $0$ à $n-1$\n",
    "3.  Sortie : Liste de chaînes de caractères\n",
    "4.  $position \\leftarrow 0$\n",
    "5.  $debutMot \\leftarrow 0$\n",
    "6.  $motEnCours \\leftarrow$ Faux\n",
    "7.  $resultat \\leftarrow$ Liste vide\n",
    "8.  Tant que $position < n$ Faire\n",
    "9.  &emsp; Si $Phrase[position]=$\"&ensp;\" et $motEnCours$ Alors\n",
    "10. &emsp;&emsp; Ajouter à $resultat$ le sous-mot de *Phrase*, allant des indices $debut$ à ($pos-1$) inclus.\n",
    "11. &emsp;&emsp; $motEnCours \\leftarrow $ Faux\n",
    "12. &emsp; Sinon si $Phrase[position]\\neq$\"&ensp;\" et non $motEnCours$ Faire\n",
    "12. &emsp;&emsp; $motEnCours \\leftarrow $ Vrai\n",
    "13. &emsp;&emsp; $debut \\leftarrow pos$ \n",
    "14. &emsp; Fin si\n",
    "15. &emsp;$pos \\leftarrow pos +1$\n",
    "16. Fin Tant que\n",
    "17. Si motEnCours alors\n",
    "18. &emsp; Ajouter à $resultat$ le sous-mot de *Phrase*, des indices $debut$ à ($pos-1$) inclus.\n",
    "19. Fin si\n",
    "20. Renvoyer $resultat$."
   ]
  },
  {
   "cell_type": "code",
   "execution_count": null,
   "metadata": {},
   "outputs": [],
   "source": [
    "def separ(L):\n",
    "    pos = 0\n",
    "    debut = 0\n",
    "    result = []\n",
    "    motEnCoursDeLecture = False\n",
    "    while pos < len(L):\n",
    "        if L[pos]==\" \" and motEnCoursDeLecture :\n",
    "            result.append(L[debut:pos])\n",
    "            motEnCoursDeLecture = False\n",
    "        elif L[pos]!=\" \" and not motEnCoursDeLecture :\n",
    "            motEnCoursDeLecture = True\n",
    "            debut = pos\n",
    "        pos += 1\n",
    "    if motEnCoursDeLecture:\n",
    "        result.append(L[debut:pos])\n",
    "    return result"
   ]
  },
  {
   "cell_type": "markdown",
   "metadata": {},
   "source": [
    "**Réponse :** Cet algorithme prend un string `phrase` en entrée et renvoie la liste des mots qui composent `phrase` dans l'ordre, les mots étant délimités par des espaces. Par exemple, si l'entrée est `[\"a b c\"]`, la fonction renvoie `[\"a\",\"b\",\"c\"]`."
   ]
  },
  {
   "cell_type": "markdown",
   "metadata": {},
   "source": [
    "Question 2 : Ajouter des tests à votre script en utilisant des `print` dans un premier temps. Exécuter le script en tapant dans le terminal la commande `python3~exemple.py` et vérifiez que les tests sont cohérents. "
   ]
  },
  {
   "cell_type": "code",
   "execution_count": null,
   "metadata": {},
   "outputs": [],
   "source": [
    "print(separ(\"a b c\"))\n",
    "print(separ(\"a b c \"))\n",
    "print(separ(\" a b c \"))"
   ]
  },
  {
   "cell_type": "markdown",
   "metadata": {},
   "source": [
    "Question 3 : La fonction que vous venez de coder existe déjà en Python : c'est une méthode du type `string`, qui s'appelle `split`. Essayez de comprendre comment l'utiliser et testez votre fonction avec des `assert` et `split`."
   ]
  },
  {
   "cell_type": "code",
   "execution_count": null,
   "metadata": {},
   "outputs": [],
   "source": [
    "assert(separ(\"vous avez trouvé ?\")==\"vous avez trouvé ?\".split(\" \"))\n",
    "assert(separ(\"ça devrait être faux\")!=\"ça devrait être vrai\".split(\" \"))"
   ]
  },
  {
   "cell_type": "markdown",
   "metadata": {},
   "source": [
    "## 2) Typage dynamique"
   ]
  },
  {
   "cell_type": "markdown",
   "metadata": {},
   "source": [
    "Une autre partition des langages concerne le typage."
   ]
  },
  {
   "cell_type": "markdown",
   "metadata": {},
   "source": [
    "### a) Les langages à typage statique"
   ]
  },
  {
   "cell_type": "markdown",
   "metadata": {},
   "source": [
    "Le mot **statique** se réfère à la compilation. Les langages statiquement typés sont des langages pour lesquels une analyse des types est faite avant l'exécution. Lors de la compilation :\n",
    "- La cohérence des types est vérifiée. Par exemple, si `f` est une fonction prenant un entier en paramètre, `f(mot)` avec mot un string sera vu comme une erreur dès la compilation. Cela implique une plus grande fiabilité.\n",
    "- La compilation peut optimiser par rapport aux types utilisés. \n",
    "- L'exécution peut se révéler plus efficace (en temps et en mémoire).\n",
    "\n",
    "\n",
    "Cette vérification peut à première vue paraître très rigide mais c'est en pratique un énorme gain de temps : les erreurs risquent d'arriver bien plus tard sans la compilation."
   ]
  },
  {
   "cell_type": "markdown",
   "metadata": {},
   "source": [
    "### b) Les langages à typage dynamique"
   ]
  },
  {
   "cell_type": "markdown",
   "metadata": {},
   "source": [
    "Cette fois, on peut écrire un peu n'importe quoi pour le typage, ce n'est qu'à l'exécution d'une instruction qu'on se rend compte des problèmes. \n",
    "\n",
    "Les avantages sont la simplicité du développement et l'assouplissement : l'écriture d'une fonction ne nécessite pas de connaître le type des variables manipulées. On peut y voir une forme de généricité.\n",
    "\n",
    "On peut deviner les inconvénients après avoir lu la partie sur les langages à typage statique :\n",
    "- Code peu fiable, perte de temps à débuger via des tests qui ne peuvent en général pas être exhaustifs.\n",
    "- Perte de performances."
   ]
  },
  {
   "cell_type": "markdown",
   "metadata": {},
   "source": [
    "Une première illustration des problèmes rencontrés :"
   ]
  },
  {
   "cell_type": "code",
   "execution_count": null,
   "metadata": {},
   "outputs": [],
   "source": [
    "def milieu(l):\n",
    "    m = len(l)/2\n",
    "    return l[m]\n",
    "\n",
    "print(milieu([9,2,1,3,7,3,9])) #m vaut 3.5, ce n'est pas un entier\n",
    "print(milieu([1,8,9,0,2,8])) # m vaut 3.0, Python ne fera pas de conversion implicite"
   ]
  },
  {
   "cell_type": "markdown",
   "metadata": {},
   "source": [
    "Un problème plus gênant : une exécution longue avant le bug. Le code ci-dessous attend 5 secondes avant d'exécuter la fonction `f`. Or cette fonction n'a de sens qu'avec des types numériques, donc avec pas les chaînes de caractères. Exécutez cette cellule. Vous constatez qu'il faut attendre les 5 secondes pour que l'erreur soit détectée.\n",
    "\n",
    "**Remarque :** la fonction sleep permet de mettre votre programme en pause, comme en bash."
   ]
  },
  {
   "cell_type": "code",
   "execution_count": null,
   "metadata": {},
   "outputs": [],
   "source": [
    "import time #ne vous occupez pas de cette ligne pour l'instant\n",
    "\n",
    "def f(x):\n",
    "    return x*x\n",
    "\n",
    "time.sleep(5)\n",
    "\n",
    "f(\"ah\")"
   ]
  },
  {
   "cell_type": "markdown",
   "metadata": {},
   "source": [
    "C'est particulièrement problématique si vous lancez des expériences pendant une semaine et que votre programme plante à la toute fin en tentant de sauvegarder les résultats."
   ]
  },
  {
   "cell_type": "markdown",
   "metadata": {},
   "source": [
    "### c) Rajouter explicitement les types"
   ]
  },
  {
   "cell_type": "markdown",
   "metadata": {},
   "source": [
    "On peut écrire explicitement les types mais cela n'a aucun impact."
   ]
  },
  {
   "cell_type": "code",
   "execution_count": null,
   "metadata": {},
   "outputs": [],
   "source": [
    "import time #ne vous occupez pas de cette ligne pour l'instant\n",
    "\n",
    "def f(x:int) -> int: \n",
    "    return x*x\n",
    "\n",
    "print(f(2))\n",
    "\n",
    "time.sleep(5)\n",
    "\n",
    "print(f(\"ah\"))"
   ]
  },
  {
   "cell_type": "markdown",
   "metadata": {},
   "source": [
    "Mais avec la syntaxe précédente, on peut utiliser `mypy` pour vérifier le typage statiquement. Exécutez la cellule suivante qui installe `mypy`."
   ]
  },
  {
   "cell_type": "code",
   "execution_count": null,
   "metadata": {},
   "outputs": [],
   "source": [
    "%pip install mypy astor\n",
    "%pip install --user nb_mypy\n",
    "%load_ext nb_mypy\n",
    "%nb_mypy On"
   ]
  },
  {
   "cell_type": "markdown",
   "metadata": {},
   "source": [
    "Une fois l'installation terminée, réessayez."
   ]
  },
  {
   "cell_type": "code",
   "execution_count": null,
   "metadata": {},
   "outputs": [],
   "source": [
    "import time\n",
    "\n",
    "def f(x:int) -> int: \n",
    "    return x*x\n",
    "\n",
    "time.sleep(30)\n",
    "mot : tuple = \"test\" #mot est un tuple et on essaie de mettre un string dedans \n",
    "f(mot) # f prend un entier en paramètre"
   ]
  },
  {
   "cell_type": "markdown",
   "metadata": {},
   "source": [
    "Ouf ! Pas besoin d'attendre pour corriger les problèmes. Mais votre programme sera quand même exécuté et plantera au bout de 30 secondes."
   ]
  },
  {
   "cell_type": "markdown",
   "metadata": {},
   "source": [
    "## 3) Gestion des exceptions d'autant plus nécessaire"
   ]
  },
  {
   "cell_type": "markdown",
   "metadata": {},
   "source": [
    "Les problèmes présentés dans les deux parties précédentes imposent une grande rigueur. Mais qui est à l'abri d'une erreur ? Afin de renforcer le contrôle de l'exécution d'un programme, vous venez de voir la manipulation des exceptions en ADA. Ces dernières sont cruciales en Python."
   ]
  },
  {
   "cell_type": "markdown",
   "metadata": {},
   "source": [
    "Pour récupérer une exception, on a un bloc `try`, qui comme son nom l'indique essaie d'exécuter un code. Puis un bloc `except` qui récupère les exceptions que le bloc `try` a pu provoquer. Un premier exemple pour comprendre la syntaxe :"
   ]
  },
  {
   "cell_type": "code",
   "execution_count": null,
   "metadata": {},
   "outputs": [],
   "source": [
    "def div_eucl(a,b):\n",
    "    try:\n",
    "        return a//b, a%b\n",
    "    except ZeroDivisionError: #si b vaut 0, a//b lève une exception de type ZeroDivisionError\n",
    "        print(\"Tu veux diviser par zéro...\")\n",
    "\n",
    "div_eucl(10,0)"
   ]
  },
  {
   "cell_type": "markdown",
   "metadata": {},
   "source": [
    "On peut lever une exception avec le mot clé `raise`. Après un bloc `except`, deux autres mots clés parfois utiles : \n",
    "- `else` : bloc qui s'exécute si aucune exception n'a été rattrapé,\n",
    "- `finally` : bloc qui s'exécute après `except` ou `else`, dans tous les cas."
   ]
  },
  {
   "cell_type": "code",
   "execution_count": null,
   "metadata": {},
   "outputs": [],
   "source": [
    "note = 90\n",
    "\n",
    "def valide(x):\n",
    "    if 0<=x<=20:\n",
    "        return x>=10\n",
    "    else:\n",
    "        raise Exception('Note incorrecte')\n",
    "    \n",
    "try:\n",
    "    resultat = valide(note)\n",
    "except Exception:\n",
    "    print(\"Vous avez dû faire une typo en écrivant la note : \" + str(note))\n",
    "    raise #propage l'exception, qui ne sera pas rattrapée\n",
    "else: #n'est considéré que si l'exception n'est pas levée\n",
    "    if resultat:\n",
    "        print(\"Bravo !\")\n",
    "    else:\n",
    "        print(\"Courage, on se revoit en juin !\")\n",
    "finally:\n",
    "    print(\"La raclette n'a pas de saison.\")  #s'affiche même si l'exception est levée et que le programme plante"
   ]
  },
  {
   "cell_type": "markdown",
   "metadata": {},
   "source": [
    "**Un exemple un peu plus complet :** pour tuer le temps, votre ordinateur decide tout seul d'aller rendre visite à une certaine Sarah Connor. Il parcourt l'annuaire afin de trouver son adresse. \n",
    "\n",
    "Prenez le temps de comprendre cet exemple. Lors de la recherche dans l'annuaire, deux problèmes peuvent arriver. Identifiez les et modifiez le programme afin d'observer la gestion de ces erreurs avec des exceptions."
   ]
  },
  {
   "cell_type": "code",
   "execution_count": null,
   "metadata": {},
   "outputs": [],
   "source": [
    "addresses = [\n",
    "    (\"James Cameron\",\"Awa'atlu, Pandora\"),\n",
    "    (\"Sarah Connor\",\"14239 Hill Street, Los Angeles\"),\n",
    "    (\"Sarah Connor\",\"Hamlin Hamlin and McGill Street, Los Angeles\"),\n",
    "    (\"Sharon Williams\",\"41°43'57' N 49° 56'49' W, Atlantic Ocean\"),\n",
    "    (\"Sarah Connor\",\"420 South Lafayette Park Place, Los Angeles\"),\n",
    "    (\"Arnold Schwarzenegger\",\"California Governor's Mansion, Sacramento\")\n",
    "]\n",
    "\n",
    "def find_address(l,name): #address prend deux d en anglais \n",
    "    for x in l:\n",
    "        try:\n",
    "            if x[0]==name:\n",
    "                return x[1]\n",
    "        except Exception as e:\n",
    "            raise TypeError(\"TypeError : \" + str(x) +\" is not a pair\")\n",
    "    raise ValueError\n",
    "        \n",
    "def out_of_control(name):\n",
    "    try:\n",
    "        destination = find_address(addresses,name)\n",
    "    except TypeError as t:\n",
    "        print(t.args) #devinez ce que args contient\n",
    "        print(\"Please give a correct address book\")\n",
    "    except ValueError as e:\n",
    "        print(name+\" is not in address book\")\n",
    "        print(\"Please give a complet address book\")\n",
    "    else:\n",
    "        start_GPS(locate_myself(),destination)\n",
    "    finally:\n",
    "        print(\"On second thought, we'll stay in the computer room.\") \n",
    "        \n",
    "def locate_myself():\n",
    "    return \"135 Avenue de Rangueil, Toulouse\"\n",
    "\n",
    "def start_GPS(source,destination): \n",
    "    print(\"Chemin de \" + source + \" à \" + destination)\n",
    "    print(\"You will learn how to compute trips next year.\\\n",
    "          \\nYou can't walk there anyway.\")\n",
    "        \n",
    "out_of_control(\"Sarah Connor\")"
   ]
  },
  {
   "cell_type": "markdown",
   "metadata": {},
   "source": [
    "## 4) Lecture/écriture de fichier"
   ]
  },
  {
   "cell_type": "markdown",
   "metadata": {},
   "source": [
    "Un intérêt incontournable de Python est la simplicité avec laquelle on peut lire et modifier des fichiers.\n",
    "\n",
    "Pour cette section, pensez à récupérer l'indispensable recette de `moussaka`, disponible sur Moodle. Placez la dans le même dossier que votre notebook. Les fichiers générés seront crées dans ce dossier aussi."
   ]
  },
  {
   "cell_type": "code",
   "execution_count": null,
   "metadata": {},
   "outputs": [],
   "source": [
    "fichier = open(\"moussaka\")\n",
    "for i in fichier:\n",
    "    print(i) #le print rajoute un saut à la ligne en plus de celui à la fin de chaque ligne du fichier\n",
    "fichier.close() #la fermeture est une méthode, syntaxe différente de l'ouverture"
   ]
  },
  {
   "cell_type": "markdown",
   "metadata": {},
   "source": [
    "La fonction `read` renvoie un string contenant tout le fichier."
   ]
  },
  {
   "cell_type": "code",
   "execution_count": null,
   "metadata": {},
   "outputs": [],
   "source": [
    "fichier = open(\"moussaka\")\n",
    "print(fichier.read())\n",
    "fichier.close()"
   ]
  },
  {
   "cell_type": "markdown",
   "metadata": {},
   "source": [
    "On peut récupérer les lignes une par une avec la méthode `readline`. \n",
    "\n",
    "**Point important sur la lecture de fichier :** la variable `fichier` contient un curseur, initialement placé au début du fichier. Chaque appel à `readline` récupère la ligne au niveau du curseur, et fait avancer le curseur sur la ligne suivante. Cela permet de simplement rappeler `readline` pour avancer dans la lecture du fichier. Essayez d'utiliser `read` après avoir fait deux `readline` pour bien comprendre.\n",
    "\n",
    "**Remarque :** Le paramètre facultatif `end` de la fonction `print` permet de choisir le motif ajouté à la fin de l'affichage (par défaut \"\\n\"). Il suffit de donner une chaîne de caractère vide pour éviter de sauter à la ligne.\n",
    "\n",
    "**Autre remarque :** on peut mettre pour condition un string. Un string vide est considéré comme `False` tandis qu'un string non vide est considéré comme `True`. Donc la boucle `while` ci-dessous tourne tant que `readline` ne renvoie pas un string vide (lecture terminée)."
   ]
  },
  {
   "cell_type": "code",
   "execution_count": null,
   "metadata": {},
   "outputs": [],
   "source": [
    "fichier = open(\"moussaka\")\n",
    "num_ligne=1\n",
    "ligne = fichier.readline()\n",
    "while(ligne):\n",
    "    print(\"Ligne numéro \" + str(num_ligne) + \" : \", end=\"\")\n",
    "    print(ligne,end=\"\")\n",
    "    num_ligne += 1\n",
    "    ligne = fichier.readline()\n",
    "\n",
    "fichier.close()"
   ]
  },
  {
   "cell_type": "markdown",
   "metadata": {},
   "source": [
    "Par défaut, l'ouverture d'un fichier se fait en mode lecture. On peut spécifier le mode en rajoutant un paramètre facultatif :\n",
    "- \"r\" pour lire (read),\n",
    "- \"w\" pour écrire, écrase le contenu déjà dans le fichier (write),\n",
    "- \"a\" ajoute à la fin du fichier (append).\n",
    "\n",
    "Pour l'écriture, le fichier est crée si il n'existe pas. L'écriture se fait avec la méthode `write` comme suit :"
   ]
  },
  {
   "cell_type": "code",
   "execution_count": null,
   "metadata": {},
   "outputs": [],
   "source": [
    "fichier = open(\"entiers\",\"w\")\n",
    "for i in range(10):\n",
    "    fichier.write(str(i)+\"\\n\") #write ne rajoute pas de saut à la ligne par défaut, retirer \\n pour vérifier\n",
    "fichier.close()"
   ]
  },
  {
   "cell_type": "markdown",
   "metadata": {},
   "source": [
    "**Exercice :** Ecrire une fonction qui prend en entrée un nom de fichier correspondant à une recette et créer un nouveau fichier contenant la même recette, mais pour le double de personnes. Le format du fichier est le même que celui du fichier `moussaka`. Certaines lignes ne contiennent pas de doses. **Gérer ce cas avec une exception.**\n",
    "\n",
    "La recette de la moussaka fournie est pour 4 personnes (qui ont faim), tester votre fonction pour inviter 7 personnes à manger dès que les tomates seront de saison.\n",
    "\n",
    "**Note :** la fonction `input` permet de demander à l'utilisateur de donner une chaîne de caractère. Utilisez la afin de récupérer le nom de la recette, et avec des exceptions, redemander à l'utilisateur tant que la recette n'existe pas."
   ]
  },
  {
   "cell_type": "code",
   "execution_count": null,
   "metadata": {},
   "outputs": [],
   "source": [
    "def double_ligne(ligne):\n",
    "    parts = ligne.split(\" \")\n",
    "    try:\n",
    "        dose = int(parts[0])\n",
    "    except ValueError:\n",
    "        return ligne\n",
    "    else:\n",
    "        #return \" \".join(parts[1:])\n",
    "        return str(2*dose) + ligne[len(parts[0]):]\n",
    "\n",
    "def double(filename):\n",
    "    try:\n",
    "        recetteIn = open(filename,\"r\")\n",
    "        recetteOut = open(filename+\"Double\",\"w\")\n",
    "    except FileNotFoundError:\n",
    "        print(\"Le fichier n'existe pas !\")\n",
    "        raise\n",
    "    else:\n",
    "        ligne = recetteIn.readline()\n",
    "        while(ligne):\n",
    "            nouvelle_ligne = double_ligne(ligne)\n",
    "            recetteOut.write(nouvelle_ligne)\n",
    "            ligne = recetteIn.readline()\n",
    "    recetteIn.close()\n",
    "    recetteOut.close()\n",
    "\n",
    "toDo = True\n",
    "while(toDo):\n",
    "    filename = input()\n",
    "    try : \n",
    "        double(filename)\n",
    "        toDo=False\n",
    "    except FileNotFoundError:\n",
    "        print(\"Essayez encore !\")\n"
   ]
  },
  {
   "cell_type": "markdown",
   "metadata": {},
   "source": [
    "## 5) Exercice de compression de fichier (inspiré du zip)."
   ]
  },
  {
   "cell_type": "markdown",
   "metadata": {},
   "source": [
    "On va travailler sur le parsing de fichier en compressant des fichiers avec une technique inspirée de la compression *zip*. Pour chaque question, écrivez dans un premier temps sans gestion d'exception, puis avec, en prenant soin de couvrir le plus de cas possibles."
   ]
  },
  {
   "cell_type": "markdown",
   "metadata": {},
   "source": [
    "i) Le fichier *dumas* sur Moodle contient le roman *Le Compte de Monte Cristo*. En l'ouvrant vous remarquez que des underscores intempestifs se sont ajoutés, cela arrive souvent lors d'un copié-coller. Ecrire une fonction `cleanDumas`qui génère le fichier *dumasClean*, où l'on a retiré ces odieux caractères."
   ]
  },
  {
   "cell_type": "code",
   "execution_count": null,
   "metadata": {},
   "outputs": [],
   "source": [
    "def cleanFile(filename):\n",
    "    def cleanLine(line):\n",
    "        parts = line.split(\"_\")\n",
    "        return \" \".join(parts)\n",
    "\n",
    "\n",
    "    fin = open(\"dumas\",\"r\")\n",
    "    fout = open(\"dumasClean\",\"w\")\n",
    "\n",
    "    d = dict()\n",
    "    line = fin.readline()\n",
    "    while(line):\n",
    "        fout.write(cleanLine(line))\n",
    "        line = fin.readline()\n",
    "    fin.close()\n",
    "    fout.close()\n"
   ]
  },
  {
   "cell_type": "markdown",
   "metadata": {},
   "source": [
    "ii) Ecrire une fonction `dictQuantity` qui prend un nom de fichier en paramètre et renvoie un dictionnaire associant à chaque mot du fichier son nombre d'occurence. Pensez à retirer les \"\\n\"."
   ]
  },
  {
   "cell_type": "code",
   "execution_count": null,
   "metadata": {},
   "outputs": [],
   "source": [
    "def dictQuantity(filename):\n",
    "    d = dict()\n",
    "    f = open(filename,\"r\")\n",
    "    line = f.readline()\n",
    "    while(line):\n",
    "        parts = line[:-1].split(\" \") #-1 pour retirer le saut à la ligne\n",
    "        for mot in parts:\n",
    "            if mot in d:\n",
    "                d[mot] += 1\n",
    "            else:\n",
    "                d[mot] = 1\n",
    "        line = f.readline()\n",
    "    f.close()\n",
    "    return d"
   ]
  },
  {
   "cell_type": "code",
   "execution_count": null,
   "metadata": {},
   "outputs": [],
   "source": [
    "d_test1 = {'3': 1,'aubergines': 1,'7': 1,'tomates': 1,'2': 1,'oignons': 1,'500': 1,\n",
    "     'g': 3,'de': 5,'pommes': 1,'terre': 1,'1': 1,'kg': 1,\"d'agneau\": 1,\n",
    "     'haché': 1,'60': 1,'beurre': 1,'20': 1,'farine': 1,'50': 1,'cl': 1,\n",
    "     'lait': 1,'huile': 1,\"d'olive\": 1,'cannelle': 1,'muscade': 1,'sel': 1,\n",
    "     'poivre': 1}\n",
    "\n",
    "assert(d_test1==dictQuantity(\"moussaka\"))"
   ]
  },
  {
   "cell_type": "markdown",
   "metadata": {},
   "source": [
    "iii) Ecrire une fonction `mean` qui prend en entrée un dictionnaire d'occurrence (comme ceux générés par la question précédente), et renvoie la taille moyenne des mots du fichier associé."
   ]
  },
  {
   "cell_type": "code",
   "execution_count": null,
   "metadata": {},
   "outputs": [],
   "source": [
    "def mean(d):\n",
    "    acc = 0\n",
    "    nb_mot = 0\n",
    "    for mot in d:\n",
    "        acc += len(mot)*d[mot]\n",
    "        nb_mot += d[mot]\n",
    "    return acc/nb_mot"
   ]
  },
  {
   "cell_type": "code",
   "execution_count": null,
   "metadata": {},
   "outputs": [],
   "source": [
    "#assert(mean(dict_genere(\"moussaka\"))==3.7941176470588234) #ce n'est pas très propre...\n",
    "#assert(mean(dict_genere(\"dumasClean\"))==4.66710627142569)\n",
    "assert(abs(mean(dictQuantity(\"moussaka\"))-3.79)<0.1) \n",
    "assert(abs(mean(dictQuantity(\"dumasClean\"))-4.67)<0.1)"
   ]
  },
  {
   "cell_type": "markdown",
   "metadata": {},
   "source": [
    "iv) Ecrire une fonction qui :\n",
    "- Prend un nom de fichier en paramètre.\n",
    "- Renvoie un dictionnaire qui associe à chaque mot un unique identifiant. Cet identifiant est un entier entre $0$ et $n-1$, avec $n$ le nombre de mots distincts dans le fichier. Le premier mot vu aura $0$ pour identifiant, le deuxième $1$, etc..."
   ]
  },
  {
   "cell_type": "code",
   "execution_count": null,
   "metadata": {},
   "outputs": [],
   "source": [
    "def dictId(filename):\n",
    "    id = 0\n",
    "    d = dict()\n",
    "    f = open(filename,\"r\")\n",
    "    line = f.readline()\n",
    "    while(line):\n",
    "        parts = line[:-1].split(\" \")\n",
    "        for mot in parts:\n",
    "            if mot not in d:\n",
    "                d[mot] = id\n",
    "                id += 1 #on passe à l'id suivant\n",
    "        line = f.readline()\n",
    "    f.close()\n",
    "    return d"
   ]
  },
  {
   "cell_type": "code",
   "execution_count": null,
   "metadata": {},
   "outputs": [],
   "source": [
    "d_test2 = {'3': 0,'aubergines': 1,'7': 2,'tomates': 3,'2': 4,'oignons': 5,'500': 6,'g': 7,\n",
    "     'de': 8,'pommes': 9,'terre': 10,'1': 11,'kg': 12,\"d'agneau\": 13,'haché': 14,'60': 15,\n",
    "     'beurre': 16,'20': 17,'farine': 18,'50': 19,'cl': 20,'lait': 21,'huile': 22,\n",
    "     \"d'olive\": 23,'cannelle': 24,'muscade': 25,'sel': 26,'poivre': 27}\n",
    "assert(d_test2 == dictId(\"moussaka\"))"
   ]
  },
  {
   "cell_type": "markdown",
   "metadata": {},
   "source": [
    "v) On veut remplacer les mots du texte initial par leur identifiant. Créer une structure de liste de liste, chaque liste interne représentant une ligne, contenant les identifiants des mots de la ligne."
   ]
  },
  {
   "cell_type": "code",
   "execution_count": null,
   "metadata": {
    "scrolled": true
   },
   "outputs": [],
   "source": [
    "def convertTextToId(filename):\n",
    "    newListe = []\n",
    "    d = dictId(filename)\n",
    "    f = open(filename,\"r\")\n",
    "    line = f.readline()\n",
    "    while(line):\n",
    "        newListe.append([]) #on ajoute une ligne\n",
    "        parts = line[:-1].split(\" \") \n",
    "        for mot in parts:\n",
    "            newListe[-1].append(d[mot])\n",
    "        line = f.readline()\n",
    "    f.close()\n",
    "    return newListe"
   ]
  },
  {
   "cell_type": "code",
   "execution_count": null,
   "metadata": {},
   "outputs": [],
   "source": [
    "l_test = [[0, 1],[2, 3],[4, 5],[6, 7, 8, 9, 8, 10],[11, 12, 13, 14],[15, 7, 8, 16],\n",
    "     [17, 7, 8, 18],[19, 20, 8, 21],[22, 23],[24],[25],[26],[27]]\n",
    "\n",
    "assert(l_test==convertTextToId(\"moussaka\"))"
   ]
  },
  {
   "cell_type": "markdown",
   "metadata": {},
   "source": [
    "vi) Ecrire une fonction qui prend en entrée un nom de fichier *filename* et créer un fichier *filenameZip* pour y écrire le dictionnaire des identifiants suivi de la liste de liste des identifiants. On veut que le format soit le suivant (exemple avec *moussakaZip*) :"
   ]
  },
  {
   "cell_type": "raw",
   "metadata": {},
   "source": [
    "Dictionnaire:\n",
    "3 : 0\n",
    "aubergines : 1\n",
    "7 : 2\n",
    "tomates : 3\n",
    "2 : 4\n",
    "oignons : 5\n",
    "500 : 6\n",
    "g : 7\n",
    "de : 8\n",
    "pommes : 9\n",
    "terre : 10\n",
    "1 : 11\n",
    "kg : 12\n",
    "d'agneau : 13\n",
    "haché : 14\n",
    "60 : 15\n",
    "beurre : 16\n",
    "20 : 17\n",
    "farine : 18\n",
    "50 : 19\n",
    "cl : 20\n",
    "lait : 21\n",
    "huile : 22\n",
    "d'olive : 23\n",
    "cannelle : 24\n",
    "muscade : 25\n",
    "sel : 26\n",
    "poivre : 27\n",
    "\n",
    "Texte:\n",
    "01\n",
    "23\n",
    "45\n",
    "6789810\n",
    "11121314\n",
    "157816\n",
    "177818\n",
    "1920821\n",
    "2223\n",
    "24\n",
    "25\n",
    "26\n",
    "27"
   ]
  },
  {
   "cell_type": "code",
   "execution_count": null,
   "metadata": {},
   "outputs": [],
   "source": [
    "def writeDict(file,dico):\n",
    "    file.write(\"Dictionnaire:\\n\")\n",
    "    for key in dico:\n",
    "        file.write(str(key) + \" : \" + str(dico[key]) + \"\\n\")\n",
    "    file.write(\"\\n\")\n",
    "        \n",
    "def writeTexte(file,txt):\n",
    "    file.write(\"Texte:\\n\")\n",
    "    for line in txt:\n",
    "        for x in line:\n",
    "            file.write(str(x)+' ')\n",
    "        file.write(\"\\n\")\n",
    "    file.write(\"\\n\")\n",
    "        \n",
    "\n",
    "def zip(filename):\n",
    "    fc = open(filename+\"Zip\",\"w\")\n",
    "    dico = dictId(filename)\n",
    "    writeDict(fc,dico)\n",
    "    texte = convertTextToId(filename)\n",
    "    writeTexte(fc,texte)\n",
    "    fc.close()"
   ]
  },
  {
   "cell_type": "markdown",
   "metadata": {},
   "source": [
    "vii) Vous remarquez que le fichier \"moussakaZip\" est plus gros que \"moussaka\". C'est logique pour un petit fichier avec peu de doublons. Quel est le gain pour fichier \"dumas\" ?"
   ]
  },
  {
   "cell_type": "markdown",
   "metadata": {},
   "source": [
    "Réponse : le gain devrait être proche de $1$ car la longueur des entiers utilisés (nombre de caractères) n'est en moyenne pas très différent de celle des mots. "
   ]
  },
  {
   "cell_type": "markdown",
   "metadata": {},
   "source": [
    "viii) Proposez une amélioration simple sur l'affectation des identifiants."
   ]
  },
  {
   "cell_type": "markdown",
   "metadata": {},
   "source": [
    "On peut donner les plus petits identifiants (ceux qui prennent le moins d'espace) aux mots les plus courants. Par exemple, trier par value le dictionnaire calculé par dictQuantity."
   ]
  },
  {
   "cell_type": "markdown",
   "metadata": {},
   "source": [
    "ix) Ecrire une fonction de décompression. Les deux fichiers sont-ils bien identiques ? Sous Unix, la commande `diff` peut vous être utile."
   ]
  },
  {
   "cell_type": "code",
   "execution_count": null,
   "metadata": {},
   "outputs": [],
   "source": [
    "def decompress(filename):\n",
    "    fzip = open(filename)\n",
    "    d = dict()\n",
    "    line = fzip.readline() #premiere ligne : Dictionnaire\n",
    "    line = fzip.readline() #debut du dictionnaire\n",
    "    while(line!='\\n'):\n",
    "        (k,v) = line[:-1].split(' : ')\n",
    "        d[v]=k  #on inverse pour trouver le mot a partir de l'identifiant\n",
    "        line = fzip.readline()\n",
    "        \n",
    "    funzip = open(filename+'Unzip','w')\n",
    "    line = fzip.readline() #premiere ligne : Texte\n",
    "    line = fzip.readline()\n",
    "    while(line):\n",
    "        lineList = line[:-1].split()\n",
    "        for i in lineList[:-1]: #pas d'espace après le dernier mot\n",
    "            funzip.write(d[i])\n",
    "            funzip.write(' ')\n",
    "        if(len(lineList)!=0):\n",
    "            funzip.write(d[lineList[-1]])\n",
    "        funzip.write('\\n')\n",
    "        line = fzip.readline()"
   ]
  },
  {
   "cell_type": "code",
   "execution_count": null,
   "metadata": {},
   "outputs": [],
   "source": [
    "decompress(\"dumasCleanZip\")"
   ]
  }
 ],
 "metadata": {
  "kernelspec": {
   "display_name": "Python 3 (ipykernel)",
   "language": "python",
   "name": "python3"
  },
  "language_info": {
   "codemirror_mode": {
    "name": "ipython",
    "version": 3
   },
   "file_extension": ".py",
   "mimetype": "text/x-python",
   "name": "python",
   "nbconvert_exporter": "python",
   "pygments_lexer": "ipython3",
   "version": "3.9.13"
  }
 },
 "nbformat": 4,
 "nbformat_minor": 4
}
