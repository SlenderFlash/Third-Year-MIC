{
 "cells": [
  {
   "cell_type": "markdown",
   "metadata": {},
   "source": [
    "# Correction de la première séance : syntaxe de base en Python"
   ]
  },
  {
   "cell_type": "markdown",
   "metadata": {},
   "source": [
    "- auteurs : <a href=\"mailto:gedet@insa-toulouse.fr\">R. Godet</a>, <a href=\"mailto:lentz@insa-toulouse.fr\">A. Lentz</a>\n",
    "- date : 2023"
   ]
  },
  {
   "cell_type": "markdown",
   "metadata": {},
   "source": [
    "Nous allons commencer par introduire les éléments de syntaxe spécifiques à ce langage."
   ]
  },
  {
   "cell_type": "markdown",
   "metadata": {},
   "source": [
    "## 1) Types natifs. Première partie : les types numériques."
   ]
  },
  {
   "cell_type": "markdown",
   "metadata": {},
   "source": [
    "Introduisons déjà trois premiers types fondamentaux :\n",
    "- les entiers : **int**,\n",
    "- les flottants (à virgule) : **float**,\n",
    "- les booléens : **bool**."
   ]
  },
  {
   "cell_type": "markdown",
   "metadata": {},
   "source": [
    "### a) Les entiers"
   ]
  },
  {
   "cell_type": "markdown",
   "metadata": {},
   "source": [
    "On peut utiliser les opérations de bases (addition, soustraction et multiplication) sur les entiers comme présenté ci-dessous :"
   ]
  },
  {
   "cell_type": "code",
   "execution_count": 1,
   "metadata": {},
   "outputs": [
    {
     "data": {
      "text/plain": [
       "5"
      ]
     },
     "execution_count": 1,
     "metadata": {},
     "output_type": "execute_result"
    }
   ],
   "source": [
    "2+3"
   ]
  },
  {
   "cell_type": "code",
   "execution_count": 2,
   "metadata": {},
   "outputs": [
    {
     "data": {
      "text/plain": [
       "3"
      ]
     },
     "execution_count": 2,
     "metadata": {},
     "output_type": "execute_result"
    }
   ],
   "source": [
    "4-1"
   ]
  },
  {
   "cell_type": "code",
   "execution_count": 3,
   "metadata": {},
   "outputs": [
    {
     "data": {
      "text/plain": [
       "-2"
      ]
     },
     "execution_count": 3,
     "metadata": {},
     "output_type": "execute_result"
    }
   ],
   "source": [
    "7-9"
   ]
  },
  {
   "cell_type": "code",
   "execution_count": 4,
   "metadata": {},
   "outputs": [
    {
     "data": {
      "text/plain": [
       "8"
      ]
     },
     "execution_count": 4,
     "metadata": {},
     "output_type": "execute_result"
    }
   ],
   "source": [
    "2*4"
   ]
  },
  {
   "cell_type": "code",
   "execution_count": 5,
   "metadata": {},
   "outputs": [
    {
     "data": {
      "text/plain": [
       "-6"
      ]
     },
     "execution_count": 5,
     "metadata": {},
     "output_type": "execute_result"
    }
   ],
   "source": [
    "3*(-2)"
   ]
  },
  {
   "cell_type": "code",
   "execution_count": 6,
   "metadata": {},
   "outputs": [
    {
     "data": {
      "text/plain": [
       "42"
      ]
     },
     "execution_count": 6,
     "metadata": {},
     "output_type": "execute_result"
    }
   ],
   "source": [
    "(12-3)*4+6"
   ]
  },
  {
   "cell_type": "markdown",
   "metadata": {},
   "source": [
    "### b) Les flottants"
   ]
  },
  {
   "cell_type": "markdown",
   "metadata": {},
   "source": [
    "L'addition, la soustraction et la multiplication fonctionnent aussi pour les flottants."
   ]
  },
  {
   "cell_type": "code",
   "execution_count": 7,
   "metadata": {},
   "outputs": [
    {
     "data": {
      "text/plain": [
       "0.14"
      ]
     },
     "execution_count": 7,
     "metadata": {},
     "output_type": "execute_result"
    }
   ],
   "source": [
    "3.4*0.1-0.2"
   ]
  },
  {
   "cell_type": "markdown",
   "metadata": {},
   "source": [
    "**Remarque** : les nombres réels sont stockés sur machine avec une méthode appelée virgule flottante. On parle alors de flottants. Vous verrez (ou avec peut-être déjà vu) cette méthode en cours d'architecture. Elle nécessite de stocker des valeurs avec une certaine précision. Même les nombres décimaux peuvent être arrondis car c'est leur représentation binaire (ou une approximation) qui est stockée. Plus de détails pour les curieux <a href=https://docs.python.org/3/tutorial/floatingpoint.html>ici</a>."
   ]
  },
  {
   "cell_type": "code",
   "execution_count": 8,
   "metadata": {
    "scrolled": true
   },
   "outputs": [
    {
     "data": {
      "text/plain": [
       "0.30000000000000004"
      ]
     },
     "execution_count": 8,
     "metadata": {},
     "output_type": "execute_result"
    }
   ],
   "source": [
    "0.1*3"
   ]
  },
  {
   "cell_type": "markdown",
   "metadata": {},
   "source": [
    "L'addition flottante n'est même pas associative : (a+b)+c et a+(b+c) peuvent être différents. Tester la formule suivante avec les deux parenthésages :"
   ]
  },
  {
   "cell_type": "code",
   "execution_count": 9,
   "metadata": {},
   "outputs": [
    {
     "data": {
      "text/plain": [
       "0.6000000000000001"
      ]
     },
     "execution_count": 9,
     "metadata": {},
     "output_type": "execute_result"
    }
   ],
   "source": [
    "0.1+0.2+0.3"
   ]
  },
  {
   "cell_type": "markdown",
   "metadata": {},
   "source": [
    "Mais vous vous demandez déjà où est passée la division."
   ]
  },
  {
   "cell_type": "markdown",
   "metadata": {},
   "source": [
    "### c) La (ou plutôt les) division(s)"
   ]
  },
  {
   "cell_type": "markdown",
   "metadata": {},
   "source": [
    "On fait un petit test simple :"
   ]
  },
  {
   "cell_type": "code",
   "execution_count": 10,
   "metadata": {},
   "outputs": [
    {
     "data": {
      "text/plain": [
       "4.0"
      ]
     },
     "execution_count": 10,
     "metadata": {},
     "output_type": "execute_result"
    }
   ],
   "source": [
    "12/3"
   ]
  },
  {
   "cell_type": "markdown",
   "metadata": {},
   "source": [
    "Tiens ! Cette fois, on obtient un nombre flottant : 4.0 au lieu de 4 tout court. Bien que ça soit la même valeur, ce n'est pas la même représentation en mémoire. Il s'agit bien de deux types différents. Vous découvrez au passage la fonction `type` qui fait exactement ce à quoi on peut s'attendre."
   ]
  },
  {
   "cell_type": "code",
   "execution_count": 11,
   "metadata": {},
   "outputs": [
    {
     "data": {
      "text/plain": [
       "int"
      ]
     },
     "execution_count": 11,
     "metadata": {},
     "output_type": "execute_result"
    }
   ],
   "source": [
    "type(4)"
   ]
  },
  {
   "cell_type": "code",
   "execution_count": 12,
   "metadata": {
    "scrolled": true
   },
   "outputs": [
    {
     "data": {
      "text/plain": [
       "float"
      ]
     },
     "execution_count": 12,
     "metadata": {},
     "output_type": "execute_result"
    }
   ],
   "source": [
    "type(4.0)"
   ]
  },
  {
   "cell_type": "markdown",
   "metadata": {},
   "source": [
    "Contrairement à ADA, la division entre deux entiers renvoie toujours un flottant et n'arrondit pas à la partie entière."
   ]
  },
  {
   "cell_type": "code",
   "execution_count": 13,
   "metadata": {},
   "outputs": [
    {
     "data": {
      "text/plain": [
       "1.25"
      ]
     },
     "execution_count": 13,
     "metadata": {},
     "output_type": "execute_result"
    }
   ],
   "source": [
    "10/8"
   ]
  },
  {
   "cell_type": "markdown",
   "metadata": {},
   "source": [
    "Si on veut retrouver la division entière, il faut dupliquer la barre oblique (slash). Le résultat est le quotient de la division euclidienne. "
   ]
  },
  {
   "cell_type": "code",
   "execution_count": 14,
   "metadata": {},
   "outputs": [
    {
     "data": {
      "text/plain": [
       "1"
      ]
     },
     "execution_count": 14,
     "metadata": {},
     "output_type": "execute_result"
    }
   ],
   "source": [
    "10//8"
   ]
  },
  {
   "cell_type": "markdown",
   "metadata": {},
   "source": [
    "Plus formellement, si $a\\in \\mathbb{Z}$ par $b\\in \\mathbb{N^*}$, alors il existe un unique quotient $q\\in \\mathbb{Z}$ et un unique reste $r\\in\\mathbb{N}$ tels que $ \\left\\{ \\begin{align*} a = bq+r \\\\ r < b \\end{align*} \\right.$.\n",
    "\n",
    "La division entière nous donne donc le quotient (q). Et pour récupérer le reste (r), c'est le modulo. Au lieu de `x mod y` (ADA, Ocaml), on écrit `x % y` (Python, C, Java). En particulier, souvenez vous de ce cas bien utile : `x % 2` teste la parité de x."
   ]
  },
  {
   "cell_type": "code",
   "execution_count": 15,
   "metadata": {
    "scrolled": true
   },
   "outputs": [
    {
     "data": {
      "text/plain": [
       "3"
      ]
     },
     "execution_count": 15,
     "metadata": {},
     "output_type": "execute_result"
    }
   ],
   "source": [
    "15 % 4"
   ]
  },
  {
   "cell_type": "markdown",
   "metadata": {},
   "source": [
    "### d) Les conversions implicites"
   ]
  },
  {
   "cell_type": "markdown",
   "metadata": {},
   "source": [
    "Point vigilance! En Python, vous perdez beaucoup de rigueur quand au typage. Nous reviendrons plus tard sur les gros problèmes que cela peut générer mais commencez déjà par en remarquer un : les opérations arithmétiques peuvent se faire entre deux types différents."
   ]
  },
  {
   "cell_type": "code",
   "execution_count": 16,
   "metadata": {},
   "outputs": [
    {
     "data": {
      "text/plain": [
       "5.1"
      ]
     },
     "execution_count": 16,
     "metadata": {},
     "output_type": "execute_result"
    }
   ],
   "source": [
    "2+3.1"
   ]
  },
  {
   "cell_type": "markdown",
   "metadata": {},
   "source": [
    "Ici, le 2 est converti en 2.0 et l'addition est flottante. C'est ce qu'on appelle une conversion **implicite**. La conversion se fait toujours vers les flottants même si le paramètre flottant pouvait à l'inverse être converti en entier."
   ]
  },
  {
   "cell_type": "code",
   "execution_count": 17,
   "metadata": {},
   "outputs": [
    {
     "data": {
      "text/plain": [
       "5.0"
      ]
     },
     "execution_count": 17,
     "metadata": {},
     "output_type": "execute_result"
    }
   ],
   "source": [
    "2+3."
   ]
  },
  {
   "cell_type": "markdown",
   "metadata": {},
   "source": [
    "**Remarque** : le point est suffisant pour préciser qu'on veut un flottant, pas besoin de rajouter le 0. Mais y gagne-t'on en lisibilité ?"
   ]
  },
  {
   "cell_type": "markdown",
   "metadata": {},
   "source": [
    "### e) Les conversions explicites"
   ]
  },
  {
   "cell_type": "markdown",
   "metadata": {},
   "source": [
    "Ces conversions peuvent être pratiques mais la perte de rigueur peut aussi être une source d'erreur. Afin de programmer un peu plus proprement, on explicite les conversions à faire. Pour cela, c'est très simple : le nom du type est aussi le nom d'une fonction de conversion."
   ]
  },
  {
   "cell_type": "code",
   "execution_count": 18,
   "metadata": {},
   "outputs": [
    {
     "data": {
      "text/plain": [
       "4.0"
      ]
     },
     "execution_count": 18,
     "metadata": {},
     "output_type": "execute_result"
    }
   ],
   "source": [
    "float(4)"
   ]
  },
  {
   "cell_type": "markdown",
   "metadata": {},
   "source": [
    "### e) Les booléens"
   ]
  },
  {
   "cell_type": "markdown",
   "metadata": {},
   "source": [
    "Ici, rien de nouveau : un type **bool** pour représenter Vrai ou Faux avec deux constantes `True` et `False`. "
   ]
  },
  {
   "cell_type": "code",
   "execution_count": 19,
   "metadata": {},
   "outputs": [
    {
     "data": {
      "text/plain": [
       "bool"
      ]
     },
     "execution_count": 19,
     "metadata": {},
     "output_type": "execute_result"
    }
   ],
   "source": [
    "type(True)"
   ]
  },
  {
   "cell_type": "code",
   "execution_count": 20,
   "metadata": {},
   "outputs": [
    {
     "data": {
      "text/plain": [
       "bool"
      ]
     },
     "execution_count": 20,
     "metadata": {},
     "output_type": "execute_result"
    }
   ],
   "source": [
    "type(False)"
   ]
  },
  {
   "cell_type": "markdown",
   "metadata": {},
   "source": [
    "Enfin si, un petit piège. `True` et `False` commencent par une majuscule ! En ADA, votre éditeur en rajoute pour des questions de lisibilité mais le compilateur s'en fiche éperdument. Python est lui sensible à la case. Il est donc obligatoire de les mettre (essayez de les retirer, l'interpréteur sera heureux de pouvoir vous reprendre).\n",
    "\n",
    "Cette remarque ne se limite pas aux booléens mais est globale en Python, pour les mots clés comme pour les noms de fonctions. Essayez d'utiliser `Type` au lieu de `type`."
   ]
  },
  {
   "cell_type": "markdown",
   "metadata": {},
   "source": [
    "## 2) Affichage et affectations"
   ]
  },
  {
   "cell_type": "markdown",
   "metadata": {},
   "source": [
    "Vous avez peut-être essayé d'écrire plusieurs lignes de calcul à la suite, mais vous n'obtenez qu'un seul affichage à côté du Out : c'est la sortie de votre programme. Ici, il s'agit de l'évaluation de la dernière ligne. Ce n'est pas un affichage comme vous faites avec des `Put_Line` en ADA et des `echo` en bash.\n",
    "\n",
    "Pour afficher en Python, on utilise la fonction `print`. On peut écrire des formules dans le print. Elles seront évaluées avant l'affichage. Pour afficher plusieurs valeurs sur une même ligne, placez simplement une virgule entre chaque valeur : on donne plusieurs paramètres à `print`."
   ]
  },
  {
   "cell_type": "code",
   "execution_count": 21,
   "metadata": {},
   "outputs": [
    {
     "name": "stdout",
     "output_type": "stream",
     "text": [
      "18\n",
      "1\n",
      "3\n",
      "7 9\n",
      "5 12.0 13.666666666666666\n"
     ]
    }
   ],
   "source": [
    "#affichage avec la fonction print\n",
    "print(18)\n",
    "print(5%2)\n",
    "print(18//5)\n",
    "print(7,9)\n",
    "print(8-3, 2*6.0, 41/3)"
   ]
  },
  {
   "cell_type": "markdown",
   "metadata": {},
   "source": [
    "Au passage, on a introduit un commentaire : il suffit de commencer la ligne par un #.\n",
    "\n",
    "**Remarque** : si vous avez déjà utilisé Python sous une ancienne version (inférieur strictement à la 3), vous avez peut-être déjà vu la syntaxe suivante : `print 1998`. Sans parenthèse. Cette syntaxe n'est plus valide en Python 3, car `print` est devenue une fonction. "
   ]
  },
  {
   "cell_type": "markdown",
   "metadata": {},
   "source": [
    "Tous ces calculs, c'est bien gentil. Mais si on ne peux pas stocker temporairement les résultats, on ne va pas aller bien loin. On a donc besoin de variables. En Python, vous allez être content au début : pas besoin de déclarer les variables, ni de préciser leur type. Comme en bash, mais en mieux car vous avez différents types, qui sont détectés \"automatiquement\". \n",
    "\n",
    "On peut donc affecter une variable directement. Si le nom de la variable n'existe pas encore, elle est créee. "
   ]
  },
  {
   "cell_type": "code",
   "execution_count": 22,
   "metadata": {},
   "outputs": [
    {
     "name": "stdout",
     "output_type": "stream",
     "text": [
      "2\n",
      "7\n",
      "7\n"
     ]
    }
   ],
   "source": [
    "a = 2\n",
    "print(a)\n",
    "b = 5\n",
    "c = a + b\n",
    "print(c)\n",
    "print(a+b)"
   ]
  },
  {
   "cell_type": "markdown",
   "metadata": {},
   "source": [
    "Si la variable existe déjà, elle est simplement modifiée, peu importe si le type change."
   ]
  },
  {
   "cell_type": "code",
   "execution_count": 23,
   "metadata": {},
   "outputs": [
    {
     "name": "stdout",
     "output_type": "stream",
     "text": [
      "3\n",
      "3.1\n",
      "True\n"
     ]
    }
   ],
   "source": [
    "#reaffectation de a\n",
    "a=2\n",
    "a=3\n",
    "print(a)\n",
    "a=3.1\n",
    "print(a)\n",
    "a=True\n",
    "print(a)"
   ]
  },
  {
   "cell_type": "markdown",
   "metadata": {},
   "source": [
    "Autre remarque : si vous affectez b=a, modifier a ultérieurement ne modifie pas b. Cela est vrai pour les types que vous avez vu jusqu'ici, mais pas pour certains que vous verrez plus tard."
   ]
  },
  {
   "cell_type": "code",
   "execution_count": 24,
   "metadata": {},
   "outputs": [
    {
     "name": "stdout",
     "output_type": "stream",
     "text": [
      "2\n",
      "2\n"
     ]
    }
   ],
   "source": [
    "a=2\n",
    "b=a\n",
    "print(b)\n",
    "a=3\n",
    "print(b) #modifier a ne modifie pas b"
   ]
  },
  {
   "cell_type": "markdown",
   "metadata": {},
   "source": [
    "Le TD 3 vous expliquera pourquoi ce laxisme est très problématique, si vous n'en avez pas déjà fait l'expérience d'ici là. C'est une source de bug majeure et vous apprendrez à apprécier le cadre rassurant des langages à typage statique (ADA, C,...)."
   ]
  },
  {
   "cell_type": "markdown",
   "metadata": {},
   "source": [
    "## 3) Branchements conditionnels"
   ]
  },
  {
   "cell_type": "markdown",
   "metadata": {},
   "source": [
    "### a) La syntaxe"
   ]
  },
  {
   "cell_type": "markdown",
   "metadata": {},
   "source": [
    "La syntaxe est très épurée : pas de `then`, ni de `end if`."
   ]
  },
  {
   "cell_type": "raw",
   "metadata": {},
   "source": [
    "if condition :\n",
    "    instructionSi\n",
    "    autreInstructionSi\n",
    "else :\n",
    "    instructionSinon\n",
    "    autreInstructionSinon"
   ]
  },
  {
   "cell_type": "markdown",
   "metadata": {},
   "source": [
    "En algo-prog et en unix, vous indentez votre code pour une meilleure lisibilité. De plus, avec Emacs, une mauvaise indentation automatique permet de repérer certaines erreurs. Malgré son caractère facultatif, j'espère que vous avez pris l'habitude d'y faire attention car l'indentation n'est plus esthétique en Python. Elle change le sens de votre code. \n",
    "\n",
    "Tout ce qui est indenté après le `if` est appelé un bloc : c'est ce qui s'exécute si la condition est vérifié. On en sort seulement lorsqu'une ligne n'est plus indenté.\n",
    "\n",
    "Prenez les deux exemples ci-dessous. Le premier n'affiche rien car la condition du `if` n'est pas vérifiée. Le deuxième affiche 3 car le `print(x+1)` n'est pas indenté : il n'est pas dans le bloc `if`, et est affiché dans tous les cas."
   ]
  },
  {
   "cell_type": "code",
   "execution_count": 25,
   "metadata": {},
   "outputs": [],
   "source": [
    "x=2\n",
    "if x<1 :\n",
    "    print(x)\n",
    "    print(x+1)"
   ]
  },
  {
   "cell_type": "code",
   "execution_count": 26,
   "metadata": {},
   "outputs": [
    {
     "name": "stdout",
     "output_type": "stream",
     "text": [
      "3\n"
     ]
    }
   ],
   "source": [
    "x=2\n",
    "if x<1 :\n",
    "    print(x)\n",
    "print(x+1)"
   ]
  },
  {
   "cell_type": "markdown",
   "metadata": {},
   "source": [
    "Vous remarquerez que le `else` est facultatif.\n",
    "\n",
    "**Le détail de syntaxe qu'on oublie tout le temps** : les deux points après la condition et le `else`. Ils sont nécessaires ! Au même titre que les points virgules en ADA, il est courant de les oublier. Donc pas de panique. Soyez juste réactif quand votre interpréteur vous dit `invalid syntax` en pointant du doigt l'emplacement concerné."
   ]
  },
  {
   "cell_type": "markdown",
   "metadata": {},
   "source": [
    "Les branchement conditionnels peuvent être imbriqués. L'exemple suivant permet de tester si x est dans l'intervalle $[1;5]$."
   ]
  },
  {
   "cell_type": "code",
   "execution_count": 27,
   "metadata": {},
   "outputs": [
    {
     "name": "stdout",
     "output_type": "stream",
     "text": [
      "True\n"
     ]
    }
   ],
   "source": [
    "x=2\n",
    "if x<1 :\n",
    "    print(False)\n",
    "else :\n",
    "    if x>5 :\n",
    "        print(False)\n",
    "    else:\n",
    "        print(True)"
   ]
  },
  {
   "cell_type": "markdown",
   "metadata": {},
   "source": [
    "Afin d'éviter d'imbriquer trop de branchements conditionnels, on peut utiliser `elif` : il remplace le `else: if` sans ajouter un niveau d'indentation."
   ]
  },
  {
   "cell_type": "code",
   "execution_count": 28,
   "metadata": {},
   "outputs": [
    {
     "name": "stdout",
     "output_type": "stream",
     "text": [
      "False\n"
     ]
    }
   ],
   "source": [
    "x=0\n",
    "if x<1 :\n",
    "    print(False)\n",
    "elif x>5 :\n",
    "    print(False)\n",
    "else:\n",
    "    print(True)"
   ]
  },
  {
   "cell_type": "markdown",
   "metadata": {},
   "source": [
    "On n'insistera jamais assez : **attention à l'indentation !** Les deux exemples ci-dessous sont quasi-identiques à l'indentation du `else` près. Le fonctionnement n'est pas du tout le même. \n",
    "- Pour le premier exemple, le `else` se rapporte au `if x<=5`. Il ne sera donc considéré que si $x>5$.\n",
    "- En revanche, dans le deuxième exemple, le `else` se rapporte au `if x>=1`, donc il est considéré si et seulement si $x<1$. \n",
    "\n",
    "Tester avec des valeurs hors de l'intervalle, inférieures et supérieures, et tâchez de bien comprendre ce qui se passe."
   ]
  },
  {
   "cell_type": "code",
   "execution_count": 29,
   "metadata": {},
   "outputs": [
    {
     "name": "stdout",
     "output_type": "stream",
     "text": [
      "1\n"
     ]
    }
   ],
   "source": [
    "x=8\n",
    "\n",
    "#premiere version avec une indentation pour le else\n",
    "if x>=1 :\n",
    "    if x<=5 :\n",
    "        print(True)\n",
    "    else:\n",
    "        print(1)\n",
    "        \n",
    "#deuxieme version sans indentation\n",
    "if x>=1 :\n",
    "    if x<=5 :\n",
    "        print(True)\n",
    "else:\n",
    "    print(2)"
   ]
  },
  {
   "cell_type": "markdown",
   "metadata": {},
   "source": [
    "### b) Egalité et différence"
   ]
  },
  {
   "cell_type": "markdown",
   "metadata": {},
   "source": [
    "A travers les exemples précédents, vous avez retrouvé les inégalités strictes et larges. Deux autre comparateurs sont nécessaires : l'égalité et la différence. Attention, pour ces deux là, la syntaxe est différente de celle en ADA. L'égalité est avec un double ==, la différence !=."
   ]
  },
  {
   "cell_type": "code",
   "execution_count": 30,
   "metadata": {},
   "outputs": [
    {
     "name": "stdout",
     "output_type": "stream",
     "text": [
      "True\n",
      "False\n",
      "False\n",
      "True\n"
     ]
    }
   ],
   "source": [
    "print(3==3)\n",
    "print(4==3)\n",
    "print(3!=3)\n",
    "print(4!=3)"
   ]
  },
  {
   "cell_type": "markdown",
   "metadata": {},
   "source": [
    "#### Petite interlude culturelle."
   ]
  },
  {
   "cell_type": "markdown",
   "metadata": {},
   "source": [
    "Pourquoi utilise t'on `=` pour l'affectation et `==` pour tester l'égalité ? La syntaxe ADA `:=/=` semble plus logique. L'affectation est asymétrique, son écriture devrait donc l'être aussi. Et pour l'égalité, on voudrait utiliser la même syntaxe qu'en maths. \n",
    "\n",
    "La raison est simple : statistiquement, dans un programme, il y a bien plus d'affectations que de tests d'égalité. La syntaxe `=/==` permet donc de réduire l'espace utilisé par le code. Ce choix a été fait pour le langage C, qui a influencé partiellement la syntaxe du langage Python.\n",
    "\n",
    "Ce choix est d'ailleurs une bonne source d'erreur, vous oublierez quelques fois le deuxième (ou le premier, au choix) `=` dans la condition d'un `if`. L'interpréteur Python est (étonnament et paradoxalement) sympathique et il vous insultera directement. L'an prochain, vous verrez que ça ne sera plus le cas en C. Prenez donc de bonnes habitudes dès maintenant afin de ne pas perdre un temps fou à débugger."
   ]
  },
  {
   "cell_type": "markdown",
   "metadata": {},
   "source": [
    "### c) Agglomérer des conditions"
   ]
  },
  {
   "cell_type": "markdown",
   "metadata": {},
   "source": [
    "Reprenons l'exemple permettant de tester si une valeur est dans l'intervalle $[1;5]$. Au lieu d'avoir des branchements conditionnels imbriqués, on peut plus simplement les agglomérer en une seule formule logique."
   ]
  },
  {
   "cell_type": "code",
   "execution_count": 31,
   "metadata": {},
   "outputs": [
    {
     "name": "stdout",
     "output_type": "stream",
     "text": [
      "False\n"
     ]
    }
   ],
   "source": [
    "x=0\n",
    "if x>=1 and x<=5:\n",
    "    print(True)\n",
    "else:\n",
    "    print(False)"
   ]
  },
  {
   "cell_type": "markdown",
   "metadata": {},
   "source": [
    "Vous pouvez construire par induction une formule logique. Cette dernière est soit :\n",
    "- un terme : `True`, `False` ou une condition de la forme `x>0` (cas de base), \n",
    "- la conjonction de deux formules logiques : `F1 and F2`,\n",
    "- la disjonction de deux formules logiques : `F1 or F2`,\n",
    "- la négation d'une formule logique : `not F`.\n",
    "\n",
    "On verra qu'on peut aussi utiliser des fonctions dans les formules. Mais chaque chose en son temps."
   ]
  },
  {
   "cell_type": "code",
   "execution_count": 32,
   "metadata": {},
   "outputs": [
    {
     "data": {
      "text/plain": [
       "True"
      ]
     },
     "execution_count": 32,
     "metadata": {},
     "output_type": "execute_result"
    }
   ],
   "source": [
    "x=2\n",
    "(not (x<3 and False)) or x>0"
   ]
  },
  {
   "cell_type": "markdown",
   "metadata": {},
   "source": [
    "Il y a trois termes : T1 : `x<3`, T2 : `False` et T3 : `x>0`. La formule ci-dessus correspond à `(not (T1 and T2)) or T3`.\n",
    "\n",
    "**Deux remarques de bon sens :** \n",
    "- Agglomérer de la sorte peut être pratique pour ne pas démultiplier les branchements imbriqués mais attention à ce que les conditions restent lisibles et que l'algorithme sous jacent reste compréhensible.\n",
    "- Il est possible d'enchaîner les comparateurs. A utiliser avec modération, comme devrait vous en convaincre le deuxième exemple."
   ]
  },
  {
   "cell_type": "code",
   "execution_count": 33,
   "metadata": {},
   "outputs": [
    {
     "name": "stdout",
     "output_type": "stream",
     "text": [
      "0\n",
      "1\n"
     ]
    }
   ],
   "source": [
    "x=0\n",
    "y=2\n",
    "z=4\n",
    "if(x<y<z):\n",
    "    print(0)\n",
    "    \n",
    "if(y>x<z>2==y<3!=x!=1<z):\n",
    "    print(1)"
   ]
  },
  {
   "cell_type": "markdown",
   "metadata": {},
   "source": [
    "### d) Comparaisons entre flottants"
   ]
  },
  {
   "cell_type": "markdown",
   "metadata": {},
   "source": [
    "On a auparavent parlé de problème de précision pour les flottants. Une conséquence fâcheuse s'observe facilement :"
   ]
  },
  {
   "cell_type": "code",
   "execution_count": 34,
   "metadata": {},
   "outputs": [
    {
     "data": {
      "text/plain": [
       "False"
      ]
     },
     "execution_count": 34,
     "metadata": {},
     "output_type": "execute_result"
    }
   ],
   "source": [
    "0.1*3 == 0.3"
   ]
  },
  {
   "cell_type": "markdown",
   "metadata": {},
   "source": [
    "Afin de pallier à ce problème, on peut tester si l'écart entre deux flottants est plus petit qu'un certain seuil. On utilise la fonction abs (valeur absolue) pour obtenir l'écart entre les deux valeurs."
   ]
  },
  {
   "cell_type": "code",
   "execution_count": 35,
   "metadata": {},
   "outputs": [
    {
     "data": {
      "text/plain": [
       "True"
      ]
     },
     "execution_count": 35,
     "metadata": {},
     "output_type": "execute_result"
    }
   ],
   "source": [
    "seuil = 0.00000001\n",
    "abs(0.3-0.1*3)<seuil"
   ]
  },
  {
   "cell_type": "markdown",
   "metadata": {},
   "source": [
    "### e) Evaluation paresseuse"
   ]
  },
  {
   "cell_type": "markdown",
   "metadata": {},
   "source": [
    "Prenons A et B deux formules logiques. Lorsque l'on veut évaluer la formule `A and B`, si A est fausse, ce n'est pas la peine d'évaluer B car `A and B` sera fausse de toute manière. De même, si A est vraie, pas la peine d'évaluer B pour connaître l'évaluation de `A or B`. Python utilise ce mécanisme. C'est ce qu'on appelle l'évaluation paresseuse. \n",
    "\n",
    "Donc dans l'exemple `x>=1 and x<=5`, si $x<1$, le programme passe directement au `else`, sans tester si $x\\leq 5$.\n",
    "\n",
    "**Point ADA** : faites bien attention que ce n'est pas le cas par défaut dans ce langage. Les conditions A et B sont évaluées en parallèle. Pour forcer ce mécanisme, vous devez utiliser `A and then B`, ou `A or else B`."
   ]
  },
  {
   "cell_type": "markdown",
   "metadata": {},
   "source": [
    "### f) Exercice "
   ]
  },
  {
   "cell_type": "markdown",
   "metadata": {},
   "source": [
    "Compléter le programme suivant afin qu'il affiche si a, b et c sont distincts deux à deux. Proposer plusieurs méthodes. On pensera à modifier les valeurs de a, b et c pour tester."
   ]
  },
  {
   "cell_type": "code",
   "execution_count": 36,
   "metadata": {},
   "outputs": [
    {
     "name": "stdout",
     "output_type": "stream",
     "text": [
      "Méthode 1: Test chaque couple\n",
      "Ils sont distincts\n",
      "\n",
      "Méthode 2: Version compacte, le code n'est pas très lisible...\n",
      "Ils sont distincts\n",
      "\n",
      "Méthode 3: Plus long mais permet d'avoir plus d'informations\n",
      "Ils sont distincts\n"
     ]
    }
   ],
   "source": [
    "a=0\n",
    "b=1\n",
    "c=2\n",
    "\n",
    "print(\"Méthode 1: Test chaque couple\")\n",
    "if a != b and b != c and c != a:\n",
    "    print(\"Ils sont distincts\")\n",
    "else:\n",
    "    print(\"Ils ne sont pas distincts\")\n",
    "    \n",
    "print(\"\")  # Pour faire un retour à la ligne\n",
    "print(\"Méthode 2: Version compacte, le code n'est pas très lisible...\")\n",
    "if a != b != c != a:\n",
    "    print(\"Ils sont distincts\")\n",
    "else:\n",
    "    print(\"Ils ne sont pas distincts\")\n",
    "    \n",
    "print(\"\")  # Pour faire un retour à la ligne\n",
    "print(\"Méthode 3: Plus long mais permet d'avoir plus d'informations\")\n",
    "if a == b:\n",
    "    print(\"Ils ne sont pas distincts: a = b\")\n",
    "elif b == c :\n",
    "    print(\"Ils ne sont pas distincts: b = c\")\n",
    "elif c == a:\n",
    "    print(\"Ils ne sont pas distincts: c = a\")\n",
    "else:\n",
    "    print(\"Ils sont distincts\")\n"
   ]
  },
  {
   "cell_type": "markdown",
   "metadata": {},
   "source": [
    "## 4) Boucles"
   ]
  },
  {
   "cell_type": "markdown",
   "metadata": {},
   "source": [
    "### a) Les boucles while\n",
    "\n",
    "Pour les boucles `while`, rien d'exotique. Même idée que pour le branchement conditionnel (on pense toujours bien à indenter les intructions à répéter ) : "
   ]
  },
  {
   "cell_type": "raw",
   "metadata": {},
   "source": [
    "while condition :\n",
    "    instructionBoucle1\n",
    "    instructionBoucle2\n",
    "instructionApresBoucle"
   ]
  },
  {
   "cell_type": "markdown",
   "metadata": {},
   "source": [
    "**Exemple :** on calcule la partie entière du logarithme en base 2 : $\\lfloor \\log_2(n)\\rfloor$"
   ]
  },
  {
   "cell_type": "code",
   "execution_count": 37,
   "metadata": {},
   "outputs": [
    {
     "name": "stdout",
     "output_type": "stream",
     "text": [
      "1\n"
     ]
    }
   ],
   "source": [
    "n=3\n",
    "p=1\n",
    "log=-1\n",
    "while p<=n:\n",
    "    p=2*p\n",
    "    log=log+1\n",
    "print(log)"
   ]
  },
  {
   "cell_type": "markdown",
   "metadata": {},
   "source": [
    "### b) Les boucles for\n",
    "\n",
    "Afin d'itérer sur des séquences d'entiers, on utilise `range`, qui prend un à trois paramètres :\n",
    "- avec un paramètre : range(n) va parcourir la séquence $(0,1,\\ldots,n-1)$,\n",
    "- avec deux paramètres : range(m,n) va parcourir la séquence $(m,m+1,\\ldots,n-1)$,\n",
    "- avec trois paramètres : range(m,n,p) va parcourir $\\left\\{ \n",
    "    \\begin{align}\n",
    "    \\{m+pk < n, k\\in \\mathbb{N}\\} \\text{ si p > 0}\\\\\n",
    "    \\{m+pk > n, k\\in \\mathbb{N}\\} \\text{ si p < 0}\n",
    "    \\end{align}\n",
    "    \\right.$ dans l'ordre des k croissants.\n",
    "    \n",
    "Ici :\n",
    "- m représente le début de la boucle (inclus),\n",
    "- n la fin (exclue),\n",
    "- p le pas."
   ]
  },
  {
   "cell_type": "code",
   "execution_count": 38,
   "metadata": {},
   "outputs": [
    {
     "name": "stdout",
     "output_type": "stream",
     "text": [
      "0\n",
      "1\n",
      "2\n",
      "3\n",
      "4\n"
     ]
    }
   ],
   "source": [
    "for i in range(5):\n",
    "    print(i)"
   ]
  },
  {
   "cell_type": "code",
   "execution_count": 39,
   "metadata": {},
   "outputs": [
    {
     "name": "stdout",
     "output_type": "stream",
     "text": [
      "3\n",
      "4\n",
      "5\n"
     ]
    }
   ],
   "source": [
    "for i in range(3,6):\n",
    "    print(i)"
   ]
  },
  {
   "cell_type": "code",
   "execution_count": 40,
   "metadata": {},
   "outputs": [
    {
     "name": "stdout",
     "output_type": "stream",
     "text": [
      "5\n",
      "7\n",
      "9\n"
     ]
    }
   ],
   "source": [
    "for i in range(5,11,2):\n",
    "    print(i)"
   ]
  },
  {
   "cell_type": "code",
   "execution_count": 41,
   "metadata": {},
   "outputs": [
    {
     "name": "stdout",
     "output_type": "stream",
     "text": [
      "15\n",
      "12\n",
      "9\n",
      "6\n"
     ]
    }
   ],
   "source": [
    "for i in range(15,5,-3):\n",
    "    print(i)"
   ]
  },
  {
   "cell_type": "markdown",
   "metadata": {},
   "source": [
    "**Remarque :** si l'intervalle défini est vide ($m\\geq n$ par exemple), aucun problème, on ne rentre juste pas dans la boucle.\n",
    "\n",
    "Etant de nature curieuse, vous testerez ce qui se passe si on donne un pas (p) de 0, même si vous l'avez sûrement deviné. Et si on donne un pas flottant ?\n",
    "\n",
    "Contrairement à ADA, modifier votre indice de boucle est autorisé. Soupçonneux, vous penserez bien à vérifier si cette nouvelle liberté n'est pas dangeureuse. De même, vous pouvez modifier une variable servant de borne au `range`."
   ]
  },
  {
   "cell_type": "code",
   "execution_count": 42,
   "metadata": {},
   "outputs": [
    {
     "name": "stdout",
     "output_type": "stream",
     "text": [
      "0\n",
      "1\n",
      "2\n"
     ]
    }
   ],
   "source": [
    "max = 3\n",
    "for i in range(max):\n",
    "    print(i)\n",
    "    max = max + 1\n",
    "    i = i-1"
   ]
  },
  {
   "cell_type": "markdown",
   "metadata": {},
   "source": [
    "Ouf ! Les modifications des variables i et max dans la boucle n'ont aucun impact."
   ]
  },
  {
   "cell_type": "markdown",
   "metadata": {},
   "source": [
    "### c) Exercices"
   ]
  },
  {
   "cell_type": "markdown",
   "metadata": {},
   "source": [
    "Pour un paramètre $C\\in \\mathbb{N}^*$, on définit la suite de Syracuse par :\n",
    "- $u_0=C$\n",
    "- $u_{n+1} = \\left\\{\n",
    "      \\begin{array}{l}\n",
    "        u_n/2 \\ \\text{ si } u_n \\text{ pair} \\\\\n",
    "        3u_n+1 \\ \\text{ sinon }\n",
    "      \\end{array}\n",
    "    \\right.$\n",
    "\n",
    "On suppose que pour tout $C\\geq 1$, il existe $N \\geq 0$ tel que $u_N=1$. On note $S_C$ le premier rang $n$ tel que $u_n=1$. A partir de ce rang, on remarque que les termes de la suite $(u_n)_{n\\geq S_C}$ sont périodiques en parcourant en boucle les valeurs $4,2,1$. C'est la conjecture de Syracuse, que vous devrez démontrer au prochain DS de maths. \n",
    "\n",
    "Pour chaque question, identifier quel type de boucle est le plus adapté.\n",
    "\n",
    "1)Ecrire un programme qui calcule $S_C$. "
   ]
  },
  {
   "cell_type": "code",
   "execution_count": 43,
   "metadata": {},
   "outputs": [
    {
     "name": "stdout",
     "output_type": "stream",
     "text": [
      "S_C = 17\n"
     ]
    }
   ],
   "source": [
    "C = 15\n",
    "n = 0\n",
    "u_n = C\n",
    "while u_n != 1:\n",
    "    # Calcul de u_{n+1}\n",
    "    n = n + 1\n",
    "    if u_n % 2 == 0:\n",
    "        # u_n est pair\n",
    "        u_n = u_n / 2\n",
    "    else:\n",
    "        # u_n est impair\n",
    "        u_n = 3 * u_n + 1\n",
    "print(f\"S_C = {n}\")"
   ]
  },
  {
   "cell_type": "markdown",
   "metadata": {},
   "source": [
    "2) Reprendre votre programme précédent afin de maintenant calculer la hauteur en vol, c'est à dire la valeur maximale prise par la suite."
   ]
  },
  {
   "cell_type": "code",
   "execution_count": 44,
   "metadata": {},
   "outputs": [
    {
     "name": "stdout",
     "output_type": "stream",
     "text": [
      "La hauteur de vol vaut 4\n"
     ]
    }
   ],
   "source": [
    "C = 1\n",
    "u_n = C\n",
    "hauteur_vol = u_n\n",
    "while u_n != 1:\n",
    "    # Calcul de u_{n+1}\n",
    "    if u_n % 2 == 0:\n",
    "        # u_n est pair\n",
    "        u_n = u_n / 2\n",
    "    else:\n",
    "        # u_n est impair\n",
    "        u_n = 3 * u_n + 1\n",
    "    # Sauvegarde si plus grande valeur\n",
    "    if u_n > hauteur_vol:\n",
    "        hauteur_vol = u_n\n",
    "if hauteur_vol < 4:\n",
    "    # La suite parcours en boucle les valeurs 4, 2, 1 au bout d'un certain temps\n",
    "    # La valeur maximale est donc au minimum 4\n",
    "    hauteur_vol = 4\n",
    "print(f\"La hauteur de vol vaut {hauteur_vol}\")"
   ]
  },
  {
   "cell_type": "markdown",
   "metadata": {},
   "source": [
    "3) Soit $N\\in \\mathbb{N}^*$. Ecrire un programme qui affiche les valeurs $S_C$ pour $1\\leq C \\leq N$."
   ]
  },
  {
   "cell_type": "code",
   "execution_count": 45,
   "metadata": {},
   "outputs": [
    {
     "name": "stdout",
     "output_type": "stream",
     "text": [
      "S_1 = 0\n",
      "S_2 = 1\n",
      "S_3 = 7\n",
      "S_4 = 2\n",
      "S_5 = 5\n",
      "S_6 = 8\n",
      "S_7 = 16\n",
      "S_8 = 3\n",
      "S_9 = 19\n",
      "S_10 = 6\n",
      "S_11 = 14\n",
      "S_12 = 9\n",
      "S_13 = 9\n",
      "S_14 = 17\n",
      "S_15 = 17\n"
     ]
    }
   ],
   "source": [
    "N = 15\n",
    "for C in range(1, N+1):\n",
    "    n = 0\n",
    "    u_n = C\n",
    "    while u_n != 1:\n",
    "        # Calcul de u_{n+1}\n",
    "        n = n + 1\n",
    "        if u_n % 2 == 0:\n",
    "            # u_n est pair\n",
    "            u_n = u_n / 2\n",
    "        else:\n",
    "            # u_n est impair\n",
    "            u_n = 3 * u_n + 1\n",
    "    print(f\"S_{C} = {n}\")"
   ]
  },
  {
   "cell_type": "markdown",
   "metadata": {},
   "source": [
    "Normalement, cette dernière question vous a fait sentir le besoin d'introduire une fonction. On va voir comment le faire."
   ]
  },
  {
   "cell_type": "markdown",
   "metadata": {},
   "source": [
    "## 5) Fonctions"
   ]
  },
  {
   "cell_type": "markdown",
   "metadata": {},
   "source": [
    "### a) Syntaxe"
   ]
  },
  {
   "cell_type": "markdown",
   "metadata": {},
   "source": [
    "En Python, plus besoin de distinguer procédure et fonction (on verra plus tard ce qui se passe si une fonction ne renvoie rien).\n",
    "\n",
    "Le mot clé pour définir une fonction est `def`. De même que pour les branchements conditionnels et les boucles, il faut indenter le contenu d'une fonction.\n",
    "\n",
    "Prenons par exemple la valeur absolue :"
   ]
  },
  {
   "cell_type": "code",
   "execution_count": 46,
   "metadata": {},
   "outputs": [],
   "source": [
    "def abs(x):\n",
    "    if x>0:\n",
    "        return x\n",
    "    else:\n",
    "        return -x"
   ]
  },
  {
   "cell_type": "markdown",
   "metadata": {},
   "source": [
    "Comme on l'a vu précédemment, cette fonction existe déjà en Python. En revanche, la fonction `log2` calculant le logarithme en base 2 n'est pas fournie par défaut (on verra qu'en fait on peut indiquer où aller chercher une telle fonction mathématique). \n",
    "\n",
    "Implémenter une fonction log2 qui calcule le logarithme en base 2 (sans utiliser d'import). On veut une version itérative. **Si vous ne voyez pas comment faire, lisez le sujet dans l'ordre, sans sauter de partie.**"
   ]
  },
  {
   "cell_type": "code",
   "execution_count": 47,
   "metadata": {},
   "outputs": [],
   "source": [
    "# Définition de log2\n",
    "def log(n):\n",
    "    p=1\n",
    "    log_n=-1\n",
    "    while p<=n:\n",
    "        p=2*p\n",
    "        log_n=log_n+1\n",
    "    return log_n"
   ]
  },
  {
   "cell_type": "markdown",
   "metadata": {},
   "source": [
    "Il est courant, lorsqu'on finit d'implémenter une fonction, de clamer haut et fort : \"C'est bon, ça marche ! J'ai cliqué sur exécuter, ça n'a pas donné d'erreur\".\n",
    "\n",
    "Si c'est le cas, les TP d'algo-prog devraient vous permettre de rapidement sentir que vous avez oublié quelque chose. Les tests ? **Oui les tests !** Plusieurs raisons :\n",
    "- L'algorithme sous jacent pourrait être faux. Mais vous avez bien sûr pensé à tester votre algorithme sur papier avant de l'implémenter.\n",
    "- Une typo : vous avez inversé deux variables.\n",
    "- Vous avez écrit quelque chose de syntaxiquement correct mais qui n'a aucun sens. Par exemple, dans la fonction abs, remplacez \"return x\" par \"return moussaka\". L'exécution pose-t'elle problème ? Et des tests ? Ce problème n'arrivait pas en ADA, nous verrons pourquoi.\n",
    "- Votre algorithme est correct mais beaucoup trop lent (ou son implémentation tout du moins)."
   ]
  },
  {
   "cell_type": "code",
   "execution_count": 48,
   "metadata": {},
   "outputs": [
    {
     "name": "stdout",
     "output_type": "stream",
     "text": [
      "log(1) = 0\n",
      "log(2) = 1\n",
      "log(4) = 2\n",
      "log(8) = 3\n",
      "log(16) = 4\n",
      "log(32) = 5\n",
      "log(64) = 6\n",
      "log(128) = 7\n",
      "log(256) = 8\n",
      "log(512) = 9\n",
      "log(1024) = 10\n",
      "log(2048) = 11\n",
      "log(4096) = 12\n",
      "log(8192) = 13\n",
      "log(16384) = 14\n",
      "log(32768) = 15\n",
      "log(65536) = 16\n",
      "log(131072) = 17\n",
      "log(262144) = 18\n",
      "log(524288) = 19\n",
      "log(1048576) = 20\n",
      "log(2097152) = 21\n",
      "log(4194304) = 22\n",
      "log(8388608) = 23\n",
      "log(16777216) = 24\n",
      "log(33554432) = 25\n",
      "log(67108864) = 26\n",
      "log(134217728) = 27\n",
      "log(268435456) = 28\n",
      "log(536870912) = 29\n",
      "log(1073741824) = 30\n",
      "log(2147483648) = 31\n",
      "log(4294967296) = 32\n",
      "log(8589934592) = 33\n",
      "log(17179869184) = 34\n",
      "log(34359738368) = 35\n",
      "log(68719476736) = 36\n",
      "log(137438953472) = 37\n",
      "log(274877906944) = 38\n",
      "log(549755813888) = 39\n",
      "log(1099511627776) = 40\n",
      "log(2199023255552) = 41\n",
      "log(4398046511104) = 42\n",
      "log(8796093022208) = 43\n",
      "log(17592186044416) = 44\n",
      "log(35184372088832) = 45\n",
      "log(70368744177664) = 46\n",
      "log(140737488355328) = 47\n",
      "log(281474976710656) = 48\n",
      "log(562949953421312) = 49\n",
      "log(1125899906842624) = 50\n",
      "log(2251799813685248) = 51\n",
      "log(4503599627370496) = 52\n",
      "log(9007199254740992) = 53\n",
      "log(18014398509481984) = 54\n",
      "log(36028797018963968) = 55\n",
      "log(72057594037927936) = 56\n",
      "log(144115188075855872) = 57\n",
      "log(288230376151711744) = 58\n",
      "log(576460752303423488) = 59\n",
      "log(1152921504606846976) = 60\n",
      "log(2305843009213693952) = 61\n",
      "log(4611686018427387904) = 62\n",
      "log(9223372036854775808) = 63\n",
      "log(18446744073709551616) = 64\n",
      "log(36893488147419103232) = 65\n",
      "log(73786976294838206464) = 66\n",
      "log(147573952589676412928) = 67\n",
      "log(295147905179352825856) = 68\n",
      "log(590295810358705651712) = 69\n",
      "log(1180591620717411303424) = 70\n",
      "log(2361183241434822606848) = 71\n",
      "log(4722366482869645213696) = 72\n",
      "log(9444732965739290427392) = 73\n",
      "log(18889465931478580854784) = 74\n",
      "log(37778931862957161709568) = 75\n",
      "log(75557863725914323419136) = 76\n",
      "log(151115727451828646838272) = 77\n",
      "log(302231454903657293676544) = 78\n",
      "log(604462909807314587353088) = 79\n",
      "log(1208925819614629174706176) = 80\n",
      "log(2417851639229258349412352) = 81\n",
      "log(4835703278458516698824704) = 82\n",
      "log(9671406556917033397649408) = 83\n",
      "log(19342813113834066795298816) = 84\n",
      "log(38685626227668133590597632) = 85\n",
      "log(77371252455336267181195264) = 86\n",
      "log(154742504910672534362390528) = 87\n",
      "log(309485009821345068724781056) = 88\n",
      "log(618970019642690137449562112) = 89\n",
      "log(1237940039285380274899124224) = 90\n",
      "log(2475880078570760549798248448) = 91\n",
      "log(4951760157141521099596496896) = 92\n",
      "log(9903520314283042199192993792) = 93\n",
      "log(19807040628566084398385987584) = 94\n",
      "log(39614081257132168796771975168) = 95\n",
      "log(79228162514264337593543950336) = 96\n",
      "log(158456325028528675187087900672) = 97\n",
      "log(316912650057057350374175801344) = 98\n",
      "log(633825300114114700748351602688) = 99\n"
     ]
    }
   ],
   "source": [
    "# Tests\n",
    "# Pensez à exécuter le bloc au dessus pour que la fonction soit définie\n",
    "for i in range(0, 100):\n",
    "    print(f\"log({2**i}) = {log(2**i)}\")  # Vérification \"manuelle\", vous devez vérifier par vous même que la valeur est correcte\n",
    "    assert log(2**i) == i                # Vérification \"automatique\", le code s'arrête avec une erreur si log(2**i) != i, remarquez que cela n'écrit rien contrairement à la ligne du dessus"
   ]
  },
  {
   "cell_type": "markdown",
   "metadata": {},
   "source": [
    "Au début d'une fonction, vous pouvez rajouter des commentaires sous un certain format :"
   ]
  },
  {
   "cell_type": "code",
   "execution_count": 49,
   "metadata": {},
   "outputs": [],
   "source": [
    "def meme_signe(x,y):\n",
    "    \"\"\"\n",
    "    Paramètres : x, y deux int\n",
    "    Détermine si x et y sont de même signe\n",
    "    \"\"\"\n",
    "    if x*y>0:\n",
    "        return True\n",
    "    else:\n",
    "        return False"
   ]
  },
  {
   "cell_type": "markdown",
   "metadata": {},
   "source": [
    "Au delà de l'intérêt habituel d'un commentaire, celui-ci permet de générer une documentation pour cette fonction. On parle de **docstring**."
   ]
  },
  {
   "cell_type": "code",
   "execution_count": 50,
   "metadata": {},
   "outputs": [
    {
     "name": "stdout",
     "output_type": "stream",
     "text": [
      "Help on function meme_signe in module __main__:\n",
      "\n",
      "meme_signe(x, y)\n",
      "    Paramètres : x, y deux int\n",
      "    Détermine si x et y sont de même signe\n",
      "\n"
     ]
    }
   ],
   "source": [
    "help(meme_signe)"
   ]
  },
  {
   "cell_type": "markdown",
   "metadata": {},
   "source": [
    "### b) Récursivité"
   ]
  },
  {
   "cell_type": "markdown",
   "metadata": {},
   "source": [
    "Maintenant que vous êtes devenu des adeptes de la récursivité, vous vous demandez comment écrire `log2` récursivement. Pour la syntaxe, aucun piège."
   ]
  },
  {
   "cell_type": "code",
   "execution_count": 51,
   "metadata": {},
   "outputs": [
    {
     "name": "stdout",
     "output_type": "stream",
     "text": [
      "1 0\n",
      "2 1\n",
      "3 1\n",
      "4 2\n",
      "5 2\n",
      "6 2\n",
      "7 2\n",
      "8 3\n",
      "9 3\n"
     ]
    }
   ],
   "source": [
    "def log2rec(n):\n",
    "    if(n==1):\n",
    "        return 0\n",
    "    else:\n",
    "        return 1+log2rec(n//2)\n",
    "\n",
    "#Exemple de tests\n",
    "for i in range(1,10):\n",
    "    print(i,log2rec(i))"
   ]
  },
  {
   "cell_type": "markdown",
   "metadata": {},
   "source": [
    "Attention, le nombre d'appel récursif est limité. En Ada, vous n'avez peut-être jamais remarqué mais il y en a une aussi (en général $10^6$). En Python, la limite est potentiellement bien plus basse. Pour constater cette limitation, prenez la fonction suivante.\n",
    "\n",
    "Que calcule-t'elle ? Combien d'appels récursifs sont fait ? Tester cette fonction avec des grandes valeurs."
   ]
  },
  {
   "cell_type": "code",
   "execution_count": 52,
   "metadata": {},
   "outputs": [],
   "source": [
    "def f(x):\n",
    "    if x==0 :\n",
    "        return 0\n",
    "    else :\n",
    "        return 1+f(x-1)"
   ]
  },
  {
   "cell_type": "markdown",
   "metadata": {},
   "source": [
    "**Remarque :** une solution classique consiste à faire ce qu'on appelle de la récursivité terminale. Si vous ne connaissez pas, ce n'est pas grave car ça ne marche pas en Python. Une autre technique consiste a modifier la taille de la pile (avec resource par exemple)."
   ]
  },
  {
   "cell_type": "markdown",
   "metadata": {},
   "source": [
    "### c) Portée des variables"
   ]
  },
  {
   "cell_type": "markdown",
   "metadata": {},
   "source": [
    "Lorsque l'interpréteur doit **utiliser** le contenu d'une variable, il faut que cette dernière ait déjà été définie."
   ]
  },
  {
   "cell_type": "code",
   "execution_count": 53,
   "metadata": {},
   "outputs": [
    {
     "ename": "NameError",
     "evalue": "name 'maVariableAvecUnNomTresLongPourQueVousNeLayezPasDejaDefini' is not defined",
     "output_type": "error",
     "traceback": [
      "\u001b[0;31m---------------------------------------------------------------------------\u001b[0m",
      "\u001b[0;31mNameError\u001b[0m                                 Traceback (most recent call last)",
      "Cell \u001b[0;32mIn[53], line 1\u001b[0m\n\u001b[0;32m----> 1\u001b[0m \u001b[38;5;28mprint\u001b[39m(\u001b[43mmaVariableAvecUnNomTresLongPourQueVousNeLayezPasDejaDefini\u001b[49m)\n",
      "\u001b[0;31mNameError\u001b[0m: name 'maVariableAvecUnNomTresLongPourQueVousNeLayezPasDejaDefini' is not defined"
     ]
    }
   ],
   "source": [
    "print(maVariableAvecUnNomTresLongPourQueVousNeLayezPasDejaDefini)"
   ]
  },
  {
   "cell_type": "markdown",
   "metadata": {},
   "source": [
    "Il va chercher sa définition dans le contexte le plus local possible. Si la variable n'existe pas, il va la chercher dans le contexte englobant, etc... jusqu'au contexte global."
   ]
  },
  {
   "cell_type": "code",
   "execution_count": 54,
   "metadata": {},
   "outputs": [
    {
     "name": "stdout",
     "output_type": "stream",
     "text": [
      "0\n",
      "2\n"
     ]
    }
   ],
   "source": [
    "varA=1\n",
    "varB=2\n",
    "\n",
    "def f():\n",
    "    varA=0\n",
    "    print(varA)\n",
    "    print(varB)\n",
    "\n",
    "f()"
   ]
  },
  {
   "cell_type": "markdown",
   "metadata": {},
   "source": [
    "### d) Exercices"
   ]
  },
  {
   "cell_type": "markdown",
   "metadata": {},
   "source": [
    "1) L'algorithme d'Euclide permet de calculer le pgcd de deux entiers (<a href=\"https://fr.wikipedia.org/wiki/Algorithme_d%27Euclide\">c'est quoi cet algo ?</a>). Implémenter une version récursive de cet algorithme :"
   ]
  },
  {
   "cell_type": "code",
   "execution_count": 55,
   "metadata": {
    "scrolled": true
   },
   "outputs": [],
   "source": [
    "def Euclide(a,b):\n",
    "    if b == 0:\n",
    "        return a\n",
    "    return Euclide(b, a % b)\n",
    "\n",
    "# Tests \"automatique\" pour vérifier le bon fonctionnement\n",
    "assert Euclide(24, 36) == 12\n",
    "assert Euclide(238, 170) == 34"
   ]
  },
  {
   "cell_type": "markdown",
   "metadata": {},
   "source": [
    "2 ) On définit la suite $p_n$ comme suit : $\\left\\{\n",
    "    \\begin{array}{l}\n",
    "      p_0 = 0 \\\\\n",
    "      p_{n+1} = p_n + \\frac{(-1)^n}{2n+1} \\ \\ \\ \\ \\text{pour } n\\geq 1\n",
    "    \\end{array}\n",
    "  \\right.$\n",
    "\n",
    "  Ecrire une fonction qui prend en entrée $n\\in \\mathbb{N}$ et qui renvoie $p_n$. Vers quelle valeur semble converger la suite $(4p_n)_{n\\in \\mathbb{N}}$ ?"
   ]
  },
  {
   "cell_type": "code",
   "execution_count": 56,
   "metadata": {},
   "outputs": [
    {
     "name": "stdout",
     "output_type": "stream",
     "text": [
      "La suite semble converger vers 3.140592653839794\n",
      "La suite semble converger vers 3.1415826535897198\n"
     ]
    }
   ],
   "source": [
    "#une version récursive\n",
    "def p_rec(n):\n",
    "    if n == 0:\n",
    "        return 0\n",
    "    return p_rec(n-1) + (-1)**(n-1)/(2*(n-1)+1)\n",
    "\n",
    "print(f\"La suite semble converger vers {4*p_rec(1000)}\")\n",
    "\n",
    "#une version itérative\n",
    "def p_it(n):\n",
    "    p=0\n",
    "    signe = 1 #(-1)**n, c'est 1, puis -1, puis 1, etc...\n",
    "    for i in range(n):\n",
    "        p = p + signe/(2*i+1)\n",
    "        signe = -signe\n",
    "    return p\n",
    "        \n",
    "print(f\"La suite semble converger vers {4*p_it(100000)}\")"
   ]
  },
  {
   "cell_type": "markdown",
   "metadata": {},
   "source": [
    "<em>Vous reconnaissez les premières décimales de $\\pi$ n'est-ce-pas ?</em>"
   ]
  },
  {
   "cell_type": "markdown",
   "metadata": {},
   "source": [
    "3) Un exercice pour mieux comprendre la portée des variables (CC D. Le Botlan). \n",
    "\n",
    "i) Exécutez le code ci-dessous tel quel. Il affiche 4891 (comprenez comment).\n",
    "\n",
    "ii) Ensuite, on veut que le programme affiche 1984. Vous avez le droit de commenter seulement QUATRE lignes (en insérant un # au début de la ligne). Aucune autre modification n'est autorisée."
   ]
  },
  {
   "cell_type": "code",
   "execution_count": 57,
   "metadata": {},
   "outputs": [
    {
     "name": "stdout",
     "output_type": "stream",
     "text": [
      "1984\n"
     ]
    }
   ],
   "source": [
    "##afin de ne pas subir les affectations des cellules précédemment exécutées\n",
    "%reset -f\n",
    "\n",
    "a = 1000\n",
    "b = 100\n",
    "c = 100\n",
    "d = 1\n",
    "\n",
    "def foo(b):\n",
    "    \n",
    "    c = 1\n",
    "    \n",
    "    def moo():\n",
    "        a = 1\n",
    "        c = 10\n",
    "        \n",
    "    def zoo(a):\n",
    "        a = 1\n",
    "    \n",
    "    def bar(c):\n",
    "        print(a*1 + b*9 + c*8 + d*4)  ## On veut \"1984\"\n",
    "    \n",
    "    # c = 10\n",
    "    # a = 1\n",
    "    moo()\n",
    "    zoo(a)\n",
    "    bar(10 * c)\n",
    "\n",
    "# d = 1000\n",
    "b = 10\n",
    "# c = 10\n",
    "foo(c)"
   ]
  },
  {
   "cell_type": "markdown",
   "metadata": {},
   "source": [
    "## 6) Pour ceux qui s'ennuyent"
   ]
  },
  {
   "cell_type": "markdown",
   "metadata": {},
   "source": [
    "On définit la suite de Fibonacci comme suit :\n",
    "  $$\n",
    "    f_n = \\left\\{\n",
    "      \\begin{array}{cl}\n",
    "        1 & \\text{si } n=0 \\text{ ou } 1 \\\\\n",
    "        f_{n-1} + f_{n-2} & \\text{sinon}\n",
    "      \\end{array}\n",
    "    \\right.\n",
    "  $$\n",
    "i) Ecrire une fonction récursive `fibo_rec` qui calcule $f_n$."
   ]
  },
  {
   "cell_type": "code",
   "execution_count": 58,
   "metadata": {},
   "outputs": [
    {
     "name": "stdout",
     "output_type": "stream",
     "text": [
      "1\n",
      "1\n",
      "2\n",
      "3\n",
      "5\n",
      "8\n",
      "13\n",
      "21\n",
      "34\n",
      "55\n"
     ]
    }
   ],
   "source": [
    "def fibo_rec(n):\n",
    "    if n==0 or n==1 :\n",
    "        return 1\n",
    "    else:\n",
    "        return fibo_rec(n-1)+fibo_rec(n-2)\n",
    "\n",
    "for i in range(10):\n",
    "    print(fibo_rec(i))"
   ]
  },
  {
   "cell_type": "markdown",
   "metadata": {},
   "source": [
    "ii) Ecrire une fonction itérative `fibo_it` qui calcule $f_n$. On pensera à utiliser deux variables temporaires."
   ]
  },
  {
   "cell_type": "code",
   "execution_count": 59,
   "metadata": {},
   "outputs": [
    {
     "name": "stdout",
     "output_type": "stream",
     "text": [
      "1\n",
      "1\n",
      "2\n",
      "3\n",
      "5\n",
      "8\n",
      "13\n",
      "21\n",
      "34\n",
      "55\n"
     ]
    }
   ],
   "source": [
    "def fibo_it(n):\n",
    "    f_courant = 1\n",
    "    f_precedent = 1\n",
    "    for i in range(n-1):\n",
    "        tmp = f_courant\n",
    "        f_courant = f_courant + f_precedent\n",
    "        f_precedent = tmp\n",
    "    return f_courant\n",
    "\n",
    "for i in range(10):\n",
    "    print(fibo_it(i))"
   ]
  },
  {
   "cell_type": "markdown",
   "metadata": {},
   "source": [
    "iii) Comparez l'efficacité de vos deux fonctions expérimentalement. Essayez de comprendre d'où vient une telle différence."
   ]
  },
  {
   "cell_type": "markdown",
   "metadata": {},
   "source": [
    "Si vous lancez  `fibo_rec(100)`, vous devriez déjà avoir des problèmes : le calcul ne se termine pas. Remarquez que :\n",
    "- `fibo_rec(100)` appelle `fibo_rec(99)` et `fibo_rec(98)`,\n",
    "- et `fibo_rec(99)` appelera lui aussi `fibo_rec(98)`. \n",
    "\n",
    "Il y a donc de multiples appels avec le même paramètre mais votre machine n'a aucune raison de s'en rendre compte. On peut montrer que la complexité est exponentielle en le nombre d'or : $O\\left( \\left( \\frac{1+\\sqrt{5}}{2} \\right) ^n\\right)$."
   ]
  },
  {
   "cell_type": "markdown",
   "metadata": {},
   "source": [
    "iv) Soit $C\\in \\mathbb{R}^+$. On définit la suite $(u_n(C))_n$ par $u_0(C)=C$ et $u_{n+1}(C)=\\frac{1}{2}\\left( u_n+\\frac{C}{u_n}\\right)$ pour $n\\geq 1$. Ecrire une fonction qui prend $n\\in\\mathbb{N}$ et $C\\in \\mathbb{R}^+$ en entrée et renvoie $u_n(C)$."
   ]
  },
  {
   "cell_type": "code",
   "execution_count": 60,
   "metadata": {},
   "outputs": [],
   "source": [
    "def heron(n,C):\n",
    "    u = C\n",
    "    for i in range(n):\n",
    "        u = 0.5*(u+C/u)\n",
    "    return u"
   ]
  },
  {
   "cell_type": "markdown",
   "metadata": {},
   "source": [
    "v) Vers quoi la suite semble t'elle converger ?"
   ]
  },
  {
   "cell_type": "code",
   "execution_count": 61,
   "metadata": {},
   "outputs": [
    {
     "name": "stdout",
     "output_type": "stream",
     "text": [
      "2.0\n",
      "3.0\n",
      "4.0\n",
      "1.414213562373095\n",
      "1.7320508075688772\n"
     ]
    }
   ],
   "source": [
    "print(heron(1000,4))\n",
    "print(heron(1000,9))\n",
    "print(heron(1000,16))\n",
    "print(heron(1000,2))\n",
    "print(heron(1000,3))"
   ]
  },
  {
   "cell_type": "markdown",
   "metadata": {},
   "source": [
    "Cette suite semble converger vers $\\sqrt{C}$. C'est l'algorithme de Héron."
   ]
  },
  {
   "cell_type": "markdown",
   "metadata": {},
   "source": [
    "vi) Proposer une fonction qui calcule cette limite. Attention, cette dernière n'est potentiellement jamais atteinte."
   ]
  },
  {
   "cell_type": "code",
   "execution_count": 62,
   "metadata": {},
   "outputs": [
    {
     "data": {
      "text/plain": [
       "31.622776601684336"
      ]
     },
     "execution_count": 62,
     "metadata": {},
     "output_type": "execute_result"
    }
   ],
   "source": [
    "def heron_approx(C):\n",
    "    u = C\n",
    "    change = True #tant que u évolue de manière significative\n",
    "    while change:\n",
    "        u = 0.5*(u+C/u)\n",
    "        if abs(u-0.5*(u+C/u)) < u*10**(-9): #l'exposant permet de régler la précision\n",
    "            change = False\n",
    "    return u\n",
    "\n",
    "heron_approx(1000)"
   ]
  },
  {
   "cell_type": "markdown",
   "metadata": {},
   "source": [
    "vii) On peut montrer que $\\forall n\\in\\mathbb{N}, f_n= \\frac{1}{\\sqrt{5}}\\left( \\phi^n - \\left( -\\frac{1}{\\phi} \\right) ^n \\right)$, avec $\\phi=\\frac{1+\\sqrt{5}}{2}$. Ecrire une fonction `fibo_bis` qui calcule $f_n$."
   ]
  },
  {
   "cell_type": "code",
   "execution_count": 63,
   "metadata": {},
   "outputs": [
    {
     "name": "stdout",
     "output_type": "stream",
     "text": [
      "0\n",
      "1\n",
      "1\n",
      "2\n",
      "3\n",
      "5\n",
      "8\n",
      "13\n",
      "21\n",
      "34\n"
     ]
    }
   ],
   "source": [
    "def fibo_bis(n):\n",
    "    racine_cinq = heron_approx(5)\n",
    "    phi = (1+racine_cinq) / 2\n",
    "    return (1/racine_cinq) * (phi**n - (-1/phi)**n) \n",
    "\n",
    "for i in range(10):\n",
    "    print(round(fibo_bis(i))) #round arrondi à l'entier le plus proche"
   ]
  },
  {
   "cell_type": "markdown",
   "metadata": {},
   "source": [
    "viii) Comparer les valeurs obtenues par `fibo_it` et `fibo_bis`. Une erreur s'est glissée dans l'énoncé, corrigez la."
   ]
  },
  {
   "cell_type": "markdown",
   "metadata": {},
   "source": [
    "On remarque que les deux sont décalées : fibo_it(n) = fibo_bis(n+1). Selon la convention, on définit $f_0=0$ ou $f_0=1$, ce qui décale la suite. On modifie fibo_it pour avoir les mêmes suites."
   ]
  },
  {
   "cell_type": "code",
   "execution_count": 64,
   "metadata": {},
   "outputs": [],
   "source": [
    "def fibo_it(n):\n",
    "    f_courant = 1\n",
    "    f_precedent = 0\n",
    "    for i in range(n-1):\n",
    "        tmp = f_courant\n",
    "        f_courant = f_courant + f_precedent\n",
    "        f_precedent = tmp\n",
    "    return f_courant"
   ]
  },
  {
   "cell_type": "markdown",
   "metadata": {},
   "source": [
    "ix) Comparer expérimentalement les performances de ces deux fonctions."
   ]
  },
  {
   "cell_type": "code",
   "execution_count": 65,
   "metadata": {},
   "outputs": [
    {
     "name": "stdout",
     "output_type": "stream",
     "text": [
      "0.03997611999511719\n",
      "0.0010476112365722656\n"
     ]
    }
   ],
   "source": [
    "import time\n",
    "\n",
    "nb_repet = 1000\n",
    "value = 1000\n",
    "\n",
    "depart = time.time()\n",
    "for i in range(nb_repet):\n",
    "    fibo_it(value)\n",
    "arrivee = time.time()\n",
    "print(arrivee-depart)\n",
    "\n",
    "depart = time.time()\n",
    "for i in range(nb_repet):\n",
    "    fibo_bis(value)\n",
    "arrivee = time.time()\n",
    "print(arrivee-depart)"
   ]
  },
  {
   "cell_type": "markdown",
   "metadata": {},
   "source": [
    "On remarque que la deuxième version est plus rapide. Mais attention, les calculs sont avec des flottants. Si vous augmentez `value`, vous allez tomber sur un dépassement de flottant : contrairement au type `int`, le type `float` est de taille bornée ($64$ bits), comme c'était le cas des entiers dans des versions plus anciennes de Python, ou dans beaucoup d'autres langages."
   ]
  }
 ],
 "metadata": {
  "kernelspec": {
   "display_name": "Python 3 (ipykernel)",
   "language": "python",
   "name": "python3"
  },
  "language_info": {
   "codemirror_mode": {
    "name": "ipython",
    "version": 3
   },
   "file_extension": ".py",
   "mimetype": "text/x-python",
   "name": "python",
   "nbconvert_exporter": "python",
   "pygments_lexer": "ipython3",
   "version": "3.9.13"
  }
 },
 "nbformat": 4,
 "nbformat_minor": 4
}
