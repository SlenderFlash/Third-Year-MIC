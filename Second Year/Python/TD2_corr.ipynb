{
 "cells": [
  {
   "cell_type": "markdown",
   "metadata": {},
   "source": [
    "# Correction de la deuxième séance : types natifs (partie 2)."
   ]
  },
  {
   "cell_type": "markdown",
   "metadata": {},
   "source": [
    "- auteur : <a href=\"mailto:lentz@insa-toulouse.fr\">A. Lentz</a>\n",
    "- date : 2023"
   ]
  },
  {
   "cell_type": "markdown",
   "metadata": {},
   "source": [
    "On continue avec certains types natifs permettant de stocker des collections."
   ]
  },
  {
   "cell_type": "markdown",
   "metadata": {},
   "source": [
    "## 1) Tuples"
   ]
  },
  {
   "cell_type": "markdown",
   "metadata": {},
   "source": [
    "### a) Création et lecture des tuples"
   ]
  },
  {
   "cell_type": "markdown",
   "metadata": {},
   "source": [
    "Comment stocker plusieurs informations dans une seule variable ? A l'instar des types articles en ADA, on peut créer des tuples. En Python, pas besoin de définir le type produit en amont."
   ]
  },
  {
   "cell_type": "code",
   "execution_count": null,
   "metadata": {},
   "outputs": [],
   "source": [
    "couple = (1,2)\n",
    "print(couple)\n",
    "triplet = 3,True,4.5 #les parenthèses sont facultatives, mais est-ce plus lisible ?\n",
    "print(triplet)"
   ]
  },
  {
   "cell_type": "markdown",
   "metadata": {},
   "source": [
    "Un tuple peut contenir n'importe quel type : un tuple peut en cacher un autre."
   ]
  },
  {
   "cell_type": "code",
   "execution_count": null,
   "metadata": {},
   "outputs": [],
   "source": [
    "t1 = (1,2,3)\n",
    "t2 = (4,5,6)\n",
    "t3 = (t1,t2)\n",
    "print(t3)\n",
    "print(t3==(1,2,3,4,5,6))"
   ]
  },
  {
   "cell_type": "markdown",
   "metadata": {},
   "source": [
    "Pour récupérer la valeur d'indice i, on utilise les crochets : `t[i]`. Attention, les indices commencent **toujours** à 0."
   ]
  },
  {
   "cell_type": "code",
   "execution_count": null,
   "metadata": {},
   "outputs": [],
   "source": [
    "tread = (3,6,2,9,10,1)\n",
    "print(tread[0])\n",
    "print(tread[3])\n",
    "print()\n",
    "print(tread[-1]) #se réfère à la dernière case\n",
    "print(tread[-3]) #trois cases en partant de la fin"
   ]
  },
  {
   "cell_type": "markdown",
   "metadata": {},
   "source": [
    "Si on connaît le nombre d'élément d'un tuple, on peut récupérer les éléments en affectant un tuple de variables."
   ]
  },
  {
   "cell_type": "code",
   "execution_count": null,
   "metadata": {},
   "outputs": [],
   "source": [
    "triplet = (1,2,3)\n",
    "a,b,c = triplet\n",
    "print(b)"
   ]
  },
  {
   "cell_type": "markdown",
   "metadata": {},
   "source": [
    "Pour parcourir tous les indices, il faut aussi connaître le nombre d'élements contenu dans le tuple. La fonction `len` est là pour ça. Son nom est une abréviation de <em>length</em>."
   ]
  },
  {
   "cell_type": "code",
   "execution_count": null,
   "metadata": {},
   "outputs": [],
   "source": [
    "tloop1 = (0,2,4,6,8)\n",
    "for i in range(len(tloop1)): #de 0 à len(tloop1)-1\n",
    "    print(tloop1[i])"
   ]
  },
  {
   "cell_type": "markdown",
   "metadata": {},
   "source": [
    "Plutôt que de parcourir les indices, on peut tout simplement itérer sur les valeurs avec la syntaxe suivante :"
   ]
  },
  {
   "cell_type": "code",
   "execution_count": null,
   "metadata": {},
   "outputs": [],
   "source": [
    "tloop2 = (9,-1,True,7,2.3,78)\n",
    "for elmt in tloop2:\n",
    "    print(elmt)"
   ]
  },
  {
   "cell_type": "markdown",
   "metadata": {},
   "source": [
    "Le mot clé `in` permet aussi de tester l'appartenance."
   ]
  },
  {
   "cell_type": "code",
   "execution_count": null,
   "metadata": {},
   "outputs": [],
   "source": [
    "tapp = (1,2,4)\n",
    "print(2 in tapp)\n",
    "print(3 in tapp)\n",
    "print(3 not in tapp)"
   ]
  },
  {
   "cell_type": "markdown",
   "metadata": {},
   "source": [
    "C'est bien pratique pour les conditions des branchements conditionnels et des boucles while. Gardez cependant en tête que ce test d'appartenance cache une boucle sur tous les éléments, pour des questions de performances notamment. \n",
    "\n",
    "**Question :** comptez le nombre d'opérations élémentaires (test d'égalité, affectation, lecture, affichage) que la fonction suivante devrait exécuter si on lui donne un tuple de taille $n$."
   ]
  },
  {
   "cell_type": "code",
   "execution_count": null,
   "metadata": {},
   "outputs": [],
   "source": [
    "def dummy(t):\n",
    "    for x in t:\n",
    "        if x in t:\n",
    "            print(x)"
   ]
  },
  {
   "cell_type": "markdown",
   "metadata": {},
   "source": [
    "Chaque `if x in t` est linéaire, i.e. en $O(n)$ : la recherche de $x$ cache une boucle qui parcourt $t$. Vu que l'on fait une recherche pour chaque élément de $t$ (boucle `for`), il y a $n$ recherches. Donc la complexité totale est en $O(n^2)$."
   ]
  },
  {
   "cell_type": "markdown",
   "metadata": {},
   "source": [
    "### b) Deux exemples d'utilisation"
   ]
  },
  {
   "cell_type": "markdown",
   "metadata": {},
   "source": [
    "Les tuples sont bien pratiques pour renvoyer plusieurs variables à la fois à la fin d'une fonction."
   ]
  },
  {
   "cell_type": "code",
   "execution_count": null,
   "metadata": {},
   "outputs": [],
   "source": [
    "def div_eucl(a,b):\n",
    "    if b==0:\n",
    "        pass #on verra plus tard comment gérer les problèmes\n",
    "    else:\n",
    "        return (a//b,a%b)"
   ]
  },
  {
   "cell_type": "markdown",
   "metadata": {},
   "source": [
    "Petite astuce : on peut échanger le contenu de deux variables sans utiliser de variable temporaire."
   ]
  },
  {
   "cell_type": "code",
   "execution_count": null,
   "metadata": {},
   "outputs": [],
   "source": [
    "a=3\n",
    "b=4\n",
    "a,b = b,a\n",
    "print(a,b)"
   ]
  },
  {
   "cell_type": "markdown",
   "metadata": {},
   "source": [
    "**Question :** Au passage, savez-vous comment échanger le contenu de deux variables entières sans utiliser de variables temporaire, **ni de tuple** ? Rajouter trois lignes après le code suivant est suffisant."
   ]
  },
  {
   "cell_type": "code",
   "execution_count": null,
   "metadata": {},
   "outputs": [],
   "source": [
    "a=3\n",
    "b=4\n",
    "a=a+b\n",
    "b=a-b\n",
    "a=a-b\n",
    "print(a,b)"
   ]
  },
  {
   "cell_type": "markdown",
   "metadata": {},
   "source": [
    "**Exercice :** Soit $n\\in \\mathbb{N^*}$. Ecrire une fonction qui :\n",
    "- prend en entrée deux points de $\\mathbb{R}^n$ sous la forme de tuples de coordonnées, \n",
    "- détermine si la distance euclidienne entre ces deux points est inférieure ou égale à $1$.\n",
    "\n",
    "C'est quoi déjà la distance euclidienne ? Pythagore, ça vous rappelle quelque chose ? <a href=https://fr.wikipedia.org/wiki/Distance_(math%C3%A9matiques)#Distance_sur_des_espaces_vectoriels>La formule que vous devez utiliser.</a> Non, vous n'aurez pas besoin de calculer de racine carrée. "
   ]
  },
  {
   "cell_type": "code",
   "execution_count": 1,
   "metadata": {},
   "outputs": [
    {
     "name": "stdout",
     "output_type": "stream",
     "text": [
      "False\n",
      "True\n",
      "True\n"
     ]
    }
   ],
   "source": [
    "def dist_eucl(t1,t2):\n",
    "    if len(t1)!=len(t2) :#on peut déjà tester si les tuples sont bien de même taille\n",
    "        pass\n",
    "    else :\n",
    "        sum=0\n",
    "        for i in range(len(t1)): #on parcourt toutes les coordonnées\n",
    "            sum = sum + (t1[i]-t2[i])**2\n",
    "        return sum <= 1 #équivalent à racine(sum) <= 1 car sum>=0 par définition\n",
    "    \n",
    "print(dist_eucl((0,0),(4,0)))\n",
    "print(dist_eucl((0,0),(0,1)))\n",
    "print(dist_eucl((-1,1),(-0.5,0.5)))"
   ]
  },
  {
   "cell_type": "markdown",
   "metadata": {},
   "source": [
    "### c) Méthodes"
   ]
  },
  {
   "cell_type": "markdown",
   "metadata": {},
   "source": [
    "Les tuples sont munis de méthodes. Ce sont des fonctions que l'on utilise de la sorte : `mon_tuple.nom_methode(arg1,...)` au lieu de `nom_fonction(mon_tuple,arg1,...)`. Vous aurez en 3ème année un cours de programmation orientée objet (avec C++ en GMM, et Java en IR) qui vous présentera proprement ce sujet. Pour l'instant, retenez simplement cette syntaxe.\n",
    "\n",
    "Pour récupérer toutes les méthodes associées à un type, on utilise la fonction `dir`."
   ]
  },
  {
   "cell_type": "code",
   "execution_count": null,
   "metadata": {},
   "outputs": [],
   "source": [
    "dir(tuple)"
   ]
  },
  {
   "cell_type": "markdown",
   "metadata": {},
   "source": [
    "Regardons en détail la méthode `count`."
   ]
  },
  {
   "cell_type": "code",
   "execution_count": null,
   "metadata": {},
   "outputs": [],
   "source": [
    "help(tuple.count)"
   ]
  },
  {
   "cell_type": "markdown",
   "metadata": {},
   "source": [
    "**Question :** utiliser `count` pour déterminer combien de fois apparaissent 1, 3 et -2 dans `mon_tuple`. Sauriez-vous réimplémenter `count` (pas en tant que méthode bien sûr) ?"
   ]
  },
  {
   "cell_type": "code",
   "execution_count": null,
   "metadata": {
    "scrolled": true
   },
   "outputs": [],
   "source": [
    "mon_tuple = (1,4,3,9,-4,3,8,2,3,7,16,3)\n",
    "print(mon_tuple.count(1))\n",
    "print(mon_tuple.count(3))\n",
    "print(mon_tuple.count(-2))"
   ]
  },
  {
   "cell_type": "markdown",
   "metadata": {},
   "source": [
    "### d) Opérations sur les tuples"
   ]
  },
  {
   "cell_type": "markdown",
   "metadata": {},
   "source": [
    "On ne peut pas modifier le contenu d'un tuple. Il faut le réaffecter entièrement. On dit que c'est un type non mutable (on verra cette notion plus en détail au TD 4)."
   ]
  },
  {
   "cell_type": "code",
   "execution_count": null,
   "metadata": {
    "scrolled": true
   },
   "outputs": [],
   "source": [
    "t = (1,2)\n",
    "t[0] = 3"
   ]
  },
  {
   "cell_type": "markdown",
   "metadata": {},
   "source": [
    "Mais on peut ajouter des éléments à un tuple de la façon suivante :"
   ]
  },
  {
   "cell_type": "code",
   "execution_count": 2,
   "metadata": {},
   "outputs": [
    {
     "name": "stdout",
     "output_type": "stream",
     "text": [
      "(1, 2, 3, 4)\n",
      "(1, 2, 3, 4)\n"
     ]
    }
   ],
   "source": [
    "t1=(1,2)\n",
    "t2=(3,4)\n",
    "\n",
    "tplus = t1+t2 #concatenation de deux tuples\n",
    "print(tplus)\n",
    "tadd = t1.__add__(t2) #même chose avec la méthode __add__ qu'on a vu précédemment dans la liste des méthodes\n",
    "print(tadd)"
   ]
  },
  {
   "cell_type": "markdown",
   "metadata": {},
   "source": [
    "Et si on ne veut rajouter qu'un seul élément ? Il faut créer un tuple ne contenant que cet élément. Pour se faire, ajoutez une virgule :"
   ]
  },
  {
   "cell_type": "code",
   "execution_count": 3,
   "metadata": {},
   "outputs": [
    {
     "name": "stdout",
     "output_type": "stream",
     "text": [
      "<class 'int'>\n",
      "<class 'tuple'>\n",
      "(1, 2, 3, 4)\n",
      "((1, 2, 3), (4,))\n",
      "\n",
      "(1, 2, 3, 5)\n"
     ]
    }
   ],
   "source": [
    "t1=(1,2,3)\n",
    "\n",
    "t2=(4) #c'est un int et non un tuple !\n",
    "t3=(4,)\n",
    "\n",
    "print(type(t2))\n",
    "print(type(t3))\n",
    "\n",
    "#print(t1+t2) #problème : (4) est l'int 4 et non le tuple ne contenant que 4\n",
    "print(t1+t3)\n",
    "print((t1,t3)) #attention, différent\n",
    "\n",
    "print()\n",
    "#technique alternative avec l'utilisation de l'étoile pour \"dépacker\" les éléments d'un tuple\n",
    "tother = (*t1,5)\n",
    "print(tother)"
   ]
  },
  {
   "cell_type": "markdown",
   "metadata": {},
   "source": [
    "Quelques opérations supplémentaires (slice) :\n",
    "- `t[deb:fin]` : renvoie le sous-tuple des indices deb (inclus) à fin (exclus),\n",
    "- `t[:fin]` : équivalent à `t[0:fin]`,\n",
    "- `t[deb:]` : équivalent à `t[deb:len(t)]`\n",
    "- `t[deb:fin:pas]` : ne prend qu'un élément tous les pas élements. De même qu'avec les deux cas précédents, deb et fin sont facultatifs."
   ]
  },
  {
   "cell_type": "code",
   "execution_count": 4,
   "metadata": {},
   "outputs": [
    {
     "name": "stdout",
     "output_type": "stream",
     "text": [
      "[13, 2, 23]\n",
      "[19, 7, 13, 2]\n",
      "[27, 3]\n",
      "[19, 7, 13, 2, 23, 5, 17, 29, 11, 27]\n",
      "[19, 13]\n",
      "[13, 23, 17, 11, 3]\n"
     ]
    }
   ],
   "source": [
    "t = [19,7,13,2,23,5,17,29,11,27,3] #trouvez est l'intrus !\n",
    "\n",
    "print(t[2:5])\n",
    "print(t[:4])\n",
    "print(t[9:])\n",
    "\n",
    "print(t[:-1]) # t privé de son dernier élément\n",
    "\n",
    "print(t[0:4:2])\n",
    "print(t[2::2]) # \"équivalent à t[2:len(t):2], ne pas confondre avec t[2:2]"
   ]
  },
  {
   "cell_type": "markdown",
   "metadata": {},
   "source": [
    "**Petit exercice :** écrire une fonction qui prend un tuple en entrée et qui renvoie un tuple contenant les mêmes éléments mais dans l'ordre inverse."
   ]
  },
  {
   "cell_type": "code",
   "execution_count": null,
   "metadata": {},
   "outputs": [],
   "source": [
    "def inv(t):\n",
    "    return t[::-1] #on met un pas de -1 pour inverser le sens de parcours\n",
    "\n",
    "print(inv((1,2,3,4)))"
   ]
  },
  {
   "cell_type": "markdown",
   "metadata": {},
   "source": [
    "## 2) Listes"
   ]
  },
  {
   "cell_type": "markdown",
   "metadata": {},
   "source": [
    "Ne pas pouvoir modifier directement les éléments d'un tuple est parfois trop rigide. Pour stocker une séquence, le type **list** propose une alternative dynamique."
   ]
  },
  {
   "cell_type": "markdown",
   "metadata": {},
   "source": [
    "### a) Un type qui ressemble beaucoup aux tuples"
   ]
  },
  {
   "cell_type": "markdown",
   "metadata": {},
   "source": [
    "La syntaxe est (presque) la même que pour les tuples. Au lieu des parenthèses, on utilise des crochets `[]`."
   ]
  },
  {
   "cell_type": "code",
   "execution_count": null,
   "metadata": {
    "scrolled": true
   },
   "outputs": [],
   "source": [
    "ma_liste = [] #liste vide\n",
    "ma_liste = list() #syntaxe équivalente\n",
    "print(ma_liste)\n",
    "\n",
    "ma_liste = [2,5,8,10]\n",
    "print(ma_liste)"
   ]
  },
  {
   "cell_type": "markdown",
   "metadata": {},
   "source": [
    "**Remarque :** on peut avoir plusieurs types dans une même liste. Mais ce n'est pas toujours une bonne pratique."
   ]
  },
  {
   "cell_type": "code",
   "execution_count": null,
   "metadata": {},
   "outputs": [],
   "source": [
    "ma_liste = [1,True,(4,2),[1,False],()]\n",
    "print(ma_liste)"
   ]
  },
  {
   "cell_type": "markdown",
   "metadata": {},
   "source": [
    "Pour manipuler les listes, on retrouve la même syntaxe que pour les tuples. Que fait cette fonction ?"
   ]
  },
  {
   "cell_type": "code",
   "execution_count": null,
   "metadata": {},
   "outputs": [],
   "source": [
    "def f(ma_liste):\n",
    "    if(len(ma_liste)>0): #pourquoi faire ce test ?\n",
    "        z = ma_liste[0]\n",
    "        for x in ma_liste:\n",
    "            if(x<z):\n",
    "                z=x\n",
    "        return z"
   ]
  },
  {
   "cell_type": "markdown",
   "metadata": {},
   "source": [
    "La fonction précédente calcule le minimum d'une liste non vide. La variable `z` contient le minimum vu pour l'instant. On peut l'initialiser avec n'importe quelle valeur de la liste (ici la première) car elles sont toutes supérieures ou égales au minimum. C'est pourquoi il faut vérifier que la liste est non vide. La fonction `min` existe déjà en Python."
   ]
  },
  {
   "cell_type": "markdown",
   "metadata": {},
   "source": [
    "La syntaxe des slices `ma_liste[deb:fin:pas]` vue pour les tuples est aussi valide pour les listes.\n",
    "\n",
    "**Exercice :** \n",
    "\n",
    "Ecrire une fonction qui :\n",
    "- prend en entrée une matrice sous la forme de liste de listes, et deux couples d'indices (iMin,iMax), (jMin,jMax),\n",
    "- affiche la sous-matrice ne contenant que les lignes de iMin à iMax et les colonnes de jMin à jMax. \n",
    "\n",
    "Prenons l'exemple suivant pour bien comprendre :\n",
    "- en entrée la matrice $\n",
    "\\begin{pmatrix}\n",
    "    0 & 1 & 2 & 3\\\\\n",
    "    4 & 5 & 6 & 7 \\\\\n",
    "    8 & 9 & 10 & 11 \\\\\n",
    "    12 & 13 & 14 & 15 \\\\\n",
    "    16 & 17 & 18 & 19 \n",
    "\\end{pmatrix}\n",
    "$\n",
    "et les deux couples $(1,3),(1,2)$,\n",
    "- en sortie $\n",
    "\\begin{pmatrix}\n",
    "    5 & 6 \\\\\n",
    "    9 & 10 \\\\\n",
    "    13 & 14\n",
    "\\end{pmatrix}\n",
    "$.\n",
    "\n",
    "On fait commencer les indices à 0 et un affichage des sous-listes ligne par ligne est suffisant."
   ]
  },
  {
   "cell_type": "code",
   "execution_count": 5,
   "metadata": {},
   "outputs": [
    {
     "name": "stdout",
     "output_type": "stream",
     "text": [
      "[5, 6]\n",
      "[9, 10]\n",
      "[13, 14]\n",
      "[5, 6]\n",
      "[9, 10]\n",
      "[13, 14]\n"
     ]
    }
   ],
   "source": [
    "m=[\n",
    "   [0,1,2,3],\n",
    "   [4,5,6,7],\n",
    "   [8,9,10,11],\n",
    "   [12,13,14,15],\n",
    "   [16,17,18,19]\n",
    "]\n",
    "\n",
    "def sub_mat(m,couple_i,couple_j):\n",
    "    for ligne in range(couple_i[0],couple_i[1]+1):\n",
    "        print(m[ligne][couple_j[0]:couple_j[1]+1])\n",
    "\n",
    "sub_mat(m,(1,3),(1,2))\n",
    "#attendu pour f(m,(1,3),(1,2))\n",
    "print([5,6])\n",
    "print([9,10])\n",
    "print([13,14])"
   ]
  },
  {
   "cell_type": "markdown",
   "metadata": {},
   "source": [
    "L'exercice précédent vous a permis de voir une représentation classique des matrices en informatique. Mais pourquoi ne pas avoir utilisé des tuples ? Il est souvent utile de pouvoir modifier les coefficients d'une matrice. Ce qui nous amène la spécificité du type **list**. "
   ]
  },
  {
   "cell_type": "markdown",
   "metadata": {},
   "source": [
    "### b) Modification des listes"
   ]
  },
  {
   "cell_type": "markdown",
   "metadata": {},
   "source": [
    "Cette fois, l'affectation marche pour le contenu d'une liste. On dit que c'est un type <em>mutable</em>."
   ]
  },
  {
   "cell_type": "code",
   "execution_count": 6,
   "metadata": {
    "scrolled": true
   },
   "outputs": [
    {
     "name": "stdout",
     "output_type": "stream",
     "text": [
      "[True, False, True]\n",
      "[8.1, False, True]\n"
     ]
    }
   ],
   "source": [
    "ma_liste = [True,True,True]\n",
    "ma_liste[1] = False\n",
    "print(ma_liste)\n",
    "ma_liste[0]=8.1\n",
    "print(ma_liste)"
   ]
  },
  {
   "cell_type": "markdown",
   "metadata": {},
   "source": [
    "On peut concaténer des listes avec `+`. Vous pourrez donc parfois trouver la même syntaxe que pour l'incrément d'un entier."
   ]
  },
  {
   "cell_type": "code",
   "execution_count": 7,
   "metadata": {},
   "outputs": [
    {
     "name": "stdout",
     "output_type": "stream",
     "text": [
      "[1, 2, 3, 4, 5]\n",
      "[1, 2, 3, 4, 5]\n"
     ]
    }
   ],
   "source": [
    "l1 = [1,2,3]\n",
    "l2 = [4,5]\n",
    "print(l1+l2) #ne modifie rien\n",
    "l1+=l2 #modifie l1, équivalent à l1 = l1 + l2\n",
    "print(l1)"
   ]
  },
  {
   "cell_type": "markdown",
   "metadata": {},
   "source": [
    "### c) Les méthodes"
   ]
  },
  {
   "cell_type": "markdown",
   "metadata": {},
   "source": [
    "Comment afficher la liste des méthodes du type **list** ?"
   ]
  },
  {
   "cell_type": "code",
   "execution_count": null,
   "metadata": {},
   "outputs": [],
   "source": [
    "dir(list)"
   ]
  },
  {
   "cell_type": "markdown",
   "metadata": {},
   "source": [
    "On illustre le fonctionnement des certaines d'entre elles."
   ]
  },
  {
   "cell_type": "code",
   "execution_count": 8,
   "metadata": {},
   "outputs": [
    {
     "name": "stdout",
     "output_type": "stream",
     "text": [
      "[7, 19, 7, 1]\n",
      "[7, 19, 7, 1, 8]\n",
      "[7, 19, 0, 7, 1, 8]\n",
      "[7, 19, 0, 1, 8]\n",
      "[7, 19, 0, 8]\n"
     ]
    }
   ],
   "source": [
    "l = [7,19,7,1]\n",
    "print(l)\n",
    "l.append(8)\n",
    "print(l)\n",
    "l.insert(2,0)\n",
    "print(l)\n",
    "l.pop(3)\n",
    "print(l)\n",
    "l.remove(1)\n",
    "print(l)"
   ]
  },
  {
   "cell_type": "markdown",
   "metadata": {},
   "source": [
    "**Exercice :** reprenez la question 3 de l'exercice à propos de la suite de Syracuse du TD1. Fichier, ouvrir, choisir le TD1 qui est a priori dans le même dossier. On veut cette fois une fonction qui renvoie la liste des $S_C$."
   ]
  },
  {
   "cell_type": "code",
   "execution_count": null,
   "metadata": {},
   "outputs": [],
   "source": [
    "def syracuse(C):\n",
    "    \"\"\"\n",
    "    Calcul le premier rang S_C pour lequel la suite de Syracuse de paramètre C vaut 1\n",
    "    \"\"\"\n",
    "    u=C\n",
    "    rang=0\n",
    "    while(u!=1):\n",
    "        rang+=1  #n devient n+1\n",
    "        if(u%2==0): #si u_n pair\n",
    "           u=u/2\n",
    "        else:  #si u_n impair\n",
    "            u=3*u+1\n",
    "    return rang\n",
    "\n",
    "def liste_syra(N):\n",
    "    \"\"\"\n",
    "    Renvoie la liste des S_C pour C de 1 à N\n",
    "    \"\"\"\n",
    "    liste_SC = []\n",
    "    for C in range(1,N+1): #N+1 pour inclure N\n",
    "        liste_SC.append(syracuse(C))\n",
    "    return liste_SC\n",
    "\n",
    "print(liste_syra(20))"
   ]
  },
  {
   "cell_type": "markdown",
   "metadata": {},
   "source": [
    "### d) Trier devient facile :"
   ]
  },
  {
   "cell_type": "markdown",
   "metadata": {},
   "source": [
    " Deux techniques :\n",
    "- `sorted` : fonction qui prend la liste à trier en paramètre et renvoie une copie triée. La liste initiale n'est pas modifiée.\n",
    "- `sort` : méthode qui ne prend pas de paramètre et trie la liste."
   ]
  },
  {
   "cell_type": "code",
   "execution_count": null,
   "metadata": {},
   "outputs": [],
   "source": [
    "l = [7,19,0,1,8]\n",
    "print(l)\n",
    "\n",
    "print()\n",
    "\n",
    "l_sorted = sorted(l) #ne modifie pas l\n",
    "print(l)\n",
    "print(l_sorted)\n",
    "\n",
    "print()\n",
    "\n",
    "l.sort() #modifie l\n",
    "print(l)"
   ]
  },
  {
   "cell_type": "markdown",
   "metadata": {},
   "source": [
    "Vous vous souvenez que trier n'est pas trivial. Il faut donc être vigilant : l'appel à ces deux fonctions n'est pas une opération élémentaire et les utiliser de façon répétée sur de grandes listes peut impacter les performances de votre programme."
   ]
  },
  {
   "cell_type": "markdown",
   "metadata": {},
   "source": [
    "**Exercice : un tri efficace.** \n",
    "\n",
    "1)Dans un premier temps, on se donne une liste composée uniquement de $0$ et de $1$. Proposer une technique pour trier cette liste efficacement : on ne doit la parcourir que deux fois. Une pour lire, une pour modifier.\n",
    "\n",
    "<em>On en profite pour introduire une fonction bien pratique pour les tests : `assert`. Cette dernière prend une condition en paramètre. Si la condition est vérifiée, rien ne se passe. Sinon, paf ! On peut donc écrire `assert(f(x)==y)` si on veut que f(x) renvoie y.</em>"
   ]
  },
  {
   "cell_type": "code",
   "execution_count": null,
   "metadata": {},
   "outputs": [],
   "source": [
    "liste01 = [1,0,0,1,1,1,0,1,0,1,0,0,1]\n",
    "\n",
    "#on compte combien de 0 et de 1 il y a dans la liste\n",
    "nb0 = 0\n",
    "nb1 = 0\n",
    "for x in liste01: \n",
    "    if x==0:\n",
    "        nb0 += 1\n",
    "    else:\n",
    "        nb1 += 1\n",
    "    \n",
    "#puis on place les 0 au début, les 1 à la fin\n",
    "#ces deux dernières boucles cumulées ne font qu'un seul parcours\n",
    "for i in range(nb0): #on place nb0 0\n",
    "    liste01[i] = 0\n",
    "for i in range(nb1): #puis nb1 1\n",
    "    liste01[nb0+i] = 1\n",
    "        \n",
    "assert(liste01==sorted(liste01)) #on vérifie qu'on a bien trié liste01\n",
    "#normalement, pas d'AssertionError"
   ]
  },
  {
   "cell_type": "markdown",
   "metadata": {},
   "source": [
    "2) Maintenant, la liste àtrier peut contenir des entiers naturels strictement inférieurs à $K\\in \\mathbb{N}$, une borne. Reprendre l'idée utilisée à la question précédente pour trier cette liste. La liste ne doit **pas être parcourue plus de deux fois**."
   ]
  },
  {
   "cell_type": "code",
   "execution_count": null,
   "metadata": {},
   "outputs": [],
   "source": [
    "K=10 #tous les éléments sont < K\n",
    "liste = [0,8,6,2,9,1,2,1,0,2,8,9,0,5,2,7,5,2,3,1,8,7,4,7,4,6,1,0,8,0,2,3]\n",
    "\n",
    "#on initialise l_count : l_count[i] contient le nombre de fois que i a été vu dans liste\n",
    "l_count = []\n",
    "for i in range(K):\n",
    "    l_count.append(0)\n",
    "    \n",
    "for val in liste:\n",
    "    l_count[val] += 1 #x a été vu une fois de plus\n",
    "\n",
    "#on modifie le contenu de liste en écrivant les 0, puis les 1, puis les 2, etc...\n",
    "    \n",
    "pos=0 #curseur sur la position où l'on est entrain d'écrire dans liste\n",
    "for val in range(K):\n",
    "    for i in range(l_count[val]): #on recopie l_count[val] fois la valeur val\n",
    "        liste[pos] = val\n",
    "        pos += 1\n",
    "\n",
    "assert(liste==sorted(liste))"
   ]
  },
  {
   "cell_type": "markdown",
   "metadata": {},
   "source": [
    "Bravo, vous avez découvert le tri par dénombrement. Ce tri est particulièrement intéressant quand $K$ est très petit devant la taille de la liste."
   ]
  },
  {
   "cell_type": "markdown",
   "metadata": {},
   "source": [
    "### d) Implémentation du type list"
   ]
  },
  {
   "cell_type": "markdown",
   "metadata": {},
   "source": [
    "En voyant le mot liste, vous avez peut-être pensé aux listes chaînées que vous avez vu en algo-prog. Attention, les listes sont plus générales. Il s'agit de ce qu'on appelle un type abstrait (grossièrement un contenu et des fonctions élémentaires permettant de manipuler ce contenu). Cela indépendamment de l'implémentation. Plus de détails <a href=https://fr.wikipedia.org/wiki/Liste_(informatique)>ici</a>.\n",
    "\n",
    "Deux grandes versions des listes :\n",
    "- les tableaux,\n",
    "- les listes chaînées.\n",
    "\n",
    "En Python, le type `list` correspond à un **tableau**. Attention, ce n'est pas toujours le cas : en Ocaml, ce sont des **listes chaînées**."
   ]
  },
  {
   "cell_type": "markdown",
   "metadata": {},
   "source": [
    "Mais du coup, un tableau, c'est pas rigide ? On peut rajouter des éléments ? Pourquoi on nous embête en ADA ? Les cases d'un tableau sont contigües, c'est à dire à la suite dans la mémoire. C'est pourquoi on peut facilement accéder à une case en connaissant son indice.\n",
    "\n",
    "Les problèmes des cases contigües arrivent quand on veut ajouter ou supprimer un élément. \n",
    "- Premier problème : <em>il faut utiliser une case de plus en mémoire.</em> Et pas n'importe laquelle : celle juste après la dernière du tableau en mémoire afin que la mémoire utilisée reste contigüe. Si cette case n'a pas été réservée à l'avance (et c'est souvent imprévisible), elle peut ne pas être disponible : elle peut être utilisée par une autre variable. Il faut donc réserver un nouveau tableau assez grand, et tout y copier.\n",
    "- Deuxième problème : si on veut ajouter un élément au milieu, <em>il faut décaler tous les éléments après</em> (vous avez fait ça durant l'examen d'algo-prog !). Les méthodes `insert`, `pop` `remove` ne sont donc pas si triviales.\n",
    "\n",
    "Cette technique est très coûteuse. Une variante est la suivante. Une liste est :\n",
    "- un ensemble de cases utilisées,\n",
    "- un ensemble de cases reservées (incluant celles utilisées).\n",
    "\n",
    "Lors de l'ajout d'un élément dans une liste :\n",
    "- si il reste des cases reservées mais non utilisées, on en utilise une de plus,\n",
    "- sinon, on réserve un nombre de cases bien plus important et on copie le contenu de l'ancienne liste dedans.\n",
    "\n",
    "De cette façon, on ne copie le tableau que peu de fois, et le coût moyen est fortement amoindri. \n",
    "\n",
    "**C'est cette technique qui est retenue en Python : les listes sont des tableaux dynamiques. C'est à dire des cases contigües. Et agrandir une liste cache parfois une copie. En moyenne, ces copies sont peu coûteuses, n'ayez donc pas peur d'utiliser `append`**\n",
    "\n",
    "**Question :** on insère $n$ éléments dans une liste vide. Evaluer le nombre de copie d'éléments si on réserve un nouveau tableau à chaque insertion. Et si on réserve un tableau deux fois plus grand dès que nécessaire (espace réservé = 2, puis 4, puis 8, etc...). Trouver quelle tailles utilise Python."
   ]
  },
  {
   "cell_type": "markdown",
   "metadata": {},
   "source": [
    "- Si on copie le tableau à chaque insertion, on va copier 1 élément, puis 2, puis 3, etc... jusqu'à n-1. Le nombre total de copie est :\n",
    "$$\\sum\\limits_{k=1}^{n-1}{k} = \\frac{n(n-1)}{2} = O(n^2).$$\n",
    "- Si on réserve à chaque fois deux fois plus d'espace, on ne copie le tableau que quand il contient une puissance de $2$ éléments : \n",
    "$$\\sum\\limits_{i=1}^{\\lfloor\\log_2(n-1)\\rfloor}{2^i} < 2^{\\lfloor\\log_2(n-1)\\rfloor +1} - 1 < 2n = O(n).$$\n",
    "C'est beaucoup plus efficace."
   ]
  },
  {
   "cell_type": "markdown",
   "metadata": {},
   "source": [
    "## 3) Chaînes de caractère"
   ]
  },
  {
   "cell_type": "markdown",
   "metadata": {},
   "source": [
    "Un cas particulier des listes est la liste de caractères. C'est le type **string**. L'utilisation est similaire aux deux types de collections précédentes."
   ]
  },
  {
   "cell_type": "code",
   "execution_count": null,
   "metadata": {},
   "outputs": [],
   "source": [
    "mot = \"coucou\"\n",
    "autre_mot = 'holà' #syntaxe équivalente\n",
    "phrase = 'Michael Scott once said \"Wikipedia is the best thing ever. \\\n",
    "Anyone in the world can write anything they want about any subject so you know \\\n",
    "you are getting the best possible information.\"'\n",
    "autre_phrase = \"\"\"He also said \"I'm not superstitious, \n",
    "                  but I am a little 'stitious'\" \"\"\"   #multilines string\n",
    "print(\"mot =\", mot)\n",
    "print(\"autre_mot =\",autre_mot)\n",
    "print(\"phrase =\",phrase)\n",
    "print(\"autre_phrase =\",autre_phrase)"
   ]
  },
  {
   "cell_type": "markdown",
   "metadata": {},
   "source": [
    "Quelques manipulations :"
   ]
  },
  {
   "cell_type": "code",
   "execution_count": null,
   "metadata": {},
   "outputs": [],
   "source": [
    "mot = \"coucou\"\n",
    "print(mot[2:5])\n",
    "print(mot[1:][:4]) #ça se simplifie en un seul slice non ? Pouvez vous trouver un cas où il est nécessaire d'utiliser deux slices ?\n",
    "print(mot[1:3]+mot[4:len(mot)])\n",
    "print(\"ligne1\\nligne2\") # \\n correspond à un saut à la ligne"
   ]
  },
  {
   "cell_type": "markdown",
   "metadata": {},
   "source": [
    "**Deux différences majeures avec ADA :**\n",
    "- Il n'y a pas de type pour les caractères. Un seul caractère est de type `string`. Les chaînes de caractères ne sont donc pas des collections à proprement parler.\n",
    "- Les strings sont non mutables : on ne peut pas les modifier. `mot[i]='x'` va donc mettre en colère votre interpréteur si `mot` est un `string`."
   ]
  },
  {
   "cell_type": "markdown",
   "metadata": {},
   "source": [
    "**Exercice :** écrire une fonction qui prend en paramètre deux chaînes de caractères `phrase` et `motif`. Cette fonction détermine si `motif` est un motif de `phrase`, c'est à dire si il apparaît dedans (consécutivement).\n",
    "\n",
    "<em>Ici, pour l'utilisation d'`assert`, pas besoin d'égalité : la fonction renvoie déjà un booléen.</em>"
   ]
  },
  {
   "cell_type": "code",
   "execution_count": null,
   "metadata": {},
   "outputs": [],
   "source": [
    "def sous_mot(phrase, motif):\n",
    "    #on va comparer phrase[i:len(motif)] avec motif, pour tout i tel que le slice soit de la bonne taille\n",
    "    for i in range(len(phrase)-len(motif)):\n",
    "        if motif==phrase[i:i+len(motif)]:\n",
    "            return True\n",
    "    return False\n",
    "\n",
    "\n",
    "#deux tests\n",
    "assert(sous_mot(\"Deux trains qui se cachent mutuellement s'annulent.\", \"cachent\"))\n",
    "assert(not sous_mot(\"La musique, c'est du bruit qui pense.\", \"tecktonik\"))\n",
    "#qui a dit ça ?"
   ]
  },
  {
   "cell_type": "markdown",
   "metadata": {},
   "source": [
    "Une solution technique mais efficace à ce problème est l'algorithme KMP : <a href=https://fr.wikipedia.org/wiki/Algorithme_de_Knuth-Morris-Pratt>lien</a>. N'hésitez à pas jeter un oeil mais ne l'apprenez pas par coeur."
   ]
  },
  {
   "cell_type": "markdown",
   "metadata": {},
   "source": [
    "## 4) Dictionnaires"
   ]
  },
  {
   "cell_type": "markdown",
   "metadata": {},
   "source": [
    "Une dernière collection très importante est le dictionnaire. Ce dernier permet de :\n",
    "- stocker des couples (clé,valeur),\n",
    "- retrouver facilement la valeur associée à une clé. \n",
    "\n",
    "Le deuxième point est fondamental : sans cela, on pourrait tout simplement stocker les couples dans une liste."
   ]
  },
  {
   "cell_type": "markdown",
   "metadata": {},
   "source": [
    "### a) Syntaxe"
   ]
  },
  {
   "cell_type": "markdown",
   "metadata": {},
   "source": [
    "On commence par la syntaxe permettant d'initialiser un dictionnaire. Ici, les clés sont des `int` et les valeurs associées sont des `string`."
   ]
  },
  {
   "cell_type": "code",
   "execution_count": null,
   "metadata": {},
   "outputs": [],
   "source": [
    "mon_dict = dict()\n",
    "# mon_dict = {} #syntaxe équivalente\n",
    "\n",
    "#création avec un contenu\n",
    "mon_dict = {\n",
    "    20 : \"vingt\",\n",
    "    13 : \"vin\",\n",
    "    781032 : \"vain\",\n",
    "    -182083 : \"vint\"\n",
    "}\n",
    "print(mon_dict)"
   ]
  },
  {
   "cell_type": "markdown",
   "metadata": {},
   "source": [
    "Quelques exemples de manipulations (affectation/lecture) :"
   ]
  },
  {
   "cell_type": "code",
   "execution_count": null,
   "metadata": {},
   "outputs": [],
   "source": [
    "mon_dict = dict()\n",
    "mon_dict[(\"Paris\",\"Bordeaux\")] = 3.5\n",
    "mon_dict[(\"Paris\",\"Lyon\")] = 2\n",
    "mon_dict[(\"Bordeaux\",\"Lyon\")] = mon_dict[(\"Paris\",\"Bordeaux\")] + mon_dict[(\"Paris\",\"Lyon\")] \n",
    "mon_dict[(\"Toulouse\",\"Marseille\")]  = 90\n",
    "print(mon_dict)\n",
    "mon_dict[(\"Paris\",\"Bordeaux\")] = 2\n",
    "print(mon_dict)"
   ]
  },
  {
   "cell_type": "markdown",
   "metadata": {},
   "source": [
    "**Remarque :** Seuls certains types peuvent être utilisés en tant que clé d'un dictionnaire. \n",
    "- Les types suivants sont utilisables : `int`, `float`, `bool` (est-ce très utile ?), `tuple` et `string`.\n",
    "- Les types suivants ne peuvent pas être des clés : `list` et `dict`.\n",
    "\n",
    "Nous verrons plus tard que c'est dû à la nature mutable du type."
   ]
  },
  {
   "cell_type": "markdown",
   "metadata": {},
   "source": [
    "### b) Parcours d'un dictionnaire"
   ]
  },
  {
   "cell_type": "markdown",
   "metadata": {},
   "source": [
    "Pour parcourir un dictionnaire, on a trois méthodes essentielles :\n",
    "- `keys()` permet de récupérer les clés,\n",
    "- `values()` les valeurs,\n",
    "- `items()` les couples (clé,valeur).\n",
    "\n",
    "Si on itère sur le dictionnaire tout court, l'itération se fait sur les clés."
   ]
  },
  {
   "cell_type": "code",
   "execution_count": 1,
   "metadata": {},
   "outputs": [
    {
     "name": "stdout",
     "output_type": "stream",
     "text": [
      "Premier affichage des clés\n",
      "1\n",
      "2\n",
      "3\n",
      "\n",
      "Deuxième affichage des clés\n",
      "1\n",
      "2\n",
      "3\n",
      "\n",
      "Affichage des valeurs\n",
      "mot1\n",
      "mot2\n",
      "mot3\n",
      "\n",
      "Affichage des couples (clé,valeurs)\n",
      "Clé : 1 et Valeur : mot1\n",
      "Clé : 2 et Valeur : mot2\n",
      "Clé : 3 et Valeur : mot3\n"
     ]
    }
   ],
   "source": [
    "mon_dict = {1 : \"mot1\", 2 : \"mot2\",3 : \"mot3\"}\n",
    "\n",
    "print(\"Premier affichage des clés\")\n",
    "for k in mon_dict:\n",
    "    print(k)\n",
    "    \n",
    "print(\"\\nDeuxième affichage des clés\")    \n",
    "for k in mon_dict.keys():\n",
    "    print(k)\n",
    "    \n",
    "print(\"\\nAffichage des valeurs\")\n",
    "for v in mon_dict.values():\n",
    "    print(v)\n",
    "    \n",
    "print(\"\\nAffichage des couples (clé,valeurs)\")    \n",
    "for (k,v) in mon_dict.items():\n",
    "    print(\"Clé :\", k, \"et Valeur :\", v)"
   ]
  },
  {
   "cell_type": "markdown",
   "metadata": {},
   "source": [
    "**Remarque :** selon la version de Python, l'ordre de parcours peut être imprévisible (ordre d'insertion à partir de Python 3.7). Soyez donc vigilants."
   ]
  },
  {
   "cell_type": "markdown",
   "metadata": {},
   "source": [
    "### c) Exercices"
   ]
  },
  {
   "cell_type": "markdown",
   "metadata": {},
   "source": [
    "L'utilité principale des dictionnaires est de pouvoir stocker des valeurs associées à des clés imprévisibles, ou tout du moins sur lesquelles il est difficile d'itérer. Par exemple, comment utiliser les chaînes de caractères pour indicer les cases d'un tableau ? \n",
    "\n",
    "**Exercice 1 : Trier des grandes valeurs**. Utiliser un dictionnaire pour faire un tri par dénombrement d'une liste d'entiers quand les valeurs ne sont pas dans un petit intervalle mais qu'il y a beaucoup de doublons."
   ]
  },
  {
   "cell_type": "code",
   "execution_count": null,
   "metadata": {},
   "outputs": [],
   "source": [
    "ma_liste = [8974,3723,6007,3723,6007,6007,8974,3723,8974]\n",
    "\n",
    "#même technique qu'avant : on compte le nombre d'occurence de chaque élément\n",
    "#cette fois, il faut faire attention à créer le couple (clé,valeur) la première fois qu'on voit un élément\n",
    "d_count = dict()\n",
    "for x in ma_liste:\n",
    "    if x not in d_count.keys():\n",
    "        d_count[x] = 1\n",
    "    else:\n",
    "        d_count[x] += 1\n",
    "\n",
    "pos = 0\n",
    "for key in sorted(d_count):\n",
    "    for i in range(d_count[key]):\n",
    "        ma_liste[pos] = key\n",
    "        pos += 1\n",
    "\n",
    "assert(ma_liste==[3723,3723,3723,6007,6007,6007,8974,8974,8974])"
   ]
  },
  {
   "cell_type": "markdown",
   "metadata": {},
   "source": [
    "**Exercice 2 : Kaprekar, le retour**.\n",
    "\n",
    "Vous avez implémenté l'algorithme de Kaprekar au premier semestre. Pour rappel, si $K\\in \\mathbb{N}$, on définit la suite récursivement comme suit :\n",
    "- $u_0 = K$,\n",
    "- $u_{n+1} = dec(u_n) - inc(u_n)$,\n",
    "\n",
    "avec `inc` (respectivement `dec`) la fonction qui : \n",
    "- prend un entier $x$ en paramètre et \n",
    "- réordonne les chiffres de $x$ en écriture décimale dans l'ordre croissant (resp. décroissant).\n",
    "\n",
    "Si $k$ ne contient que $4$ chiffres au plus, la suite $u_n$ converge vers une limite. On vous a peut-être dit que ce n'était plus vrai pour plus de chiffres.\n",
    "\n",
    "Par exemple, si $K=72963$, $(u_n)_n = (72963,73953,63954,61974,82962,75933,63954,61974,...)$. On remarque que $u_6=u_2$. Donc à partir de $u_2$, la suite $u_n$ devient périodique (on dit ultimement périodique), c'est à dire qu'elle boucle sur les mêmes valeurs. Ici, la plus petite période est de $4$ : $u_2,u_3,u_4,u_5$ sont distincts deux à deux.\n",
    "\n",
    "<em>Formellement, une suite $(u_n)_n$ est dite ultimement périodique si $\\exists p\\in \\mathbb{N^*}, \\exists n_0\\in \\mathbb{N}, \\forall n\\geq n_0, u_{n+p}=u_n$</em>\n",
    "\n",
    "L'objectif de cet exercice est de calculer cette période minimale. Comprenez et complétez les fonctions suivantes."
   ]
  },
  {
   "cell_type": "code",
   "execution_count": null,
   "metadata": {},
   "outputs": [],
   "source": [
    "def int_to_list(n):\n",
    "    \"\"\"\n",
    "    Décompose un entier en chiffres (écriture décimale) et les place dans une liste (en ordre inverse)\n",
    "    \"\"\"\n",
    "    l = []\n",
    "    while(n>0):\n",
    "        l.append(n%10) #on ajoute à la liste le dernier chiffre du nombre\n",
    "        n=n//10 #puis on le retire du nombre\n",
    "    return l\n",
    "\n",
    "assert(int_to_list(20429)==[9,2,4,0,2])\n",
    "\n",
    "def list_to_int(l):\n",
    "    \"\"\"\n",
    "    Recompose un entier à partir d'une liste contenant ses chiffres en écriture décimale\n",
    "    \"\"\"\n",
    "    n = 0\n",
    "    for i in l:\n",
    "        n = 10*n + i\n",
    "    return n\n",
    "        \n",
    "#écrire des assert sans écrire explicitement de liste, i.e. sans crochet\n",
    "assert(list_to_int(int_to_list(18)))  \n",
    "assert(list_to_int(int_to_list(98038)))  \n",
    "\n",
    "def kaprekar_next(k):\n",
    "    \"\"\"\n",
    "    Renvoie le terme suivant k dans la suite de kaprekar.\n",
    "    Si u(n) = k, on renvoie u(n+1)\n",
    "    \"\"\"\n",
    "    l = int_to_list(k)\n",
    "    inc = list_to_int(sorted(l))\n",
    "    dec = list_to_int(sorted(l,reverse=True)) #inverse l'ordre du sorted\n",
    "    return dec-inc\n",
    "\n",
    "assert(kaprekar_next(495)==495)\n",
    "assert(kaprekar_next(3862)==6264)\n",
    "\n",
    "\n",
    "def kaprekar(valeur):\n",
    "    \"\"\"\n",
    "    Entrée : k un entier naturel\n",
    "    Sortie : un triplet (valeur, rang, période) avec :\n",
    "    - valeur la première valeur déjà vue, \n",
    "    - rang le rang de la première occurence de cette valeur,\n",
    "    - période la longueur de la période minimale\n",
    "    \"\"\"\n",
    "    #utiliser un dictionnaire pour stocker les valeurs vues et \n",
    "    # le rang auquel elles sont vues pour la première fois\n",
    "    valeurs_vues = dict()\n",
    "    rang=0\n",
    "    while valeur not in valeurs_vues: #valeurs_vues.keys()\n",
    "        valeurs_vues[valeur] = rang\n",
    "        valeur = kaprekar_next(valeur)\n",
    "        rang += 1\n",
    "    \n",
    "    return (valeur,valeurs_vues[valeur],rang-valeurs_vues[valeur])\n",
    "\n",
    "assert(kaprekar(938044398)==(863098632,2,14))\n",
    "assert(kaprekar(90339283)==(86526432,17,3))\n",
    "assert(kaprekar(12582)==(63954,3,4))"
   ]
  },
  {
   "cell_type": "markdown",
   "metadata": {},
   "source": [
    "**Exercice 3 (facultatif) : une variante, l'algorithme du lièvre et de la tortue.**\n",
    "\n",
    "Soit $(v_n)_n = (u_{2n})_n$. Une astuce pour éviter de stocker toutes les valeurs vues consiste à calculer en parallèle $(u_n)_n$ (<em>la tortue</em>) et $(v_n)_n$ (<em>le lièvre</em>). \n",
    "\n",
    "1) On peut montrer qu'il existe $n>0$ tel que $u_n=v_n$, i.e. la tortue a rattrapé le lièvre. Essayez de comprendre pourquoi. Cette propriété est vraie pour n'importe quelle suite ultimement périodique.\n",
    "\n",
    "2) Implémentez une fonction qui calcule la période minimale en utilisant cette méthode.\n",
    "\n",
    "3) Comment déterminer le premier rang tel que la suite devienne périodique ? (le deuxième élément du triplet renvoyé par la fonction `kaprekar`)."
   ]
  },
  {
   "cell_type": "markdown",
   "metadata": {},
   "source": [
    "A partir d'un certain rang, la tortue va arriver dans la partie pédiodique. Et le lièvre y sera déjà car il est avance. \n",
    "\n",
    "Une fois dans cette partie (on boucle sur les mêmes valeurs), si les deux continuent à avancer, le lièvre va finir par rattraper la tortue car il va plus vite. Et ils vont prendre exactement les mêmes valeurs : l'écart entre les deux diminue de $1$ à chaque étape. "
   ]
  },
  {
   "cell_type": "markdown",
   "metadata": {},
   "source": [
    "Une valeur que prennent le lièvre et la tortue est dans la partie pédiodique. Il suffit ensuite de refaire un tour pour calculer la période minimale."
   ]
  },
  {
   "cell_type": "code",
   "execution_count": null,
   "metadata": {},
   "outputs": [],
   "source": [
    "def lievre_tortue(valeur):\n",
    "    tortue=kaprekar_next(valeur)\n",
    "    lievre=kaprekar_next(kaprekar_next(valeur))\n",
    "    #première boucle pour trouver un élément dans la partie périodique\n",
    "    while(lievre!=tortue):\n",
    "        tortue=kaprekar_next(tortue)\n",
    "        lievre=kaprekar_next(kaprekar_next(lievre))\n",
    "    \n",
    "    #puis on calcule la période minimale\n",
    "    periode=1\n",
    "    k = kaprekar_next(tortue)\n",
    "    while k!=tortue :\n",
    "        k = kaprekar_next(k)\n",
    "        periode += 1\n",
    "    \n",
    "    #question 3\n",
    "    #si on veut le premier rang, on repart du début jusqu'à croiser la boucle\n",
    "    k = valeur\n",
    "    k_avance = valeur\n",
    "    for i in range(periode):\n",
    "        k_avance = kaprekar_next(k_avance)\n",
    "    premier_rang = 0\n",
    "    while k != k_avance:\n",
    "        k = kaprekar_next(k)\n",
    "        k_avance = kaprekar_next(k_avance)\n",
    "        premier_rang += 1\n",
    "        \n",
    "    return (k,premier_rang,periode)\n",
    "\n",
    "assert(lievre_tortue(938044398)==(863098632,2,14))\n",
    "assert(lievre_tortue(90339283)==(86526432,17,3))\n",
    "assert(lievre_tortue(12582)==(63954,3,4))"
   ]
  }
 ],
 "metadata": {
  "kernelspec": {
   "display_name": "Python 3 (ipykernel)",
   "language": "python",
   "name": "python3"
  },
  "language_info": {
   "codemirror_mode": {
    "name": "ipython",
    "version": 3
   },
   "file_extension": ".py",
   "mimetype": "text/x-python",
   "name": "python",
   "nbconvert_exporter": "python",
   "pygments_lexer": "ipython3",
   "version": "3.9.13"
  }
 },
 "nbformat": 4,
 "nbformat_minor": 4
}
